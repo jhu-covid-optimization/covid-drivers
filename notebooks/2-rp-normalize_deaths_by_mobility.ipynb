{
 "nbformat": 4,
 "nbformat_minor": 2,
 "metadata": {
  "language_info": {
   "name": "python",
   "codemirror_mode": {
    "name": "ipython",
    "version": 3
   },
   "version": "3.7.3-final"
  },
  "orig_nbformat": 2,
  "file_extension": ".py",
  "mimetype": "text/x-python",
  "name": "python",
  "npconvert_exporter": "python",
  "pygments_lexer": "ipython3",
  "version": 3,
  "kernelspec": {
   "name": "python37364bitbaseconda9b8badabe1cb43a6bc145c902d456937",
   "display_name": "Python 3.7.3 64-bit ('base': conda)"
  }
 },
 "cells": [
  {
   "cell_type": "code",
   "execution_count": 59,
   "metadata": {},
   "outputs": [
    {
     "name": "stdout",
     "output_type": "stream",
     "text": "The autoreload extension is already loaded. To reload it, use:\n  %reload_ext autoreload\n"
    }
   ],
   "source": [
    "import numpy as np\n",
    "import pandas as pd\n",
    "from datetime import datetime\n",
    "from src.data_loader.data_loader import load_google_mobility, load_deaths, load_interventions, load_counties, load_google_mobility_time_series\n",
    "import matplotlib.pyplot as plt\n",
    "import seaborn as sns\n",
    "%matplotlib inline\n",
    "%load_ext autoreload\n",
    "%autoreload 2"
   ]
  },
  {
   "cell_type": "code",
   "execution_count": 20,
   "metadata": {},
   "outputs": [],
   "source": [
    "mobility, mobility_date = load_google_mobility()\n",
    "deaths, deaths_date = load_deaths()\n",
    "interventions, interventions_date = load_interventions()"
   ]
  },
  {
   "cell_type": "code",
   "execution_count": 32,
   "metadata": {},
   "outputs": [
    {
     "data": {
      "text/html": "<div>\n<style scoped>\n    .dataframe tbody tr th:only-of-type {\n        vertical-align: middle;\n    }\n\n    .dataframe tbody tr th {\n        vertical-align: top;\n    }\n\n    .dataframe thead th {\n        text-align: right;\n    }\n</style>\n<table border=\"1\" class=\"dataframe\">\n  <thead>\n    <tr style=\"text-align: right;\">\n      <th></th>\n      <th>country_region_code</th>\n      <th>country_region</th>\n      <th>sub_region_1</th>\n      <th>sub_region_2</th>\n      <th>date</th>\n      <th>retail_and_recreation_percent_change_from_baseline</th>\n      <th>grocery_and_pharmacy_percent_change_from_baseline</th>\n      <th>parks_percent_change_from_baseline</th>\n      <th>transit_stations_percent_change_from_baseline</th>\n      <th>workplaces_percent_change_from_baseline</th>\n      <th>residential_percent_change_from_baseline</th>\n    </tr>\n  </thead>\n  <tbody>\n    <tr>\n      <th>0</th>\n      <td>AE</td>\n      <td>United Arab Emirates</td>\n      <td>NaN</td>\n      <td>NaN</td>\n      <td>2020-02-15</td>\n      <td>0.0</td>\n      <td>4.0</td>\n      <td>5.0</td>\n      <td>0.0</td>\n      <td>2.0</td>\n      <td>1.0</td>\n    </tr>\n    <tr>\n      <th>1</th>\n      <td>AE</td>\n      <td>United Arab Emirates</td>\n      <td>NaN</td>\n      <td>NaN</td>\n      <td>2020-02-16</td>\n      <td>1.0</td>\n      <td>4.0</td>\n      <td>4.0</td>\n      <td>1.0</td>\n      <td>2.0</td>\n      <td>1.0</td>\n    </tr>\n    <tr>\n      <th>2</th>\n      <td>AE</td>\n      <td>United Arab Emirates</td>\n      <td>NaN</td>\n      <td>NaN</td>\n      <td>2020-02-17</td>\n      <td>-1.0</td>\n      <td>1.0</td>\n      <td>5.0</td>\n      <td>1.0</td>\n      <td>2.0</td>\n      <td>1.0</td>\n    </tr>\n    <tr>\n      <th>3</th>\n      <td>AE</td>\n      <td>United Arab Emirates</td>\n      <td>NaN</td>\n      <td>NaN</td>\n      <td>2020-02-18</td>\n      <td>-2.0</td>\n      <td>1.0</td>\n      <td>5.0</td>\n      <td>0.0</td>\n      <td>2.0</td>\n      <td>1.0</td>\n    </tr>\n    <tr>\n      <th>4</th>\n      <td>AE</td>\n      <td>United Arab Emirates</td>\n      <td>NaN</td>\n      <td>NaN</td>\n      <td>2020-02-19</td>\n      <td>-2.0</td>\n      <td>0.0</td>\n      <td>4.0</td>\n      <td>-1.0</td>\n      <td>2.0</td>\n      <td>1.0</td>\n    </tr>\n    <tr>\n      <th>5</th>\n      <td>AE</td>\n      <td>United Arab Emirates</td>\n      <td>NaN</td>\n      <td>NaN</td>\n      <td>2020-02-20</td>\n      <td>-2.0</td>\n      <td>1.0</td>\n      <td>6.0</td>\n      <td>1.0</td>\n      <td>1.0</td>\n      <td>1.0</td>\n    </tr>\n    <tr>\n      <th>6</th>\n      <td>AE</td>\n      <td>United Arab Emirates</td>\n      <td>NaN</td>\n      <td>NaN</td>\n      <td>2020-02-21</td>\n      <td>-3.0</td>\n      <td>2.0</td>\n      <td>6.0</td>\n      <td>0.0</td>\n      <td>-1.0</td>\n      <td>1.0</td>\n    </tr>\n    <tr>\n      <th>7</th>\n      <td>AE</td>\n      <td>United Arab Emirates</td>\n      <td>NaN</td>\n      <td>NaN</td>\n      <td>2020-02-22</td>\n      <td>-2.0</td>\n      <td>2.0</td>\n      <td>4.0</td>\n      <td>-2.0</td>\n      <td>3.0</td>\n      <td>1.0</td>\n    </tr>\n    <tr>\n      <th>8</th>\n      <td>AE</td>\n      <td>United Arab Emirates</td>\n      <td>NaN</td>\n      <td>NaN</td>\n      <td>2020-02-23</td>\n      <td>-1.0</td>\n      <td>3.0</td>\n      <td>3.0</td>\n      <td>-1.0</td>\n      <td>4.0</td>\n      <td>1.0</td>\n    </tr>\n    <tr>\n      <th>9</th>\n      <td>AE</td>\n      <td>United Arab Emirates</td>\n      <td>NaN</td>\n      <td>NaN</td>\n      <td>2020-02-24</td>\n      <td>-3.0</td>\n      <td>0.0</td>\n      <td>5.0</td>\n      <td>-1.0</td>\n      <td>3.0</td>\n      <td>1.0</td>\n    </tr>\n  </tbody>\n</table>\n</div>",
      "text/plain": "  country_region_code        country_region sub_region_1 sub_region_2  \\\n0                  AE  United Arab Emirates          NaN          NaN   \n1                  AE  United Arab Emirates          NaN          NaN   \n2                  AE  United Arab Emirates          NaN          NaN   \n3                  AE  United Arab Emirates          NaN          NaN   \n4                  AE  United Arab Emirates          NaN          NaN   \n5                  AE  United Arab Emirates          NaN          NaN   \n6                  AE  United Arab Emirates          NaN          NaN   \n7                  AE  United Arab Emirates          NaN          NaN   \n8                  AE  United Arab Emirates          NaN          NaN   \n9                  AE  United Arab Emirates          NaN          NaN   \n\n         date  retail_and_recreation_percent_change_from_baseline  \\\n0  2020-02-15                                                0.0    \n1  2020-02-16                                                1.0    \n2  2020-02-17                                               -1.0    \n3  2020-02-18                                               -2.0    \n4  2020-02-19                                               -2.0    \n5  2020-02-20                                               -2.0    \n6  2020-02-21                                               -3.0    \n7  2020-02-22                                               -2.0    \n8  2020-02-23                                               -1.0    \n9  2020-02-24                                               -3.0    \n\n   grocery_and_pharmacy_percent_change_from_baseline  \\\n0                                                4.0   \n1                                                4.0   \n2                                                1.0   \n3                                                1.0   \n4                                                0.0   \n5                                                1.0   \n6                                                2.0   \n7                                                2.0   \n8                                                3.0   \n9                                                0.0   \n\n   parks_percent_change_from_baseline  \\\n0                                 5.0   \n1                                 4.0   \n2                                 5.0   \n3                                 5.0   \n4                                 4.0   \n5                                 6.0   \n6                                 6.0   \n7                                 4.0   \n8                                 3.0   \n9                                 5.0   \n\n   transit_stations_percent_change_from_baseline  \\\n0                                            0.0   \n1                                            1.0   \n2                                            1.0   \n3                                            0.0   \n4                                           -1.0   \n5                                            1.0   \n6                                            0.0   \n7                                           -2.0   \n8                                           -1.0   \n9                                           -1.0   \n\n   workplaces_percent_change_from_baseline  \\\n0                                      2.0   \n1                                      2.0   \n2                                      2.0   \n3                                      2.0   \n4                                      2.0   \n5                                      1.0   \n6                                     -1.0   \n7                                      3.0   \n8                                      4.0   \n9                                      3.0   \n\n   residential_percent_change_from_baseline  \n0                                       1.0  \n1                                       1.0  \n2                                       1.0  \n3                                       1.0  \n4                                       1.0  \n5                                       1.0  \n6                                       1.0  \n7                                       1.0  \n8                                       1.0  \n9                                       1.0  "
     },
     "execution_count": 32,
     "metadata": {},
     "output_type": "execute_result"
    }
   ],
   "source": [
    "mobility.head(10)"
   ]
  },
  {
   "cell_type": "code",
   "execution_count": 37,
   "metadata": {},
   "outputs": [],
   "source": [
    "mobility = mobility[mobility.loc[:,'country_region_code'] == 'US']"
   ]
  },
  {
   "cell_type": "code",
   "execution_count": 40,
   "metadata": {},
   "outputs": [],
   "source": [
    "mobility = mobility.drop(labels=['country_region_code', 'country_region'], axis=1)"
   ]
  },
  {
   "cell_type": "code",
   "execution_count": 55,
   "metadata": {},
   "outputs": [],
   "source": [
    "mobility.dropna(axis='rows',subset=['sub_region_1','sub_region_2'], inplace=True)"
   ]
  },
  {
   "cell_type": "code",
   "execution_count": 57,
   "metadata": {},
   "outputs": [
    {
     "data": {
      "text/plain": "-21667"
     },
     "execution_count": 57,
     "metadata": {},
     "output_type": "execute_result"
    }
   ],
   "source": [
    "mobility.dropna(axis='rows', subset=['retail_and_recreation_percent_change_from_baseline'], inplace=True)"
   ]
  },
  {
   "cell_type": "code",
   "execution_count": 70,
   "metadata": {},
   "outputs": [],
   "source": [
    "mobility_ts = load_google_mobility_time_series()[0]"
   ]
  },
  {
   "cell_type": "code",
   "execution_count": 71,
   "metadata": {},
   "outputs": [
    {
     "data": {
      "text/html": "<div>\n<style scoped>\n    .dataframe tbody tr th:only-of-type {\n        vertical-align: middle;\n    }\n\n    .dataframe tbody tr th {\n        vertical-align: top;\n    }\n\n    .dataframe thead th {\n        text-align: right;\n    }\n</style>\n<table border=\"1\" class=\"dataframe\">\n  <thead>\n    <tr style=\"text-align: right;\">\n      <th></th>\n      <th>sub_region_1</th>\n      <th>sub_region_2</th>\n      <th>date</th>\n      <th>mean_percent_change</th>\n    </tr>\n  </thead>\n  <tbody>\n    <tr>\n      <th>67206</th>\n      <td>Alabama</td>\n      <td>Autauga County</td>\n      <td>2020-02-15</td>\n      <td>5.0</td>\n    </tr>\n    <tr>\n      <th>67207</th>\n      <td>Alabama</td>\n      <td>Autauga County</td>\n      <td>2020-02-16</td>\n      <td>0.0</td>\n    </tr>\n    <tr>\n      <th>67208</th>\n      <td>Alabama</td>\n      <td>Autauga County</td>\n      <td>2020-02-17</td>\n      <td>8.0</td>\n    </tr>\n    <tr>\n      <th>67209</th>\n      <td>Alabama</td>\n      <td>Autauga County</td>\n      <td>2020-02-18</td>\n      <td>-2.0</td>\n    </tr>\n    <tr>\n      <th>67210</th>\n      <td>Alabama</td>\n      <td>Autauga County</td>\n      <td>2020-02-19</td>\n      <td>-2.0</td>\n    </tr>\n    <tr>\n      <th>67211</th>\n      <td>Alabama</td>\n      <td>Autauga County</td>\n      <td>2020-02-20</td>\n      <td>-8.0</td>\n    </tr>\n    <tr>\n      <th>67212</th>\n      <td>Alabama</td>\n      <td>Autauga County</td>\n      <td>2020-02-21</td>\n      <td>-3.0</td>\n    </tr>\n    <tr>\n      <th>67213</th>\n      <td>Alabama</td>\n      <td>Autauga County</td>\n      <td>2020-02-22</td>\n      <td>1.0</td>\n    </tr>\n    <tr>\n      <th>67214</th>\n      <td>Alabama</td>\n      <td>Autauga County</td>\n      <td>2020-02-23</td>\n      <td>0.0</td>\n    </tr>\n    <tr>\n      <th>67215</th>\n      <td>Alabama</td>\n      <td>Autauga County</td>\n      <td>2020-02-24</td>\n      <td>-2.0</td>\n    </tr>\n  </tbody>\n</table>\n</div>",
      "text/plain": "      sub_region_1    sub_region_2        date  mean_percent_change\n67206      Alabama  Autauga County  2020-02-15                  5.0\n67207      Alabama  Autauga County  2020-02-16                  0.0\n67208      Alabama  Autauga County  2020-02-17                  8.0\n67209      Alabama  Autauga County  2020-02-18                 -2.0\n67210      Alabama  Autauga County  2020-02-19                 -2.0\n67211      Alabama  Autauga County  2020-02-20                 -8.0\n67212      Alabama  Autauga County  2020-02-21                 -3.0\n67213      Alabama  Autauga County  2020-02-22                  1.0\n67214      Alabama  Autauga County  2020-02-23                  0.0\n67215      Alabama  Autauga County  2020-02-24                 -2.0"
     },
     "execution_count": 71,
     "metadata": {},
     "output_type": "execute_result"
    }
   ],
   "source": [
    "mobility_ts.head(10)"
   ]
  },
  {
   "cell_type": "code",
   "execution_count": null,
   "metadata": {},
   "outputs": [],
   "source": []
  },
  {
   "cell_type": "code",
   "execution_count": null,
   "metadata": {},
   "outputs": [],
   "source": []
  }
 ]
}