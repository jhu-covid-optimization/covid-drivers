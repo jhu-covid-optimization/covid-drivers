{
 "cells": [
  {
   "cell_type": "code",
   "execution_count": 1,
   "metadata": {},
   "outputs": [],
   "source": [
    "import numpy as np\n",
    "import pandas as pd\n",
    "from pathlib import Path\n",
    "from datetime import datetime\n",
    "from tqdm import tqdm\n",
    "import pickle\n",
    "from matplotlib import dates\n",
    "import matplotlib.pyplot as plt\n",
    "import seaborn as sns\n",
    "import sys; sys.path.append('../')\n",
    "from src.data_loader.data_loader import *\n",
    "from src.utils.dates import get_today, lag_date, date2str, str2date, get_format\n",
    "from src.utils.df_utils import get_date_columns\n",
    "from src.pandas.align import align_lagged_dates\n",
    "\n",
    "from scipy.stats import spearmanr\n",
    "\n",
    "%matplotlib inline\n",
    "%load_ext autoreload\n",
    "%autoreload 2"
   ]
  },
  {
   "cell_type": "code",
   "execution_count": 2,
   "metadata": {},
   "outputs": [
    {
     "name": "stderr",
     "output_type": "stream",
     "text": [
      "/Users/Ronan/miniconda3/lib/python3.7/site-packages/IPython/core/interactiveshell.py:3254: DtypeWarning: Columns (3) have mixed types.Specify dtype option on import or set low_memory=False.\n",
      "  if (await self.run_code(code, result,  async_=asy)):\n"
     ]
    },
    {
     "name": "stdout",
     "output_type": "stream",
     "text": [
      "Mobility Last Updated 05-08\n",
      "Deaths Last Updated 05-26\n"
     ]
    }
   ],
   "source": [
    "# Time series data\n",
    "mobility, mobility_date = load_google_mobility()\n",
    "deaths, deaths_date = load_deaths(join_county_codes=False)\n",
    "interventions, interventions_date = load_interventions()\n",
    "\n",
    "# Static data\n",
    "counties, counties_date = load_counties()\n",
    "\n",
    "# Processed mobility -> time series\n",
    "mobility_ts, mobility_ts_date = load_google_mobility_time_series()\n",
    "\n",
    "m50,_ = load_descartes_m50()\n",
    "\n",
    "od_mobilities, _ = load_od_mobilities()\n",
    "\n",
    "hospitals = load_acute_care(beds=True)\n",
    "\n",
    "print(f'Mobility Last Updated {mobility_ts_date}')\n",
    "print(f'Deaths Last Updated {deaths_date}')\n",
    "\n",
    "# County adjacency edge list\n",
    "with open('../data/processed/county_adjacency_edge_dict.pkl', 'rb') as f:\n",
    "    county_adj = pickle.load(f)"
   ]
  },
  {
   "cell_type": "code",
   "execution_count": 3,
   "metadata": {},
   "outputs": [],
   "source": [
    "N_DAYS = 28\n",
    "ONSET_THRESH = 3\n",
    "GROWTH_THRESH = 0"
   ]
  },
  {
   "cell_type": "code",
   "execution_count": 4,
   "metadata": {},
   "outputs": [],
   "source": [
    "## Get death dataframe date columns\n",
    "death_dates = get_date_columns(deaths, return_dtimes=False)\n",
    "\n",
    "## Moving average (weekly) mobility\n",
    "od_mobilities_ma = od_mobilities.copy()\n",
    "od_mobilities_ma[od_mobilities_ma.columns[1:]] = od_mobilities[od_mobilities.columns[1:]].rolling(7, center=True, axis=1).mean()\n",
    "od_mobilities_ma = od_mobilities_ma.dropna(axis=1)"
   ]
  },
  {
   "cell_type": "code",
   "execution_count": 5,
   "metadata": {},
   "outputs": [],
   "source": [
    "def get_onset_date(row, thresh):\n",
    "    above = row[row >= thresh]\n",
    "    if len(above) == 0:\n",
    "        return np.nan\n",
    "    else:\n",
    "        return above.idxmin()"
   ]
  },
  {
   "cell_type": "code",
   "execution_count": 6,
   "metadata": {},
   "outputs": [
    {
     "name": "stderr",
     "output_type": "stream",
     "text": [
      "/Users/Ronan/miniconda3/lib/python3.7/site-packages/ipykernel_launcher.py:3: SettingWithCopyWarning: \n",
      "A value is trying to be set on a copy of a slice from a DataFrame\n",
      "\n",
      "See the caveats in the documentation: https://pandas.pydata.org/pandas-docs/stable/user_guide/indexing.html#returning-a-view-versus-a-copy\n",
      "  This is separate from the ipykernel package so we can avoid doing imports until\n"
     ]
    }
   ],
   "source": [
    "deaths_df = deaths[['FIPS']+death_dates]\n",
    "deaths_df.dropna(subset=['FIPS'], inplace=True)\n",
    "deaths_df = deaths_df.astype({'FIPS':int})\n",
    "\n",
    "deaths_df['onset'] = deaths_df[death_dates].apply(lambda row: get_onset_date(row, thresh=ONSET_THRESH), axis=1)\n",
    "\n",
    "## Drop counties with no onset\n",
    "deaths_df = deaths_df.dropna(axis=0, subset=['onset'])\n",
    "\n",
    "## Only counties with N_DAYS worth of data after onset\n",
    "deaths_df = deaths_df[deaths_df['onset'].apply(\n",
    "    lambda d: (str2date(death_dates[-1]) - str2date(d)).days >= N_DAYS\n",
    ")]\n",
    "\n",
    "## Remove counties with growth decrease\n",
    "deaths_df = deaths_df[\n",
    "    deaths_df.apply(\n",
    "        lambda r: r[[d for d in death_dates if \n",
    "            str2date(d) >= str2date(r['onset']) and \n",
    "            str2date(d) <= lag_date(str2date(r['onset']\n",
    "        ), \n",
    "        lag=N_DAYS, backwards=False)\n",
    "                    ]].diff().min() >= GROWTH_THRESH, axis=1\n",
    "    )\n",
    "]\n",
    "\n",
    "## Get the number of deaths at N_DAYS from onset\n",
    "deaths_df['cum_deaths'] = deaths_df.apply(\n",
    "    lambda r: r[lag_date(str2date(r['onset']), lag=N_DAYS, backwards=False, return_date=False)], axis=1\n",
    ")"
   ]
  },
  {
   "cell_type": "code",
   "execution_count": 12,
   "metadata": {},
   "outputs": [],
   "source": [
    "cum_deaths = deaths_df[['FIPS', 'cum_deaths', 'onset']]\n",
    "cum_deaths = pd.merge(cum_deaths, hospitals, on='FIPS')\n",
    "\n",
    "## OD baseline\n",
    "od_dates = get_date_columns(od_mobilities, return_dtimes=False)\n",
    "od_mobilities['OD_baseline'] = od_mobilities.apply(lambda x: x[od_dates[:14]].mean(), axis=1)\n",
    "cum_deaths = pd.merge(cum_deaths, od_mobilities[['FIPS', 'OD_baseline']], on='FIPS')\n",
    "\n",
    "## OD at onset\n",
    "new_row = []\n",
    "for i,row in cum_deaths.iterrows():\n",
    "    try:\n",
    "        od = od_mobilities_ma[od_mobilities_ma['FIPS']==row['FIPS']][row['onset']].iloc[0]\n",
    "    except:\n",
    "        od = np.nan\n",
    "    new_row.append(od)\n",
    "cum_deaths['OD_at_onset'] = new_row\n",
    "\n",
    "## OD 2 weeks before onset\n",
    "new_row = []\n",
    "for i,row in cum_deaths.iterrows():\n",
    "    try:\n",
    "        lag_onset = lag_date(row['onset'], lag=14, backwards=True, return_date=False)\n",
    "        od = od_mobilities_ma[od_mobilities_ma['FIPS']==row['FIPS']][lag_onset].iloc[0]\n",
    "    except:\n",
    "        od = np.nan\n",
    "    new_row.append(od)\n",
    "cum_deaths['OD_2wk_before_onset'] = new_row\n",
    "\n",
    "## OD 2 weeks after onset\n",
    "new_row = []\n",
    "for i,row in cum_deaths.iterrows():\n",
    "    try:\n",
    "        lag_onset = lag_date(row['onset'], lag=14, backwards=False, return_date=False)\n",
    "        od = od_mobilities_ma[od_mobilities_ma['FIPS']==row['FIPS']][lag_onset].iloc[0]\n",
    "    except:\n",
    "        od = np.nan\n",
    "    new_row.append(od)\n",
    "cum_deaths['OD_2wk_after_onset'] = new_row\n",
    "\n",
    "## static features\n",
    "static_features = counties[\n",
    "    ['FIPS',\n",
    "     'Rural-urban_Continuum Code_2013',\n",
    "     'Density per square mile of land area - Population',\n",
    "     'Percent of adults with less than a high school diploma 2014-18',\n",
    "     'PCTPOV017_2018',\n",
    "     'Unemployment_rate_2018',\n",
    "     'Total_age65plus', \n",
    "     'POP_ESTIMATE_2018']\n",
    "]\n",
    "static_features = static_features.dropna()\n",
    "cum_deaths = cum_deaths.merge(static_features, on=\"FIPS\")\n",
    "\n",
    "## normalize\n",
    "cum_deaths['cum_deaths_normalized'] = cum_deaths.apply(\n",
    "     lambda row: row['cum_deaths'] / row['POP_ESTIMATE_2018'], axis=1\n",
    "     )\n",
    "cum_deaths['OD_baseline_normalized'] = cum_deaths.apply(\n",
    "     lambda row: row['OD_baseline'] / row['POP_ESTIMATE_2018'], axis=1\n",
    "     )\n",
    "cum_deaths['OD_at_onset_normalized'] = cum_deaths.apply(\n",
    "     lambda row: row['OD_at_onset'] / row['OD_baseline_normalized'], axis=1\n",
    "     )\n",
    "cum_deaths['OD_2wk_before_onset_normalized'] = cum_deaths.apply(\n",
    "     lambda row: row['OD_2wk_before_onset'] / row['OD_baseline_normalized'], axis=1\n",
    "     )\n",
    "cum_deaths['OD_2wk_after_onset_normalized'] = cum_deaths.apply(\n",
    "     lambda row: row['OD_2wk_after_onset'] / row['OD_baseline_normalized'], axis=1\n",
    "     )"
   ]
  },
  {
   "cell_type": "code",
   "execution_count": 15,
   "metadata": {},
   "outputs": [],
   "source": [
    "outliers = [36061, 6038, 17031, 48201]\n",
    "cum_deaths = cum_deaths[~cum_deaths['FIPS'].isin(outliers)]"
   ]
  },
  {
   "cell_type": "code",
   "execution_count": 16,
   "metadata": {},
   "outputs": [
    {
     "name": "stderr",
     "output_type": "stream",
     "text": [
      "/Users/Ronan/miniconda3/lib/python3.7/site-packages/pandas/core/frame.py:2963: SettingWithCopyWarning: \n",
      "A value is trying to be set on a copy of a slice from a DataFrame.\n",
      "Try using .loc[row_indexer,col_indexer] = value instead\n",
      "\n",
      "See the caveats in the documentation: https://pandas.pydata.org/pandas-docs/stable/user_guide/indexing.html#returning-a-view-versus-a-copy\n",
      "  self[k1] = value[k2]\n"
     ]
    }
   ],
   "source": [
    "log_cols = ['cum_deaths',\n",
    "            'cum_deaths_normalized',\n",
    "            'OD_baseline_normalized',\n",
    "            'Density per square mile of land area - Population',\n",
    "            'POP_ESTIMATE_2018',\n",
    "            'OD_2wk_before_onset_normalized',\n",
    "            'OD_at_onset_normalized',\n",
    "            'OD_2wk_after_onset_normalized',\n",
    "           ]\n",
    "cum_deaths[[lc + ' (log)' for lc in log_cols]] = cum_deaths[log_cols].transform('log')"
   ]
  },
  {
   "cell_type": "code",
   "execution_count": 18,
   "metadata": {},
   "outputs": [],
   "source": [
    "cluster_cols = [\n",
    "    'Rural-urban_Continuum Code_2013',\n",
    "    'cum_deaths_normalized (log)',\n",
    "    'Density per square mile of land area - Population',\n",
    "    'POP_ESTIMATE_2018',\n",
    "    'OD_baseline_normalized',\n",
    "    'OD_2wk_before_onset_normalized',\n",
    "    'OD_at_onset_normalized',\n",
    "    'OD_2wk_after_onset_normalized',\n",
    "]"
   ]
  },
  {
   "cell_type": "code",
   "execution_count": 26,
   "metadata": {},
   "outputs": [],
   "source": [
    "from sklearn.cluster import KMeans\n",
    "from sklearn.metrics import silhouette_score\n",
    "from sklearn.decomposition import PCA"
   ]
  },
  {
   "cell_type": "code",
   "execution_count": 27,
   "metadata": {},
   "outputs": [],
   "source": [
    "X = cum_deaths[cluster_cols].values"
   ]
  },
  {
   "cell_type": "code",
   "execution_count": 29,
   "metadata": {},
   "outputs": [],
   "source": [
    "pca = PCA(n_components=8)\n",
    "Xhat = pca.fit_transform(X)"
   ]
  },
  {
   "cell_type": "code",
   "execution_count": 30,
   "metadata": {},
   "outputs": [
    {
     "data": {
      "text/plain": [
       "[<matplotlib.lines.Line2D at 0x121efa450>]"
      ]
     },
     "execution_count": 30,
     "metadata": {},
     "output_type": "execute_result"
    },
    {
     "data": {
      "image/png": "[encoded data removed]",
      "text/plain": [
       "<Figure size 432x288 with 1 Axes>"
      ]
     },
     "metadata": {
      "needs_background": "light"
     },
     "output_type": "display_data"
    }
   ],
   "source": [
    "plt.plot(np.arange(len(pca.explained_variance_ratio_)), pca.explained_variance_ratio_)"
   ]
  },
  {
   "cell_type": "code",
   "execution_count": 36,
   "metadata": {},
   "outputs": [
    {
     "name": "stdout",
     "output_type": "stream",
     "text": [
      "2: 0.8598260805167743\n",
      "3: 0.8259029540521285\n",
      "4: 0.728039900256984\n",
      "5: 0.6477737771007741\n",
      "6: 0.6404362570552374\n",
      "7: 0.648897380773698\n",
      "8: 0.5799288079616806\n",
      "9: 0.5796386402725785\n",
      "10: 0.5727795577146702\n",
      "11: 0.574712368369144\n"
     ]
    }
   ],
   "source": [
    "n_clusters = np.arange(2,12,1)\n",
    "for n_clusters in n_clusters:\n",
    "    clustering = KMeans(n_clusters=n_clusters, random_state=0).fit(Xhat[:,:2])\n",
    "    score = silhouette_score(Xhat[:,:2], clustering.labels_)\n",
    "    print(f'{n_clusters}: {score}')"
   ]
  },
  {
   "cell_type": "code",
   "execution_count": 37,
   "metadata": {},
   "outputs": [],
   "source": [
    "clustering = KMeans(n_clusters=2, random_state=0).fit(Xhat[:,:2])"
   ]
  },
  {
   "cell_type": "code",
   "execution_count": 42,
   "metadata": {},
   "outputs": [
    {
     "data": {
      "text/plain": [
       "<matplotlib.axes._subplots.AxesSubplot at 0x121372d10>"
      ]
     },
     "execution_count": 42,
     "metadata": {},
     "output_type": "execute_result"
    },
    {
     "data": {
      "image/png": "[encoded data removed]",
      "text/plain": [
       "<Figure size 432x288 with 1 Axes>"
      ]
     },
     "metadata": {
      "needs_background": "light"
     },
     "output_type": "display_data"
    }
   ],
   "source": [
    "sns.scatterplot(Xhat[:,0], Xhat[:,1], hue=clustering.labels_)"
   ]
  },
  {
   "cell_type": "code",
   "execution_count": null,
   "metadata": {},
   "outputs": [],
   "source": []
  }
 ],
 "metadata": {
  "kernelspec": {
   "display_name": "Python 3",
   "language": "python",
   "name": "python3"
  },
  "language_info": {
   "codemirror_mode": {
    "name": "ipython",
    "version": 3
   },
   "file_extension": ".py",
   "mimetype": "text/x-python",
   "name": "python",
   "nbconvert_exporter": "python",
   "pygments_lexer": "ipython3",
   "version": "3.7.6"
  }
 },
 "nbformat": 4,
 "nbformat_minor": 4
}
