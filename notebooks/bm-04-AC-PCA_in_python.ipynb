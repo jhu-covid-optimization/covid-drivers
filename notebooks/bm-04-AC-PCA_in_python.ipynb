{
 "cells": [
  {
   "cell_type": "code",
   "execution_count": 1,
   "metadata": {},
   "outputs": [],
   "source": [
    "import numpy as np\n",
    "from numpy.linalg import eig\n",
    "import pandas as pd\n",
    "import matplotlib.pyplot as plt "
   ]
  },
  {
   "cell_type": "code",
   "execution_count": 2,
   "metadata": {},
   "outputs": [
    {
     "name": "stdout",
     "output_type": "stream",
     "text": [
      "(210, 21)\n"
     ]
    },
    {
     "data": {
      "text/html": [
       "<div>\n",
       "<style scoped>\n",
       "    .dataframe tbody tr th:only-of-type {\n",
       "        vertical-align: middle;\n",
       "    }\n",
       "\n",
       "    .dataframe tbody tr th {\n",
       "        vertical-align: top;\n",
       "    }\n",
       "\n",
       "    .dataframe thead th {\n",
       "        text-align: right;\n",
       "    }\n",
       "</style>\n",
       "<table border=\"1\" class=\"dataframe\">\n",
       "  <thead>\n",
       "    <tr style=\"text-align: right;\">\n",
       "      <th></th>\n",
       "      <th>baseline</th>\n",
       "      <th>Rural-urban_Continuum Code_2013</th>\n",
       "      <th>Density per square mile of land area - Population</th>\n",
       "      <th>Percent of adults with less than a high school diploma 2014-18</th>\n",
       "      <th>Percent of adults with a bachelor's degree or higher 2014-18</th>\n",
       "      <th>Unemployment_rate_2018</th>\n",
       "      <th>Med_HH_Income_Percent_of_State_Total_2018</th>\n",
       "      <th>Mar Temp AVG / F</th>\n",
       "      <th>Apr Temp AVG / F</th>\n",
       "      <th>May Temp AVG / F</th>\n",
       "      <th>...</th>\n",
       "      <th>Total_age65plus</th>\n",
       "      <th>Total households!!Average household size</th>\n",
       "      <th>SCHOOL ENROLLMENT!!Population 3 years and over enrolled in school!!Nursery school preschool</th>\n",
       "      <th>SCHOOL ENROLLMENT!!Population 3 years and over enrolled in school!!Kindergarten</th>\n",
       "      <th>SCHOOL ENROLLMENT!!Population 3 years and over enrolled in school!!Elementary school (grades 1-8)</th>\n",
       "      <th>SCHOOL ENROLLMENT!!Population 3 years and over enrolled in school!!High school (grades 9-12)</th>\n",
       "      <th>SCHOOL ENROLLMENT!!Population 3 years and over enrolled in school!!College or graduate school</th>\n",
       "      <th>HospCt</th>\n",
       "      <th>Deaths</th>\n",
       "      <th>normalized_deaths</th>\n",
       "    </tr>\n",
       "    <tr>\n",
       "      <th>FIPS</th>\n",
       "      <th></th>\n",
       "      <th></th>\n",
       "      <th></th>\n",
       "      <th></th>\n",
       "      <th></th>\n",
       "      <th></th>\n",
       "      <th></th>\n",
       "      <th></th>\n",
       "      <th></th>\n",
       "      <th></th>\n",
       "      <th></th>\n",
       "      <th></th>\n",
       "      <th></th>\n",
       "      <th></th>\n",
       "      <th></th>\n",
       "      <th></th>\n",
       "      <th></th>\n",
       "      <th></th>\n",
       "      <th></th>\n",
       "      <th></th>\n",
       "      <th></th>\n",
       "    </tr>\n",
       "  </thead>\n",
       "  <tbody>\n",
       "    <tr>\n",
       "      <th>1055.0</th>\n",
       "      <td>0.411541</td>\n",
       "      <td>0.333333</td>\n",
       "      <td>0.115692</td>\n",
       "      <td>0.361022</td>\n",
       "      <td>0.123984</td>\n",
       "      <td>0.135802</td>\n",
       "      <td>0.321642</td>\n",
       "      <td>0.697723</td>\n",
       "      <td>0.721448</td>\n",
       "      <td>0.778049</td>\n",
       "      <td>...</td>\n",
       "      <td>0.203494</td>\n",
       "      <td>0.325792</td>\n",
       "      <td>0.294336</td>\n",
       "      <td>0.358494</td>\n",
       "      <td>0.567540</td>\n",
       "      <td>0.362510</td>\n",
       "      <td>0.075155</td>\n",
       "      <td>0.258374</td>\n",
       "      <td>0.020576</td>\n",
       "      <td>0.119644</td>\n",
       "    </tr>\n",
       "    <tr>\n",
       "      <th>1081.0</th>\n",
       "      <td>0.260364</td>\n",
       "      <td>0.333333</td>\n",
       "      <td>0.137600</td>\n",
       "      <td>0.169329</td>\n",
       "      <td>0.457317</td>\n",
       "      <td>0.104938</td>\n",
       "      <td>0.390932</td>\n",
       "      <td>0.757764</td>\n",
       "      <td>0.743733</td>\n",
       "      <td>0.802439</td>\n",
       "      <td>...</td>\n",
       "      <td>0.056305</td>\n",
       "      <td>0.343891</td>\n",
       "      <td>0.586319</td>\n",
       "      <td>0.144048</td>\n",
       "      <td>0.571650</td>\n",
       "      <td>0.451833</td>\n",
       "      <td>0.609583</td>\n",
       "      <td>0.046170</td>\n",
       "      <td>0.082305</td>\n",
       "      <td>0.193068</td>\n",
       "    </tr>\n",
       "    <tr>\n",
       "      <th>1095.0</th>\n",
       "      <td>0.483091</td>\n",
       "      <td>0.666667</td>\n",
       "      <td>0.096738</td>\n",
       "      <td>0.476038</td>\n",
       "      <td>0.154472</td>\n",
       "      <td>0.092593</td>\n",
       "      <td>0.344739</td>\n",
       "      <td>0.672878</td>\n",
       "      <td>0.696379</td>\n",
       "      <td>0.768293</td>\n",
       "      <td>...</td>\n",
       "      <td>0.162744</td>\n",
       "      <td>0.334842</td>\n",
       "      <td>0.241579</td>\n",
       "      <td>0.364819</td>\n",
       "      <td>0.680389</td>\n",
       "      <td>0.659251</td>\n",
       "      <td>0.086210</td>\n",
       "      <td>0.278906</td>\n",
       "      <td>0.012346</td>\n",
       "      <td>0.100503</td>\n",
       "    </tr>\n",
       "    <tr>\n",
       "      <th>1097.0</th>\n",
       "      <td>0.419447</td>\n",
       "      <td>0.000000</td>\n",
       "      <td>0.202277</td>\n",
       "      <td>0.306709</td>\n",
       "      <td>0.229675</td>\n",
       "      <td>0.172840</td>\n",
       "      <td>0.299401</td>\n",
       "      <td>0.846791</td>\n",
       "      <td>0.813370</td>\n",
       "      <td>0.865854</td>\n",
       "      <td>...</td>\n",
       "      <td>0.145504</td>\n",
       "      <td>0.303167</td>\n",
       "      <td>0.505194</td>\n",
       "      <td>0.328976</td>\n",
       "      <td>0.607318</td>\n",
       "      <td>0.520245</td>\n",
       "      <td>0.119985</td>\n",
       "      <td>0.102618</td>\n",
       "      <td>0.144033</td>\n",
       "      <td>0.118461</td>\n",
       "    </tr>\n",
       "    <tr>\n",
       "      <th>1101.0</th>\n",
       "      <td>0.281413</td>\n",
       "      <td>0.000000</td>\n",
       "      <td>0.175569</td>\n",
       "      <td>0.325879</td>\n",
       "      <td>0.416667</td>\n",
       "      <td>0.129630</td>\n",
       "      <td>0.402908</td>\n",
       "      <td>0.792961</td>\n",
       "      <td>0.782730</td>\n",
       "      <td>0.848780</td>\n",
       "      <td>...</td>\n",
       "      <td>0.123487</td>\n",
       "      <td>0.271493</td>\n",
       "      <td>0.275549</td>\n",
       "      <td>0.385057</td>\n",
       "      <td>0.597948</td>\n",
       "      <td>0.570767</td>\n",
       "      <td>0.176654</td>\n",
       "      <td>0.159904</td>\n",
       "      <td>0.012346</td>\n",
       "      <td>0.036609</td>\n",
       "    </tr>\n",
       "  </tbody>\n",
       "</table>\n",
       "<p>5 rows × 21 columns</p>\n",
       "</div>"
      ],
      "text/plain": [
       "        baseline  Rural-urban_Continuum Code_2013  \\\n",
       "FIPS                                                \n",
       "1055.0  0.411541                         0.333333   \n",
       "1081.0  0.260364                         0.333333   \n",
       "1095.0  0.483091                         0.666667   \n",
       "1097.0  0.419447                         0.000000   \n",
       "1101.0  0.281413                         0.000000   \n",
       "\n",
       "        Density per square mile of land area - Population  \\\n",
       "FIPS                                                        \n",
       "1055.0                                           0.115692   \n",
       "1081.0                                           0.137600   \n",
       "1095.0                                           0.096738   \n",
       "1097.0                                           0.202277   \n",
       "1101.0                                           0.175569   \n",
       "\n",
       "        Percent of adults with less than a high school diploma 2014-18  \\\n",
       "FIPS                                                                     \n",
       "1055.0                                           0.361022                \n",
       "1081.0                                           0.169329                \n",
       "1095.0                                           0.476038                \n",
       "1097.0                                           0.306709                \n",
       "1101.0                                           0.325879                \n",
       "\n",
       "        Percent of adults with a bachelor's degree or higher 2014-18  \\\n",
       "FIPS                                                                   \n",
       "1055.0                                           0.123984              \n",
       "1081.0                                           0.457317              \n",
       "1095.0                                           0.154472              \n",
       "1097.0                                           0.229675              \n",
       "1101.0                                           0.416667              \n",
       "\n",
       "        Unemployment_rate_2018  Med_HH_Income_Percent_of_State_Total_2018  \\\n",
       "FIPS                                                                        \n",
       "1055.0                0.135802                                   0.321642   \n",
       "1081.0                0.104938                                   0.390932   \n",
       "1095.0                0.092593                                   0.344739   \n",
       "1097.0                0.172840                                   0.299401   \n",
       "1101.0                0.129630                                   0.402908   \n",
       "\n",
       "        Mar Temp AVG / F  Apr Temp AVG / F  May Temp AVG / F  ...  \\\n",
       "FIPS                                                          ...   \n",
       "1055.0          0.697723          0.721448          0.778049  ...   \n",
       "1081.0          0.757764          0.743733          0.802439  ...   \n",
       "1095.0          0.672878          0.696379          0.768293  ...   \n",
       "1097.0          0.846791          0.813370          0.865854  ...   \n",
       "1101.0          0.792961          0.782730          0.848780  ...   \n",
       "\n",
       "        Total_age65plus  Total households!!Average household size  \\\n",
       "FIPS                                                                \n",
       "1055.0         0.203494                                  0.325792   \n",
       "1081.0         0.056305                                  0.343891   \n",
       "1095.0         0.162744                                  0.334842   \n",
       "1097.0         0.145504                                  0.303167   \n",
       "1101.0         0.123487                                  0.271493   \n",
       "\n",
       "        SCHOOL ENROLLMENT!!Population 3 years and over enrolled in school!!Nursery school preschool  \\\n",
       "FIPS                                                                                                  \n",
       "1055.0                                           0.294336                                             \n",
       "1081.0                                           0.586319                                             \n",
       "1095.0                                           0.241579                                             \n",
       "1097.0                                           0.505194                                             \n",
       "1101.0                                           0.275549                                             \n",
       "\n",
       "        SCHOOL ENROLLMENT!!Population 3 years and over enrolled in school!!Kindergarten  \\\n",
       "FIPS                                                                                      \n",
       "1055.0                                           0.358494                                 \n",
       "1081.0                                           0.144048                                 \n",
       "1095.0                                           0.364819                                 \n",
       "1097.0                                           0.328976                                 \n",
       "1101.0                                           0.385057                                 \n",
       "\n",
       "        SCHOOL ENROLLMENT!!Population 3 years and over enrolled in school!!Elementary school (grades 1-8)  \\\n",
       "FIPS                                                                                                        \n",
       "1055.0                                           0.567540                                                   \n",
       "1081.0                                           0.571650                                                   \n",
       "1095.0                                           0.680389                                                   \n",
       "1097.0                                           0.607318                                                   \n",
       "1101.0                                           0.597948                                                   \n",
       "\n",
       "        SCHOOL ENROLLMENT!!Population 3 years and over enrolled in school!!High school (grades 9-12)  \\\n",
       "FIPS                                                                                                   \n",
       "1055.0                                           0.362510                                              \n",
       "1081.0                                           0.451833                                              \n",
       "1095.0                                           0.659251                                              \n",
       "1097.0                                           0.520245                                              \n",
       "1101.0                                           0.570767                                              \n",
       "\n",
       "        SCHOOL ENROLLMENT!!Population 3 years and over enrolled in school!!College or graduate school  \\\n",
       "FIPS                                                                                                    \n",
       "1055.0                                           0.075155                                               \n",
       "1081.0                                           0.609583                                               \n",
       "1095.0                                           0.086210                                               \n",
       "1097.0                                           0.119985                                               \n",
       "1101.0                                           0.176654                                               \n",
       "\n",
       "          HospCt    Deaths  normalized_deaths  \n",
       "FIPS                                           \n",
       "1055.0  0.258374  0.020576           0.119644  \n",
       "1081.0  0.046170  0.082305           0.193068  \n",
       "1095.0  0.278906  0.012346           0.100503  \n",
       "1097.0  0.102618  0.144033           0.118461  \n",
       "1101.0  0.159904  0.012346           0.036609  \n",
       "\n",
       "[5 rows x 21 columns]"
      ]
     },
     "execution_count": 2,
     "metadata": {},
     "output_type": "execute_result"
    }
   ],
   "source": [
    "combined_data = pd.read_csv('../data/intermediates/pre_acpca1.csv')\n",
    "combined_data.set_index('FIPS', inplace=True)\n",
    "print(combined_data.shape)\n",
    "combined_data.head()"
   ]
  },
  {
   "cell_type": "markdown",
   "metadata": {},
   "source": [
    "## Define data matrix and confounding matrix"
   ]
  },
  {
   "cell_type": "code",
   "execution_count": 3,
   "metadata": {},
   "outputs": [],
   "source": [
    "X = combined_data.drop(columns=['baseline','Deaths', 'normalized_deaths']).to_numpy()\n",
    "Y = combined_data['baseline'].to_numpy()\n",
    "Y = Y.reshape(len(Y), 1)"
   ]
  },
  {
   "cell_type": "code",
   "execution_count": 4,
   "metadata": {},
   "outputs": [
    {
     "data": {
      "text/plain": [
       "0.19967853479853478"
      ]
     },
     "execution_count": 4,
     "metadata": {},
     "output_type": "execute_result"
    }
   ],
   "source": [
    "density = combined_data['Density per square mile of land area - Population']\n",
    "density.mean()"
   ]
  },
  {
   "cell_type": "code",
   "execution_count": 5,
   "metadata": {},
   "outputs": [
    {
     "data": {
      "text/plain": [
       "-0.08398653479853478"
      ]
     },
     "execution_count": 5,
     "metadata": {},
     "output_type": "execute_result"
    }
   ],
   "source": [
    "0.115692 - 0.19967853479853478"
   ]
  },
  {
   "cell_type": "markdown",
   "metadata": {},
   "source": [
    "## Center X and Y"
   ]
  },
  {
   "cell_type": "code",
   "execution_count": 6,
   "metadata": {},
   "outputs": [],
   "source": [
    "X_mean = X.T.mean(axis=1)\n",
    "X = X - X_mean\n",
    "Y_mean = Y.T.mean(axis=1)\n",
    "Y = Y - Y_mean"
   ]
  },
  {
   "cell_type": "markdown",
   "metadata": {},
   "source": [
    "## Covariance/ objective funciton matrix"
   ]
  },
  {
   "cell_type": "code",
   "execution_count": 17,
   "metadata": {},
   "outputs": [
    {
     "name": "stdout",
     "output_type": "stream",
     "text": [
      "(18, 18)\n"
     ]
    }
   ],
   "source": [
    "lam = 20 # lambda\n",
    "K = Y @ Y.T\n",
    "cov = X.T @ X - lam * X.T @ K @ X\n",
    "vals, vecs = eig(cov.T)\n",
    "print(vecs.shape)\n",
    "P = vecs.T.dot(X.T)\n",
    "P = P.T"
   ]
  },
  {
   "cell_type": "code",
   "execution_count": 18,
   "metadata": {},
   "outputs": [
    {
     "name": "stdout",
     "output_type": "stream",
     "text": [
      "(210, 18)\n",
      "[-0.38951487 -0.22971959 -0.6407968  -0.13729916 -0.052666  ]\n"
     ]
    }
   ],
   "source": [
    "print(P.shape)\n",
    "\n",
    "print(P[:5,2])"
   ]
  },
  {
   "cell_type": "code",
   "execution_count": null,
   "metadata": {},
   "outputs": [],
   "source": []
  },
  {
   "cell_type": "code",
   "execution_count": null,
   "metadata": {},
   "outputs": [],
   "source": []
  }
 ],
 "metadata": {
  "kernelspec": {
   "display_name": "Python 3",
   "language": "python",
   "name": "python3"
  },
  "language_info": {
   "codemirror_mode": {
    "name": "ipython",
    "version": 3
   },
   "file_extension": ".py",
   "mimetype": "text/x-python",
   "name": "python",
   "nbconvert_exporter": "python",
   "pygments_lexer": "ipython3",
   "version": "3.7.6"
  }
 },
 "nbformat": 4,
 "nbformat_minor": 4
}
