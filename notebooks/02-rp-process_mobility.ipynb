{
 "nbformat": 4,
 "nbformat_minor": 2,
 "metadata": {
  "language_info": {
   "name": "python",
   "codemirror_mode": {
    "name": "ipython",
    "version": 3
   },
   "version": "3.7.3-final"
  },
  "orig_nbformat": 2,
  "file_extension": ".py",
  "mimetype": "text/x-python",
  "name": "python",
  "npconvert_exporter": "python",
  "pygments_lexer": "ipython3",
  "version": 3,
  "kernelspec": {
   "name": "python37364bitbaseconda9b8badabe1cb43a6bc145c902d456937",
   "display_name": "Python 3.7.3 64-bit ('base': conda)"
  }
 },
 "cells": [
  {
   "cell_type": "markdown",
   "metadata": {},
   "source": [
    "# Normalize virus deaths by mobility changes"
   ]
  },
  {
   "cell_type": "code",
   "execution_count": 1,
   "metadata": {},
   "outputs": [],
   "source": [
    "import numpy as np\n",
    "import pandas as pd\n",
    "from pathlib import Path\n",
    "from datetime import datetime\n",
    "import matplotlib.pyplot as plt\n",
    "import seaborn as sns\n",
    "import sys; sys.path.append('../')\n",
    "from src.data_loader.data_loader import load_google_mobility, load_deaths, load_interventions, load_counties, load_google_mobility_time_series\n",
    "from src.utils.dates import get_today, switch_date_format\n",
    "%matplotlib inline\n",
    "%load_ext autoreload\n",
    "%autoreload 2"
   ]
  },
  {
   "cell_type": "code",
   "execution_count": 2,
   "metadata": {},
   "outputs": [],
   "source": [
    "data_dir = Path('../data')\n",
    "processed_dir = data_dir / 'processed'"
   ]
  },
  {
   "cell_type": "code",
   "execution_count": 3,
   "metadata": {},
   "outputs": [],
   "source": [
    "# Time series data\n",
    "mobility, mobility_date = load_google_mobility()\n",
    "\n",
    "# Static data\n",
    "counties, counties_date = load_counties()"
   ]
  },
  {
   "cell_type": "code",
   "execution_count": 4,
   "metadata": {},
   "outputs": [],
   "source": [
    "def make_mobility_time_series(\n",
    "    subset=['retail_and_recreation'],\n",
    "    standardize_dates=True\n",
    "):\n",
    "    \"\"\"\n",
    "    subset : array-like\n",
    "        subset of regions to average together. Elements are of\n",
    "        ['retail_and_recreation','grocery_and_pharmacy', 'parks',\n",
    "        'transit_stations','workplaces','residential']\n",
    "    \"\"\"\n",
    "    all_regions = ['retail_and_recreation','grocery_and_pharmacy', 'parks',\n",
    "        'transit_stations','workplaces','residential']\n",
    "    all_regions = [s + '_percent_change_from_baseline' for s in all_regions]\n",
    "    subset = [s + '_percent_change_from_baseline' for s in subset]\n",
    "    mobility,date = load_google_mobility()\n",
    "    # Drop rows with na in column(s) of interest\n",
    "    mobility.dropna(axis='rows', subset=subset, inplace=True)\n",
    "    # Average column(s) of interest and make a new column\n",
    "    mobility['mean_percent_change'] = mobility[subset].mean(axis='columns')\n",
    "    # Remove all old data columns\n",
    "    mobility.drop(axis='columns',labels=all_regions, inplace=True)\n",
    "    # Pivot to form time series\n",
    "    mobility = mobility.pivot_table(\n",
    "                    index=['state', 'county'],\n",
    "                    columns='date',\n",
    "                    values='mean_percent_change',\n",
    "                    aggfunc='first'\n",
    "                ).reset_index()\n",
    "    \n",
    "    if standardize_dates:\n",
    "        mobility.rename(\n",
    "            columns={c:switch_date_format(c,\"%Y-%m-%d\") for c in mobility.columns},\n",
    "            inplace=True\n",
    "        )\n",
    "\n",
    "    return(mobility,date)"
   ]
  },
  {
   "cell_type": "markdown",
   "metadata": {},
   "source": [
    "## Processed mobility data"
   ]
  },
  {
   "cell_type": "code",
   "execution_count": 5,
   "metadata": {},
   "outputs": [],
   "source": [
    "# State FIPS and acronym information\n",
    "state_info = counties[counties['FIPS'] % 1000 == 0].dropna(axis='columns')\n",
    "state_info.to_csv(processed_dir / f'state_info_{counties_date}.csv')"
   ]
  },
  {
   "cell_type": "code",
   "execution_count": 6,
   "metadata": {},
   "outputs": [],
   "source": [
    "# Get mobility in time series forma\n",
    "mobility_ts, mobility_ts_date = make_mobility_time_series()"
   ]
  },
  {
   "cell_type": "code",
   "execution_count": 7,
   "metadata": {},
   "outputs": [],
   "source": [
    "# Use state acronyms\n",
    "mobility_ts['state'] = mobility_ts['state'].map({name:acro for name,acro in zip(state_info['Area_Name'], state_info['State'])})"
   ]
  },
  {
   "cell_type": "code",
   "execution_count": 8,
   "metadata": {},
   "outputs": [
    {
     "data": {
      "text/html": "<div>\n<style scoped>\n    .dataframe tbody tr th:only-of-type {\n        vertical-align: middle;\n    }\n\n    .dataframe tbody tr th {\n        vertical-align: top;\n    }\n\n    .dataframe thead th {\n        text-align: right;\n    }\n</style>\n<table border=\"1\" class=\"dataframe\">\n  <thead>\n    <tr style=\"text-align: right;\">\n      <th>date</th>\n      <th>state</th>\n      <th>county</th>\n      <th>02-15</th>\n      <th>02-16</th>\n      <th>02-17</th>\n      <th>02-18</th>\n      <th>02-19</th>\n      <th>02-20</th>\n      <th>02-21</th>\n      <th>02-22</th>\n      <th>...</th>\n      <th>04-02</th>\n      <th>04-03</th>\n      <th>04-04</th>\n      <th>04-05</th>\n      <th>04-06</th>\n      <th>04-07</th>\n      <th>04-08</th>\n      <th>04-09</th>\n      <th>04-10</th>\n      <th>04-11</th>\n    </tr>\n  </thead>\n  <tbody>\n    <tr>\n      <th>0</th>\n      <td>AL</td>\n      <td>Autauga County</td>\n      <td>5.0</td>\n      <td>0.0</td>\n      <td>8.0</td>\n      <td>-2.0</td>\n      <td>-2.0</td>\n      <td>-8.0</td>\n      <td>-3.0</td>\n      <td>1.0</td>\n      <td>...</td>\n      <td>-24.0</td>\n      <td>-24.0</td>\n      <td>-39.0</td>\n      <td>-53.0</td>\n      <td>-30.0</td>\n      <td>-35.0</td>\n      <td>-31.0</td>\n      <td>-29.0</td>\n      <td>-30.0</td>\n      <td>-37.0</td>\n    </tr>\n    <tr>\n      <th>1</th>\n      <td>AL</td>\n      <td>Baldwin County</td>\n      <td>17.0</td>\n      <td>8.0</td>\n      <td>9.0</td>\n      <td>7.0</td>\n      <td>12.0</td>\n      <td>5.0</td>\n      <td>15.0</td>\n      <td>15.0</td>\n      <td>...</td>\n      <td>-40.0</td>\n      <td>-39.0</td>\n      <td>-48.0</td>\n      <td>-55.0</td>\n      <td>-46.0</td>\n      <td>-47.0</td>\n      <td>-42.0</td>\n      <td>-41.0</td>\n      <td>-41.0</td>\n      <td>-44.0</td>\n    </tr>\n  </tbody>\n</table>\n<p>2 rows × 59 columns</p>\n</div>",
      "text/plain": "date state          county  02-15  02-16  02-17  02-18  02-19  02-20  02-21  \\\n0       AL  Autauga County    5.0    0.0    8.0   -2.0   -2.0   -8.0   -3.0   \n1       AL  Baldwin County   17.0    8.0    9.0    7.0   12.0    5.0   15.0   \n\ndate  02-22  ...  04-02  04-03  04-04  04-05  04-06  04-07  04-08  04-09  \\\n0       1.0  ...  -24.0  -24.0  -39.0  -53.0  -30.0  -35.0  -31.0  -29.0   \n1      15.0  ...  -40.0  -39.0  -48.0  -55.0  -46.0  -47.0  -42.0  -41.0   \n\ndate  04-10  04-11  \n0     -30.0  -37.0  \n1     -41.0  -44.0  \n\n[2 rows x 59 columns]"
     },
     "execution_count": 8,
     "metadata": {},
     "output_type": "execute_result"
    }
   ],
   "source": [
    "mobility_ts.head(2)"
   ]
  },
  {
   "cell_type": "code",
   "execution_count": 9,
   "metadata": {},
   "outputs": [],
   "source": [
    "mobility_ts =counties[['FIPS','State','Area_Name']].merge(mobility_ts, how='inner', right_on=['state','county'], left_on=['State','Area_Name']).drop(labels=['State','Area_Name'],axis=1)"
   ]
  },
  {
   "cell_type": "code",
   "execution_count": 10,
   "metadata": {},
   "outputs": [
    {
     "data": {
      "text/html": "<div>\n<style scoped>\n    .dataframe tbody tr th:only-of-type {\n        vertical-align: middle;\n    }\n\n    .dataframe tbody tr th {\n        vertical-align: top;\n    }\n\n    .dataframe thead th {\n        text-align: right;\n    }\n</style>\n<table border=\"1\" class=\"dataframe\">\n  <thead>\n    <tr style=\"text-align: right;\">\n      <th></th>\n      <th>FIPS</th>\n      <th>state</th>\n      <th>county</th>\n      <th>02-15</th>\n      <th>02-16</th>\n      <th>02-17</th>\n      <th>02-18</th>\n      <th>02-19</th>\n      <th>02-20</th>\n      <th>02-21</th>\n      <th>...</th>\n      <th>04-02</th>\n      <th>04-03</th>\n      <th>04-04</th>\n      <th>04-05</th>\n      <th>04-06</th>\n      <th>04-07</th>\n      <th>04-08</th>\n      <th>04-09</th>\n      <th>04-10</th>\n      <th>04-11</th>\n    </tr>\n  </thead>\n  <tbody>\n    <tr>\n      <th>0</th>\n      <td>1001</td>\n      <td>AL</td>\n      <td>Autauga County</td>\n      <td>5.0</td>\n      <td>0.0</td>\n      <td>8.0</td>\n      <td>-2.0</td>\n      <td>-2.0</td>\n      <td>-8.0</td>\n      <td>-3.0</td>\n      <td>...</td>\n      <td>-24.0</td>\n      <td>-24.0</td>\n      <td>-39.0</td>\n      <td>-53.0</td>\n      <td>-30.0</td>\n      <td>-35.0</td>\n      <td>-31.0</td>\n      <td>-29.0</td>\n      <td>-30.0</td>\n      <td>-37.0</td>\n    </tr>\n    <tr>\n      <th>1</th>\n      <td>1003</td>\n      <td>AL</td>\n      <td>Baldwin County</td>\n      <td>17.0</td>\n      <td>8.0</td>\n      <td>9.0</td>\n      <td>7.0</td>\n      <td>12.0</td>\n      <td>5.0</td>\n      <td>15.0</td>\n      <td>...</td>\n      <td>-40.0</td>\n      <td>-39.0</td>\n      <td>-48.0</td>\n      <td>-55.0</td>\n      <td>-46.0</td>\n      <td>-47.0</td>\n      <td>-42.0</td>\n      <td>-41.0</td>\n      <td>-41.0</td>\n      <td>-44.0</td>\n    </tr>\n  </tbody>\n</table>\n<p>2 rows × 60 columns</p>\n</div>",
      "text/plain": "   FIPS state          county  02-15  02-16  02-17  02-18  02-19  02-20  \\\n0  1001    AL  Autauga County    5.0    0.0    8.0   -2.0   -2.0   -8.0   \n1  1003    AL  Baldwin County   17.0    8.0    9.0    7.0   12.0    5.0   \n\n   02-21  ...  04-02  04-03  04-04  04-05  04-06  04-07  04-08  04-09  04-10  \\\n0   -3.0  ...  -24.0  -24.0  -39.0  -53.0  -30.0  -35.0  -31.0  -29.0  -30.0   \n1   15.0  ...  -40.0  -39.0  -48.0  -55.0  -46.0  -47.0  -42.0  -41.0  -41.0   \n\n   04-11  \n0  -37.0  \n1  -44.0  \n\n[2 rows x 60 columns]"
     },
     "execution_count": 10,
     "metadata": {},
     "output_type": "execute_result"
    }
   ],
   "source": [
    "mobility_ts.head(2)"
   ]
  },
  {
   "cell_type": "code",
   "execution_count": 11,
   "metadata": {},
   "outputs": [],
   "source": [
    "# Save to processed data\n",
    "mobility_ts.to_csv(processed_dir / f'mobility_time_series_{mobility_date}.csv',index=False)"
   ]
  }
 ]
}