{
 "cells": [
  {
   "cell_type": "markdown",
   "metadata": {},
   "source": [
    "# Replicating results from \"Modeling COVID19 mortality in the US: Community context and mobility matter \"\n",
    "\n",
    "Modeling analyses after the work done in this [paper](https://www.medrxiv.org/content/10.1101/2020.06.18.20134122v1.full.pdf).\n",
    "\n",
    "**Paper Data**:\n",
    "- Chicago, detroit, los angeles, new orleans, new york (median of each encompassed county statistic used), san francisco, seattle\n",
    "- Sociodemographic data, economic indicators, demographics, documented risk factors, daily PM_2.5, comorbidity data\n",
    "- Google mobility data at retail and recreation centers as %-change in baseline. 5 day moving average as imputation\n",
    "- PCA reduced sociodemographic and comorbidity data. Top 4 components (80% of variation explained) used and classified by most important features in each.\n",
    "- Target: daily *cumulative* COVID deaths\n",
    "\n",
    "**Paper Model**\n",
    "- quasi-Poisson GAM\n",
    "- 30 days of lagged mobility & sociodemographic PCs fitted\n",
    "- log(population) offset (i.e. target is deaths per capita)\n",
    "\n",
    "$$Y_t \\sim Poisson(\\mu_t)$$\n",
    "$$E(Y_t) = \\mu_t \\quad\\quad Var(Y_t) = \\psi \\mu_t$$\n",
    "$$log(E(Y_t)) = \\beta_0 + f(time_t) + f_{county}(time_t) + \\sum_{i=1}^4 f(PC_i) + f(mobility_{t-0}, \\dots, mobility_{t-30})$$\n",
    "\n",
    "- $f(time_t)$: common epidemic trajectory across counties (thin-plate regression spline)\n",
    "- $f_{county}(time_t)$: county specfici epidemic trajectory (factor-smooth interaction)\n",
    "- $f(PC_i)$: cubic regression spline w/ 5 knots\n",
    "- $f(mobility_{t-0}, \\dots, mobility_{t-30})$ tensor product of penalized spline of mobility at time t till t-30 days.\n",
    "    - Smoothing parameter fit using restricted max-likelihood (REML) R *mgcv*\n",
    "    - See DLNM package in R\n",
    "\n",
    "**Interpretation**\n",
    "- Confidence intervals estimated with parametric bootstrapping (bias-corrected)\n",
    "- magnitude of F-statistic for individual predictors used as a proxy for explanatory power.\n",
    "- partial dependency plots"
   ]
  },
  {
   "cell_type": "code",
   "execution_count": 2,
   "metadata": {},
   "outputs": [],
   "source": [
    "import numpy as np\n",
    "import pandas as pd\n",
    "from pathlib import Path\n",
    "from datetime import datetime\n",
    "from tqdm import tqdm\n",
    "import pickle\n",
    "from matplotlib import dates\n",
    "import matplotlib.pyplot as plt\n",
    "import seaborn as sns\n",
    "import sys; sys.path.append('../')\n",
    "from src.data_loader.data_loader import *\n",
    "from src.utils.dates import get_today, lag_date, date2str, str2date, get_format\n",
    "from src.utils.df_utils import get_date_columns\n",
    "from src.pandas.align import align_lagged_dates\n",
    "\n",
    "from sklearn.decomposition import PCA\n",
    "from sklearn.preprocessing import StandardScaler, MinMaxScaler\n",
    "from scipy.stats import spearmanr\n",
    "\n",
    "%matplotlib inline\n",
    "%load_ext autoreload\n",
    "%autoreload 2"
   ]
  },
  {
   "cell_type": "code",
   "execution_count": 3,
   "metadata": {},
   "outputs": [],
   "source": [
    "n_days = 30\n",
    "mobility_lag = 30"
   ]
  },
  {
   "cell_type": "code",
   "execution_count": 4,
   "metadata": {},
   "outputs": [],
   "source": [
    "df = get_time_series_dataframe(\n",
    "    n_days=n_days,\n",
    "    mobility_lag=mobility_lag,\n",
    "    county_features = [\n",
    "        'FIPS',\n",
    "        'Rural-urban_Continuum Code_2013',\n",
    "        'Density per square mile of land area - Population',\n",
    "        'Density per square mile of land area - Housing units',\n",
    "        'Percent of adults with less than a high school diploma 2014-18',\n",
    "        'PCTPOVALL_2018',\n",
    "        'Unemployment_rate_2018',\n",
    "        'Total_age65plus', \n",
    "        'POP_ESTIMATE_2018',\n",
    "        'MEDHHINC_2018',\n",
    "        \"Percent of adults with a bachelor's degree or higher 2014-18\",\n",
    "        \"Percent of adults with a high school diploma only 2014-18\",\n",
    "        \"Unemployment_rate_2018\",\n",
    "        \"Total households!!Average household size\",\n",
    "        \"HospCt\",\n",
    "        \"Beds\",\n",
    "    ]\n",
    ")"
   ]
  },
  {
   "cell_type": "code",
   "execution_count": 5,
   "metadata": {},
   "outputs": [],
   "source": [
    "df_timeseries = pd.concat(\n",
    "    [df[\n",
    "        ['FIPS'] + ['onset_relative'] +\n",
    "        [f'deaths_{d+1:02d}'] + \n",
    "        [f'mobility_{d+m+1:02d}' for m in range(mobility_lag)]]\n",
    "     .assign(dt=d+1).rename({\n",
    "        f'deaths_{d+1:02d}':'deaths',\n",
    "        **{f'mobility_{d+m+1:02d}':f't{m}' for m in range(mobility_lag)}\n",
    "    }, axis=1) for d in range(n_days)],\n",
    "    axis=0\n",
    ")"
   ]
  },
  {
   "cell_type": "code",
   "execution_count": 6,
   "metadata": {},
   "outputs": [],
   "source": [
    "df_predictors = df[[\n",
    "    'FIPS',\n",
    "    'Rural-urban_Continuum Code_2013',\n",
    "    'Density per square mile of land area - Population',\n",
    "    'Density per square mile of land area - Housing units',\n",
    "    'Percent of adults with less than a high school diploma 2014-18',\n",
    "    'PCTPOVALL_2018',\n",
    "    'Unemployment_rate_2018',\n",
    "    'Total_age65plus', \n",
    "    'POP_ESTIMATE_2018',\n",
    "    'MEDHHINC_2018',\n",
    "    \"Percent of adults with a bachelor's degree or higher 2014-18\",\n",
    "    \"Percent of adults with a high school diploma only 2014-18\",\n",
    "    \"Unemployment_rate_2018\",\n",
    "    \"Total households!!Average household size\",\n",
    "]]\n",
    "df_hypothesis = df[[\n",
    "    \"FIPS\",\n",
    "    \"HospCt\",\n",
    "    \"Beds\",\n",
    "]]"
   ]
  },
  {
   "cell_type": "code",
   "execution_count": 7,
   "metadata": {},
   "outputs": [
    {
     "name": "stderr",
     "output_type": "stream",
     "text": [
      "/Users/Ronan/miniconda3/lib/python3.7/site-packages/ipykernel_launcher.py:1: SettingWithCopyWarning: \n",
      "A value is trying to be set on a copy of a slice from a DataFrame.\n",
      "Try using .loc[row_indexer,col_indexer] = value instead\n",
      "\n",
      "See the caveats in the documentation: https://pandas.pydata.org/pandas-docs/stable/user_guide/indexing.html#returning-a-view-versus-a-copy\n",
      "  \"\"\"Entry point for launching an IPython kernel.\n"
     ]
    }
   ],
   "source": [
    "df_predictors['Pct_age65plus'] = df_predictors['Total_age65plus'] / df_predictors['POP_ESTIMATE_2018']"
   ]
  },
  {
   "cell_type": "code",
   "execution_count": 8,
   "metadata": {},
   "outputs": [],
   "source": [
    "X = df_predictors[[\n",
    "    'Density per square mile of land area - Population',\n",
    "    'Density per square mile of land area - Housing units',\n",
    "    'Percent of adults with less than a high school diploma 2014-18',\n",
    "    'PCTPOVALL_2018',\n",
    "    'Unemployment_rate_2018',\n",
    "    'Pct_age65plus', \n",
    "    'POP_ESTIMATE_2018',\n",
    "    'MEDHHINC_2018',\n",
    "    \"Percent of adults with a bachelor's degree or higher 2014-18\",\n",
    "    \"Percent of adults with a high school diploma only 2014-18\",\n",
    "    \"Unemployment_rate_2018\",\n",
    "    \"Total households!!Average household size\"\n",
    "]].values.copy()"
   ]
  },
  {
   "cell_type": "code",
   "execution_count": 9,
   "metadata": {},
   "outputs": [],
   "source": [
    "X = StandardScaler().fit_transform(X)"
   ]
  },
  {
   "cell_type": "code",
   "execution_count": 10,
   "metadata": {},
   "outputs": [],
   "source": [
    "pca = PCA(n_components=11, svd_solver='full')\n",
    "X = pca.fit_transform(X)"
   ]
  },
  {
   "cell_type": "code",
   "execution_count": 11,
   "metadata": {},
   "outputs": [
    {
     "data": {
      "text/plain": [
       "Text(0.5, 1.0, 'Explained PCA variance')"
      ]
     },
     "execution_count": 11,
     "metadata": {},
     "output_type": "execute_result"
    },
    {
     "data": {
      "image/png": "[encoded data removed]",
      "text/plain": [
       "<Figure size 432x288 with 1 Axes>"
      ]
     },
     "metadata": {
      "needs_background": "light"
     },
     "output_type": "display_data"
    }
   ],
   "source": [
    "plt.plot(np.arange(X.shape[1]), pca.explained_variance_ratio_); plt.title('Explained Variance')\n",
    "plt.title(f'Explained PCA variance')"
   ]
  },
  {
   "cell_type": "code",
   "execution_count": 12,
   "metadata": {},
   "outputs": [
    {
     "name": "stderr",
     "output_type": "stream",
     "text": [
      "/Users/Ronan/miniconda3/lib/python3.7/site-packages/ipykernel_launcher.py:2: SettingWithCopyWarning: \n",
      "A value is trying to be set on a copy of a slice from a DataFrame.\n",
      "Try using .loc[row_indexer,col_indexer] = value instead\n",
      "\n",
      "See the caveats in the documentation: https://pandas.pydata.org/pandas-docs/stable/user_guide/indexing.html#returning-a-view-versus-a-copy\n",
      "  \n"
     ]
    }
   ],
   "source": [
    "for i in range(4):\n",
    "    df_predictors[f'PCA{i}'] = X[:,i]"
   ]
  },
  {
   "cell_type": "code",
   "execution_count": 13,
   "metadata": {},
   "outputs": [],
   "source": [
    "df_X = pd.merge(df_timeseries, pd.merge(df_predictors, df_hypothesis, on='FIPS'), on='FIPS')"
   ]
  },
  {
   "cell_type": "code",
   "execution_count": 14,
   "metadata": {},
   "outputs": [],
   "source": [
    "df_X['deaths'] = df_X['deaths'] / df_X['POP_ESTIMATE_2018']"
   ]
  },
  {
   "cell_type": "code",
   "execution_count": 1,
   "metadata": {},
   "outputs": [],
   "source": [
    "from pygam import f, s, te\n",
    "import statsmodels.api as sm\n",
    "from sklearn.preprocessing import MinMaxScaler"
   ]
  },
  {
   "cell_type": "code",
   "execution_count": 16,
   "metadata": {},
   "outputs": [],
   "source": [
    "county_fips = [\n",
    "    \"06001\",\n",
    "    \"06037\",\n",
    "    \"06059\",\n",
    "    \"06075\",\n",
    "    \"06081\",\n",
    "    \"06085\",\n",
    "    \"17031\",\n",
    "    \"17043\",\n",
    "    \"17089\",\n",
    "    \"17097\",\n",
    "    \"17111\",\n",
    "    \"17197\",\n",
    "    \"18089\",\n",
    "    \"22051\",\n",
    "    \"22071\",\n",
    "    \"22075\",\n",
    "    \"22087\",\n",
    "    \"22103\",\n",
    "    \"26099\",\n",
    "    \"26125\",\n",
    "    \"26163\",\n",
    "    \"53033\",\n",
    "    \"53061\",\n",
    "]\n",
    "predictor_vars = [\n",
    "    \"onset_relative\",\n",
    "    \"PCA0\",\n",
    "    \"PCA1\",\n",
    "    \"PCA2\",\n",
    "    \"PCA3\",\n",
    "    \"HospCt\",\n",
    "    \"Beds\",\n",
    "] + [f't{m}' for m in range(mobility_lag)]\n",
    "target_var = 'deaths'\n",
    "\n",
    "X = df_X[df_X['FIPS'].isin(county_fips)][predictor_vars].values\n",
    "y = df_X[df_X['FIPS'].isin(county_fips)][target_var].values"
   ]
  },
  {
   "cell_type": "code",
   "execution_count": 17,
   "metadata": {},
   "outputs": [],
   "source": [
    "scaler = MinMaxScaler()\n",
    "X[:,1:] = scaler.fit_transform(X[:,1:])"
   ]
  },
  {
   "cell_type": "code",
   "execution_count": 18,
   "metadata": {},
   "outputs": [],
   "source": [
    "ggam = GammaGAM(\n",
    "    f(1) +\n",
    "    s(1, n_splines=5, lam=0) +\n",
    "    s(2, n_splines=5, lam=0) +\n",
    "    s(3, n_splines=5, lam=0) +\n",
    "    s(4, n_splines=5, lam=0) +\n",
    "    s(5, n_splines=5, lam=0) +\n",
    "    s(6, n_splines=5, lam=0) +\n",
    "    te(7,8,9,10,11,12,13,14,15,16,17,18,19,20,21,22,23,24,25,26,27,28,29,30,31,32,33,34,35,36, lam=1)\n",
    ")"
   ]
  },
  {
   "cell_type": "code",
   "execution_count": 305,
   "metadata": {},
   "outputs": [],
   "source": [
    "# lams = np.random.rand(100, 37) # random points on [0, 1], with shape (100, 3)\n",
    "# lams = lams * 8 - 3 # shift values to -3, 3\n",
    "# lams = np.exp(lams) # transforms values to 1e-3, 1e3\n",
    "\n",
    "# ggam.gridsearch(X, y, lam=lams)"
   ]
  },
  {
   "cell_type": "code",
   "execution_count": null,
   "metadata": {},
   "outputs": [],
   "source": [
    "results = ggam.fit(X,y)"
   ]
  },
  {
   "cell_type": "code",
   "execution_count": null,
   "metadata": {},
   "outputs": [],
   "source": [
    "results.save('../ggam-25-results.pkl')"
   ]
  }
 ],
 "metadata": {
  "kernelspec": {
   "display_name": "Python 3",
   "language": "python",
   "name": "python3"
  },
  "language_info": {
   "codemirror_mode": {
    "name": "ipython",
    "version": 3
   },
   "file_extension": ".py",
   "mimetype": "text/x-python",
   "name": "python",
   "nbconvert_exporter": "python",
   "pygments_lexer": "ipython3",
   "version": "3.7.6"
  }
 },
 "nbformat": 4,
 "nbformat_minor": 4
}
