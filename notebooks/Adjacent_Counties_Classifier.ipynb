{
 "cells": [
  {
   "cell_type": "code",
   "execution_count": 115,
   "metadata": {},
   "outputs": [],
   "source": [
    "import numpy as np\n",
    "import pandas as pd\n"
   ]
  },
  {
   "cell_type": "markdown",
   "metadata": {},
   "source": [
    "# Process Datasets\n",
    "\n",
    "Static features dataset from Matthias, death time series from CSSE, Hospital Data"
   ]
  },
  {
   "cell_type": "code",
   "execution_count": 116,
   "metadata": {},
   "outputs": [],
   "source": [
    "deaths_t_series = pd.read_csv('../COVID-19/csse_covid_19_data/csse_covid_19_time_series/time_series_covid19_deaths_US.csv')\n",
    "deaths_t_series = deaths_t_series.loc[~(deaths_t_series['Lat'] == 0)]\n",
    "deaths_t_series = deaths_t_series.drop(labels=['UID', 'iso2', 'iso3', 'code3', 'Admin2', 'Province_State', 'Country_Region', 'Lat', 'Long_', \"Combined_Key\", \"Population\"], axis=1)\n"
   ]
  },
  {
   "cell_type": "code",
   "execution_count": 121,
   "metadata": {},
   "outputs": [],
   "source": [
    "hospitals = pd.read_csv('../Hospitals.csv')[['TYPE', 'STATUS', 'COUNTYFIPS', 'BEDS']]\n",
    "static_features = pd.read_csv('../COVID-19_US_County-level_Summaries/data/counties_only.csv')[['FIPS', 'Rural-urban_Continuum Code_2013', 'Density per square mile of land area - Population', 'Percent of adults with less than a high school diploma 2014-18', 'PCTPOV017_2018', 'Unemployment_rate_2018', 'Total_age65plus', 'POP_ESTIMATE_2018']]\n",
    "static_features = static_features.dropna()\n",
    "static_features['pop_density'] = static_features['Density per square mile of land area - Population']\n",
    "static_features['no_dip'] = static_features['Percent of adults with less than a high school diploma 2014-18']\n",
    "static_features['elderly_ratio'] = static_features['Total_age65plus']/static_features['POP_ESTIMATE_2018']\n",
    "static_features['RUCC'] = static_features['Rural-urban_Continuum Code_2013']"
   ]
  },
  {
   "cell_type": "code",
   "execution_count": 122,
   "metadata": {},
   "outputs": [
    {
     "data": {
      "text/html": [
       "<div>\n",
       "<style scoped>\n",
       "    .dataframe tbody tr th:only-of-type {\n",
       "        vertical-align: middle;\n",
       "    }\n",
       "\n",
       "    .dataframe tbody tr th {\n",
       "        vertical-align: top;\n",
       "    }\n",
       "\n",
       "    .dataframe thead th {\n",
       "        text-align: right;\n",
       "    }\n",
       "</style>\n",
       "<table border=\"1\" class=\"dataframe\">\n",
       "  <thead>\n",
       "    <tr style=\"text-align: right;\">\n",
       "      <th></th>\n",
       "      <th>FIPS</th>\n",
       "      <th>HospCt</th>\n",
       "      <th>Beds</th>\n",
       "    </tr>\n",
       "  </thead>\n",
       "  <tbody>\n",
       "    <tr>\n",
       "      <th>0</th>\n",
       "      <td>1001</td>\n",
       "      <td>1</td>\n",
       "      <td>85</td>\n",
       "    </tr>\n",
       "    <tr>\n",
       "      <th>1</th>\n",
       "      <td>1003</td>\n",
       "      <td>3</td>\n",
       "      <td>332</td>\n",
       "    </tr>\n",
       "    <tr>\n",
       "      <th>2</th>\n",
       "      <td>1005</td>\n",
       "      <td>1</td>\n",
       "      <td>74</td>\n",
       "    </tr>\n",
       "    <tr>\n",
       "      <th>3</th>\n",
       "      <td>1007</td>\n",
       "      <td>1</td>\n",
       "      <td>35</td>\n",
       "    </tr>\n",
       "    <tr>\n",
       "      <th>4</th>\n",
       "      <td>1011</td>\n",
       "      <td>1</td>\n",
       "      <td>61</td>\n",
       "    </tr>\n",
       "  </tbody>\n",
       "</table>\n",
       "</div>"
      ],
      "text/plain": [
       "   FIPS HospCt Beds\n",
       "0  1001      1   85\n",
       "1  1003      3  332\n",
       "2  1005      1   74\n",
       "3  1007      1   35\n",
       "4  1011      1   61"
      ]
     },
     "execution_count": 122,
     "metadata": {},
     "output_type": "execute_result"
    }
   ],
   "source": [
    "hospitals = hospitals[hospitals[\"STATUS\"] == 'OPEN']\n",
    "hospitals = hospitals[hospitals[\"TYPE\"] == 'GENERAL ACUTE CARE']\n",
    "hospitals = hospitals[hospitals[\"BEDS\"].astype(str).astype(int) > 0]\n",
    "hospitals[\"FIPS\"] = hospitals[\"COUNTYFIPS\"]\n",
    "hospitals = hospitals[hospitals[\"FIPS\"] != 'NOT AVAILABLE']\n",
    "hospitals = hospitals.drop([\"COUNTYFIPS\", \"STATUS\"], axis=1)\n",
    "hospitals[\"FIPS\"] = hospitals[\"FIPS\"].astype(str).astype(int)\n",
    "fips_groups = hospitals.groupby(\"FIPS\")\n",
    "\n",
    "hosp_data = pd.DataFrame(columns=['FIPS', 'HospCt', 'Beds'])\n",
    "for fips_code, grp in fips_groups:\n",
    "    hosp_data = hosp_data.append({'FIPS': fips_code, 'HospCt': len(grp), 'Beds': sum(grp[\"BEDS\"])}, ignore_index=True)   \n",
    "\n",
    "hosp_data.head()"
   ]
  },
  {
   "cell_type": "code",
   "execution_count": 119,
   "metadata": {},
   "outputs": [],
   "source": [
    "adjacent_counties = pd.read_excel('../adjacent_counties.xlsx', header=None)\n",
    "adjacent_counties = adjacent_counties[[1, 3]]\n",
    "adjacent_counties = adjacent_counties[adjacent_counties[1] != adjacent_counties[3]]\n",
    "pairs = []\n",
    "for index, row in adjacent_counties.iterrows():\n",
    "    pair = set([row[1], row[3]])\n",
    "    if pair not in pairs:\n",
    "        pairs.append(pair)\n",
    "np.random.seed(9)\n",
    "np.random.shuffle(pairs)"
   ]
  },
  {
   "cell_type": "code",
   "execution_count": 120,
   "metadata": {},
   "outputs": [
    {
     "name": "stdout",
     "output_type": "stream",
     "text": [
      "9483\n"
     ]
    }
   ],
   "source": [
    "print(len(pairs))"
   ]
  },
  {
   "cell_type": "markdown",
   "metadata": {},
   "source": [
    "## Define helper function for testing features"
   ]
  },
  {
   "cell_type": "code",
   "execution_count": 131,
   "metadata": {},
   "outputs": [],
   "source": [
    "from sklearn.utils import shuffle\n",
    "from sklearn.linear_model import LogisticRegression as logreg\n",
    "\n",
    "def test_features(features):\n",
    "    train_x = training_set[features].to_numpy()\n",
    "    train_y = training_set['More_Deaths'].to_numpy()\n",
    "    test_x = test_set[features].to_numpy()\n",
    "    test_y = test_set['More_Deaths'].to_numpy()\n",
    "\n",
    "    train_x, train_y = shuffle(train_x, train_y, random_state=0)\n",
    "    test_x, test_y = shuffle(test_x, test_y, random_state=0)\n",
    "    train_y = np.ravel(train_y)\n",
    "    test_y = np.ravel(test_y)\n",
    "    \n",
    "    print(f'Features: {features}')\n",
    "    print(f'Test Ratio: {sum(test_y)/len(test_y)}')\n",
    "\n",
    "    lr = logreg().fit(train_x, train_y)\n",
    "    print(f'Score: {lr.score(test_x, test_y)}')\n",
    "    print(f'Coefficients: {lr.coef_}\\n')"
   ]
  },
  {
   "cell_type": "markdown",
   "metadata": {},
   "source": [
    "# 3 Death Thresh, 9 Days Out"
   ]
  },
  {
   "cell_type": "code",
   "execution_count": 117,
   "metadata": {},
   "outputs": [],
   "source": [
    "death_data = pd.DataFrame(columns=['FIPS', 'Deaths'])\n",
    "dates = deaths_t_series.columns[1:]\n",
    "death_thresh = 3\n",
    "n_days = 9\n",
    "\n",
    "# Get all existing data n_days from the death_thresh death.\n",
    "for i in range(len(deaths_t_series)):\n",
    "    county = deaths_t_series.iloc[i]\n",
    "\n",
    "    # Iterate through dates to find first date with deaths >= death thresh\n",
    "    for j in range(len(dates)):\n",
    "        if county[dates[j]] >= death_thresh:\n",
    "\n",
    "            # See if this happened n_days or more before current day\n",
    "            try:\n",
    "                n_days_later = dates[j+n_days]\n",
    "\n",
    "                # Make sure the data is bug-free\n",
    "                bad_data=False\n",
    "                for k in range(n_days):\n",
    "                    if county[n_days_later] < county[dates[j+k]]:\n",
    "                        bad_data=True\n",
    "                if not bad_data:\n",
    "                    death_data = death_data.append({'FIPS': county['FIPS'], 'Deaths':county[n_days_later]}, ignore_index=True)\n",
    "                break\n",
    "\n",
    "            except:\n",
    "                break "
   ]
  },
  {
   "cell_type": "code",
   "execution_count": 118,
   "metadata": {},
   "outputs": [
    {
     "data": {
      "text/plain": [
       "328.0"
      ]
     },
     "execution_count": 118,
     "metadata": {},
     "output_type": "execute_result"
    }
   ],
   "source": [
    "death_data['Deaths'].max()"
   ]
  },
  {
   "cell_type": "markdown",
   "metadata": {},
   "source": [
    "Merge Datasets"
   ]
  },
  {
   "cell_type": "code",
   "execution_count": 123,
   "metadata": {},
   "outputs": [
    {
     "data": {
      "text/html": [
       "<div>\n",
       "<style scoped>\n",
       "    .dataframe tbody tr th:only-of-type {\n",
       "        vertical-align: middle;\n",
       "    }\n",
       "\n",
       "    .dataframe tbody tr th {\n",
       "        vertical-align: top;\n",
       "    }\n",
       "\n",
       "    .dataframe thead th {\n",
       "        text-align: right;\n",
       "    }\n",
       "</style>\n",
       "<table border=\"1\" class=\"dataframe\">\n",
       "  <thead>\n",
       "    <tr style=\"text-align: right;\">\n",
       "      <th></th>\n",
       "      <th>FIPS</th>\n",
       "      <th>HospCt</th>\n",
       "      <th>Beds</th>\n",
       "      <th>Deaths</th>\n",
       "      <th>RUCC</th>\n",
       "      <th>pop_density</th>\n",
       "      <th>no_dip</th>\n",
       "      <th>elderly_ratio</th>\n",
       "      <th>Unemployment_rate_2018</th>\n",
       "      <th>PCTPOV017_2018</th>\n",
       "      <th>POP_ESTIMATE_2018</th>\n",
       "    </tr>\n",
       "  </thead>\n",
       "  <tbody>\n",
       "    <tr>\n",
       "      <th>54</th>\n",
       "      <td>6113</td>\n",
       "      <td>2</td>\n",
       "      <td>156</td>\n",
       "      <td>8.0</td>\n",
       "      <td>1</td>\n",
       "      <td>197.9</td>\n",
       "      <td>13.6</td>\n",
       "      <td>0.124927</td>\n",
       "      <td>4.2</td>\n",
       "      <td>15.2</td>\n",
       "      <td>220408</td>\n",
       "    </tr>\n",
       "    <tr>\n",
       "      <th>412</th>\n",
       "      <td>34017</td>\n",
       "      <td>6</td>\n",
       "      <td>1704</td>\n",
       "      <td>92.0</td>\n",
       "      <td>1</td>\n",
       "      <td>13731.4</td>\n",
       "      <td>15.8</td>\n",
       "      <td>0.118214</td>\n",
       "      <td>3.9</td>\n",
       "      <td>22.3</td>\n",
       "      <td>676061</td>\n",
       "    </tr>\n",
       "    <tr>\n",
       "      <th>97</th>\n",
       "      <td>12061</td>\n",
       "      <td>2</td>\n",
       "      <td>486</td>\n",
       "      <td>6.0</td>\n",
       "      <td>3</td>\n",
       "      <td>274.5</td>\n",
       "      <td>11.3</td>\n",
       "      <td>0.330462</td>\n",
       "      <td>4.3</td>\n",
       "      <td>17.9</td>\n",
       "      <td>157413</td>\n",
       "    </tr>\n",
       "    <tr>\n",
       "      <th>30</th>\n",
       "      <td>6013</td>\n",
       "      <td>9</td>\n",
       "      <td>1731</td>\n",
       "      <td>7.0</td>\n",
       "      <td>1</td>\n",
       "      <td>1465.2</td>\n",
       "      <td>10.6</td>\n",
       "      <td>0.157747</td>\n",
       "      <td>3.2</td>\n",
       "      <td>9.2</td>\n",
       "      <td>1150215</td>\n",
       "    </tr>\n",
       "    <tr>\n",
       "      <th>572</th>\n",
       "      <td>42077</td>\n",
       "      <td>5</td>\n",
       "      <td>1698</td>\n",
       "      <td>8.0</td>\n",
       "      <td>2</td>\n",
       "      <td>1012.5</td>\n",
       "      <td>11.4</td>\n",
       "      <td>0.167093</td>\n",
       "      <td>4.6</td>\n",
       "      <td>17.4</td>\n",
       "      <td>368100</td>\n",
       "    </tr>\n",
       "  </tbody>\n",
       "</table>\n",
       "</div>"
      ],
      "text/plain": [
       "      FIPS HospCt  Beds  Deaths  RUCC  pop_density  no_dip  elderly_ratio  \\\n",
       "54    6113      2   156     8.0     1        197.9    13.6       0.124927   \n",
       "412  34017      6  1704    92.0     1      13731.4    15.8       0.118214   \n",
       "97   12061      2   486     6.0     3        274.5    11.3       0.330462   \n",
       "30    6013      9  1731     7.0     1       1465.2    10.6       0.157747   \n",
       "572  42077      5  1698     8.0     2       1012.5    11.4       0.167093   \n",
       "\n",
       "     Unemployment_rate_2018  PCTPOV017_2018  POP_ESTIMATE_2018  \n",
       "54                      4.2            15.2             220408  \n",
       "412                     3.9            22.3             676061  \n",
       "97                      4.3            17.9             157413  \n",
       "30                      3.2             9.2            1150215  \n",
       "572                     4.6            17.4             368100  "
      ]
     },
     "execution_count": 123,
     "metadata": {},
     "output_type": "execute_result"
    }
   ],
   "source": [
    "dataset = hosp_data.merge(death_data, on='FIPS')\n",
    "dataset = dataset.merge(static_features, on=\"FIPS\")\n",
    "dataset = dataset.sample(frac=1.0, random_state=9)[['FIPS', 'HospCt', 'Beds', 'Deaths', 'RUCC', 'pop_density', 'no_dip', 'elderly_ratio', 'Unemployment_rate_2018', 'PCTPOV017_2018', 'POP_ESTIMATE_2018']]\n",
    "dataset.head()"
   ]
  },
  {
   "cell_type": "markdown",
   "metadata": {},
   "source": [
    "Exclude some outliers"
   ]
  },
  {
   "cell_type": "code",
   "execution_count": 124,
   "metadata": {},
   "outputs": [
    {
     "data": {
      "text/plain": [
       "<matplotlib.collections.PathCollection at 0x1a23939908>"
      ]
     },
     "execution_count": 124,
     "metadata": {},
     "output_type": "execute_result"
    },
    {
     "data": {
      "image/png": "[encoded data removed]",
      "text/plain": [
       "<Figure size 432x288 with 1 Axes>"
      ]
     },
     "metadata": {
      "needs_background": "light"
     },
     "output_type": "display_data"
    }
   ],
   "source": [
    "import matplotlib.pyplot as plt\n",
    "\n",
    "plot_data = dataset.copy()\n",
    "plot_data['Beds'] = (dataset['Beds'] - np.min(dataset['Beds']))/(np.max(dataset['Beds']) - np.min(dataset['Beds']))\n",
    "plot_data['Deaths'] = (dataset['Deaths'] - np.min(dataset['Deaths']))/(np.max(dataset['Deaths']) - np.min(dataset['Deaths']))\n",
    "\n",
    "plot_data = plot_data[plot_data['FIPS'] != 36061]\n",
    "plot_data = plot_data[plot_data['FIPS'] != 6038]\n",
    "plot_data = plot_data[plot_data['FIPS'] != 17031]\n",
    "plot_data = plot_data[plot_data['FIPS'] != 48201]\n",
    "\n",
    "dataset = dataset[dataset['FIPS'] != 36061]\n",
    "dataset = dataset[dataset['FIPS'] != 6038]\n",
    "dataset = dataset[dataset['FIPS'] != 17031]\n",
    "dataset = dataset[dataset['FIPS'] != 48201]\n",
    "\n",
    "plt.scatter(plot_data['Deaths'], plot_data['Beds'])"
   ]
  },
  {
   "cell_type": "markdown",
   "metadata": {},
   "source": [
    "Create the dataset that is to be fed into the classifier: For each pair of counties, take the difference in their features, and also provide an indicator variable identifying which county has more deaths"
   ]
  },
  {
   "cell_type": "code",
   "execution_count": 125,
   "metadata": {},
   "outputs": [],
   "source": [
    "model_data = pd.DataFrame(columns=['Hosp_diff', 'Beds_diff', 'RUCC_diff', 'dense_diff', 'no_dip_diff', 'elderly_diff', 'unemp_diff', 'pct_pov_diff', 'pop_diff', 'death_diff', 'More_Deaths'])\n",
    "model_data = model_data.apply(pd.to_numeric) \n",
    "dataset.reset_index(drop=True, inplace=True)\n",
    "\n",
    "for fips1, fips2 in pairs:\n",
    "    \n",
    "    row1_df = dataset.loc[dataset[\"FIPS\"] == fips1].reset_index(drop=True)\n",
    "    row2_df = dataset.loc[dataset[\"FIPS\"] == fips2].reset_index(drop=True)\n",
    "\n",
    "    if row1_df.empty or row2_df.empty:\n",
    "        continue\n",
    "        \n",
    "    for _, row1 in row1_df.iterrows():\n",
    "        for _, row2 in row2_df.iterrows():\n",
    "            if row1['Deaths'] != row2[\"Deaths\"]:\n",
    "\n",
    "                if row1['Deaths']  > row2[\"Deaths\"]:\n",
    "                    model_data = model_data.append({'Hosp_diff': int(row1['HospCt']) - int(row2['HospCt']),\\\n",
    "                                                        'Beds_diff': int(row1['Beds']) - int(row2['Beds']),\\\n",
    "                                                        'RUCC_diff': int(row1['RUCC']) - int(row2['RUCC']),\\\n",
    "                                                        'dense_diff':float(row1['pop_density']) - float(row2['pop_density']),\\\n",
    "                                                        'no_dip_diff':float(row1['no_dip']) - float(row2['no_dip']),\\\n",
    "                                                        'elderly_diff': float(row1['elderly_ratio']) - float(row2['elderly_ratio']),\\\n",
    "                                                        'unemp_diff': float(row1['Unemployment_rate_2018']) - float(row2['Unemployment_rate_2018']),\\\n",
    "                                                        'pct_pov_diff': float(row1['PCTPOV017_2018']) - float(row2['PCTPOV017_2018']),\\\n",
    "                                                        'pop_diff' : float(row1['POP_ESTIMATE_2018']) - float(row2['POP_ESTIMATE_2018']),\\\n",
    "                                                        'death_diff' : float(row1['Deaths']) - float(row2['Deaths']),\\\n",
    "                                                        'More_Deaths':0}, ignore_index=True)   \n",
    "                elif row1['Deaths']  < row2[\"Deaths\"]:  \n",
    "                    model_data = model_data.append({'Hosp_diff': int(row1['HospCt']) - int(row2['HospCt']),\\\n",
    "                                                        'Beds_diff': int(row1['Beds']) - int(row2['Beds']),\\\n",
    "                                                        'RUCC_diff': int(row1['RUCC']) - int(row2['RUCC']),\\\n",
    "                                                        'dense_diff':float(row1['pop_density']) - float(row2['pop_density']),\\\n",
    "                                                        'no_dip_diff':float(row1['no_dip']) - float(row2['no_dip']),\\\n",
    "                                                        'elderly_diff': float(row1['elderly_ratio']) - float(row2['elderly_ratio']),\\\n",
    "                                                        'unemp_diff': float(row1['Unemployment_rate_2018']) - float(row2['Unemployment_rate_2018']),\\\n",
    "                                                        'pct_pov_diff': float(row1['PCTPOV017_2018']) - float(row2['PCTPOV017_2018']),\\\n",
    "                                                        'pop_diff' : float(row1['POP_ESTIMATE_2018']) - float(row2['POP_ESTIMATE_2018']),\\\n",
    "                                                        'death_diff' : float(row1['Deaths']) - float(row2['Deaths']),\\\n",
    "                                                        'More_Deaths':1}, ignore_index=True)  \n",
    "\n",
    "\n",
    "\n"
   ]
  },
  {
   "cell_type": "markdown",
   "metadata": {},
   "source": [
    "Normalize"
   ]
  },
  {
   "cell_type": "code",
   "execution_count": 126,
   "metadata": {},
   "outputs": [],
   "source": [
    "model_data = model_data.apply(pd.to_numeric) \n",
    "\n",
    "model_data['Hosp_diff'] = (model_data['Hosp_diff'] - np.min(model_data['Hosp_diff']))/(np.max(model_data['Hosp_diff']) - np.min(model_data['Hosp_diff']))\n",
    "\n",
    "model_data['Beds_diff'] = (model_data['Beds_diff'] - np.min(model_data['Beds_diff']))/(np.max(model_data['Beds_diff']) - np.min(model_data['Beds_diff']))\n",
    "\n",
    "model_data['dense_diff'] = (model_data['dense_diff'] - np.min(model_data['dense_diff']))/(np.max(model_data['dense_diff']) - np.min(model_data['dense_diff']))\n",
    "\n",
    "model_data['RUCC_diff'] = (model_data['RUCC_diff'] - np.min(model_data['RUCC_diff']))/(np.max(model_data['RUCC_diff']) - np.min(model_data['RUCC_diff']))\n",
    "\n",
    "model_data['no_dip_diff'] = (model_data['no_dip_diff'] - np.min(model_data['no_dip_diff']))/(np.max(model_data['no_dip_diff']) - np.min(model_data['no_dip_diff']))\n",
    "\n",
    "model_data['elderly_diff'] = (model_data['elderly_diff'] - np.min(model_data['elderly_diff']))/(np.max(model_data['elderly_diff']) - np.min(model_data['elderly_diff']))\n",
    "\n",
    "model_data['unemp_diff'] = (model_data['unemp_diff'] - np.min(model_data['unemp_diff']))/(np.max(model_data['unemp_diff']) - np.min(model_data['unemp_diff']))\n",
    "\n",
    "model_data['pct_pov_diff'] = (model_data['pct_pov_diff'] - np.min(model_data['pct_pov_diff']))/(np.max(model_data['pct_pov_diff']) - np.min(model_data['pct_pov_diff']))\n",
    "\n",
    "model_data['death_diff'] = (model_data['death_diff'] - np.min(model_data['death_diff']))/(np.max(model_data['death_diff']) - np.min(model_data['death_diff']))\n",
    "\n",
    "model_data['pop_diff'] = (model_data['pop_diff'] - np.min(model_data['pop_diff']))/(np.max(model_data['pop_diff']) - np.min(model_data['pop_diff']))"
   ]
  },
  {
   "cell_type": "code",
   "execution_count": 127,
   "metadata": {},
   "outputs": [
    {
     "name": "stdout",
     "output_type": "stream",
     "text": [
      "951\n"
     ]
    }
   ],
   "source": [
    "print(len(model_data))"
   ]
  },
  {
   "cell_type": "code",
   "execution_count": 128,
   "metadata": {},
   "outputs": [],
   "source": [
    "model_data = model_data.sample(frac=1, random_state=9)\n",
    "training_set = model_data.head(750)\n",
    "test_set = model_data.tail(201)"
   ]
  },
  {
   "cell_type": "code",
   "execution_count": 129,
   "metadata": {},
   "outputs": [
    {
     "data": {
      "text/plain": [
       "array([[1.       , 0.3251896],\n",
       "       [0.3251896, 1.       ]])"
      ]
     },
     "execution_count": 129,
     "metadata": {},
     "output_type": "execute_result"
    },
    {
     "data": {
      "image/png": "[encoded data removed]",
      "text/plain": [
       "<Figure size 432x288 with 1 Axes>"
      ]
     },
     "metadata": {
      "needs_background": "light"
     },
     "output_type": "display_data"
    }
   ],
   "source": [
    "import matplotlib.pyplot as plt\n",
    "\n",
    "plot_data = pd.concat([training_set, test_set])\n",
    "plt.scatter(plot_data['death_diff'], plot_data['Beds_diff'])\n",
    "np.corrcoef(plot_data['death_diff'], plot_data['Beds_diff'])"
   ]
  },
  {
   "cell_type": "code",
   "execution_count": 130,
   "metadata": {},
   "outputs": [
    {
     "name": "stdout",
     "output_type": "stream",
     "text": [
      "750\n",
      "201\n",
      "0.524\n",
      "0.5024875621890548\n"
     ]
    }
   ],
   "source": [
    "print(len(training_set))\n",
    "print(len(test_set))\n",
    "print(sum(training_set['More_Deaths'])/len(training_set))\n",
    "print(sum(test_set['More_Deaths'])/len(test_set))"
   ]
  },
  {
   "cell_type": "code",
   "execution_count": 132,
   "metadata": {},
   "outputs": [
    {
     "name": "stdout",
     "output_type": "stream",
     "text": [
      "Features: ['Hosp_diff']\n",
      "Test Ratio: 0.5024875621890548\n",
      "Score: 0.5621890547263682\n",
      "Coefficients: [[-3.20156207]]\n",
      "\n",
      "Features: ['Beds_diff']\n",
      "Test Ratio: 0.5024875621890548\n",
      "Score: 0.6019900497512438\n",
      "Coefficients: [[-3.85268833]]\n",
      "\n",
      "Features: ['pop_diff']\n",
      "Test Ratio: 0.5024875621890548\n",
      "Score: 0.6119402985074627\n",
      "Coefficients: [[-3.43012553]]\n",
      "\n",
      "Features: ['dense_diff']\n",
      "Test Ratio: 0.5024875621890548\n",
      "Score: 0.5024875621890548\n",
      "Coefficients: [[-1.41000554]]\n",
      "\n",
      "Features: ['RUCC_diff']\n",
      "Test Ratio: 0.5024875621890548\n",
      "Score: 0.5771144278606966\n",
      "Coefficients: [[1.67132296]]\n",
      "\n",
      "Features: ['Hosp_diff', 'Beds_diff']\n",
      "Test Ratio: 0.5024875621890548\n",
      "Score: 0.6218905472636815\n",
      "Coefficients: [[-2.09654336 -3.18608005]]\n",
      "\n",
      "Features: ['pop_diff', 'Beds_diff']\n",
      "Test Ratio: 0.5024875621890548\n",
      "Score: 0.6417910447761194\n",
      "Coefficients: [[-2.37860675 -3.10488181]]\n",
      "\n",
      "Features: ['RUCC_diff', 'Beds_diff']\n",
      "Test Ratio: 0.5024875621890548\n",
      "Score: 0.6517412935323383\n",
      "Coefficients: [[ 1.72361783 -3.92222017]]\n",
      "\n",
      "Features: ['dense_diff', 'Beds_diff']\n",
      "Test Ratio: 0.5024875621890548\n",
      "Score: 0.6119402985074627\n",
      "Coefficients: [[-0.49343292 -3.71092214]]\n",
      "\n",
      "Features: ['RUCC_diff', 'pop_diff', 'dense_diff', 'Beds_diff']\n",
      "Test Ratio: 0.5024875621890548\n",
      "Score: 0.681592039800995\n",
      "Coefficients: [[ 1.76002353 -2.39781874 -0.31066641 -3.08951729]]\n",
      "\n",
      "Features: ['RUCC_diff', 'pop_diff', 'dense_diff', 'Hosp_diff', 'Beds_diff', 'elderly_diff', 'no_dip_diff']\n",
      "Test Ratio: 0.5024875621890548\n",
      "Score: 0.6766169154228856\n",
      "Coefficients: [[ 1.61163568 -2.10416073 -0.1774676  -1.80384367 -2.77496572  0.41620507\n",
      "   0.31177966]]\n",
      "\n"
     ]
    },
    {
     "name": "stderr",
     "output_type": "stream",
     "text": [
      "/anaconda3/lib/python3.6/site-packages/sklearn/linear_model/logistic.py:433: FutureWarning: Default solver will be changed to 'lbfgs' in 0.22. Specify a solver to silence this warning.\n",
      "  FutureWarning)\n",
      "/anaconda3/lib/python3.6/site-packages/sklearn/linear_model/logistic.py:433: FutureWarning: Default solver will be changed to 'lbfgs' in 0.22. Specify a solver to silence this warning.\n",
      "  FutureWarning)\n",
      "/anaconda3/lib/python3.6/site-packages/sklearn/linear_model/logistic.py:433: FutureWarning: Default solver will be changed to 'lbfgs' in 0.22. Specify a solver to silence this warning.\n",
      "  FutureWarning)\n",
      "/anaconda3/lib/python3.6/site-packages/sklearn/linear_model/logistic.py:433: FutureWarning: Default solver will be changed to 'lbfgs' in 0.22. Specify a solver to silence this warning.\n",
      "  FutureWarning)\n",
      "/anaconda3/lib/python3.6/site-packages/sklearn/linear_model/logistic.py:433: FutureWarning: Default solver will be changed to 'lbfgs' in 0.22. Specify a solver to silence this warning.\n",
      "  FutureWarning)\n",
      "/anaconda3/lib/python3.6/site-packages/sklearn/linear_model/logistic.py:433: FutureWarning: Default solver will be changed to 'lbfgs' in 0.22. Specify a solver to silence this warning.\n",
      "  FutureWarning)\n",
      "/anaconda3/lib/python3.6/site-packages/sklearn/linear_model/logistic.py:433: FutureWarning: Default solver will be changed to 'lbfgs' in 0.22. Specify a solver to silence this warning.\n",
      "  FutureWarning)\n",
      "/anaconda3/lib/python3.6/site-packages/sklearn/linear_model/logistic.py:433: FutureWarning: Default solver will be changed to 'lbfgs' in 0.22. Specify a solver to silence this warning.\n",
      "  FutureWarning)\n",
      "/anaconda3/lib/python3.6/site-packages/sklearn/linear_model/logistic.py:433: FutureWarning: Default solver will be changed to 'lbfgs' in 0.22. Specify a solver to silence this warning.\n",
      "  FutureWarning)\n",
      "/anaconda3/lib/python3.6/site-packages/sklearn/linear_model/logistic.py:433: FutureWarning: Default solver will be changed to 'lbfgs' in 0.22. Specify a solver to silence this warning.\n",
      "  FutureWarning)\n",
      "/anaconda3/lib/python3.6/site-packages/sklearn/linear_model/logistic.py:433: FutureWarning: Default solver will be changed to 'lbfgs' in 0.22. Specify a solver to silence this warning.\n",
      "  FutureWarning)\n"
     ]
    }
   ],
   "source": [
    "test_features(['Hosp_diff'])\n",
    "test_features(['Beds_diff'])\n",
    "test_features(['pop_diff'])\n",
    "test_features(['dense_diff'])\n",
    "test_features(['RUCC_diff'])\n",
    "test_features(['Hosp_diff', 'Beds_diff'])\n",
    "test_features(['pop_diff', 'Beds_diff'])\n",
    "test_features(['RUCC_diff', 'Beds_diff'])\n",
    "test_features(['dense_diff', 'Beds_diff'])\n",
    "test_features(['RUCC_diff', 'pop_diff', 'dense_diff', 'Beds_diff'])\n",
    "test_features(['RUCC_diff', 'pop_diff', 'dense_diff', 'Hosp_diff', 'Beds_diff', 'elderly_diff', 'no_dip_diff'])"
   ]
  },
  {
   "cell_type": "code",
   "execution_count": 133,
   "metadata": {},
   "outputs": [
    {
     "name": "stdout",
     "output_type": "stream",
     "text": [
      "[[1.         0.32572301]\n",
      " [0.32572301 1.        ]]\n",
      "[[1.         0.32153891]\n",
      " [0.32153891 1.        ]]\n"
     ]
    },
    {
     "data": {
      "image/png": "[encoded data removed]",
      "text/plain": [
       "<Figure size 432x288 with 1 Axes>"
      ]
     },
     "metadata": {
      "needs_background": "light"
     },
     "output_type": "display_data"
    }
   ],
   "source": [
    "import matplotlib.pyplot as plt\n",
    "\n",
    "plot_data = training_set.copy()\n",
    "plt.scatter(plot_data['death_diff'], plot_data['Beds_diff'])\n",
    "print(np.corrcoef(plot_data['death_diff'], plot_data['Beds_diff']))\n",
    "\n",
    "plot_data = test_set.copy()\n",
    "plt.scatter(plot_data['death_diff'], plot_data['Beds_diff'])\n",
    "print(np.corrcoef(plot_data['death_diff'], plot_data['Beds_diff']))"
   ]
  },
  {
   "cell_type": "markdown",
   "metadata": {},
   "source": [
    "# 3 Deaths Thresh, 21 Days out"
   ]
  },
  {
   "cell_type": "code",
   "execution_count": 42,
   "metadata": {},
   "outputs": [],
   "source": [
    "death_data = pd.DataFrame(columns=['FIPS', 'Deaths'])\n",
    "dates = deaths_t_series.columns[1:]\n",
    "death_thresh = 3\n",
    "n_days = 21\n",
    "\n",
    "# Get all existing data n_days from the death_thresh death.\n",
    "for i in range(len(deaths_t_series)):\n",
    "    county = deaths_t_series.iloc[i]\n",
    "\n",
    "    # Iterate through dates to find first date with deaths >= death thresh\n",
    "    for j in range(len(dates)):\n",
    "        if county[dates[j]] >= death_thresh:\n",
    "\n",
    "            # See if this happened n_days or more before current day\n",
    "            try:\n",
    "                n_days_later = dates[j+n_days]\n",
    "\n",
    "                # Make sure the data is bug-free\n",
    "                bad_data=False\n",
    "                for k in range(n_days):\n",
    "                    if county[n_days_later] < county[dates[j+k]]:\n",
    "                        bad_data=True\n",
    "                if not bad_data:\n",
    "                    death_data = death_data.append({'FIPS': county['FIPS'], 'Deaths':county[n_days_later]}, ignore_index=True)\n",
    "                break\n",
    "\n",
    "            except:\n",
    "                break "
   ]
  },
  {
   "cell_type": "code",
   "execution_count": 67,
   "metadata": {},
   "outputs": [
    {
     "data": {
      "text/html": [
       "<div>\n",
       "<style scoped>\n",
       "    .dataframe tbody tr th:only-of-type {\n",
       "        vertical-align: middle;\n",
       "    }\n",
       "\n",
       "    .dataframe tbody tr th {\n",
       "        vertical-align: top;\n",
       "    }\n",
       "\n",
       "    .dataframe thead th {\n",
       "        text-align: right;\n",
       "    }\n",
       "</style>\n",
       "<table border=\"1\" class=\"dataframe\">\n",
       "  <thead>\n",
       "    <tr style=\"text-align: right;\">\n",
       "      <th></th>\n",
       "      <th>FIPS</th>\n",
       "      <th>HospCt</th>\n",
       "      <th>Beds</th>\n",
       "      <th>Deaths</th>\n",
       "      <th>RUCC</th>\n",
       "      <th>pop_density</th>\n",
       "      <th>no_dip</th>\n",
       "      <th>elderly_ratio</th>\n",
       "      <th>Unemployment_rate_2018</th>\n",
       "      <th>PCTPOV017_2018</th>\n",
       "      <th>POP_ESTIMATE_2018</th>\n",
       "    </tr>\n",
       "  </thead>\n",
       "  <tbody>\n",
       "    <tr>\n",
       "      <th>91</th>\n",
       "      <td>12095</td>\n",
       "      <td>10</td>\n",
       "      <td>3794</td>\n",
       "      <td>21.0</td>\n",
       "      <td>1</td>\n",
       "      <td>1268.5</td>\n",
       "      <td>11.5</td>\n",
       "      <td>0.119379</td>\n",
       "      <td>3.2</td>\n",
       "      <td>22.8</td>\n",
       "      <td>1380645</td>\n",
       "    </tr>\n",
       "    <tr>\n",
       "      <th>40</th>\n",
       "      <td>6085</td>\n",
       "      <td>13</td>\n",
       "      <td>3760</td>\n",
       "      <td>43.0</td>\n",
       "      <td>1</td>\n",
       "      <td>1381.0</td>\n",
       "      <td>11.9</td>\n",
       "      <td>0.134772</td>\n",
       "      <td>2.6</td>\n",
       "      <td>7.1</td>\n",
       "      <td>1937570</td>\n",
       "    </tr>\n",
       "    <tr>\n",
       "      <th>70</th>\n",
       "      <td>12009</td>\n",
       "      <td>7</td>\n",
       "      <td>1466</td>\n",
       "      <td>8.0</td>\n",
       "      <td>2</td>\n",
       "      <td>535.0</td>\n",
       "      <td>8.0</td>\n",
       "      <td>0.236819</td>\n",
       "      <td>3.5</td>\n",
       "      <td>16.5</td>\n",
       "      <td>596849</td>\n",
       "    </tr>\n",
       "    <tr>\n",
       "      <th>106</th>\n",
       "      <td>13015</td>\n",
       "      <td>1</td>\n",
       "      <td>80</td>\n",
       "      <td>27.0</td>\n",
       "      <td>1</td>\n",
       "      <td>217.9</td>\n",
       "      <td>17.0</td>\n",
       "      <td>0.140177</td>\n",
       "      <td>3.8</td>\n",
       "      <td>17.1</td>\n",
       "      <td>106408</td>\n",
       "    </tr>\n",
       "    <tr>\n",
       "      <th>97</th>\n",
       "      <td>12109</td>\n",
       "      <td>1</td>\n",
       "      <td>335</td>\n",
       "      <td>4.0</td>\n",
       "      <td>1</td>\n",
       "      <td>316.4</td>\n",
       "      <td>5.4</td>\n",
       "      <td>0.202469</td>\n",
       "      <td>2.9</td>\n",
       "      <td>7.3</td>\n",
       "      <td>254261</td>\n",
       "    </tr>\n",
       "  </tbody>\n",
       "</table>\n",
       "</div>"
      ],
      "text/plain": [
       "      FIPS HospCt  Beds  Deaths  RUCC  pop_density  no_dip  elderly_ratio  \\\n",
       "91   12095     10  3794    21.0     1       1268.5    11.5       0.119379   \n",
       "40    6085     13  3760    43.0     1       1381.0    11.9       0.134772   \n",
       "70   12009      7  1466     8.0     2        535.0     8.0       0.236819   \n",
       "106  13015      1    80    27.0     1        217.9    17.0       0.140177   \n",
       "97   12109      1   335     4.0     1        316.4     5.4       0.202469   \n",
       "\n",
       "     Unemployment_rate_2018  PCTPOV017_2018  POP_ESTIMATE_2018  \n",
       "91                      3.2            22.8            1380645  \n",
       "40                      2.6             7.1            1937570  \n",
       "70                      3.5            16.5             596849  \n",
       "106                     3.8            17.1             106408  \n",
       "97                      2.9             7.3             254261  "
      ]
     },
     "execution_count": 67,
     "metadata": {},
     "output_type": "execute_result"
    }
   ],
   "source": [
    "dataset = hosp_data.merge(death_data, on='FIPS')\n",
    "dataset = dataset.merge(static_features, on=\"FIPS\")\n",
    "dataset = dataset.sample(frac=1.0, random_state=9)[['FIPS', 'HospCt', 'Beds', 'Deaths', 'RUCC', 'pop_density', 'no_dip', 'elderly_ratio', 'Unemployment_rate_2018', 'PCTPOV017_2018', 'POP_ESTIMATE_2018']]\n",
    "dataset.head()"
   ]
  },
  {
   "cell_type": "markdown",
   "metadata": {},
   "source": [
    "Found Some Outliers, Exclude them"
   ]
  },
  {
   "cell_type": "code",
   "execution_count": 68,
   "metadata": {},
   "outputs": [
    {
     "data": {
      "text/plain": [
       "<matplotlib.collections.PathCollection at 0x1a2373dda0>"
      ]
     },
     "execution_count": 68,
     "metadata": {},
     "output_type": "execute_result"
    },
    {
     "data": {
      "image/png": "[encoded data removed]",
      "text/plain": [
       "<Figure size 432x288 with 1 Axes>"
      ]
     },
     "metadata": {
      "needs_background": "light"
     },
     "output_type": "display_data"
    }
   ],
   "source": [
    "import matplotlib.pyplot as plt\n",
    "\n",
    "plot_data = dataset.copy()\n",
    "plot_data['Beds'] = (dataset['Beds'] - np.min(dataset['Beds']))/(np.max(dataset['Beds']) - np.min(dataset['Beds']))\n",
    "plot_data['Deaths'] = (dataset['Deaths'] - np.min(dataset['Deaths']))/(np.max(dataset['Deaths']) - np.min(dataset['Deaths']))\n",
    "\n",
    "plot_data = plot_data[plot_data['FIPS'] != 36061]\n",
    "plot_data = plot_data[plot_data['FIPS'] != 6038]\n",
    "plot_data = plot_data[plot_data['FIPS'] != 17031]\n",
    "plot_data = plot_data[plot_data['FIPS'] != 48201]\n",
    "\n",
    "dataset = dataset[dataset['FIPS'] != 36061]\n",
    "dataset = dataset[dataset['FIPS'] != 6038]\n",
    "dataset = dataset[dataset['FIPS'] != 17031]\n",
    "dataset = dataset[dataset['FIPS'] != 48201]\n",
    "\n",
    "plt.scatter(plot_data['Deaths'], plot_data['Beds'])"
   ]
  },
  {
   "cell_type": "code",
   "execution_count": 75,
   "metadata": {},
   "outputs": [],
   "source": [
    "model_data = pd.DataFrame(columns=['Hosp_diff', 'Beds_diff', 'RUCC_diff', 'dense_diff', 'no_dip_diff', 'elderly_diff', 'unemp_diff', 'pct_pov_diff', 'pop_diff', 'death_diff', 'More_Deaths'])\n",
    "model_data = model_data.apply(pd.to_numeric) \n",
    "dataset.reset_index(drop=True, inplace=True)\n",
    "\n",
    "for fips1, fips2 in pairs:\n",
    "    \n",
    "    row1_df = dataset.loc[dataset[\"FIPS\"] == fips1].reset_index(drop=True)\n",
    "    row2_df = dataset.loc[dataset[\"FIPS\"] == fips2].reset_index(drop=True)\n",
    "\n",
    "    if row1_df.empty or row2_df.empty:\n",
    "        continue\n",
    "        \n",
    "    for _, row1 in row1_df.iterrows():\n",
    "        for _, row2 in row2_df.iterrows():\n",
    "            if row1['Deaths'] != row2[\"Deaths\"]:\n",
    "\n",
    "                if row1['Deaths']  > row2[\"Deaths\"]:\n",
    "                    model_data = model_data.append({'Hosp_diff': int(row1['HospCt']) - int(row2['HospCt']),\\\n",
    "                                                        'Beds_diff': int(row1['Beds']) - int(row2['Beds']),\\\n",
    "                                                        'RUCC_diff': int(row1['RUCC']) - int(row2['RUCC']),\\\n",
    "                                                        'dense_diff':float(row1['pop_density']) - float(row2['pop_density']),\\\n",
    "                                                        'no_dip_diff':float(row1['no_dip']) - float(row2['no_dip']),\\\n",
    "                                                        'elderly_diff': float(row1['elderly_ratio']) - float(row2['elderly_ratio']),\\\n",
    "                                                        'unemp_diff': float(row1['Unemployment_rate_2018']) - float(row2['Unemployment_rate_2018']),\\\n",
    "                                                        'pct_pov_diff': float(row1['PCTPOV017_2018']) - float(row2['PCTPOV017_2018']),\\\n",
    "                                                        'pop_diff' : float(row1['POP_ESTIMATE_2018']) - float(row2['POP_ESTIMATE_2018']),\\\n",
    "                                                        'death_diff' : float(row1['Deaths']) - float(row2['Deaths']),\\\n",
    "                                                        'More_Deaths':0}, ignore_index=True)   \n",
    "                elif row1['Deaths']  < row2[\"Deaths\"]:  \n",
    "                    model_data = model_data.append({'Hosp_diff': int(row1['HospCt']) - int(row2['HospCt']),\\\n",
    "                                                        'Beds_diff': int(row1['Beds']) - int(row2['Beds']),\\\n",
    "                                                        'RUCC_diff': int(row1['RUCC']) - int(row2['RUCC']),\\\n",
    "                                                        'dense_diff':float(row1['pop_density']) - float(row2['pop_density']),\\\n",
    "                                                        'no_dip_diff':float(row1['no_dip']) - float(row2['no_dip']),\\\n",
    "                                                        'elderly_diff': float(row1['elderly_ratio']) - float(row2['elderly_ratio']),\\\n",
    "                                                        'unemp_diff': float(row1['Unemployment_rate_2018']) - float(row2['Unemployment_rate_2018']),\\\n",
    "                                                        'pct_pov_diff': float(row1['PCTPOV017_2018']) - float(row2['PCTPOV017_2018']),\\\n",
    "                                                        'pop_diff' : float(row1['POP_ESTIMATE_2018']) - float(row2['POP_ESTIMATE_2018']),\\\n",
    "                                                        'death_diff' : float(row1['Deaths']) - float(row2['Deaths']),\\\n",
    "                                                        'More_Deaths':1}, ignore_index=True)  \n",
    "\n",
    "\n"
   ]
  },
  {
   "cell_type": "code",
   "execution_count": 76,
   "metadata": {},
   "outputs": [],
   "source": [
    "model_data = model_data.apply(pd.to_numeric) \n",
    "\n",
    "model_data['Hosp_diff'] = (model_data['Hosp_diff'] - np.min(model_data['Hosp_diff']))/(np.max(model_data['Hosp_diff']) - np.min(model_data['Hosp_diff']))\n",
    "\n",
    "model_data['Beds_diff'] = (model_data['Beds_diff'] - np.min(model_data['Beds_diff']))/(np.max(model_data['Beds_diff']) - np.min(model_data['Beds_diff']))\n",
    "\n",
    "model_data['dense_diff'] = (model_data['dense_diff'] - np.min(model_data['dense_diff']))/(np.max(model_data['dense_diff']) - np.min(model_data['dense_diff']))\n",
    "\n",
    "model_data['RUCC_diff'] = (model_data['RUCC_diff'] - np.min(model_data['RUCC_diff']))/(np.max(model_data['RUCC_diff']) - np.min(model_data['RUCC_diff']))\n",
    "\n",
    "model_data['no_dip_diff'] = (model_data['no_dip_diff'] - np.min(model_data['no_dip_diff']))/(np.max(model_data['no_dip_diff']) - np.min(model_data['no_dip_diff']))\n",
    "\n",
    "model_data['elderly_diff'] = (model_data['elderly_diff'] - np.min(model_data['elderly_diff']))/(np.max(model_data['elderly_diff']) - np.min(model_data['elderly_diff']))\n",
    "\n",
    "model_data['unemp_diff'] = (model_data['unemp_diff'] - np.min(model_data['unemp_diff']))/(np.max(model_data['unemp_diff']) - np.min(model_data['unemp_diff']))\n",
    "\n",
    "model_data['pct_pov_diff'] = (model_data['pct_pov_diff'] - np.min(model_data['pct_pov_diff']))/(np.max(model_data['pct_pov_diff']) - np.min(model_data['pct_pov_diff']))\n",
    "\n",
    "model_data['death_diff'] = (model_data['death_diff'] - np.min(model_data['death_diff']))/(np.max(model_data['death_diff']) - np.min(model_data['death_diff']))\n",
    "\n",
    "model_data['pop_diff'] = (model_data['pop_diff'] - np.min(model_data['pop_diff']))/(np.max(model_data['pop_diff']) - np.min(model_data['pop_diff']))"
   ]
  },
  {
   "cell_type": "code",
   "execution_count": 77,
   "metadata": {},
   "outputs": [
    {
     "name": "stdout",
     "output_type": "stream",
     "text": [
      "738\n"
     ]
    }
   ],
   "source": [
    "print(len(model_data))"
   ]
  },
  {
   "cell_type": "code",
   "execution_count": 78,
   "metadata": {},
   "outputs": [],
   "source": [
    "model_data = model_data.sample(frac=1, random_state=9)\n",
    "training_set = model_data.head(550)\n",
    "test_set = model_data.tail(188)"
   ]
  },
  {
   "cell_type": "code",
   "execution_count": 79,
   "metadata": {},
   "outputs": [
    {
     "data": {
      "text/plain": [
       "array([[1.        , 0.48971389],\n",
       "       [0.48971389, 1.        ]])"
      ]
     },
     "execution_count": 79,
     "metadata": {},
     "output_type": "execute_result"
    },
    {
     "data": {
      "image/png": "[encoded data removed]",
      "text/plain": [
       "<Figure size 432x288 with 1 Axes>"
      ]
     },
     "metadata": {
      "needs_background": "light"
     },
     "output_type": "display_data"
    }
   ],
   "source": [
    "import matplotlib.pyplot as plt\n",
    "\n",
    "plot_data = pd.concat([training_set, test_set])\n",
    "plt.scatter(plot_data['death_diff'], plot_data['Beds_diff'])\n",
    "np.corrcoef(plot_data['death_diff'], plot_data['Beds_diff'])"
   ]
  },
  {
   "cell_type": "code",
   "execution_count": 81,
   "metadata": {},
   "outputs": [
    {
     "name": "stdout",
     "output_type": "stream",
     "text": [
      "550\n",
      "188\n",
      "0.5181818181818182\n",
      "0.5159574468085106\n"
     ]
    }
   ],
   "source": [
    "print(len(training_set))\n",
    "print(len(test_set))\n",
    "print(sum(training_set['More_Deaths'])/len(training_set))\n",
    "print(sum(test_set['More_Deaths'])/len(test_set))"
   ]
  },
  {
   "cell_type": "code",
   "execution_count": 82,
   "metadata": {},
   "outputs": [
    {
     "name": "stdout",
     "output_type": "stream",
     "text": [
      "Features: ['Hosp_diff']\n",
      "Test Ratio: 0.5159574468085106\n",
      "Score: 0.6329787234042553\n",
      "Coefficients: [[-2.99912286]]\n",
      "\n",
      "Features: ['Beds_diff']\n",
      "Test Ratio: 0.5159574468085106\n",
      "Score: 0.6968085106382979\n",
      "Coefficients: [[-3.78483079]]\n",
      "\n",
      "Features: ['pop_diff']\n",
      "Test Ratio: 0.5159574468085106\n",
      "Score: 0.648936170212766\n",
      "Coefficients: [[-3.42000781]]\n",
      "\n",
      "Features: ['dense_diff']\n",
      "Test Ratio: 0.5159574468085106\n",
      "Score: 0.5797872340425532\n",
      "Coefficients: [[-2.66291003]]\n",
      "\n",
      "Features: ['RUCC_diff']\n",
      "Test Ratio: 0.5159574468085106\n",
      "Score: 0.5531914893617021\n",
      "Coefficients: [[2.3423236]]\n",
      "\n",
      "Features: ['Hosp_diff', 'Beds_diff']\n",
      "Test Ratio: 0.5159574468085106\n",
      "Score: 0.6914893617021277\n",
      "Coefficients: [[-1.94907491 -3.19697773]]\n",
      "\n",
      "Features: ['pop_diff', 'Beds_diff']\n",
      "Test Ratio: 0.5159574468085106\n",
      "Score: 0.7021276595744681\n",
      "Coefficients: [[-2.4451758  -3.05734337]]\n",
      "\n",
      "Features: ['RUCC_diff', 'Beds_diff']\n",
      "Test Ratio: 0.5159574468085106\n",
      "Score: 0.7180851063829787\n",
      "Coefficients: [[ 2.44517662 -3.93216768]]\n",
      "\n",
      "Features: ['dense_diff', 'Beds_diff']\n",
      "Test Ratio: 0.5159574468085106\n",
      "Score: 0.6914893617021277\n",
      "Coefficients: [[-1.8368456  -3.20848955]]\n",
      "\n",
      "Features: ['RUCC_diff', 'pop_diff', 'dense_diff', 'Beds_diff']\n",
      "Test Ratio: 0.5159574468085106\n",
      "Score: 0.7127659574468085\n",
      "Coefficients: [[ 2.57168844 -2.26755164 -1.72101284 -2.73209858]]\n",
      "\n",
      "Features: ['RUCC_diff', 'pop_diff', 'dense_diff', 'Hosp_diff', 'Beds_diff', 'elderly_diff', 'no_dip_diff']\n",
      "Test Ratio: 0.5159574468085106\n",
      "Score: 0.6968085106382979\n",
      "Coefficients: [[ 2.22885605 -2.21669573 -1.6454868  -1.62308735 -2.60612193  1.91550447\n",
      "  -0.03765335]]\n",
      "\n"
     ]
    },
    {
     "name": "stderr",
     "output_type": "stream",
     "text": [
      "/anaconda3/lib/python3.6/site-packages/sklearn/linear_model/logistic.py:433: FutureWarning: Default solver will be changed to 'lbfgs' in 0.22. Specify a solver to silence this warning.\n",
      "  FutureWarning)\n",
      "/anaconda3/lib/python3.6/site-packages/sklearn/linear_model/logistic.py:433: FutureWarning: Default solver will be changed to 'lbfgs' in 0.22. Specify a solver to silence this warning.\n",
      "  FutureWarning)\n",
      "/anaconda3/lib/python3.6/site-packages/sklearn/linear_model/logistic.py:433: FutureWarning: Default solver will be changed to 'lbfgs' in 0.22. Specify a solver to silence this warning.\n",
      "  FutureWarning)\n",
      "/anaconda3/lib/python3.6/site-packages/sklearn/linear_model/logistic.py:433: FutureWarning: Default solver will be changed to 'lbfgs' in 0.22. Specify a solver to silence this warning.\n",
      "  FutureWarning)\n",
      "/anaconda3/lib/python3.6/site-packages/sklearn/linear_model/logistic.py:433: FutureWarning: Default solver will be changed to 'lbfgs' in 0.22. Specify a solver to silence this warning.\n",
      "  FutureWarning)\n",
      "/anaconda3/lib/python3.6/site-packages/sklearn/linear_model/logistic.py:433: FutureWarning: Default solver will be changed to 'lbfgs' in 0.22. Specify a solver to silence this warning.\n",
      "  FutureWarning)\n",
      "/anaconda3/lib/python3.6/site-packages/sklearn/linear_model/logistic.py:433: FutureWarning: Default solver will be changed to 'lbfgs' in 0.22. Specify a solver to silence this warning.\n",
      "  FutureWarning)\n",
      "/anaconda3/lib/python3.6/site-packages/sklearn/linear_model/logistic.py:433: FutureWarning: Default solver will be changed to 'lbfgs' in 0.22. Specify a solver to silence this warning.\n",
      "  FutureWarning)\n",
      "/anaconda3/lib/python3.6/site-packages/sklearn/linear_model/logistic.py:433: FutureWarning: Default solver will be changed to 'lbfgs' in 0.22. Specify a solver to silence this warning.\n",
      "  FutureWarning)\n",
      "/anaconda3/lib/python3.6/site-packages/sklearn/linear_model/logistic.py:433: FutureWarning: Default solver will be changed to 'lbfgs' in 0.22. Specify a solver to silence this warning.\n",
      "  FutureWarning)\n",
      "/anaconda3/lib/python3.6/site-packages/sklearn/linear_model/logistic.py:433: FutureWarning: Default solver will be changed to 'lbfgs' in 0.22. Specify a solver to silence this warning.\n",
      "  FutureWarning)\n"
     ]
    }
   ],
   "source": [
    "test_features(['Hosp_diff'])\n",
    "test_features(['Beds_diff'])\n",
    "test_features(['pop_diff'])\n",
    "test_features(['dense_diff'])\n",
    "test_features(['RUCC_diff'])\n",
    "test_features(['Hosp_diff', 'Beds_diff'])\n",
    "test_features(['pop_diff', 'Beds_diff'])\n",
    "test_features(['RUCC_diff', 'Beds_diff'])\n",
    "test_features(['dense_diff', 'Beds_diff'])\n",
    "test_features(['RUCC_diff', 'pop_diff', 'dense_diff', 'Beds_diff'])\n",
    "test_features(['RUCC_diff', 'pop_diff', 'dense_diff', 'Hosp_diff', 'Beds_diff', 'elderly_diff', 'no_dip_diff'])"
   ]
  },
  {
   "cell_type": "code",
   "execution_count": 83,
   "metadata": {},
   "outputs": [
    {
     "name": "stdout",
     "output_type": "stream",
     "text": [
      "[[1.         0.50596625]\n",
      " [0.50596625 1.        ]]\n",
      "[[1.         0.44098508]\n",
      " [0.44098508 1.        ]]\n"
     ]
    },
    {
     "data": {
      "image/png": "[encoded data removed]",
      "text/plain": [
       "<Figure size 432x288 with 1 Axes>"
      ]
     },
     "metadata": {
      "needs_background": "light"
     },
     "output_type": "display_data"
    }
   ],
   "source": [
    "import matplotlib.pyplot as plt\n",
    "\n",
    "plot_data = training_set.copy()\n",
    "plt.scatter(plot_data['death_diff'], plot_data['Beds_diff'])\n",
    "print(np.corrcoef(plot_data['death_diff'], plot_data['Beds_diff']))\n",
    "\n",
    "plot_data = test_set.copy()\n",
    "plt.scatter(plot_data['death_diff'], plot_data['Beds_diff'])\n",
    "print(np.corrcoef(plot_data['death_diff'], plot_data['Beds_diff']))"
   ]
  },
  {
   "cell_type": "markdown",
   "metadata": {},
   "source": [
    "# 3 Deaths Thresh 28 Days out"
   ]
  },
  {
   "cell_type": "code",
   "execution_count": 104,
   "metadata": {},
   "outputs": [],
   "source": [
    "death_data = pd.DataFrame(columns=['FIPS', 'Deaths'])\n",
    "dates = deaths_t_series.columns[1:]\n",
    "death_thresh = 3\n",
    "n_days = 28\n",
    "\n",
    "# Get all existing data n_days from the death_thresh death.\n",
    "for i in range(len(deaths_t_series)):\n",
    "    county = deaths_t_series.iloc[i]\n",
    "\n",
    "    # Iterate through dates to find first date with deaths >= death thresh\n",
    "    for j in range(len(dates)):\n",
    "        if county[dates[j]] >= death_thresh:\n",
    "\n",
    "            # See if this happened n_days or more before current day\n",
    "            try:\n",
    "                n_days_later = dates[j+n_days]\n",
    "\n",
    "                # Make sure the data is bug-free\n",
    "                bad_data=False\n",
    "                for k in range(n_days):\n",
    "                    if county[n_days_later] < county[dates[j+k]]:\n",
    "                        bad_data=True\n",
    "                if not bad_data:\n",
    "                    death_data = death_data.append({'FIPS': county['FIPS'], 'Deaths':county[n_days_later]}, ignore_index=True)\n",
    "                break\n",
    "\n",
    "            except:\n",
    "                break "
   ]
  },
  {
   "cell_type": "code",
   "execution_count": 105,
   "metadata": {},
   "outputs": [
    {
     "data": {
      "text/html": [
       "<div>\n",
       "<style scoped>\n",
       "    .dataframe tbody tr th:only-of-type {\n",
       "        vertical-align: middle;\n",
       "    }\n",
       "\n",
       "    .dataframe tbody tr th {\n",
       "        vertical-align: top;\n",
       "    }\n",
       "\n",
       "    .dataframe thead th {\n",
       "        text-align: right;\n",
       "    }\n",
       "</style>\n",
       "<table border=\"1\" class=\"dataframe\">\n",
       "  <thead>\n",
       "    <tr style=\"text-align: right;\">\n",
       "      <th></th>\n",
       "      <th>FIPS</th>\n",
       "      <th>HospCt</th>\n",
       "      <th>Beds</th>\n",
       "      <th>Deaths</th>\n",
       "      <th>RUCC</th>\n",
       "      <th>pop_density</th>\n",
       "      <th>no_dip</th>\n",
       "      <th>elderly_ratio</th>\n",
       "      <th>Unemployment_rate_2018</th>\n",
       "      <th>PCTPOV017_2018</th>\n",
       "      <th>POP_ESTIMATE_2018</th>\n",
       "    </tr>\n",
       "  </thead>\n",
       "  <tbody>\n",
       "    <tr>\n",
       "      <th>393</th>\n",
       "      <td>48303</td>\n",
       "      <td>4</td>\n",
       "      <td>1256</td>\n",
       "      <td>43.0</td>\n",
       "      <td>2</td>\n",
       "      <td>311.3</td>\n",
       "      <td>14.2</td>\n",
       "      <td>0.124263</td>\n",
       "      <td>3.1</td>\n",
       "      <td>20.3</td>\n",
       "      <td>307412</td>\n",
       "    </tr>\n",
       "    <tr>\n",
       "      <th>228</th>\n",
       "      <td>27037</td>\n",
       "      <td>3</td>\n",
       "      <td>259</td>\n",
       "      <td>11.0</td>\n",
       "      <td>1</td>\n",
       "      <td>709.0</td>\n",
       "      <td>5.1</td>\n",
       "      <td>0.141699</td>\n",
       "      <td>2.5</td>\n",
       "      <td>7.9</td>\n",
       "      <td>425423</td>\n",
       "    </tr>\n",
       "    <tr>\n",
       "      <th>371</th>\n",
       "      <td>45085</td>\n",
       "      <td>1</td>\n",
       "      <td>283</td>\n",
       "      <td>11.0</td>\n",
       "      <td>3</td>\n",
       "      <td>161.6</td>\n",
       "      <td>16.4</td>\n",
       "      <td>0.164451</td>\n",
       "      <td>4.0</td>\n",
       "      <td>28.2</td>\n",
       "      <td>106512</td>\n",
       "    </tr>\n",
       "    <tr>\n",
       "      <th>345</th>\n",
       "      <td>42017</td>\n",
       "      <td>8</td>\n",
       "      <td>1245</td>\n",
       "      <td>148.0</td>\n",
       "      <td>1</td>\n",
       "      <td>1034.7</td>\n",
       "      <td>6.1</td>\n",
       "      <td>0.186343</td>\n",
       "      <td>3.7</td>\n",
       "      <td>6.6</td>\n",
       "      <td>628195</td>\n",
       "    </tr>\n",
       "    <tr>\n",
       "      <th>166</th>\n",
       "      <td>22017</td>\n",
       "      <td>5</td>\n",
       "      <td>1598</td>\n",
       "      <td>93.0</td>\n",
       "      <td>2</td>\n",
       "      <td>290.2</td>\n",
       "      <td>13.4</td>\n",
       "      <td>0.171273</td>\n",
       "      <td>5.5</td>\n",
       "      <td>35.6</td>\n",
       "      <td>242922</td>\n",
       "    </tr>\n",
       "  </tbody>\n",
       "</table>\n",
       "</div>"
      ],
      "text/plain": [
       "      FIPS HospCt  Beds  Deaths  RUCC  pop_density  no_dip  elderly_ratio  \\\n",
       "393  48303      4  1256    43.0     2        311.3    14.2       0.124263   \n",
       "228  27037      3   259    11.0     1        709.0     5.1       0.141699   \n",
       "371  45085      1   283    11.0     3        161.6    16.4       0.164451   \n",
       "345  42017      8  1245   148.0     1       1034.7     6.1       0.186343   \n",
       "166  22017      5  1598    93.0     2        290.2    13.4       0.171273   \n",
       "\n",
       "     Unemployment_rate_2018  PCTPOV017_2018  POP_ESTIMATE_2018  \n",
       "393                     3.1            20.3             307412  \n",
       "228                     2.5             7.9             425423  \n",
       "371                     4.0            28.2             106512  \n",
       "345                     3.7             6.6             628195  \n",
       "166                     5.5            35.6             242922  "
      ]
     },
     "execution_count": 105,
     "metadata": {},
     "output_type": "execute_result"
    }
   ],
   "source": [
    "dataset = hosp_data.merge(death_data, on='FIPS')\n",
    "dataset = dataset.merge(static_features, on=\"FIPS\")\n",
    "dataset = dataset.sample(frac=1.0, random_state=9)[['FIPS', 'HospCt', 'Beds', 'Deaths', 'RUCC', 'pop_density', 'no_dip', 'elderly_ratio', 'Unemployment_rate_2018', 'PCTPOV017_2018', 'POP_ESTIMATE_2018']]\n",
    "dataset.head()"
   ]
  },
  {
   "cell_type": "code",
   "execution_count": 106,
   "metadata": {},
   "outputs": [
    {
     "data": {
      "text/plain": [
       "<matplotlib.collections.PathCollection at 0x120d75710>"
      ]
     },
     "execution_count": 106,
     "metadata": {},
     "output_type": "execute_result"
    },
    {
     "data": {
      "image/png": "[encoded data removed]",
      "text/plain": [
       "<Figure size 432x288 with 1 Axes>"
      ]
     },
     "metadata": {
      "needs_background": "light"
     },
     "output_type": "display_data"
    }
   ],
   "source": [
    "import matplotlib.pyplot as plt\n",
    "\n",
    "plot_data = dataset.copy()\n",
    "plot_data['Beds'] = (dataset['Beds'] - np.min(dataset['Beds']))/(np.max(dataset['Beds']) - np.min(dataset['Beds']))\n",
    "plot_data['Deaths'] = (dataset['Deaths'] - np.min(dataset['Deaths']))/(np.max(dataset['Deaths']) - np.min(dataset['Deaths']))\n",
    "\n",
    "plot_data = plot_data[plot_data['FIPS'] != 36061]\n",
    "plot_data = plot_data[plot_data['FIPS'] != 6038]\n",
    "plot_data = plot_data[plot_data['FIPS'] != 17031]\n",
    "plot_data = plot_data[plot_data['FIPS'] != 48201]\n",
    "\n",
    "dataset = dataset[dataset['FIPS'] != 36061]\n",
    "dataset = dataset[dataset['FIPS'] != 6038]\n",
    "dataset = dataset[dataset['FIPS'] != 17031]\n",
    "dataset = dataset[dataset['FIPS'] != 48201]\n",
    "\n",
    "plt.scatter(plot_data['Deaths'], plot_data['Beds'])"
   ]
  },
  {
   "cell_type": "code",
   "execution_count": 107,
   "metadata": {},
   "outputs": [],
   "source": [
    "model_data = pd.DataFrame(columns=['Hosp_diff', 'Beds_diff', 'RUCC_diff', 'dense_diff', 'no_dip_diff', 'elderly_diff', 'unemp_diff', 'pct_pov_diff', 'pop_diff', 'death_diff', 'More_Deaths'])\n",
    "model_data = model_data.apply(pd.to_numeric) \n",
    "dataset.reset_index(drop=True, inplace=True)\n",
    "\n",
    "for fips1, fips2 in pairs:\n",
    "    \n",
    "    row1_df = dataset.loc[dataset[\"FIPS\"] == fips1].reset_index(drop=True)\n",
    "    row2_df = dataset.loc[dataset[\"FIPS\"] == fips2].reset_index(drop=True)\n",
    "\n",
    "    if row1_df.empty or row2_df.empty:\n",
    "        continue\n",
    "        \n",
    "    for _, row1 in row1_df.iterrows():\n",
    "        for _, row2 in row2_df.iterrows():\n",
    "            if row1['Deaths'] != row2[\"Deaths\"]:\n",
    "\n",
    "                if row1['Deaths']  > row2[\"Deaths\"]:\n",
    "                    model_data = model_data.append({'Hosp_diff': int(row1['HospCt']) - int(row2['HospCt']),\\\n",
    "                                                        'Beds_diff': int(row1['Beds']) - int(row2['Beds']),\\\n",
    "                                                        'RUCC_diff': int(row1['RUCC']) - int(row2['RUCC']),\\\n",
    "                                                        'dense_diff':float(row1['pop_density']) - float(row2['pop_density']),\\\n",
    "                                                        'no_dip_diff':float(row1['no_dip']) - float(row2['no_dip']),\\\n",
    "                                                        'elderly_diff': float(row1['elderly_ratio']) - float(row2['elderly_ratio']),\\\n",
    "                                                        'unemp_diff': float(row1['Unemployment_rate_2018']) - float(row2['Unemployment_rate_2018']),\\\n",
    "                                                        'pct_pov_diff': float(row1['PCTPOV017_2018']) - float(row2['PCTPOV017_2018']),\\\n",
    "                                                        'pop_diff' : float(row1['POP_ESTIMATE_2018']) - float(row2['POP_ESTIMATE_2018']),\\\n",
    "                                                        'death_diff' : float(row1['Deaths']) - float(row2['Deaths']),\\\n",
    "                                                        'More_Deaths':0}, ignore_index=True)   \n",
    "                elif row1['Deaths']  < row2[\"Deaths\"]:  \n",
    "                    model_data = model_data.append({'Hosp_diff': int(row1['HospCt']) - int(row2['HospCt']),\\\n",
    "                                                        'Beds_diff': int(row1['Beds']) - int(row2['Beds']),\\\n",
    "                                                        'RUCC_diff': int(row1['RUCC']) - int(row2['RUCC']),\\\n",
    "                                                        'dense_diff':float(row1['pop_density']) - float(row2['pop_density']),\\\n",
    "                                                        'no_dip_diff':float(row1['no_dip']) - float(row2['no_dip']),\\\n",
    "                                                        'elderly_diff': float(row1['elderly_ratio']) - float(row2['elderly_ratio']),\\\n",
    "                                                        'unemp_diff': float(row1['Unemployment_rate_2018']) - float(row2['Unemployment_rate_2018']),\\\n",
    "                                                        'pct_pov_diff': float(row1['PCTPOV017_2018']) - float(row2['PCTPOV017_2018']),\\\n",
    "                                                        'pop_diff' : float(row1['POP_ESTIMATE_2018']) - float(row2['POP_ESTIMATE_2018']),\\\n",
    "                                                        'death_diff' : float(row1['Deaths']) - float(row2['Deaths']),\\\n",
    "                                                        'More_Deaths':1}, ignore_index=True)  \n",
    "\n",
    "\n",
    "\n"
   ]
  },
  {
   "cell_type": "code",
   "execution_count": 108,
   "metadata": {},
   "outputs": [],
   "source": [
    "model_data = model_data.apply(pd.to_numeric) \n",
    "\n",
    "model_data['Hosp_diff'] = (model_data['Hosp_diff'] - np.min(model_data['Hosp_diff']))/(np.max(model_data['Hosp_diff']) - np.min(model_data['Hosp_diff']))\n",
    "\n",
    "model_data['Beds_diff'] = (model_data['Beds_diff'] - np.min(model_data['Beds_diff']))/(np.max(model_data['Beds_diff']) - np.min(model_data['Beds_diff']))\n",
    "\n",
    "model_data['dense_diff'] = (model_data['dense_diff'] - np.min(model_data['dense_diff']))/(np.max(model_data['dense_diff']) - np.min(model_data['dense_diff']))\n",
    "\n",
    "model_data['RUCC_diff'] = (model_data['RUCC_diff'] - np.min(model_data['RUCC_diff']))/(np.max(model_data['RUCC_diff']) - np.min(model_data['RUCC_diff']))\n",
    "\n",
    "model_data['no_dip_diff'] = (model_data['no_dip_diff'] - np.min(model_data['no_dip_diff']))/(np.max(model_data['no_dip_diff']) - np.min(model_data['no_dip_diff']))\n",
    "\n",
    "model_data['elderly_diff'] = (model_data['elderly_diff'] - np.min(model_data['elderly_diff']))/(np.max(model_data['elderly_diff']) - np.min(model_data['elderly_diff']))\n",
    "\n",
    "model_data['unemp_diff'] = (model_data['unemp_diff'] - np.min(model_data['unemp_diff']))/(np.max(model_data['unemp_diff']) - np.min(model_data['unemp_diff']))\n",
    "\n",
    "model_data['pct_pov_diff'] = (model_data['pct_pov_diff'] - np.min(model_data['pct_pov_diff']))/(np.max(model_data['pct_pov_diff']) - np.min(model_data['pct_pov_diff']))\n",
    "\n",
    "model_data['death_diff'] = (model_data['death_diff'] - np.min(model_data['death_diff']))/(np.max(model_data['death_diff']) - np.min(model_data['death_diff']))\n",
    "\n",
    "model_data['pop_diff'] = (model_data['pop_diff'] - np.min(model_data['pop_diff']))/(np.max(model_data['pop_diff']) - np.min(model_data['pop_diff']))"
   ]
  },
  {
   "cell_type": "code",
   "execution_count": 109,
   "metadata": {},
   "outputs": [
    {
     "name": "stdout",
     "output_type": "stream",
     "text": [
      "514\n"
     ]
    }
   ],
   "source": [
    "print(len(model_data))"
   ]
  },
  {
   "cell_type": "code",
   "execution_count": 110,
   "metadata": {},
   "outputs": [],
   "source": [
    "model_data = model_data.sample(frac=1, random_state=9)\n",
    "training_set = model_data.head(400)\n",
    "test_set = model_data.tail(114)"
   ]
  },
  {
   "cell_type": "code",
   "execution_count": 111,
   "metadata": {},
   "outputs": [
    {
     "data": {
      "text/plain": [
       "array([[1.        , 0.55053791],\n",
       "       [0.55053791, 1.        ]])"
      ]
     },
     "execution_count": 111,
     "metadata": {},
     "output_type": "execute_result"
    },
    {
     "data": {
      "image/png": "[encoded data removed]",
      "text/plain": [
       "<Figure size 432x288 with 1 Axes>"
      ]
     },
     "metadata": {
      "needs_background": "light"
     },
     "output_type": "display_data"
    }
   ],
   "source": [
    "import matplotlib.pyplot as plt\n",
    "\n",
    "plot_data = pd.concat([training_set, test_set])\n",
    "plt.scatter(plot_data['death_diff'], plot_data['Beds_diff'])\n",
    "np.corrcoef(plot_data['death_diff'], plot_data['Beds_diff'])"
   ]
  },
  {
   "cell_type": "code",
   "execution_count": 112,
   "metadata": {},
   "outputs": [
    {
     "name": "stdout",
     "output_type": "stream",
     "text": [
      "400\n",
      "114\n",
      "0.5275\n",
      "0.49122807017543857\n"
     ]
    }
   ],
   "source": [
    "print(len(training_set))\n",
    "print(len(test_set))\n",
    "print(sum(training_set['More_Deaths'])/len(training_set))\n",
    "print(sum(test_set['More_Deaths'])/len(test_set))"
   ]
  },
  {
   "cell_type": "code",
   "execution_count": 113,
   "metadata": {},
   "outputs": [
    {
     "name": "stdout",
     "output_type": "stream",
     "text": [
      "Features: ['Hosp_diff']\n",
      "Test Ratio: 0.49122807017543857\n",
      "Score: 0.5701754385964912\n",
      "Coefficients: [[-2.52442594]]\n",
      "\n",
      "Features: ['Beds_diff']\n",
      "Test Ratio: 0.49122807017543857\n",
      "Score: 0.6403508771929824\n",
      "Coefficients: [[-3.33412467]]\n",
      "\n",
      "Features: ['pop_diff']\n",
      "Test Ratio: 0.49122807017543857\n",
      "Score: 0.5789473684210527\n",
      "Coefficients: [[-2.8524214]]\n",
      "\n",
      "Features: ['dense_diff']\n",
      "Test Ratio: 0.49122807017543857\n",
      "Score: 0.5263157894736842\n",
      "Coefficients: [[-1.85455863]]\n",
      "\n",
      "Features: ['RUCC_diff']\n",
      "Test Ratio: 0.49122807017543857\n",
      "Score: 0.543859649122807\n",
      "Coefficients: [[1.90642126]]\n",
      "\n",
      "Features: ['Hosp_diff', 'Beds_diff']\n",
      "Test Ratio: 0.49122807017543857\n",
      "Score: 0.6403508771929824\n",
      "Coefficients: [[-1.61362157 -2.86024086]]\n",
      "\n",
      "Features: ['pop_diff', 'Beds_diff']\n",
      "Test Ratio: 0.49122807017543857\n",
      "Score: 0.6754385964912281\n",
      "Coefficients: [[-1.99888068 -2.76256756]]\n",
      "\n",
      "Features: ['RUCC_diff', 'Beds_diff']\n",
      "Test Ratio: 0.49122807017543857\n",
      "Score: 0.6666666666666666\n",
      "Coefficients: [[ 2.09746203 -3.53202763]]\n",
      "\n",
      "Features: ['dense_diff', 'Beds_diff']\n",
      "Test Ratio: 0.49122807017543857\n",
      "Score: 0.6578947368421053\n",
      "Coefficients: [[-1.14105478 -3.00751713]]\n",
      "\n",
      "Features: ['RUCC_diff', 'pop_diff', 'dense_diff', 'Beds_diff']\n",
      "Test Ratio: 0.49122807017543857\n",
      "Score: 0.7192982456140351\n",
      "Coefficients: [[ 2.25629562 -2.02140874 -1.099574   -2.66320609]]\n",
      "\n",
      "Features: ['RUCC_diff', 'pop_diff', 'dense_diff', 'Hosp_diff', 'Beds_diff', 'elderly_diff', 'no_dip_diff']\n",
      "Test Ratio: 0.49122807017543857\n",
      "Score: 0.7105263157894737\n",
      "Coefficients: [[ 2.22730753 -1.91311987 -0.90006557 -1.42691695 -2.4575509   1.58313212\n",
      "  -0.75909913]]\n",
      "\n"
     ]
    },
    {
     "name": "stderr",
     "output_type": "stream",
     "text": [
      "/anaconda3/lib/python3.6/site-packages/sklearn/linear_model/logistic.py:433: FutureWarning: Default solver will be changed to 'lbfgs' in 0.22. Specify a solver to silence this warning.\n",
      "  FutureWarning)\n",
      "/anaconda3/lib/python3.6/site-packages/sklearn/linear_model/logistic.py:433: FutureWarning: Default solver will be changed to 'lbfgs' in 0.22. Specify a solver to silence this warning.\n",
      "  FutureWarning)\n",
      "/anaconda3/lib/python3.6/site-packages/sklearn/linear_model/logistic.py:433: FutureWarning: Default solver will be changed to 'lbfgs' in 0.22. Specify a solver to silence this warning.\n",
      "  FutureWarning)\n",
      "/anaconda3/lib/python3.6/site-packages/sklearn/linear_model/logistic.py:433: FutureWarning: Default solver will be changed to 'lbfgs' in 0.22. Specify a solver to silence this warning.\n",
      "  FutureWarning)\n",
      "/anaconda3/lib/python3.6/site-packages/sklearn/linear_model/logistic.py:433: FutureWarning: Default solver will be changed to 'lbfgs' in 0.22. Specify a solver to silence this warning.\n",
      "  FutureWarning)\n",
      "/anaconda3/lib/python3.6/site-packages/sklearn/linear_model/logistic.py:433: FutureWarning: Default solver will be changed to 'lbfgs' in 0.22. Specify a solver to silence this warning.\n",
      "  FutureWarning)\n",
      "/anaconda3/lib/python3.6/site-packages/sklearn/linear_model/logistic.py:433: FutureWarning: Default solver will be changed to 'lbfgs' in 0.22. Specify a solver to silence this warning.\n",
      "  FutureWarning)\n",
      "/anaconda3/lib/python3.6/site-packages/sklearn/linear_model/logistic.py:433: FutureWarning: Default solver will be changed to 'lbfgs' in 0.22. Specify a solver to silence this warning.\n",
      "  FutureWarning)\n",
      "/anaconda3/lib/python3.6/site-packages/sklearn/linear_model/logistic.py:433: FutureWarning: Default solver will be changed to 'lbfgs' in 0.22. Specify a solver to silence this warning.\n",
      "  FutureWarning)\n",
      "/anaconda3/lib/python3.6/site-packages/sklearn/linear_model/logistic.py:433: FutureWarning: Default solver will be changed to 'lbfgs' in 0.22. Specify a solver to silence this warning.\n",
      "  FutureWarning)\n",
      "/anaconda3/lib/python3.6/site-packages/sklearn/linear_model/logistic.py:433: FutureWarning: Default solver will be changed to 'lbfgs' in 0.22. Specify a solver to silence this warning.\n",
      "  FutureWarning)\n"
     ]
    }
   ],
   "source": [
    "test_features(['Hosp_diff'])\n",
    "test_features(['Beds_diff'])\n",
    "test_features(['pop_diff'])\n",
    "test_features(['dense_diff'])\n",
    "test_features(['RUCC_diff'])\n",
    "test_features(['Hosp_diff', 'Beds_diff'])\n",
    "test_features(['pop_diff', 'Beds_diff'])\n",
    "test_features(['RUCC_diff', 'Beds_diff'])\n",
    "test_features(['dense_diff', 'Beds_diff'])\n",
    "test_features(['RUCC_diff', 'pop_diff', 'dense_diff', 'Beds_diff'])\n",
    "test_features(['RUCC_diff', 'pop_diff', 'dense_diff', 'Hosp_diff', 'Beds_diff', 'elderly_diff', 'no_dip_diff'])"
   ]
  },
  {
   "cell_type": "code",
   "execution_count": 114,
   "metadata": {},
   "outputs": [
    {
     "name": "stdout",
     "output_type": "stream",
     "text": [
      "[[1.         0.55567108]\n",
      " [0.55567108 1.        ]]\n",
      "[[1.         0.54496815]\n",
      " [0.54496815 1.        ]]\n"
     ]
    },
    {
     "data": {
      "image/png": "[encoded data removed]",
      "text/plain": [
       "<Figure size 432x288 with 1 Axes>"
      ]
     },
     "metadata": {
      "needs_background": "light"
     },
     "output_type": "display_data"
    }
   ],
   "source": [
    "import matplotlib.pyplot as plt\n",
    "\n",
    "plot_data = training_set.copy()\n",
    "plt.scatter(plot_data['death_diff'], plot_data['Beds_diff'])\n",
    "print(np.corrcoef(plot_data['death_diff'], plot_data['Beds_diff']))\n",
    "\n",
    "plot_data = test_set.copy()\n",
    "plt.scatter(plot_data['death_diff'], plot_data['Beds_diff'])\n",
    "print(np.corrcoef(plot_data['death_diff'], plot_data['Beds_diff']))"
   ]
  },
  {
   "cell_type": "code",
   "execution_count": null,
   "metadata": {},
   "outputs": [],
   "source": []
  }
 ],
 "metadata": {
  "kernelspec": {
   "display_name": "Python 3",
   "language": "python",
   "name": "python3"
  },
  "language_info": {
   "codemirror_mode": {
    "name": "ipython",
    "version": 3
   },
   "file_extension": ".py",
   "mimetype": "text/x-python",
   "name": "python",
   "nbconvert_exporter": "python",
   "pygments_lexer": "ipython3",
   "version": "3.7.4"
  }
 },
 "nbformat": 4,
 "nbformat_minor": 2
}
