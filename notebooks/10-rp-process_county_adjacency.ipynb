{
 "nbformat": 4,
 "nbformat_minor": 2,
 "metadata": {
  "language_info": {
   "name": "python",
   "codemirror_mode": {
    "name": "ipython",
    "version": 3
   },
   "version": "3.7.3-final"
  },
  "orig_nbformat": 2,
  "file_extension": ".py",
  "mimetype": "text/x-python",
  "name": "python",
  "npconvert_exporter": "python",
  "pygments_lexer": "ipython3",
  "version": 3,
  "kernelspec": {
   "name": "morf-dev",
   "display_name": "morf-dev"
  }
 },
 "cells": [
  {
   "cell_type": "markdown",
   "metadata": {},
   "source": [
    "# Load and format the county adjacency data\n",
    "Source https://www.census.gov/geographies/reference-files/2010/geo/county-adjacency.html"
   ]
  },
  {
   "cell_type": "code",
   "execution_count": 5,
   "metadata": {},
   "outputs": [],
   "source": [
    "import pandas as pd\n",
    "from pathlib import Path\n",
    "import numpy as np\n",
    "import pickle"
   ]
  },
  {
   "cell_type": "code",
   "execution_count": 2,
   "metadata": {},
   "outputs": [],
   "source": [
    "data_dir = Path('../data')"
   ]
  },
  {
   "cell_type": "code",
   "execution_count": 3,
   "metadata": {},
   "outputs": [],
   "source": [
    "adj = pd.read_table(data_dir / 'raw' / 'county_adjacency.txt', engine='python', header=None)#, delimiter='')"
   ]
  },
  {
   "cell_type": "code",
   "execution_count": 4,
   "metadata": {},
   "outputs": [],
   "source": [
    "origin = adj[1]\n",
    "dest = adj[3]"
   ]
  },
  {
   "cell_type": "code",
   "execution_count": 6,
   "metadata": {},
   "outputs": [],
   "source": [
    "edge_dict = {}\n",
    "for o in origin[~np.isnan(origin)]:\n",
    "    edge_dict[int(o)] = []\n",
    "\n",
    "curr = None\n",
    "for o,d in zip(origin,dest):\n",
    "    if np.isnan(o):\n",
    "        edge_dict[curr] += [d]\n",
    "    else:\n",
    "        curr = int(o)\n",
    "        if curr != d:\n",
    "            edge_dict[curr] += [d]"
   ]
  },
  {
   "cell_type": "code",
   "execution_count": 7,
   "metadata": {},
   "outputs": [],
   "source": [
    "with open(data_dir / 'processed' / 'county_adjacency_edge_dict.pkl', 'wb') as f:\n",
    "    pickle.dump(edge_dict, f, protocol=pickle.HIGHEST_PROTOCOL)"
   ]
  }
 ]
}