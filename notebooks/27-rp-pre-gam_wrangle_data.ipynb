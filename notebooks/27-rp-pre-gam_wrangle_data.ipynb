{
 "cells": [
  {
   "cell_type": "code",
   "execution_count": 70,
   "metadata": {},
   "outputs": [],
   "source": [
    "import numpy as np\n",
    "import pandas as pd\n",
    "from pathlib import Path\n",
    "import sys; sys.path.append('../')\n",
    "from src.data_loader.data_loader import *\n",
    "import os"
   ]
  },
  {
   "cell_type": "markdown",
   "metadata": {},
   "source": [
    "## Mobility"
   ]
  },
  {
   "cell_type": "code",
   "execution_count": 6,
   "metadata": {},
   "outputs": [],
   "source": [
    "df = pd.read_csv('../data/processed/od_inter_mobilities_05-20.csv')"
   ]
  },
  {
   "cell_type": "code",
   "execution_count": 33,
   "metadata": {},
   "outputs": [],
   "source": [
    "df = df.melt('FIPS', var_name='Date', value_name='trips_count').sort_values(by=['FIPS', 'Date'])"
   ]
  },
  {
   "cell_type": "code",
   "execution_count": 34,
   "metadata": {},
   "outputs": [],
   "source": [
    "df.to_csv('../data/processed/sg_inter_mobility.csv', index=False)"
   ]
  },
  {
   "cell_type": "markdown",
   "metadata": {},
   "source": [
    "## Unprocessed mobility data"
   ]
  },
  {
   "cell_type": "code",
   "execution_count": 86,
   "metadata": {},
   "outputs": [],
   "source": [
    "def get_square_Xy(df):\n",
    "    # string headers -> int\n",
    "    col_fips = df.drop(labels=['origin'], axis=1).columns\n",
    "    df.rename(columns = {c:int(c) for c in col_fips}, inplace=True)\n",
    "    # Drop columns not in the rows\n",
    "    df.drop(columns=list(set(df.columns[1:]).difference(set(df['origin']))), inplace=True)\n",
    "    # Drop rows not in the columns\n",
    "    df = df[~df['origin'].isin(set(df['origin']).difference(set(df.columns[1:])))]\n",
    "    # Sort the rows and columns in ascending oridin\n",
    "    df = df[['origin'] + sorted(df.drop(columns='origin').columns)]\n",
    "    df = df.sort_values(by='origin', axis=0)\n",
    "    # Convert fo matrix\n",
    "    X = df.drop(columns='origin').to_numpy()\n",
    "    y = df['origin']\n",
    "\n",
    "    return X,y"
   ]
  },
  {
   "cell_type": "code",
   "execution_count": 79,
   "metadata": {},
   "outputs": [],
   "source": [
    "OD_dir = '/Users/rflperry/Downloads/Number of trips'"
   ]
  },
  {
   "cell_type": "code",
   "execution_count": 148,
   "metadata": {},
   "outputs": [],
   "source": [
    "df = None\n",
    "for f in os.listdir(OD_dir):\n",
    "    if f.startswith('2020'):\n",
    "        OD = pd.read_csv(OD_dir + '/' + f)\n",
    "        assert(np.diff(OD.values.shape)[0] == 1)\n",
    "        temp = pd.DataFrame(\n",
    "            np.asarray([OD['Unnamed: 0'], np.diag(OD.values[:,1:])]).T,\n",
    "            columns=['FIPS', f[:-4].replace('_', '-')]\n",
    "        )\n",
    "        if df is None:\n",
    "            df = temp\n",
    "        else:\n",
    "            df = df.merge(temp, on='FIPS', how='outer')"
   ]
  },
  {
   "cell_type": "code",
   "execution_count": 172,
   "metadata": {},
   "outputs": [],
   "source": [
    "df.interpolate(\n",
    "    method='linear', axis=0, limit_area='inside'\n",
    ").dropna(\n",
    "    axis=0\n",
    ").melt(\n",
    "    'FIPS', var_name='Date', value_name='trips_count'\n",
    ").sort_values(\n",
    "    by=['FIPS', 'Date']\n",
    ").to_csv(\n",
    "    '../data/processed/sg_inter_mobility_raw.csv', index=False\n",
    ")"
   ]
  },
  {
   "cell_type": "code",
   "execution_count": 175,
   "metadata": {},
   "outputs": [],
   "source": [
    "df = pd.read_csv('../data/processed/sg_inter_mobility_raw.csv')"
   ]
  },
  {
   "cell_type": "code",
   "execution_count": 178,
   "metadata": {},
   "outputs": [
    {
     "data": {
      "text/html": [
       "<div>\n",
       "<style scoped>\n",
       "    .dataframe tbody tr th:only-of-type {\n",
       "        vertical-align: middle;\n",
       "    }\n",
       "\n",
       "    .dataframe tbody tr th {\n",
       "        vertical-align: top;\n",
       "    }\n",
       "\n",
       "    .dataframe thead th {\n",
       "        text-align: right;\n",
       "    }\n",
       "</style>\n",
       "<table border=\"1\" class=\"dataframe\">\n",
       "  <thead>\n",
       "    <tr style=\"text-align: right;\">\n",
       "      <th></th>\n",
       "      <th>FIPS</th>\n",
       "      <th>Date</th>\n",
       "      <th>trips_count</th>\n",
       "    </tr>\n",
       "  </thead>\n",
       "  <tbody>\n",
       "    <tr>\n",
       "      <th>0</th>\n",
       "      <td>1001</td>\n",
       "      <td>2020-01-01</td>\n",
       "      <td>7327.0</td>\n",
       "    </tr>\n",
       "    <tr>\n",
       "      <th>1</th>\n",
       "      <td>1001</td>\n",
       "      <td>2020-01-02</td>\n",
       "      <td>7862.0</td>\n",
       "    </tr>\n",
       "    <tr>\n",
       "      <th>2</th>\n",
       "      <td>1001</td>\n",
       "      <td>2020-01-03</td>\n",
       "      <td>8493.0</td>\n",
       "    </tr>\n",
       "    <tr>\n",
       "      <th>3</th>\n",
       "      <td>1001</td>\n",
       "      <td>2020-01-04</td>\n",
       "      <td>8285.0</td>\n",
       "    </tr>\n",
       "    <tr>\n",
       "      <th>4</th>\n",
       "      <td>1001</td>\n",
       "      <td>2020-01-05</td>\n",
       "      <td>8234.0</td>\n",
       "    </tr>\n",
       "    <tr>\n",
       "      <th>...</th>\n",
       "      <td>...</td>\n",
       "      <td>...</td>\n",
       "      <td>...</td>\n",
       "    </tr>\n",
       "    <tr>\n",
       "      <th>174</th>\n",
       "      <td>1001</td>\n",
       "      <td>2020-06-23</td>\n",
       "      <td>8261.0</td>\n",
       "    </tr>\n",
       "    <tr>\n",
       "      <th>175</th>\n",
       "      <td>1001</td>\n",
       "      <td>2020-06-24</td>\n",
       "      <td>8109.0</td>\n",
       "    </tr>\n",
       "    <tr>\n",
       "      <th>176</th>\n",
       "      <td>1001</td>\n",
       "      <td>2020-06-25</td>\n",
       "      <td>8276.0</td>\n",
       "    </tr>\n",
       "    <tr>\n",
       "      <th>177</th>\n",
       "      <td>1001</td>\n",
       "      <td>2020-06-26</td>\n",
       "      <td>8478.0</td>\n",
       "    </tr>\n",
       "    <tr>\n",
       "      <th>178</th>\n",
       "      <td>1001</td>\n",
       "      <td>2020-06-27</td>\n",
       "      <td>7631.0</td>\n",
       "    </tr>\n",
       "  </tbody>\n",
       "</table>\n",
       "<p>179 rows × 3 columns</p>\n",
       "</div>"
      ],
      "text/plain": [
       "     FIPS        Date  trips_count\n",
       "0    1001  2020-01-01       7327.0\n",
       "1    1001  2020-01-02       7862.0\n",
       "2    1001  2020-01-03       8493.0\n",
       "3    1001  2020-01-04       8285.0\n",
       "4    1001  2020-01-05       8234.0\n",
       "..    ...         ...          ...\n",
       "174  1001  2020-06-23       8261.0\n",
       "175  1001  2020-06-24       8109.0\n",
       "176  1001  2020-06-25       8276.0\n",
       "177  1001  2020-06-26       8478.0\n",
       "178  1001  2020-06-27       7631.0\n",
       "\n",
       "[179 rows x 3 columns]"
      ]
     },
     "execution_count": 178,
     "metadata": {},
     "output_type": "execute_result"
    }
   ],
   "source": [
    "df[df['FIPS'] == 1001]"
   ]
  },
  {
   "cell_type": "markdown",
   "metadata": {},
   "source": [
    "## Bed/Hospitals"
   ]
  },
  {
   "cell_type": "code",
   "execution_count": 39,
   "metadata": {},
   "outputs": [],
   "source": [
    "df = load_acute_care()"
   ]
  },
  {
   "cell_type": "code",
   "execution_count": 40,
   "metadata": {},
   "outputs": [],
   "source": [
    "df.to_csv('../data/processed/acute_care.csv', index=False)"
   ]
  },
  {
   "cell_type": "markdown",
   "metadata": {},
   "source": [
    "## "
   ]
  },
  {
   "cell_type": "code",
   "execution_count": null,
   "metadata": {},
   "outputs": [],
   "source": []
  }
 ],
 "metadata": {
  "kernelspec": {
   "display_name": "Python 3",
   "language": "python",
   "name": "python3"
  },
  "language_info": {
   "codemirror_mode": {
    "name": "ipython",
    "version": 3
   },
   "file_extension": ".py",
   "mimetype": "text/x-python",
   "name": "python",
   "nbconvert_exporter": "python",
   "pygments_lexer": "ipython3",
   "version": "3.7.7"
  }
 },
 "nbformat": 4,
 "nbformat_minor": 4
}
