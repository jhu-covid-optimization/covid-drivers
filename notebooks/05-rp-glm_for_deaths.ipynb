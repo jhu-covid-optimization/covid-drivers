{
 "nbformat": 4,
 "nbformat_minor": 2,
 "metadata": {
  "language_info": {
   "name": "python",
   "codemirror_mode": {
    "name": "ipython",
    "version": 3
   }
  },
  "orig_nbformat": 2,
  "file_extension": ".py",
  "mimetype": "text/x-python",
  "name": "python",
  "npconvert_exporter": "python",
  "pygments_lexer": "ipython3",
  "version": 3,
  "kernelspec": {
   "name": "morf-dev",
   "display_name": "morf-dev"
  }
 },
 "cells": [
  {
   "cell_type": "markdown",
   "metadata": {},
   "source": [
    "# Fitting a GLM to Estimate Residual Deaths\n",
    "\n",
    "## Potential Pipeline\n",
    "\n",
    "1. Consider the generalized additive model\n",
    "\n",
    "$$y_t = \\alpha + X_t\\beta_t + Z\\theta_t + f(t) + \\varepsilon_t$$\n",
    "\n",
    "For a give county, let \n",
    "$$\n",
    "\\begin{align}\n",
    "    u_t &= \\frac{\\text{deaths}}{ \\text{population total}} \\text{ at time } t \\\\\n",
    "    \\alpha &= \\text{constants} \\\\\n",
    "    X_t &= \\text{Lagged mobilities} \\text{(Also could consider incorporating $\\log u_{t-1}$)}\\\\\n",
    "    Z &= \\text{constant confounders (i.e. interventions)} \\\\\n",
    "    \\beta_t, \\theta_t &= \\text{coefficients to learn}\\\\\n",
    "    f(t) &= \\text{baseline death curve} \\\\\n",
    "    \\varepsilon_t &= \\text{noise}\n",
    "\\end{align}\n",
    "$$\n",
    "Then we model the confounder explained deaths as\n",
    "\n",
    "$$ y_t = \\log(u_t) = \\alpha + X_t\\beta_t + Z\\theta_t$$\n",
    "\n",
    "The residuals $f(t) + \\varepsilon_t = \\log(u_t) - (\\alpha + X_t\\beta_t + Z\\theta_t)$ are noisy baseline death curves.\n",
    "\n",
    "2. Cluster using time-series appropriate k-means (DTW metric)\n",
    "\n",
    "BIC or AIC to identify best set of clusters\n",
    "\n",
    "3. Explantory regression or exploratory data analysis within each cluster\n",
    "\n",
    "## Comments\n",
    "\n",
    "Requires all death time series to be the same length. Thus, need to truncate and only allow counties with that many timesetps after >5 deaths observed. Is that threshold cumulative or daily?"
   ]
  },
  {
   "cell_type": "code",
   "execution_count": 315,
   "metadata": {},
   "outputs": [
    {
     "name": "stdout",
     "output_type": "stream",
     "text": "The autoreload extension is already loaded. To reload it, use:\n  %reload_ext autoreload\n"
    }
   ],
   "source": [
    "import numpy as np\n",
    "import pandas as pd\n",
    "from pathlib import Path\n",
    "from datetime import datetime\n",
    "from tqdm import tqdm\n",
    "from matplotlib import dates\n",
    "import matplotlib.pyplot as plt\n",
    "import math\n",
    "import seaborn as sns\n",
    "import sys; sys.path.append('../')\n",
    "from src.data_loader.data_loader import load_google_mobility, load_deaths, load_interventions, load_counties, load_google_mobility_time_series\n",
    "from src.utils.dates import get_today, lag_date, date2str, str2date, get_format\n",
    "from src.utils.df_utils import get_date_columns\n",
    "from src.pandas.align import align_lagged_dates\n",
    "\n",
    "from scipy.stats import spearmanr\n",
    "\n",
    "%matplotlib inline\n",
    "%load_ext autoreload\n",
    "%autoreload 2"
   ]
  },
  {
   "cell_type": "code",
   "execution_count": 36,
   "metadata": {},
   "outputs": [
    {
     "name": "stdout",
     "output_type": "stream",
     "text": "Mobility Last Updated 04-26\nDeaths Last Updated 04-26\n"
    }
   ],
   "source": [
    "# Time series data\n",
    "mobility, mobility_date = load_google_mobility()\n",
    "deaths, deaths_date = load_deaths(join_county_codes=False)\n",
    "interventions, interventions_date = load_interventions()\n",
    "\n",
    "# Static data\n",
    "counties, counties_date = load_counties()\n",
    "\n",
    "# Processed mobility -> time series\n",
    "mobility_ts, mobility_ts_date = load_google_mobility_time_series()\n",
    "\n",
    "print(f'Mobility Last Updated {mobility_ts_date}')\n",
    "print(f'Deaths Last Updated {deaths_date}')"
   ]
  },
  {
   "cell_type": "code",
   "execution_count": 52,
   "metadata": {},
   "outputs": [],
   "source": [
    "# Ignore places with FIPS missing\n",
    "deaths = deaths.dropna(axis=0, subset=['FIPS']).astype({'FIPS':'int32'})\n",
    "deaths = deaths.merge(counties['FIPS'], on='FIPS', how='inner')"
   ]
  },
  {
   "cell_type": "code",
   "execution_count": 147,
   "metadata": {},
   "outputs": [],
   "source": [
    "# Get columns that are dates\n",
    "death_dates = get_date_columns(deaths, return_dtimes=False)\n",
    "mobility_dates = get_date_columns(mobility_ts, return_dtimes=False)"
   ]
  },
  {
   "cell_type": "code",
   "execution_count": null,
   "metadata": {},
   "outputs": [],
   "source": [
    "deaths = deaths[['FIPS']+death_dates]"
   ]
  },
  {
   "cell_type": "code",
   "execution_count": 68,
   "metadata": {},
   "outputs": [],
   "source": [
    "def get_onset_date(row, thresh = 5):\n",
    "    above = row[row > thresh]\n",
    "    if len(above) == 0:\n",
    "        return np.nan\n",
    "    else:\n",
    "        return above.idxmin()"
   ]
  },
  {
   "cell_type": "code",
   "execution_count": 72,
   "metadata": {},
   "outputs": [],
   "source": [
    "deaths['onset'] = deaths[death_dates].apply(lambda row: get_onset_date(row), axis=1)"
   ]
  },
  {
   "cell_type": "code",
   "execution_count": 74,
   "metadata": {},
   "outputs": [],
   "source": [
    "deaths = deaths.dropna(axis=0, subset=['onset'])"
   ]
  },
  {
   "cell_type": "code",
   "execution_count": 80,
   "metadata": {},
   "outputs": [],
   "source": [
    "date_diffs = [(str2date(death_dates[-1]) - str2date(d)).days for d in deaths['onset']]"
   ]
  },
  {
   "cell_type": "code",
   "execution_count": 107,
   "metadata": {},
   "outputs": [],
   "source": [
    "def normalize(row):\n",
    "    FIPS = row['FIPS']\n",
    "    pop = counties[counties['FIPS'] == FIPS]['POP_ESTIMATE_2018']\n",
    "    return(row[death_dates] / int(pop))"
   ]
  },
  {
   "cell_type": "code",
   "execution_count": 109,
   "metadata": {},
   "outputs": [],
   "source": [
    "## Normalize deaths by pop total\n",
    "deaths[death_dates] = deaths.apply(lambda row: normalize(row), axis=1)"
   ]
  },
  {
   "cell_type": "markdown",
   "metadata": {},
   "source": [
    "## Get deaths, lagged mobility, and covariates"
   ]
  },
  {
   "cell_type": "code",
   "execution_count": null,
   "metadata": {},
   "outputs": [],
   "source": [
    "date_diffs = [(str2date(death_dates[-1]) - str2date(d)).days for d in deaths['onset']]"
   ]
  },
  {
   "cell_type": "code",
   "execution_count": 121,
   "metadata": {},
   "outputs": [],
   "source": [
    "deaths_df = deaths[deaths['onset'].apply(lambda d: (str2date(death_dates[-1]) - str2date(d)).days >= 14)]"
   ]
  },
  {
   "cell_type": "code",
   "execution_count": 132,
   "metadata": {},
   "outputs": [],
   "source": [
    "# Get days_past the onset of each county (onset being first case of deaths==5)\n",
    "days_past = 0\n",
    "yt = deaths_df.apply(lambda row: row[lag_date(row['onset'], days_past, backwards=False, return_date=False)], axis=1)"
   ]
  },
  {
   "cell_type": "code",
   "execution_count": 203,
   "metadata": {},
   "outputs": [],
   "source": [
    "def get_lagged_mobility(date, FIPS):\n",
    "    mob_dates = [lag_date(date, l, return_date=False) for l in range(13,25,1)]\n",
    "    try:\n",
    "        return(mobility_ts[mobility_ts['FIPS'] == FIPS][mob_dates])\n",
    "    except:\n",
    "        np.nan"
   ]
  },
  {
   "cell_type": "code",
   "execution_count": 326,
   "metadata": {},
   "outputs": [],
   "source": [
    "## Make covariate matrices\n",
    "constant_covariates = deaths_df[['FIPS', 'onset']]\n",
    "covariates = deaths_df[['FIPS', 'onset']]"
   ]
  },
  {
   "cell_type": "code",
   "execution_count": 266,
   "metadata": {},
   "outputs": [],
   "source": [
    "## Time dependent lagged mobility\n",
    "covariates['lagged_mob'] = covariates.apply(lambda row: get_lagged_mobility(\n",
    "        lag_date(row['onset'], days_past, backwards=False, return_date=False), row['FIPS']\n",
    "), axis=1)"
   ]
  },
  {
   "cell_type": "code",
   "execution_count": 267,
   "metadata": {},
   "outputs": [],
   "source": [
    "covariates = covariates.dropna(axis=0, subset=['lagged_mob'])\n",
    "covariates['lagged_mob'] = covariates['lagged_mob'].apply(lambda x: x.to_numpy().reshape(-1))\n",
    "covariates = covariates[covariates['lagged_mob'].apply(lambda x: len(x) == 12)]"
   ]
  },
  {
   "cell_type": "code",
   "execution_count": 335,
   "metadata": {},
   "outputs": [],
   "source": [
    "## Constant covariates of interest\n",
    "intervention_covs = [\n",
    "    'stay at home',\n",
    "    'restaurant dine-in',\n",
    "    'public schools',\n",
    "    '>50 gatherings',\n",
    "    'entertainment/gym'\n",
    "]\n",
    "\n",
    "county_covs = [\n",
    "    'Rural-urban_Continuum Code_2013',\n",
    "    'Urban_Influence_Code_2013',\n",
    "    'Density per square mile of land area - Population',\n",
    "    'Total_age65plus',\n",
    "    'Total Hospitals (2019)',\n",
    "    'MEDHHINC_2018'\n",
    "]"
   ]
  },
  {
   "cell_type": "code",
   "execution_count": 327,
   "metadata": {},
   "outputs": [],
   "source": [
    "## Add intervention covariates\n",
    "constant_covariates = constant_covariates.merge(interventions[['FIPS'] + intervention_covs], on='FIPS')"
   ]
  },
  {
   "cell_type": "code",
   "execution_count": 328,
   "metadata": {},
   "outputs": [],
   "source": [
    "## Set intervention date to days before onset\n",
    "constant_covariates[intervention_covs] = constant_covariates.apply(lambda row: pd.Series([(str2date(row['onset']) - str2date(x)).days if not pd.isna(x) else 0 for x in row[intervention_covs]]),axis=1)"
   ]
  },
  {
   "cell_type": "code",
   "execution_count": 337,
   "metadata": {},
   "outputs": [],
   "source": [
    "## Add county covariates\n",
    "constant_covariates = constant_covariates.merge(counties[['FIPS'] + county_covs], on='FIPS')"
   ]
  },
  {
   "cell_type": "code",
   "execution_count": 341,
   "metadata": {},
   "outputs": [],
   "source": [
    "## Normalize age65plus by total population\n",
    "constant_covariates['Total_age65plus'] = constant_covariates.apply(lambda row: row['Total_age65plus'] / int(counties[counties['FIPS'] == row['FIPS']]['POP_ESTIMATE_2018']),axis=1)"
   ]
  },
  {
   "cell_type": "code",
   "execution_count": 342,
   "metadata": {},
   "outputs": [
    {
     "data": {
      "text/html": "<div>\n<style scoped>\n    .dataframe tbody tr th:only-of-type {\n        vertical-align: middle;\n    }\n\n    .dataframe tbody tr th {\n        vertical-align: top;\n    }\n\n    .dataframe thead th {\n        text-align: right;\n    }\n</style>\n<table border=\"1\" class=\"dataframe\">\n  <thead>\n    <tr style=\"text-align: right;\">\n      <th></th>\n      <th>FIPS</th>\n      <th>onset</th>\n      <th>stay at home</th>\n      <th>restaurant dine-in</th>\n      <th>public schools</th>\n      <th>&gt;50 gatherings</th>\n      <th>entertainment/gym</th>\n      <th>Rural-urban_Continuum Code_2013</th>\n      <th>Urban_Influence_Code_2013</th>\n      <th>Density per square mile of land area - Population</th>\n      <th>Total_age65plus</th>\n      <th>Total Hospitals (2019)</th>\n      <th>MEDHHINC_2018</th>\n    </tr>\n  </thead>\n  <tbody>\n    <tr>\n      <th>0</th>\n      <td>1017</td>\n      <td>04-04</td>\n      <td>0</td>\n      <td>16</td>\n      <td>19</td>\n      <td>15</td>\n      <td>7</td>\n      <td>6.0</td>\n      <td>5.0</td>\n      <td>57.4</td>\n      <td>0.195210</td>\n      <td>0.694600</td>\n      <td>39917.0</td>\n    </tr>\n    <tr>\n      <th>1</th>\n      <td>1055</td>\n      <td>04-11</td>\n      <td>7</td>\n      <td>23</td>\n      <td>26</td>\n      <td>22</td>\n      <td>14</td>\n      <td>3.0</td>\n      <td>2.0</td>\n      <td>195.2</td>\n      <td>0.190115</td>\n      <td>2.118018</td>\n      <td>44903.0</td>\n    </tr>\n    <tr>\n      <th>2</th>\n      <td>1073</td>\n      <td>04-03</td>\n      <td>8</td>\n      <td>15</td>\n      <td>18</td>\n      <td>14</td>\n      <td>6</td>\n      <td>1.0</td>\n      <td>1.0</td>\n      <td>592.5</td>\n      <td>0.158573</td>\n      <td>13.623375</td>\n      <td>55013.0</td>\n    </tr>\n    <tr>\n      <th>3</th>\n      <td>1081</td>\n      <td>04-10</td>\n      <td>6</td>\n      <td>22</td>\n      <td>25</td>\n      <td>21</td>\n      <td>13</td>\n      <td>3.0</td>\n      <td>2.0</td>\n      <td>230.8</td>\n      <td>0.118829</td>\n      <td>3.387577</td>\n      <td>48937.0</td>\n    </tr>\n    <tr>\n      <th>4</th>\n      <td>1097</td>\n      <td>04-05</td>\n      <td>1</td>\n      <td>17</td>\n      <td>20</td>\n      <td>16</td>\n      <td>8</td>\n      <td>2.0</td>\n      <td>2.0</td>\n      <td>335.9</td>\n      <td>0.162030</td>\n      <td>8.549624</td>\n      <td>43598.0</td>\n    </tr>\n    <tr>\n      <th>5</th>\n      <td>4005</td>\n      <td>04-02</td>\n      <td>2</td>\n      <td>14</td>\n      <td>17</td>\n      <td>16</td>\n      <td>14</td>\n      <td>3.0</td>\n      <td>2.0</td>\n      <td>7.2</td>\n      <td>0.124988</td>\n      <td>1.653300</td>\n      <td>60187.0</td>\n    </tr>\n    <tr>\n      <th>6</th>\n      <td>4013</td>\n      <td>04-02</td>\n      <td>2</td>\n      <td>14</td>\n      <td>17</td>\n      <td>16</td>\n      <td>14</td>\n      <td>1.0</td>\n      <td>1.0</td>\n      <td>414.9</td>\n      <td>0.151737</td>\n      <td>51.048029</td>\n      <td>65234.0</td>\n    </tr>\n    <tr>\n      <th>7</th>\n      <td>4017</td>\n      <td>04-08</td>\n      <td>8</td>\n      <td>20</td>\n      <td>23</td>\n      <td>22</td>\n      <td>20</td>\n      <td>4.0</td>\n      <td>5.0</td>\n      <td>10.8</td>\n      <td>0.181176</td>\n      <td>1.278219</td>\n      <td>40650.0</td>\n    </tr>\n    <tr>\n      <th>8</th>\n      <td>4019</td>\n      <td>04-02</td>\n      <td>2</td>\n      <td>14</td>\n      <td>17</td>\n      <td>16</td>\n      <td>14</td>\n      <td>2.0</td>\n      <td>2.0</td>\n      <td>106.7</td>\n      <td>0.197537</td>\n      <td>12.025560</td>\n      <td>53395.0</td>\n    </tr>\n    <tr>\n      <th>9</th>\n      <td>5119</td>\n      <td>04-09</td>\n      <td>0</td>\n      <td>21</td>\n      <td>23</td>\n      <td>14</td>\n      <td>21</td>\n      <td>2.0</td>\n      <td>2.0</td>\n      <td>503.8</td>\n      <td>0.155534</td>\n      <td>11.465775</td>\n      <td>49957.0</td>\n    </tr>\n    <tr>\n      <th>10</th>\n      <td>6001</td>\n      <td>03-29</td>\n      <td>10</td>\n      <td>14</td>\n      <td>10</td>\n      <td>10</td>\n      <td>14</td>\n      <td>1.0</td>\n      <td>1.0</td>\n      <td>2043.6</td>\n      <td>0.138299</td>\n      <td>15.126618</td>\n      <td>101744.0</td>\n    </tr>\n    <tr>\n      <th>11</th>\n      <td>6013</td>\n      <td>04-05</td>\n      <td>17</td>\n      <td>21</td>\n      <td>17</td>\n      <td>17</td>\n      <td>21</td>\n      <td>1.0</td>\n      <td>1.0</td>\n      <td>1465.2</td>\n      <td>0.157747</td>\n      <td>10.438777</td>\n      <td>101463.0</td>\n    </tr>\n    <tr>\n      <th>12</th>\n      <td>6037</td>\n      <td>03-23</td>\n      <td>4</td>\n      <td>8</td>\n      <td>4</td>\n      <td>4</td>\n      <td>8</td>\n      <td>1.0</td>\n      <td>1.0</td>\n      <td>2419.6</td>\n      <td>0.136159</td>\n      <td>91.712638</td>\n      <td>67986.0</td>\n    </tr>\n    <tr>\n      <th>13</th>\n      <td>6041</td>\n      <td>04-02</td>\n      <td>14</td>\n      <td>18</td>\n      <td>14</td>\n      <td>14</td>\n      <td>18</td>\n      <td>1.0</td>\n      <td>1.0</td>\n      <td>485.1</td>\n      <td>0.223144</td>\n      <td>2.356599</td>\n      <td>122933.0</td>\n    </tr>\n    <tr>\n      <th>14</th>\n      <td>6059</td>\n      <td>03-31</td>\n      <td>12</td>\n      <td>16</td>\n      <td>12</td>\n      <td>12</td>\n      <td>16</td>\n      <td>1.0</td>\n      <td>1.0</td>\n      <td>3807.7</td>\n      <td>0.147643</td>\n      <td>28.914256</td>\n      <td>89373.0</td>\n    </tr>\n    <tr>\n      <th>15</th>\n      <td>6065</td>\n      <td>03-22</td>\n      <td>3</td>\n      <td>7</td>\n      <td>3</td>\n      <td>3</td>\n      <td>7</td>\n      <td>1.0</td>\n      <td>1.0</td>\n      <td>303.8</td>\n      <td>0.144087</td>\n      <td>22.241857</td>\n      <td>66793.0</td>\n    </tr>\n    <tr>\n      <th>16</th>\n      <td>6067</td>\n      <td>03-27</td>\n      <td>8</td>\n      <td>12</td>\n      <td>8</td>\n      <td>8</td>\n      <td>12</td>\n      <td>1.0</td>\n      <td>1.0</td>\n      <td>1470.8</td>\n      <td>0.141210</td>\n      <td>13.985120</td>\n      <td>69475.0</td>\n    </tr>\n    <tr>\n      <th>17</th>\n      <td>6071</td>\n      <td>04-01</td>\n      <td>13</td>\n      <td>17</td>\n      <td>13</td>\n      <td>13</td>\n      <td>17</td>\n      <td>1.0</td>\n      <td>1.0</td>\n      <td>101.5</td>\n      <td>0.115749</td>\n      <td>19.708385</td>\n      <td>63310.0</td>\n    </tr>\n    <tr>\n      <th>18</th>\n      <td>6073</td>\n      <td>03-28</td>\n      <td>9</td>\n      <td>13</td>\n      <td>9</td>\n      <td>9</td>\n      <td>13</td>\n      <td>1.0</td>\n      <td>1.0</td>\n      <td>735.8</td>\n      <td>0.140414</td>\n      <td>30.342703</td>\n      <td>78777.0</td>\n    </tr>\n    <tr>\n      <th>19</th>\n      <td>6075</td>\n      <td>03-30</td>\n      <td>11</td>\n      <td>15</td>\n      <td>11</td>\n      <td>11</td>\n      <td>15</td>\n      <td>1.0</td>\n      <td>1.0</td>\n      <td>17179.2</td>\n      <td>0.156513</td>\n      <td>8.016435</td>\n      <td>110601.0</td>\n    </tr>\n    <tr>\n      <th>20</th>\n      <td>6077</td>\n      <td>03-30</td>\n      <td>11</td>\n      <td>15</td>\n      <td>11</td>\n      <td>11</td>\n      <td>15</td>\n      <td>2.0</td>\n      <td>2.0</td>\n      <td>492.6</td>\n      <td>0.127436</td>\n      <td>6.830767</td>\n      <td>63567.0</td>\n    </tr>\n    <tr>\n      <th>21</th>\n      <td>6081</td>\n      <td>03-27</td>\n      <td>8</td>\n      <td>12</td>\n      <td>8</td>\n      <td>8</td>\n      <td>12</td>\n      <td>1.0</td>\n      <td>1.0</td>\n      <td>1602.2</td>\n      <td>0.161032</td>\n      <td>6.984006</td>\n      <td>122930.0</td>\n    </tr>\n    <tr>\n      <th>22</th>\n      <td>6085</td>\n      <td>03-18</td>\n      <td>-1</td>\n      <td>3</td>\n      <td>-1</td>\n      <td>-1</td>\n      <td>3</td>\n      <td>1.0</td>\n      <td>1.0</td>\n      <td>1381.0</td>\n      <td>0.134772</td>\n      <td>17.584418</td>\n      <td>125933.0</td>\n    </tr>\n    <tr>\n      <th>23</th>\n      <td>6107</td>\n      <td>04-06</td>\n      <td>18</td>\n      <td>22</td>\n      <td>18</td>\n      <td>18</td>\n      <td>22</td>\n      <td>2.0</td>\n      <td>2.0</td>\n      <td>91.7</td>\n      <td>0.114395</td>\n      <td>4.227922</td>\n      <td>48763.0</td>\n    </tr>\n    <tr>\n      <th>24</th>\n      <td>6111</td>\n      <td>04-03</td>\n      <td>15</td>\n      <td>19</td>\n      <td>15</td>\n      <td>15</td>\n      <td>19</td>\n      <td>2.0</td>\n      <td>2.0</td>\n      <td>446.7</td>\n      <td>0.155572</td>\n      <td>7.722952</td>\n      <td>84170.0</td>\n    </tr>\n    <tr>\n      <th>25</th>\n      <td>8001</td>\n      <td>04-03</td>\n      <td>10</td>\n      <td>14</td>\n      <td>11</td>\n      <td>10</td>\n      <td>17</td>\n      <td>1.0</td>\n      <td>1.0</td>\n      <td>378.2</td>\n      <td>0.104689</td>\n      <td>7.998550</td>\n      <td>70199.0</td>\n    </tr>\n    <tr>\n      <th>26</th>\n      <td>8005</td>\n      <td>03-31</td>\n      <td>7</td>\n      <td>11</td>\n      <td>8</td>\n      <td>7</td>\n      <td>14</td>\n      <td>1.0</td>\n      <td>1.0</td>\n      <td>716.7</td>\n      <td>0.130625</td>\n      <td>10.176013</td>\n      <td>76665.0</td>\n    </tr>\n    <tr>\n      <th>27</th>\n      <td>8013</td>\n      <td>04-11</td>\n      <td>18</td>\n      <td>22</td>\n      <td>19</td>\n      <td>18</td>\n      <td>25</td>\n      <td>2.0</td>\n      <td>2.0</td>\n      <td>405.6</td>\n      <td>0.142561</td>\n      <td>5.095359</td>\n      <td>83591.0</td>\n    </tr>\n    <tr>\n      <th>28</th>\n      <td>8031</td>\n      <td>03-31</td>\n      <td>7</td>\n      <td>11</td>\n      <td>8</td>\n      <td>7</td>\n      <td>14</td>\n      <td>1.0</td>\n      <td>1.0</td>\n      <td>3922.6</td>\n      <td>0.117539</td>\n      <td>11.196045</td>\n      <td>68069.0</td>\n    </tr>\n    <tr>\n      <th>29</th>\n      <td>8035</td>\n      <td>04-08</td>\n      <td>15</td>\n      <td>19</td>\n      <td>16</td>\n      <td>15</td>\n      <td>22</td>\n      <td>1.0</td>\n      <td>1.0</td>\n      <td>339.7</td>\n      <td>0.119422</td>\n      <td>5.356285</td>\n      <td>120670.0</td>\n    </tr>\n    <tr>\n      <th>...</th>\n      <td>...</td>\n      <td>...</td>\n      <td>...</td>\n      <td>...</td>\n      <td>...</td>\n      <td>...</td>\n      <td>...</td>\n      <td>...</td>\n      <td>...</td>\n      <td>...</td>\n      <td>...</td>\n      <td>...</td>\n      <td>...</td>\n    </tr>\n    <tr>\n      <th>252</th>\n      <td>47157</td>\n      <td>04-02</td>\n      <td>2</td>\n      <td>10</td>\n      <td>13</td>\n      <td>8</td>\n      <td>10</td>\n      <td>1.0</td>\n      <td>1.0</td>\n      <td>1215.5</td>\n      <td>0.135824</td>\n      <td>15.895525</td>\n      <td>47924.0</td>\n    </tr>\n    <tr>\n      <th>253</th>\n      <td>47165</td>\n      <td>04-03</td>\n      <td>3</td>\n      <td>11</td>\n      <td>14</td>\n      <td>9</td>\n      <td>11</td>\n      <td>1.0</td>\n      <td>1.0</td>\n      <td>303.4</td>\n      <td>0.158505</td>\n      <td>3.179040</td>\n      <td>66171.0</td>\n    </tr>\n    <tr>\n      <th>254</th>\n      <td>48029</td>\n      <td>03-30</td>\n      <td>6</td>\n      <td>11</td>\n      <td>7</td>\n      <td>9</td>\n      <td>11</td>\n      <td>1.0</td>\n      <td>1.0</td>\n      <td>1383.1</td>\n      <td>0.121156</td>\n      <td>36.189438</td>\n      <td>54210.0</td>\n    </tr>\n    <tr>\n      <th>255</th>\n      <td>48041</td>\n      <td>04-05</td>\n      <td>12</td>\n      <td>17</td>\n      <td>13</td>\n      <td>15</td>\n      <td>17</td>\n      <td>3.0</td>\n      <td>2.0</td>\n      <td>332.8</td>\n      <td>0.091560</td>\n      <td>4.131945</td>\n      <td>50113.0</td>\n    </tr>\n    <tr>\n      <th>256</th>\n      <td>48085</td>\n      <td>04-09</td>\n      <td>16</td>\n      <td>21</td>\n      <td>17</td>\n      <td>19</td>\n      <td>21</td>\n      <td>1.0</td>\n      <td>1.0</td>\n      <td>930.0</td>\n      <td>0.110088</td>\n      <td>18.315595</td>\n      <td>96936.0</td>\n    </tr>\n    <tr>\n      <th>257</th>\n      <td>48113</td>\n      <td>03-25</td>\n      <td>2</td>\n      <td>6</td>\n      <td>2</td>\n      <td>4</td>\n      <td>6</td>\n      <td>1.0</td>\n      <td>1.0</td>\n      <td>2718.0</td>\n      <td>0.107346</td>\n      <td>48.065020</td>\n      <td>59838.0</td>\n    </tr>\n    <tr>\n      <th>258</th>\n      <td>48121</td>\n      <td>04-03</td>\n      <td>1</td>\n      <td>15</td>\n      <td>11</td>\n      <td>13</td>\n      <td>15</td>\n      <td>1.0</td>\n      <td>1.0</td>\n      <td>754.3</td>\n      <td>0.101755</td>\n      <td>15.653714</td>\n      <td>88384.0</td>\n    </tr>\n    <tr>\n      <th>259</th>\n      <td>48157</td>\n      <td>04-06</td>\n      <td>13</td>\n      <td>18</td>\n      <td>14</td>\n      <td>16</td>\n      <td>18</td>\n      <td>1.0</td>\n      <td>1.0</td>\n      <td>679.5</td>\n      <td>0.110588</td>\n      <td>14.356211</td>\n      <td>92310.0</td>\n    </tr>\n    <tr>\n      <th>260</th>\n      <td>48167</td>\n      <td>04-10</td>\n      <td>17</td>\n      <td>22</td>\n      <td>18</td>\n      <td>20</td>\n      <td>22</td>\n      <td>1.0</td>\n      <td>1.0</td>\n      <td>769.9</td>\n      <td>0.143849</td>\n      <td>6.156972</td>\n      <td>71959.0</td>\n    </tr>\n    <tr>\n      <th>261</th>\n      <td>48201</td>\n      <td>03-31</td>\n      <td>7</td>\n      <td>12</td>\n      <td>8</td>\n      <td>10</td>\n      <td>12</td>\n      <td>1.0</td>\n      <td>1.0</td>\n      <td>2402.4</td>\n      <td>0.105193</td>\n      <td>85.617414</td>\n      <td>60241.0</td>\n    </tr>\n    <tr>\n      <th>262</th>\n      <td>48303</td>\n      <td>04-06</td>\n      <td>4</td>\n      <td>18</td>\n      <td>14</td>\n      <td>16</td>\n      <td>18</td>\n      <td>2.0</td>\n      <td>2.0</td>\n      <td>311.3</td>\n      <td>0.124263</td>\n      <td>5.601608</td>\n      <td>50377.0</td>\n    </tr>\n    <tr>\n      <th>263</th>\n      <td>48439</td>\n      <td>04-02</td>\n      <td>9</td>\n      <td>14</td>\n      <td>10</td>\n      <td>12</td>\n      <td>14</td>\n      <td>1.0</td>\n      <td>1.0</td>\n      <td>2094.7</td>\n      <td>0.112803</td>\n      <td>37.991248</td>\n      <td>66059.0</td>\n    </tr>\n    <tr>\n      <th>264</th>\n      <td>48453</td>\n      <td>04-05</td>\n      <td>3</td>\n      <td>17</td>\n      <td>13</td>\n      <td>15</td>\n      <td>17</td>\n      <td>1.0</td>\n      <td>1.0</td>\n      <td>1034.4</td>\n      <td>0.098815</td>\n      <td>22.754377</td>\n      <td>76255.0</td>\n    </tr>\n    <tr>\n      <th>265</th>\n      <td>48479</td>\n      <td>04-05</td>\n      <td>3</td>\n      <td>17</td>\n      <td>13</td>\n      <td>15</td>\n      <td>17</td>\n      <td>2.0</td>\n      <td>2.0</td>\n      <td>74.5</td>\n      <td>0.094549</td>\n      <td>5.027584</td>\n      <td>44919.0</td>\n    </tr>\n    <tr>\n      <th>266</th>\n      <td>49035</td>\n      <td>04-06</td>\n      <td>7</td>\n      <td>19</td>\n      <td>21</td>\n      <td>19</td>\n      <td>19</td>\n      <td>1.0</td>\n      <td>1.0</td>\n      <td>1387.1</td>\n      <td>0.108584</td>\n      <td>19.690008</td>\n      <td>73619.0</td>\n    </tr>\n    <tr>\n      <th>267</th>\n      <td>50007</td>\n      <td>04-09</td>\n      <td>15</td>\n      <td>23</td>\n      <td>22</td>\n      <td>15</td>\n      <td>17</td>\n      <td>3.0</td>\n      <td>2.0</td>\n      <td>291.7</td>\n      <td>0.149922</td>\n      <td>3.678767</td>\n      <td>74240.0</td>\n    </tr>\n    <tr>\n      <th>268</th>\n      <td>51059</td>\n      <td>04-08</td>\n      <td>9</td>\n      <td>16</td>\n      <td>23</td>\n      <td>15</td>\n      <td>23</td>\n      <td>1.0</td>\n      <td>1.0</td>\n      <td>2766.8</td>\n      <td>0.134550</td>\n      <td>12.970228</td>\n      <td>122035.0</td>\n    </tr>\n    <tr>\n      <th>269</th>\n      <td>53005</td>\n      <td>03-31</td>\n      <td>8</td>\n      <td>14</td>\n      <td>14</td>\n      <td>8</td>\n      <td>14</td>\n      <td>2.0</td>\n      <td>2.0</td>\n      <td>103.0</td>\n      <td>0.149086</td>\n      <td>2.464662</td>\n      <td>69212.0</td>\n    </tr>\n    <tr>\n      <th>270</th>\n      <td>53011</td>\n      <td>03-27</td>\n      <td>4</td>\n      <td>10</td>\n      <td>10</td>\n      <td>4</td>\n      <td>10</td>\n      <td>1.0</td>\n      <td>1.0</td>\n      <td>676.2</td>\n      <td>0.154672</td>\n      <td>5.882862</td>\n      <td>73971.0</td>\n    </tr>\n    <tr>\n      <th>271</th>\n      <td>53029</td>\n      <td>04-08</td>\n      <td>16</td>\n      <td>22</td>\n      <td>22</td>\n      <td>16</td>\n      <td>22</td>\n      <td>4.0</td>\n      <td>3.0</td>\n      <td>376.6</td>\n      <td>0.245832</td>\n      <td>1.031149</td>\n      <td>65987.0</td>\n    </tr>\n    <tr>\n      <th>272</th>\n      <td>53053</td>\n      <td>03-29</td>\n      <td>6</td>\n      <td>12</td>\n      <td>12</td>\n      <td>6</td>\n      <td>12</td>\n      <td>1.0</td>\n      <td>1.0</td>\n      <td>476.3</td>\n      <td>0.138152</td>\n      <td>10.881629</td>\n      <td>75022.0</td>\n    </tr>\n    <tr>\n      <th>273</th>\n      <td>53057</td>\n      <td>04-11</td>\n      <td>19</td>\n      <td>25</td>\n      <td>25</td>\n      <td>19</td>\n      <td>25</td>\n      <td>3.0</td>\n      <td>2.0</td>\n      <td>67.5</td>\n      <td>0.207408</td>\n      <td>1.565233</td>\n      <td>70955.0</td>\n    </tr>\n    <tr>\n      <th>274</th>\n      <td>53061</td>\n      <td>03-17</td>\n      <td>-6</td>\n      <td>0</td>\n      <td>0</td>\n      <td>-6</td>\n      <td>0</td>\n      <td>1.0</td>\n      <td>1.0</td>\n      <td>341.8</td>\n      <td>0.134701</td>\n      <td>9.948907</td>\n      <td>87096.0</td>\n    </tr>\n    <tr>\n      <th>275</th>\n      <td>53063</td>\n      <td>04-03</td>\n      <td>11</td>\n      <td>17</td>\n      <td>17</td>\n      <td>11</td>\n      <td>17</td>\n      <td>2.0</td>\n      <td>2.0</td>\n      <td>267.2</td>\n      <td>0.161823</td>\n      <td>6.282991</td>\n      <td>59408.0</td>\n    </tr>\n    <tr>\n      <th>276</th>\n      <td>53073</td>\n      <td>03-29</td>\n      <td>6</td>\n      <td>12</td>\n      <td>12</td>\n      <td>6</td>\n      <td>12</td>\n      <td>3.0</td>\n      <td>2.0</td>\n      <td>95.5</td>\n      <td>0.173507</td>\n      <td>2.755327</td>\n      <td>62262.0</td>\n    </tr>\n    <tr>\n      <th>277</th>\n      <td>53077</td>\n      <td>04-02</td>\n      <td>10</td>\n      <td>16</td>\n      <td>16</td>\n      <td>10</td>\n      <td>16</td>\n      <td>3.0</td>\n      <td>2.0</td>\n      <td>56.6</td>\n      <td>0.137302</td>\n      <td>3.069836</td>\n      <td>51377.0</td>\n    </tr>\n    <tr>\n      <th>278</th>\n      <td>55025</td>\n      <td>04-04</td>\n      <td>10</td>\n      <td>18</td>\n      <td>17</td>\n      <td>18</td>\n      <td>18</td>\n      <td>2.0</td>\n      <td>2.0</td>\n      <td>407.7</td>\n      <td>0.137238</td>\n      <td>12.407942</td>\n      <td>71789.0</td>\n    </tr>\n    <tr>\n      <th>279</th>\n      <td>55079</td>\n      <td>03-26</td>\n      <td>1</td>\n      <td>9</td>\n      <td>8</td>\n      <td>9</td>\n      <td>9</td>\n      <td>1.0</td>\n      <td>1.0</td>\n      <td>3926.0</td>\n      <td>0.136050</td>\n      <td>21.692484</td>\n      <td>49771.0</td>\n    </tr>\n    <tr>\n      <th>280</th>\n      <td>55089</td>\n      <td>04-05</td>\n      <td>11</td>\n      <td>19</td>\n      <td>18</td>\n      <td>19</td>\n      <td>19</td>\n      <td>1.0</td>\n      <td>1.0</td>\n      <td>370.7</td>\n      <td>0.197460</td>\n      <td>2.039462</td>\n      <td>83014.0</td>\n    </tr>\n    <tr>\n      <th>281</th>\n      <td>55133</td>\n      <td>04-09</td>\n      <td>15</td>\n      <td>23</td>\n      <td>22</td>\n      <td>23</td>\n      <td>23</td>\n      <td>1.0</td>\n      <td>1.0</td>\n      <td>709.4</td>\n      <td>0.186542</td>\n      <td>9.221286</td>\n      <td>87333.0</td>\n    </tr>\n  </tbody>\n</table>\n<p>282 rows × 13 columns</p>\n</div>",
      "text/plain": "      FIPS  onset  stay at home  restaurant dine-in  public schools  \\\n0     1017  04-04             0                  16              19   \n1     1055  04-11             7                  23              26   \n2     1073  04-03             8                  15              18   \n3     1081  04-10             6                  22              25   \n4     1097  04-05             1                  17              20   \n5     4005  04-02             2                  14              17   \n6     4013  04-02             2                  14              17   \n7     4017  04-08             8                  20              23   \n8     4019  04-02             2                  14              17   \n9     5119  04-09             0                  21              23   \n10    6001  03-29            10                  14              10   \n11    6013  04-05            17                  21              17   \n12    6037  03-23             4                   8               4   \n13    6041  04-02            14                  18              14   \n14    6059  03-31            12                  16              12   \n15    6065  03-22             3                   7               3   \n16    6067  03-27             8                  12               8   \n17    6071  04-01            13                  17              13   \n18    6073  03-28             9                  13               9   \n19    6075  03-30            11                  15              11   \n20    6077  03-30            11                  15              11   \n21    6081  03-27             8                  12               8   \n22    6085  03-18            -1                   3              -1   \n23    6107  04-06            18                  22              18   \n24    6111  04-03            15                  19              15   \n25    8001  04-03            10                  14              11   \n26    8005  03-31             7                  11               8   \n27    8013  04-11            18                  22              19   \n28    8031  03-31             7                  11               8   \n29    8035  04-08            15                  19              16   \n..     ...    ...           ...                 ...             ...   \n252  47157  04-02             2                  10              13   \n253  47165  04-03             3                  11              14   \n254  48029  03-30             6                  11               7   \n255  48041  04-05            12                  17              13   \n256  48085  04-09            16                  21              17   \n257  48113  03-25             2                   6               2   \n258  48121  04-03             1                  15              11   \n259  48157  04-06            13                  18              14   \n260  48167  04-10            17                  22              18   \n261  48201  03-31             7                  12               8   \n262  48303  04-06             4                  18              14   \n263  48439  04-02             9                  14              10   \n264  48453  04-05             3                  17              13   \n265  48479  04-05             3                  17              13   \n266  49035  04-06             7                  19              21   \n267  50007  04-09            15                  23              22   \n268  51059  04-08             9                  16              23   \n269  53005  03-31             8                  14              14   \n270  53011  03-27             4                  10              10   \n271  53029  04-08            16                  22              22   \n272  53053  03-29             6                  12              12   \n273  53057  04-11            19                  25              25   \n274  53061  03-17            -6                   0               0   \n275  53063  04-03            11                  17              17   \n276  53073  03-29             6                  12              12   \n277  53077  04-02            10                  16              16   \n278  55025  04-04            10                  18              17   \n279  55079  03-26             1                   9               8   \n280  55089  04-05            11                  19              18   \n281  55133  04-09            15                  23              22   \n\n     >50 gatherings  entertainment/gym  Rural-urban_Continuum Code_2013  \\\n0                15                  7                              6.0   \n1                22                 14                              3.0   \n2                14                  6                              1.0   \n3                21                 13                              3.0   \n4                16                  8                              2.0   \n5                16                 14                              3.0   \n6                16                 14                              1.0   \n7                22                 20                              4.0   \n8                16                 14                              2.0   \n9                14                 21                              2.0   \n10               10                 14                              1.0   \n11               17                 21                              1.0   \n12                4                  8                              1.0   \n13               14                 18                              1.0   \n14               12                 16                              1.0   \n15                3                  7                              1.0   \n16                8                 12                              1.0   \n17               13                 17                              1.0   \n18                9                 13                              1.0   \n19               11                 15                              1.0   \n20               11                 15                              2.0   \n21                8                 12                              1.0   \n22               -1                  3                              1.0   \n23               18                 22                              2.0   \n24               15                 19                              2.0   \n25               10                 17                              1.0   \n26                7                 14                              1.0   \n27               18                 25                              2.0   \n28                7                 14                              1.0   \n29               15                 22                              1.0   \n..              ...                ...                              ...   \n252               8                 10                              1.0   \n253               9                 11                              1.0   \n254               9                 11                              1.0   \n255              15                 17                              3.0   \n256              19                 21                              1.0   \n257               4                  6                              1.0   \n258              13                 15                              1.0   \n259              16                 18                              1.0   \n260              20                 22                              1.0   \n261              10                 12                              1.0   \n262              16                 18                              2.0   \n263              12                 14                              1.0   \n264              15                 17                              1.0   \n265              15                 17                              2.0   \n266              19                 19                              1.0   \n267              15                 17                              3.0   \n268              15                 23                              1.0   \n269               8                 14                              2.0   \n270               4                 10                              1.0   \n271              16                 22                              4.0   \n272               6                 12                              1.0   \n273              19                 25                              3.0   \n274              -6                  0                              1.0   \n275              11                 17                              2.0   \n276               6                 12                              3.0   \n277              10                 16                              3.0   \n278              18                 18                              2.0   \n279               9                  9                              1.0   \n280              19                 19                              1.0   \n281              23                 23                              1.0   \n\n     Urban_Influence_Code_2013  \\\n0                          5.0   \n1                          2.0   \n2                          1.0   \n3                          2.0   \n4                          2.0   \n5                          2.0   \n6                          1.0   \n7                          5.0   \n8                          2.0   \n9                          2.0   \n10                         1.0   \n11                         1.0   \n12                         1.0   \n13                         1.0   \n14                         1.0   \n15                         1.0   \n16                         1.0   \n17                         1.0   \n18                         1.0   \n19                         1.0   \n20                         2.0   \n21                         1.0   \n22                         1.0   \n23                         2.0   \n24                         2.0   \n25                         1.0   \n26                         1.0   \n27                         2.0   \n28                         1.0   \n29                         1.0   \n..                         ...   \n252                        1.0   \n253                        1.0   \n254                        1.0   \n255                        2.0   \n256                        1.0   \n257                        1.0   \n258                        1.0   \n259                        1.0   \n260                        1.0   \n261                        1.0   \n262                        2.0   \n263                        1.0   \n264                        1.0   \n265                        2.0   \n266                        1.0   \n267                        2.0   \n268                        1.0   \n269                        2.0   \n270                        1.0   \n271                        3.0   \n272                        1.0   \n273                        2.0   \n274                        1.0   \n275                        2.0   \n276                        2.0   \n277                        2.0   \n278                        2.0   \n279                        1.0   \n280                        1.0   \n281                        1.0   \n\n     Density per square mile of land area - Population  Total_age65plus  \\\n0                                                 57.4         0.195210   \n1                                                195.2         0.190115   \n2                                                592.5         0.158573   \n3                                                230.8         0.118829   \n4                                                335.9         0.162030   \n5                                                  7.2         0.124988   \n6                                                414.9         0.151737   \n7                                                 10.8         0.181176   \n8                                                106.7         0.197537   \n9                                                503.8         0.155534   \n10                                              2043.6         0.138299   \n11                                              1465.2         0.157747   \n12                                              2419.6         0.136159   \n13                                               485.1         0.223144   \n14                                              3807.7         0.147643   \n15                                               303.8         0.144087   \n16                                              1470.8         0.141210   \n17                                               101.5         0.115749   \n18                                               735.8         0.140414   \n19                                             17179.2         0.156513   \n20                                               492.6         0.127436   \n21                                              1602.2         0.161032   \n22                                              1381.0         0.134772   \n23                                                91.7         0.114395   \n24                                               446.7         0.155572   \n25                                               378.2         0.104689   \n26                                               716.7         0.130625   \n27                                               405.6         0.142561   \n28                                              3922.6         0.117539   \n29                                               339.7         0.119422   \n..                                                 ...              ...   \n252                                             1215.5         0.135824   \n253                                              303.4         0.158505   \n254                                             1383.1         0.121156   \n255                                              332.8         0.091560   \n256                                              930.0         0.110088   \n257                                             2718.0         0.107346   \n258                                              754.3         0.101755   \n259                                              679.5         0.110588   \n260                                              769.9         0.143849   \n261                                             2402.4         0.105193   \n262                                              311.3         0.124263   \n263                                             2094.7         0.112803   \n264                                             1034.4         0.098815   \n265                                               74.5         0.094549   \n266                                             1387.1         0.108584   \n267                                              291.7         0.149922   \n268                                             2766.8         0.134550   \n269                                              103.0         0.149086   \n270                                              676.2         0.154672   \n271                                              376.6         0.245832   \n272                                              476.3         0.138152   \n273                                               67.5         0.207408   \n274                                              341.8         0.134701   \n275                                              267.2         0.161823   \n276                                               95.5         0.173507   \n277                                               56.6         0.137302   \n278                                              407.7         0.137238   \n279                                             3926.0         0.136050   \n280                                              370.7         0.197460   \n281                                              709.4         0.186542   \n\n     Total Hospitals (2019)  MEDHHINC_2018  \n0                  0.694600        39917.0  \n1                  2.118018        44903.0  \n2                 13.623375        55013.0  \n3                  3.387577        48937.0  \n4                  8.549624        43598.0  \n5                  1.653300        60187.0  \n6                 51.048029        65234.0  \n7                  1.278219        40650.0  \n8                 12.025560        53395.0  \n9                 11.465775        49957.0  \n10                15.126618       101744.0  \n11                10.438777       101463.0  \n12                91.712638        67986.0  \n13                 2.356599       122933.0  \n14                28.914256        89373.0  \n15                22.241857        66793.0  \n16                13.985120        69475.0  \n17                19.708385        63310.0  \n18                30.342703        78777.0  \n19                 8.016435       110601.0  \n20                 6.830767        63567.0  \n21                 6.984006       122930.0  \n22                17.584418       125933.0  \n23                 4.227922        48763.0  \n24                 7.722952        84170.0  \n25                 7.998550        70199.0  \n26                10.176013        76665.0  \n27                 5.095359        83591.0  \n28                11.196045        68069.0  \n29                 5.356285       120670.0  \n..                      ...            ...  \n252               15.895525        47924.0  \n253                3.179040        66171.0  \n254               36.189438        54210.0  \n255                4.131945        50113.0  \n256               18.315595        96936.0  \n257               48.065020        59838.0  \n258               15.653714        88384.0  \n259               14.356211        92310.0  \n260                6.156972        71959.0  \n261               85.617414        60241.0  \n262                5.601608        50377.0  \n263               37.991248        66059.0  \n264               22.754377        76255.0  \n265                5.027584        44919.0  \n266               19.690008        73619.0  \n267                3.678767        74240.0  \n268               12.970228       122035.0  \n269                2.464662        69212.0  \n270                5.882862        73971.0  \n271                1.031149        65987.0  \n272               10.881629        75022.0  \n273                1.565233        70955.0  \n274                9.948907        87096.0  \n275                6.282991        59408.0  \n276                2.755327        62262.0  \n277                3.069836        51377.0  \n278               12.407942        71789.0  \n279               21.692484        49771.0  \n280                2.039462        83014.0  \n281                9.221286        87333.0  \n\n[282 rows x 13 columns]"
     },
     "execution_count": 342,
     "metadata": {},
     "output_type": "execute_result"
    }
   ],
   "source": [
    "constant_covariates"
   ]
  },
  {
   "cell_type": "code",
   "execution_count": null,
   "metadata": {},
   "outputs": [],
   "source": []
  }
 ]
}