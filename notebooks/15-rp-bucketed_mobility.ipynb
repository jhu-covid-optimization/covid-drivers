{
 "cells": [
  {
   "cell_type": "markdown",
   "metadata": {},
   "source": [
    "# Features relations by mobility levels"
   ]
  },
  {
   "cell_type": "code",
   "execution_count": 1,
   "metadata": {},
   "outputs": [],
   "source": [
    "import numpy as np\n",
    "import pandas as pd\n",
    "from pathlib import Path\n",
    "from datetime import datetime\n",
    "from tqdm import tqdm\n",
    "import pickle\n",
    "from matplotlib import dates\n",
    "import matplotlib.pyplot as plt\n",
    "import seaborn as sns\n",
    "import sys; sys.path.append('../')\n",
    "from src.data_loader.data_loader import *\n",
    "from src.utils.dates import get_today, lag_date, date2str, str2date, get_format\n",
    "from src.utils.df_utils import get_date_columns\n",
    "from src.pandas.align import align_lagged_dates\n",
    "\n",
    "from scipy.stats import spearmanr\n",
    "\n",
    "%matplotlib inline\n",
    "%load_ext autoreload\n",
    "%autoreload 2"
   ]
  },
  {
   "cell_type": "code",
   "execution_count": 2,
   "metadata": {},
   "outputs": [
    {
     "output_type": "stream",
     "name": "stdout",
     "text": "Mobility Last Updated 05-08\nDeaths Last Updated 05-26\n"
    }
   ],
   "source": [
    "# Time series data\n",
    "mobility, mobility_date = load_google_mobility()\n",
    "deaths, deaths_date = load_deaths(join_county_codes=False)\n",
    "interventions, interventions_date = load_interventions()\n",
    "\n",
    "# Static data\n",
    "counties, counties_date = load_counties()\n",
    "\n",
    "# Processed mobility -> time series\n",
    "mobility_ts, mobility_ts_date = load_google_mobility_time_series()\n",
    "\n",
    "m50,_ = load_descartes_m50()\n",
    "\n",
    "od_mobility = load_od_baseline()\n",
    "\n",
    "hospitals = load_acute_care(beds=True)\n",
    "\n",
    "print(f'Mobility Last Updated {mobility_ts_date}')\n",
    "print(f'Deaths Last Updated {deaths_date}')\n",
    "\n",
    "# County adjacency edge list\n",
    "with open('../data/processed/county_adjacency_edge_dict.pkl', 'rb') as f:\n",
    "    county_adj = pickle.load(f)"
   ]
  },
  {
   "cell_type": "code",
   "execution_count": 3,
   "metadata": {},
   "outputs": [],
   "source": [
    "N_DAYS = 9\n",
    "ONSET_THRESH = 3\n",
    "GROWTH_THRESH = 0"
   ]
  },
  {
   "cell_type": "code",
   "execution_count": 4,
   "metadata": {},
   "outputs": [],
   "source": [
    "# Get death dataframe date columns\n",
    "death_dates = get_date_columns(deaths, return_dtimes=False)"
   ]
  },
  {
   "cell_type": "code",
   "execution_count": 5,
   "metadata": {},
   "outputs": [],
   "source": [
    "def get_onset_date(row, thresh):\n",
    "    above = row[row >= thresh]\n",
    "    if len(above) == 0:\n",
    "        return np.nan\n",
    "    else:\n",
    "        return above.idxmin()"
   ]
  },
  {
   "cell_type": "code",
   "execution_count": 8,
   "metadata": {},
   "outputs": [],
   "source": [
    "death_data = pd.DataFrame(columns=['FIPS', 'Deaths'])\n",
    "deaths_df = deaths[['FIPS']+death_dates]\n",
    "\n",
    "# Get all existing data n_days from the death_thresh death.\n",
    "for i in range(len(deaths_df)):\n",
    "    county = deaths_df.iloc[i]\n",
    "\n",
    "    # Iterate through dates to find first date with deaths >= death thresh\n",
    "    for j in range(len(death_dates)):\n",
    "        if county[death_dates[j]] >= ONSET_THRESH:\n",
    "\n",
    "            # See if this happened n_days or more before current day\n",
    "            try:\n",
    "                n_days_later = death_dates[j+N_DAYS]\n",
    "\n",
    "                # Make sure the data is bug-free\n",
    "                bad_data=False\n",
    "                for k in range(n_days):\n",
    "                    if county[n_days_later] < county[dates[j+k]]:\n",
    "                        bad_data=True\n",
    "                if not bad_data:\n",
    "                    death_data = death_data.append({'FIPS': county['FIPS'], 'Deaths':county[n_days_later]}, ignore_index=True)\n",
    "                break\n",
    "\n",
    "            except:\n",
    "                break"
   ]
  },
  {
   "cell_type": "code",
   "execution_count": null,
   "metadata": {},
   "outputs": [],
   "source": []
  }
 ],
 "metadata": {
  "kernelspec": {
   "display_name": "Python 3",
   "language": "python",
   "name": "python3"
  },
  "language_info": {
   "codemirror_mode": {
    "name": "ipython",
    "version": 3
   },
   "file_extension": ".py",
   "mimetype": "text/x-python",
   "name": "python",
   "nbconvert_exporter": "python",
   "pygments_lexer": "ipython3",
   "version": "3.7.6-final"
  }
 },
 "nbformat": 4,
 "nbformat_minor": 2
}