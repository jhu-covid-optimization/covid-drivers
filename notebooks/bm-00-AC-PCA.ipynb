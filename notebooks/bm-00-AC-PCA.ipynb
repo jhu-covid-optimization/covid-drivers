{
 "cells": [
  {
   "cell_type": "raw",
   "metadata": {},
   "source": [
    "Beatriz Medeiros\n",
    "Notebook for simple AC-PCA experiment "
   ]
  },
  {
   "cell_type": "code",
   "execution_count": 100,
   "metadata": {},
   "outputs": [],
   "source": [
    "import pandas as pd\n",
    "import numpy as np\n",
    "import matplotlib.pyplot as plt\n",
    "import sklearn.linear_model as lm"
   ]
  },
  {
   "cell_type": "markdown",
   "metadata": {},
   "source": [
    "### Lambda=20"
   ]
  },
  {
   "cell_type": "code",
   "execution_count": 111,
   "metadata": {},
   "outputs": [
    {
     "data": {
      "text/plain": [
       "array([[-0.12659944, -0.31911739],\n",
       "       [-0.13337143, -0.32668804],\n",
       "       [ 0.20620854, -0.64833152],\n",
       "       ...,\n",
       "       [ 0.03663018, -0.4872732 ],\n",
       "       [-0.6266579 ,  0.17375747],\n",
       "       [ 0.21149916, -0.64241696]])"
      ]
     },
     "execution_count": 111,
     "metadata": {},
     "output_type": "execute_result"
    }
   ],
   "source": [
    "acpca_data2 = pd.read_csv('../data/intermediates/post_acpca_dh.csv')\n",
    "acpca_data2.head()\n",
    "acpca_arr2 = acpca_data2.to_numpy()\n",
    "acpca_arr2"
   ]
  },
  {
   "cell_type": "code",
   "execution_count": 112,
   "metadata": {},
   "outputs": [
    {
     "data": {
      "text/plain": [
       "[<matplotlib.lines.Line2D at 0x12a3d1f50>]"
      ]
     },
     "execution_count": 112,
     "metadata": {},
     "output_type": "execute_result"
    },
    {
     "data": {
      "image/png": "[encoded data removed]",
      "text/plain": [
       "<Figure size 432x288 with 1 Axes>"
      ]
     },
     "metadata": {
      "needs_background": "light"
     },
     "output_type": "display_data"
    }
   ],
   "source": [
    "plt.plot(list(acpca_data2['PC1'].values), list(acpca_data2['PC2'].values), 'bo')"
   ]
  },
  {
   "cell_type": "code",
   "execution_count": 113,
   "metadata": {},
   "outputs": [
    {
     "data": {
      "text/plain": [
       "0.001270665516471925"
      ]
     },
     "execution_count": 113,
     "metadata": {},
     "output_type": "execute_result"
    }
   ],
   "source": [
    "X = acpca_arr2[:,0].reshape(1, -1).T\n",
    "Y = acpca_arr2[:,1].reshape(1, -1).T\n",
    "reg = lm.LinearRegression().fit(X,Y)\n",
    "reg.score(X,Y)"
   ]
  },
  {
   "cell_type": "code",
   "execution_count": 114,
   "metadata": {},
   "outputs": [
    {
     "name": "stdout",
     "output_type": "stream",
     "text": [
      "            PC1           PC2\n",
      "0 -36801.907325 -4.013296e+06\n"
     ]
    },
    {
     "data": {
      "text/plain": [
       "<BarContainer object of 2 artists>"
      ]
     },
     "execution_count": 114,
     "metadata": {},
     "output_type": "execute_result"
    },
    {
     "data": {
      "image/png": "[encoded data removed]",
      "text/plain": [
       "<Figure size 432x288 with 1 Axes>"
      ]
     },
     "metadata": {
      "needs_background": "light"
     },
     "output_type": "display_data"
    }
   ],
   "source": [
    "eigens = pd.read_csv('../data/intermediates/eigenvalues_dh.csv')\n",
    "print(eigens.head())\n",
    "# print(eigens.loc[0,eigens.columns.values)\n",
    "# labels = ['PC1', 'PC2', 'PC3', 'PC4']\n",
    "plt.bar(eigens.columns.values, eigens.loc[0,eigens.columns.values]) "
   ]
  },
  {
   "cell_type": "code",
   "execution_count": null,
   "metadata": {},
   "outputs": [],
   "source": []
  }
 ],
 "metadata": {
  "kernelspec": {
   "display_name": "Python 3",
   "language": "python",
   "name": "python3"
  },
  "language_info": {
   "codemirror_mode": {
    "name": "ipython",
    "version": 3
   },
   "file_extension": ".py",
   "mimetype": "text/x-python",
   "name": "python",
   "nbconvert_exporter": "python",
   "pygments_lexer": "ipython3",
   "version": "3.7.6"
  }
 },
 "nbformat": 4,
 "nbformat_minor": 4
}
