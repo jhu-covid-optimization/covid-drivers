{
 "cells": [
  {
   "cell_type": "raw",
   "metadata": {},
   "source": [
    "Beatriz Medeiros\n",
    "Notebook for data processing pipeline for AC-PCA"
   ]
  },
  {
   "cell_type": "code",
   "execution_count": 1,
   "metadata": {},
   "outputs": [],
   "source": [
    "import pandas as pd\n",
    "import numpy as np\n",
    "import matplotlib.pyplot as plt\n",
    "import sklearn.linear_model as lm\n",
    "from sklearn.preprocessing import MinMaxScaler, StandardScaler\n",
    "import datetime\n",
    "pd.set_option('display.max_columns', 5000)"
   ]
  },
  {
   "cell_type": "code",
   "execution_count": 2,
   "metadata": {},
   "outputs": [],
   "source": [
    "# !curl https://raw.githubusercontent.com/JieYingWu/COVID-19_US_County-level_Summaries/master/data/counties.csv  -o ../data/raw/counties_09-11.csv\n",
    "# !curl https://raw.githubusercontent.com/JieYingWu/COVID-19_US_County-level_Summaries/master/data/deaths_timeseries.csv -o ../data/raw/time_series_covid19_deaths_US_06-19.csv\n",
    "# !curl https://opendata.arcgis.com/datasets/6ac5e325468c4cb9b905f1728d6fbf0f_0.csv?outSR=%7B%22latestWkid%22%3A3857%2C%22wkid%22%3A102100%7D -o ../data/raw/hospitals.csv\n",
    "# !curl https://raw.githubusercontent.com/descarteslabs/DL-COVID-19/master/DL-us-m50.csv -o ../data/raw/DL-us-m50.csv\n",
    "# !curl https://raw.githubusercontent.com/descarteslabs/DL-COVID-19/master/DL-us-m50_index.csv -o ../data/raw/DL-us-m50_index.csv\n",
    "# !curl https://raw.githubusercontent.com/CSSEGISandData/COVID-19/master/csse_covid_19_data/csse_covid_19_time_series/time_series_covid19_deaths_US.csv -o ../data/raw/time_series_covid19_deaths_US_05-22.csv\n",
    "# !curl https://www.gstatic.com/covid19/mobility/Global_Mobility_Report.csv?cachebust=694ae9957380f150 -o ../data/raw/google_mobility_report_06-14-20.csv\n",
    "# !curl https://raw.githubusercontent.com/HopkinsIDD/hit-covid/master/data/hit-covid-longdata.csv -o ../data/raw/hit_covid_interventions_06-26-20.csv\n",
    "# !curl https://raw.githubusercontent.com/Keystone-Strategy/covid19-intervention-data/master/complete_npis_raw_policies.csv -o ../data/raw/complete_npis_inherited_policies_keystone_06_26.csv # have to delete first cell/ttitle\n",
    "# !curl https://raw.githubusercontent.com/COVID19StatePolicy/SocialDistancing/master/data/USstatesCov19distancingpolicy.csv -o ../data/raw/USstatesCov19distancingpolicy_07_01.csv\n",
    "# !curl https://data.cms.gov/resource/s2uc-8wxp.csv -o ../data/raw/longtermcare_deaths_07_08.csv"
   ]
  },
  {
   "cell_type": "code",
   "execution_count": 3,
   "metadata": {},
   "outputs": [
    {
     "data": {
      "text/plain": [
       "Index(['FID', 'ID', 'NAME', 'ADDRESS', 'CITY', 'STATE', 'ZIP', 'ZIP4',\n",
       "       'TELEPHONE', 'TYPE', 'STATUS', 'POPULATION', 'COUNTY', 'COUNTYFIPS',\n",
       "       'COUNTRY', 'LATITUDE', 'LONGITUDE', 'NAICS_CODE', 'NAICS_DESC',\n",
       "       'SOURCE', 'SOURCEDATE', 'VAL_METHOD', 'VAL_DATE', 'WEBSITE', 'STATE_ID',\n",
       "       'ALT_NAME', 'ST_FIPS', 'OWNER', 'TTL_STAFF', 'BEDS', 'TRAUMA',\n",
       "       'HELIPAD'],\n",
       "      dtype='object')"
      ]
     },
     "execution_count": 3,
     "metadata": {},
     "output_type": "execute_result"
    }
   ],
   "source": [
    "hospitals = pd.read_csv('../data/raw/hospitals.csv')\n",
    "hospitals.columns"
   ]
  },
  {
   "cell_type": "markdown",
   "metadata": {},
   "source": [
    "## Pull Hospital Data"
   ]
  },
  {
   "cell_type": "markdown",
   "metadata": {},
   "source": [
    "### Long-term Care Hospitals"
   ]
  },
  {
   "cell_type": "code",
   "execution_count": 4,
   "metadata": {},
   "outputs": [
    {
     "data": {
      "text/html": [
       "<div>\n",
       "<style scoped>\n",
       "    .dataframe tbody tr th:only-of-type {\n",
       "        vertical-align: middle;\n",
       "    }\n",
       "\n",
       "    .dataframe tbody tr th {\n",
       "        vertical-align: top;\n",
       "    }\n",
       "\n",
       "    .dataframe thead th {\n",
       "        text-align: right;\n",
       "    }\n",
       "</style>\n",
       "<table border=\"1\" class=\"dataframe\">\n",
       "  <thead>\n",
       "    <tr style=\"text-align: right;\">\n",
       "      <th></th>\n",
       "      <th>FIPS</th>\n",
       "      <th>Long-term beds</th>\n",
       "    </tr>\n",
       "  </thead>\n",
       "  <tbody>\n",
       "    <tr>\n",
       "      <th>0</th>\n",
       "      <td>1015</td>\n",
       "      <td>38</td>\n",
       "    </tr>\n",
       "    <tr>\n",
       "      <th>1</th>\n",
       "      <td>1069</td>\n",
       "      <td>35</td>\n",
       "    </tr>\n",
       "    <tr>\n",
       "      <th>2</th>\n",
       "      <td>1073</td>\n",
       "      <td>38</td>\n",
       "    </tr>\n",
       "    <tr>\n",
       "      <th>3</th>\n",
       "      <td>1073</td>\n",
       "      <td>45</td>\n",
       "    </tr>\n",
       "    <tr>\n",
       "      <th>4</th>\n",
       "      <td>1083</td>\n",
       "      <td>31</td>\n",
       "    </tr>\n",
       "  </tbody>\n",
       "</table>\n",
       "</div>"
      ],
      "text/plain": [
       "   FIPS  Long-term beds\n",
       "0  1015              38\n",
       "1  1069              35\n",
       "2  1073              38\n",
       "3  1073              45\n",
       "4  1083              31"
      ]
     },
     "execution_count": 4,
     "metadata": {},
     "output_type": "execute_result"
    }
   ],
   "source": [
    "longterm_all = pd.read_csv('../data/raw/Long-_Term_Care_Hospital_-_General_Information.csv')\n",
    "longterm_all['Long-term beds'] = longterm_all['Total Number of Beds']\n",
    "longterm_all = longterm_all.drop(columns='Total Number of Beds')\n",
    "fipscodes = pd.read_csv('../data/raw/countyfipstool2019.csv').filter(['sab', 'cname', 'fips'])\n",
    "longterm_all = fipscodes.merge(longterm_all, left_on=['sab', 'cname'], right_on=['State', 'County Name'])\n",
    "longterm_all['FIPS'] = longterm_all['fips']\n",
    "longterm_all = longterm_all.drop(columns=['sab', 'cname', 'fips', 'State', 'County Name'])\n",
    "longterm = longterm_all.filter(['FIPS', 'Long-term beds', 'State', 'County Name'])\n",
    "longterm = longterm.dropna()\n",
    "longterm.head()"
   ]
  },
  {
   "cell_type": "code",
   "execution_count": 5,
   "metadata": {},
   "outputs": [
    {
     "data": {
      "text/html": [
       "<div>\n",
       "<style scoped>\n",
       "    .dataframe tbody tr th:only-of-type {\n",
       "        vertical-align: middle;\n",
       "    }\n",
       "\n",
       "    .dataframe tbody tr th {\n",
       "        vertical-align: top;\n",
       "    }\n",
       "\n",
       "    .dataframe thead th {\n",
       "        text-align: right;\n",
       "    }\n",
       "</style>\n",
       "<table border=\"1\" class=\"dataframe\">\n",
       "  <thead>\n",
       "    <tr style=\"text-align: right;\">\n",
       "      <th></th>\n",
       "      <th>FIPS</th>\n",
       "      <th>Longterm HospCt</th>\n",
       "      <th>Longterm Beds</th>\n",
       "    </tr>\n",
       "  </thead>\n",
       "  <tbody>\n",
       "    <tr>\n",
       "      <th>0</th>\n",
       "      <td>1015</td>\n",
       "      <td>1</td>\n",
       "      <td>38</td>\n",
       "    </tr>\n",
       "    <tr>\n",
       "      <th>1</th>\n",
       "      <td>1069</td>\n",
       "      <td>1</td>\n",
       "      <td>35</td>\n",
       "    </tr>\n",
       "    <tr>\n",
       "      <th>2</th>\n",
       "      <td>1073</td>\n",
       "      <td>2</td>\n",
       "      <td>83</td>\n",
       "    </tr>\n",
       "    <tr>\n",
       "      <th>3</th>\n",
       "      <td>1083</td>\n",
       "      <td>1</td>\n",
       "      <td>31</td>\n",
       "    </tr>\n",
       "    <tr>\n",
       "      <th>4</th>\n",
       "      <td>1097</td>\n",
       "      <td>1</td>\n",
       "      <td>22</td>\n",
       "    </tr>\n",
       "  </tbody>\n",
       "</table>\n",
       "</div>"
      ],
      "text/plain": [
       "   FIPS Longterm HospCt Longterm Beds\n",
       "0  1015               1            38\n",
       "1  1069               1            35\n",
       "2  1073               2            83\n",
       "3  1083               1            31\n",
       "4  1097               1            22"
      ]
     },
     "execution_count": 5,
     "metadata": {},
     "output_type": "execute_result"
    }
   ],
   "source": [
    "fips_groups =longterm.groupby(\"FIPS\")\n",
    "\n",
    "LT_hosp_data = pd.DataFrame(columns=['FIPS', 'Longterm HospCt', 'Longterm Beds'])\n",
    "for fips_code, grp in fips_groups:\n",
    "    LT_hosp_data = LT_hosp_data.append({'FIPS': fips_code, 'Longterm HospCt': len(grp), 'Longterm Beds': sum(grp['Long-term beds'])}, ignore_index=True)   \n",
    "\n",
    "LT_hosp_data.head()"
   ]
  },
  {
   "cell_type": "markdown",
   "metadata": {},
   "source": [
    "### Nursing Homes"
   ]
  },
  {
   "cell_type": "code",
   "execution_count": 6,
   "metadata": {},
   "outputs": [
    {
     "data": {
      "text/html": [
       "<div>\n",
       "<style scoped>\n",
       "    .dataframe tbody tr th:only-of-type {\n",
       "        vertical-align: middle;\n",
       "    }\n",
       "\n",
       "    .dataframe tbody tr th {\n",
       "        vertical-align: top;\n",
       "    }\n",
       "\n",
       "    .dataframe thead th {\n",
       "        text-align: right;\n",
       "    }\n",
       "</style>\n",
       "<table border=\"1\" class=\"dataframe\">\n",
       "  <thead>\n",
       "    <tr style=\"text-align: right;\">\n",
       "      <th></th>\n",
       "      <th>COUNTYFIPS</th>\n",
       "      <th>BEDS</th>\n",
       "    </tr>\n",
       "  </thead>\n",
       "  <tbody>\n",
       "    <tr>\n",
       "      <th>0</th>\n",
       "      <td>54019</td>\n",
       "      <td>58</td>\n",
       "    </tr>\n",
       "    <tr>\n",
       "      <th>1</th>\n",
       "      <td>51153</td>\n",
       "      <td>107</td>\n",
       "    </tr>\n",
       "    <tr>\n",
       "      <th>2</th>\n",
       "      <td>37051</td>\n",
       "      <td>170</td>\n",
       "    </tr>\n",
       "    <tr>\n",
       "      <th>3</th>\n",
       "      <td>25017</td>\n",
       "      <td>-999</td>\n",
       "    </tr>\n",
       "    <tr>\n",
       "      <th>4</th>\n",
       "      <td>55035</td>\n",
       "      <td>6</td>\n",
       "    </tr>\n",
       "  </tbody>\n",
       "</table>\n",
       "</div>"
      ],
      "text/plain": [
       "   COUNTYFIPS  BEDS\n",
       "0       54019    58\n",
       "1       51153   107\n",
       "2       37051   170\n",
       "3       25017  -999\n",
       "4       55035     6"
      ]
     },
     "execution_count": 6,
     "metadata": {},
     "output_type": "execute_result"
    }
   ],
   "source": [
    "nursing_homes = pd.read_csv('../data/raw/Nursing_Homes.csv').filter(['COUNTYFIPS','BEDS', 'STATUS'])\n",
    "nursing_homes = nursing_homes[nursing_homes['STATUS'] == 'OPEN']\n",
    "nursing_homes = nursing_homes.drop(columns='STATUS')\n",
    "nursing_homes.head()"
   ]
  },
  {
   "cell_type": "code",
   "execution_count": 7,
   "metadata": {},
   "outputs": [
    {
     "data": {
      "text/html": [
       "<div>\n",
       "<style scoped>\n",
       "    .dataframe tbody tr th:only-of-type {\n",
       "        vertical-align: middle;\n",
       "    }\n",
       "\n",
       "    .dataframe tbody tr th {\n",
       "        vertical-align: top;\n",
       "    }\n",
       "\n",
       "    .dataframe thead th {\n",
       "        text-align: right;\n",
       "    }\n",
       "</style>\n",
       "<table border=\"1\" class=\"dataframe\">\n",
       "  <thead>\n",
       "    <tr style=\"text-align: right;\">\n",
       "      <th></th>\n",
       "      <th>FIPS</th>\n",
       "      <th>NursingCt</th>\n",
       "      <th>NursingBeds</th>\n",
       "    </tr>\n",
       "  </thead>\n",
       "  <tbody>\n",
       "    <tr>\n",
       "      <th>0</th>\n",
       "      <td>1001</td>\n",
       "      <td>6</td>\n",
       "      <td>315</td>\n",
       "    </tr>\n",
       "    <tr>\n",
       "      <th>1</th>\n",
       "      <td>1003</td>\n",
       "      <td>25</td>\n",
       "      <td>1816</td>\n",
       "    </tr>\n",
       "    <tr>\n",
       "      <th>2</th>\n",
       "      <td>1005</td>\n",
       "      <td>3</td>\n",
       "      <td>212</td>\n",
       "    </tr>\n",
       "    <tr>\n",
       "      <th>3</th>\n",
       "      <td>1007</td>\n",
       "      <td>1</td>\n",
       "      <td>131</td>\n",
       "    </tr>\n",
       "    <tr>\n",
       "      <th>4</th>\n",
       "      <td>1009</td>\n",
       "      <td>9</td>\n",
       "      <td>367</td>\n",
       "    </tr>\n",
       "  </tbody>\n",
       "</table>\n",
       "</div>"
      ],
      "text/plain": [
       "   FIPS NursingCt NursingBeds\n",
       "0  1001         6         315\n",
       "1  1003        25        1816\n",
       "2  1005         3         212\n",
       "3  1007         1         131\n",
       "4  1009         9         367"
      ]
     },
     "execution_count": 7,
     "metadata": {},
     "output_type": "execute_result"
    }
   ],
   "source": [
    "nursing = pd.DataFrame(columns=['FIPS', 'NursingCt', 'NursingBeds'])\n",
    "nursing_fips = nursing_homes.groupby('COUNTYFIPS')\n",
    "for fips, grp in nursing_fips:\n",
    "    nursing = nursing.append({'FIPS': fips, 'NursingCt': len(grp), 'NursingBeds': sum(grp['BEDS'])}, ignore_index=True)\n",
    "nursing.head()"
   ]
  },
  {
   "cell_type": "markdown",
   "metadata": {},
   "source": [
    "### General Hospitals"
   ]
  },
  {
   "cell_type": "code",
   "execution_count": 8,
   "metadata": {},
   "outputs": [
    {
     "name": "stdout",
     "output_type": "stream",
     "text": [
      "{'LONG TERM CARE', 'REHABILITATION', 'PSYCHIATRIC', 'GENERAL ACUTE CARE', 'CHRONIC DISEASE', 'SPECIAL', 'MILITARY', 'CRITICAL ACCESS', 'CHILDREN', 'WOMEN'}\n"
     ]
    },
    {
     "data": {
      "text/html": [
       "<div>\n",
       "<style scoped>\n",
       "    .dataframe tbody tr th:only-of-type {\n",
       "        vertical-align: middle;\n",
       "    }\n",
       "\n",
       "    .dataframe tbody tr th {\n",
       "        vertical-align: top;\n",
       "    }\n",
       "\n",
       "    .dataframe thead th {\n",
       "        text-align: right;\n",
       "    }\n",
       "</style>\n",
       "<table border=\"1\" class=\"dataframe\">\n",
       "  <thead>\n",
       "    <tr style=\"text-align: right;\">\n",
       "      <th></th>\n",
       "      <th>FIPS</th>\n",
       "      <th>HospCt</th>\n",
       "      <th>Beds</th>\n",
       "    </tr>\n",
       "  </thead>\n",
       "  <tbody>\n",
       "    <tr>\n",
       "      <th>0</th>\n",
       "      <td>1001</td>\n",
       "      <td>1</td>\n",
       "      <td>85</td>\n",
       "    </tr>\n",
       "    <tr>\n",
       "      <th>1</th>\n",
       "      <td>1003</td>\n",
       "      <td>3</td>\n",
       "      <td>332</td>\n",
       "    </tr>\n",
       "    <tr>\n",
       "      <th>2</th>\n",
       "      <td>1005</td>\n",
       "      <td>1</td>\n",
       "      <td>74</td>\n",
       "    </tr>\n",
       "    <tr>\n",
       "      <th>3</th>\n",
       "      <td>1007</td>\n",
       "      <td>1</td>\n",
       "      <td>35</td>\n",
       "    </tr>\n",
       "    <tr>\n",
       "      <th>4</th>\n",
       "      <td>1011</td>\n",
       "      <td>1</td>\n",
       "      <td>61</td>\n",
       "    </tr>\n",
       "  </tbody>\n",
       "</table>\n",
       "</div>"
      ],
      "text/plain": [
       "   FIPS HospCt Beds\n",
       "0  1001      1   85\n",
       "1  1003      3  332\n",
       "2  1005      1   74\n",
       "3  1007      1   35\n",
       "4  1011      1   61"
      ]
     },
     "execution_count": 8,
     "metadata": {},
     "output_type": "execute_result"
    }
   ],
   "source": [
    "# Created by Michael\n",
    "hospitals = pd.read_csv('../data/raw/hospitals.csv')[['TYPE', 'STATUS', 'COUNTYFIPS', 'BEDS', 'STATE', 'COUNTY']]\n",
    "print(set(hospitals[\"TYPE\"]))\n",
    "hospitals = hospitals[hospitals[\"STATUS\"] == 'OPEN']\n",
    "hospitals = hospitals[hospitals[\"TYPE\"] == 'GENERAL ACUTE CARE']\n",
    "hospitals = hospitals[hospitals[\"BEDS\"].astype(str).astype(int) > 0]\n",
    "hospitals[\"FIPS\"] = hospitals[\"COUNTYFIPS\"]\n",
    "hospitals = hospitals[hospitals[\"FIPS\"] != 'NOT AVAILABLE']\n",
    "hospitals = hospitals.drop([\"COUNTYFIPS\", \"STATUS\"], axis=1)\n",
    "hospitals[\"FIPS\"] = hospitals[\"FIPS\"].astype(str).astype(int)\n",
    "\n",
    "fips_groups = hospitals.groupby(\"FIPS\")\n",
    "\n",
    "hosp_data = pd.DataFrame(columns=['FIPS', 'HospCt', 'Beds'])\n",
    "for fips_code, grp in fips_groups:\n",
    "    hosp_data = hosp_data.append({'FIPS': fips_code, 'HospCt': len(grp), 'Beds': sum(grp[\"BEDS\"])}, ignore_index=True)   \n",
    "\n",
    "hosp_data.head()"
   ]
  },
  {
   "cell_type": "markdown",
   "metadata": {},
   "source": [
    "## County Data"
   ]
  },
  {
   "cell_type": "code",
   "execution_count": 9,
   "metadata": {},
   "outputs": [
    {
     "name": "stdout",
     "output_type": "stream",
     "text": [
      "(3273, 30)\n",
      "(3273, 30)\n",
      "test: (3273, 37)\n",
      "(3273, 37)\n",
      "range hosp beds:  0 24676\n",
      "range hosp beds:  0 1000\n",
      "range Nursing Ct:  0 12.047662694775436 4.0 1662\n",
      "range Nursing Ct:  0 12.15948670944088 4.0 1666\n",
      "(3273, 31)\n"
     ]
    },
    {
     "name": "stderr",
     "output_type": "stream",
     "text": [
      "/Users/beatrizmedeiros/anaconda3/lib/python3.7/site-packages/ipykernel_launcher.py:33: SettingWithCopyWarning: \n",
      "A value is trying to be set on a copy of a slice from a DataFrame\n",
      "\n",
      "See the caveats in the documentation: https://pandas.pydata.org/pandas-docs/stable/user_guide/indexing.html#returning-a-view-versus-a-copy\n"
     ]
    },
    {
     "data": {
      "text/html": [
       "<div>\n",
       "<style scoped>\n",
       "    .dataframe tbody tr th:only-of-type {\n",
       "        vertical-align: middle;\n",
       "    }\n",
       "\n",
       "    .dataframe tbody tr th {\n",
       "        vertical-align: top;\n",
       "    }\n",
       "\n",
       "    .dataframe thead th {\n",
       "        text-align: right;\n",
       "    }\n",
       "</style>\n",
       "<table border=\"1\" class=\"dataframe\">\n",
       "  <thead>\n",
       "    <tr style=\"text-align: right;\">\n",
       "      <th></th>\n",
       "      <th>FIPS</th>\n",
       "      <th>Density per square mile of land area - Population</th>\n",
       "      <th>Rural-urban_Continuum Code_2013</th>\n",
       "      <th>Percent of adults with less than a high school diploma 2014-18</th>\n",
       "      <th>Percent of adults with a bachelor's degree or higher 2014-18</th>\n",
       "      <th>Unemployment_rate_2018</th>\n",
       "      <th>Med_HH_Income_Percent_of_State_Total_2018</th>\n",
       "      <th>Jan Temp AVG / F</th>\n",
       "      <th>Feb Temp AVG / F</th>\n",
       "      <th>Mar Temp AVG / F</th>\n",
       "      <th>Apr Temp AVG / F</th>\n",
       "      <th>May Temp AVG / F</th>\n",
       "      <th>Jun Temp AVG / F</th>\n",
       "      <th>Jul Temp AVG / F</th>\n",
       "      <th>Aug Temp AVG / F</th>\n",
       "      <th>Sep Temp AVG / F</th>\n",
       "      <th>Oct Temp AVG / F</th>\n",
       "      <th>Nov Temp AVG / F</th>\n",
       "      <th>Dec Temp AVG / F</th>\n",
       "      <th>Total_age65plus</th>\n",
       "      <th>Total households!!Average household size</th>\n",
       "      <th>SCHOOL ENROLLMENT!!Population 3 years and over enrolled in school!!Nursery school preschool</th>\n",
       "      <th>SCHOOL ENROLLMENT!!Population 3 years and over enrolled in school!!Kindergarten</th>\n",
       "      <th>SCHOOL ENROLLMENT!!Population 3 years and over enrolled in school!!Elementary school (grades 1-8)</th>\n",
       "      <th>SCHOOL ENROLLMENT!!Population 3 years and over enrolled in school!!High school (grades 9-12)</th>\n",
       "      <th>SCHOOL ENROLLMENT!!Population 3 years and over enrolled in school!!College or graduate school</th>\n",
       "      <th>POP_ESTIMATE_2018</th>\n",
       "      <th>NursingCt</th>\n",
       "      <th>HospCt</th>\n",
       "      <th>Hispanic Population</th>\n",
       "      <th>Black Population</th>\n",
       "    </tr>\n",
       "  </thead>\n",
       "  <tbody>\n",
       "    <tr>\n",
       "      <th>0</th>\n",
       "      <td>0</td>\n",
       "      <td>87.4</td>\n",
       "      <td>NaN</td>\n",
       "      <td>12.3</td>\n",
       "      <td>31.5</td>\n",
       "      <td>3.9</td>\n",
       "      <td>NaN</td>\n",
       "      <td>NaN</td>\n",
       "      <td>NaN</td>\n",
       "      <td>NaN</td>\n",
       "      <td>NaN</td>\n",
       "      <td>NaN</td>\n",
       "      <td>NaN</td>\n",
       "      <td>NaN</td>\n",
       "      <td>NaN</td>\n",
       "      <td>NaN</td>\n",
       "      <td>NaN</td>\n",
       "      <td>NaN</td>\n",
       "      <td>NaN</td>\n",
       "      <td>52431193.0</td>\n",
       "      <td>0.00</td>\n",
       "      <td>4300436.0</td>\n",
       "      <td>3397087.0</td>\n",
       "      <td>27916769.0</td>\n",
       "      <td>14550764.0</td>\n",
       "      <td>19757430.0</td>\n",
       "      <td>327167434</td>\n",
       "      <td>0</td>\n",
       "      <td>0</td>\n",
       "      <td>59722584.0</td>\n",
       "      <td>43799095.0</td>\n",
       "    </tr>\n",
       "    <tr>\n",
       "      <th>1</th>\n",
       "      <td>1000</td>\n",
       "      <td>94.4</td>\n",
       "      <td>NaN</td>\n",
       "      <td>14.2</td>\n",
       "      <td>24.9</td>\n",
       "      <td>3.9</td>\n",
       "      <td>100.0</td>\n",
       "      <td>46.06</td>\n",
       "      <td>55.57</td>\n",
       "      <td>54.56</td>\n",
       "      <td>63.26</td>\n",
       "      <td>73.92</td>\n",
       "      <td>77.8</td>\n",
       "      <td>80.4</td>\n",
       "      <td>80.34</td>\n",
       "      <td>79.93</td>\n",
       "      <td>67.48</td>\n",
       "      <td>50.28</td>\n",
       "      <td>50.94</td>\n",
       "      <td>NaN</td>\n",
       "      <td>NaN</td>\n",
       "      <td>NaN</td>\n",
       "      <td>NaN</td>\n",
       "      <td>NaN</td>\n",
       "      <td>NaN</td>\n",
       "      <td>NaN</td>\n",
       "      <td>4887871</td>\n",
       "      <td>0</td>\n",
       "      <td>0</td>\n",
       "      <td>NaN</td>\n",
       "      <td>NaN</td>\n",
       "    </tr>\n",
       "    <tr>\n",
       "      <th>2</th>\n",
       "      <td>1001</td>\n",
       "      <td>91.8</td>\n",
       "      <td>2.0</td>\n",
       "      <td>11.3</td>\n",
       "      <td>27.7</td>\n",
       "      <td>3.6</td>\n",
       "      <td>119.0</td>\n",
       "      <td>47.00</td>\n",
       "      <td>58.60</td>\n",
       "      <td>56.10</td>\n",
       "      <td>65.00</td>\n",
       "      <td>75.50</td>\n",
       "      <td>79.3</td>\n",
       "      <td>81.5</td>\n",
       "      <td>81.80</td>\n",
       "      <td>81.60</td>\n",
       "      <td>69.30</td>\n",
       "      <td>51.70</td>\n",
       "      <td>52.00</td>\n",
       "      <td>8653.0</td>\n",
       "      <td>NaN</td>\n",
       "      <td>NaN</td>\n",
       "      <td>NaN</td>\n",
       "      <td>NaN</td>\n",
       "      <td>NaN</td>\n",
       "      <td>NaN</td>\n",
       "      <td>55601</td>\n",
       "      <td>6</td>\n",
       "      <td>85</td>\n",
       "      <td>1649.0</td>\n",
       "      <td>10915.0</td>\n",
       "    </tr>\n",
       "    <tr>\n",
       "      <th>3</th>\n",
       "      <td>1003</td>\n",
       "      <td>114.6</td>\n",
       "      <td>3.0</td>\n",
       "      <td>9.7</td>\n",
       "      <td>31.3</td>\n",
       "      <td>3.6</td>\n",
       "      <td>115.5</td>\n",
       "      <td>52.00</td>\n",
       "      <td>62.00</td>\n",
       "      <td>59.70</td>\n",
       "      <td>66.00</td>\n",
       "      <td>76.50</td>\n",
       "      <td>81.3</td>\n",
       "      <td>82.5</td>\n",
       "      <td>82.50</td>\n",
       "      <td>82.10</td>\n",
       "      <td>72.30</td>\n",
       "      <td>56.20</td>\n",
       "      <td>56.10</td>\n",
       "      <td>44571.0</td>\n",
       "      <td>2.57</td>\n",
       "      <td>3065.0</td>\n",
       "      <td>1449.0</td>\n",
       "      <td>23254.0</td>\n",
       "      <td>11209.0</td>\n",
       "      <td>6503.0</td>\n",
       "      <td>218022</td>\n",
       "      <td>25</td>\n",
       "      <td>332</td>\n",
       "      <td>10131.0</td>\n",
       "      <td>19492.0</td>\n",
       "    </tr>\n",
       "    <tr>\n",
       "      <th>4</th>\n",
       "      <td>1005</td>\n",
       "      <td>31.0</td>\n",
       "      <td>6.0</td>\n",
       "      <td>27.0</td>\n",
       "      <td>12.2</td>\n",
       "      <td>5.2</td>\n",
       "      <td>68.9</td>\n",
       "      <td>49.00</td>\n",
       "      <td>58.50</td>\n",
       "      <td>57.40</td>\n",
       "      <td>64.90</td>\n",
       "      <td>75.20</td>\n",
       "      <td>79.6</td>\n",
       "      <td>81.3</td>\n",
       "      <td>81.10</td>\n",
       "      <td>80.60</td>\n",
       "      <td>70.90</td>\n",
       "      <td>52.80</td>\n",
       "      <td>51.60</td>\n",
       "      <td>4832.0</td>\n",
       "      <td>NaN</td>\n",
       "      <td>NaN</td>\n",
       "      <td>NaN</td>\n",
       "      <td>NaN</td>\n",
       "      <td>NaN</td>\n",
       "      <td>NaN</td>\n",
       "      <td>24881</td>\n",
       "      <td>3</td>\n",
       "      <td>74</td>\n",
       "      <td>1064.0</td>\n",
       "      <td>12042.0</td>\n",
       "    </tr>\n",
       "  </tbody>\n",
       "</table>\n",
       "</div>"
      ],
      "text/plain": [
       "   FIPS  Density per square mile of land area - Population  \\\n",
       "0     0                                               87.4   \n",
       "1  1000                                               94.4   \n",
       "2  1001                                               91.8   \n",
       "3  1003                                              114.6   \n",
       "4  1005                                               31.0   \n",
       "\n",
       "   Rural-urban_Continuum Code_2013  \\\n",
       "0                              NaN   \n",
       "1                              NaN   \n",
       "2                              2.0   \n",
       "3                              3.0   \n",
       "4                              6.0   \n",
       "\n",
       "   Percent of adults with less than a high school diploma 2014-18  \\\n",
       "0                                               12.3                \n",
       "1                                               14.2                \n",
       "2                                               11.3                \n",
       "3                                                9.7                \n",
       "4                                               27.0                \n",
       "\n",
       "   Percent of adults with a bachelor's degree or higher 2014-18  \\\n",
       "0                                               31.5              \n",
       "1                                               24.9              \n",
       "2                                               27.7              \n",
       "3                                               31.3              \n",
       "4                                               12.2              \n",
       "\n",
       "   Unemployment_rate_2018  Med_HH_Income_Percent_of_State_Total_2018  \\\n",
       "0                     3.9                                        NaN   \n",
       "1                     3.9                                      100.0   \n",
       "2                     3.6                                      119.0   \n",
       "3                     3.6                                      115.5   \n",
       "4                     5.2                                       68.9   \n",
       "\n",
       "   Jan Temp AVG / F  Feb Temp AVG / F  Mar Temp AVG / F  Apr Temp AVG / F  \\\n",
       "0               NaN               NaN               NaN               NaN   \n",
       "1             46.06             55.57             54.56             63.26   \n",
       "2             47.00             58.60             56.10             65.00   \n",
       "3             52.00             62.00             59.70             66.00   \n",
       "4             49.00             58.50             57.40             64.90   \n",
       "\n",
       "   May Temp AVG / F  Jun Temp AVG / F  Jul Temp AVG / F  Aug Temp AVG / F  \\\n",
       "0               NaN               NaN               NaN               NaN   \n",
       "1             73.92              77.8              80.4             80.34   \n",
       "2             75.50              79.3              81.5             81.80   \n",
       "3             76.50              81.3              82.5             82.50   \n",
       "4             75.20              79.6              81.3             81.10   \n",
       "\n",
       "   Sep Temp AVG / F  Oct Temp AVG / F  Nov Temp AVG / F  Dec Temp AVG / F  \\\n",
       "0               NaN               NaN               NaN               NaN   \n",
       "1             79.93             67.48             50.28             50.94   \n",
       "2             81.60             69.30             51.70             52.00   \n",
       "3             82.10             72.30             56.20             56.10   \n",
       "4             80.60             70.90             52.80             51.60   \n",
       "\n",
       "   Total_age65plus  Total households!!Average household size  \\\n",
       "0       52431193.0                                      0.00   \n",
       "1              NaN                                       NaN   \n",
       "2           8653.0                                       NaN   \n",
       "3          44571.0                                      2.57   \n",
       "4           4832.0                                       NaN   \n",
       "\n",
       "   SCHOOL ENROLLMENT!!Population 3 years and over enrolled in school!!Nursery school preschool  \\\n",
       "0                                          4300436.0                                             \n",
       "1                                                NaN                                             \n",
       "2                                                NaN                                             \n",
       "3                                             3065.0                                             \n",
       "4                                                NaN                                             \n",
       "\n",
       "   SCHOOL ENROLLMENT!!Population 3 years and over enrolled in school!!Kindergarten  \\\n",
       "0                                          3397087.0                                 \n",
       "1                                                NaN                                 \n",
       "2                                                NaN                                 \n",
       "3                                             1449.0                                 \n",
       "4                                                NaN                                 \n",
       "\n",
       "   SCHOOL ENROLLMENT!!Population 3 years and over enrolled in school!!Elementary school (grades 1-8)  \\\n",
       "0                                         27916769.0                                                   \n",
       "1                                                NaN                                                   \n",
       "2                                                NaN                                                   \n",
       "3                                            23254.0                                                   \n",
       "4                                                NaN                                                   \n",
       "\n",
       "   SCHOOL ENROLLMENT!!Population 3 years and over enrolled in school!!High school (grades 9-12)  \\\n",
       "0                                         14550764.0                                              \n",
       "1                                                NaN                                              \n",
       "2                                                NaN                                              \n",
       "3                                            11209.0                                              \n",
       "4                                                NaN                                              \n",
       "\n",
       "   SCHOOL ENROLLMENT!!Population 3 years and over enrolled in school!!College or graduate school  \\\n",
       "0                                         19757430.0                                               \n",
       "1                                                NaN                                               \n",
       "2                                                NaN                                               \n",
       "3                                             6503.0                                               \n",
       "4                                                NaN                                               \n",
       "\n",
       "   POP_ESTIMATE_2018  NursingCt  HospCt  Hispanic Population  Black Population  \n",
       "0          327167434          0       0           59722584.0        43799095.0  \n",
       "1            4887871          0       0                  NaN               NaN  \n",
       "2              55601          6      85               1649.0           10915.0  \n",
       "3             218022         25     332              10131.0           19492.0  \n",
       "4              24881          3      74               1064.0           12042.0  "
      ]
     },
     "execution_count": 9,
     "metadata": {},
     "output_type": "execute_result"
    }
   ],
   "source": [
    "counties = pd.read_csv('../data/raw/counties_09-11.csv')\n",
    "# print(counties.columns.values)\n",
    "# counties = counties.dropna(how='any')\n",
    "# counties['FIPS'] = counties['FIPS'] .astype('int')\n",
    "counties = counties.set_index('FIPS')\n",
    "# print(counties.where(counties['FIPS'] == 36061))\n",
    "# print(counties.loc[6037,], '\\n')\n",
    "# counties = counties.filter(['FIPS', 'Rural-urban_Continuum Code_2013', 'Density per square mile of land area - Population'])\n",
    "counties = counties.filter(['FIPS',  'Density per square mile of land area - Population', 'Rural-urban_Continuum Code_2013', \\\n",
    "                            'Percent of adults with less than a high school diploma 2014-18',\\\n",
    "                            \"Percent of adults with a bachelor's degree or higher 2014-18\", 'Unemployment_rate_2018', \\\n",
    "                            'Med_HH_Income_Percent_of_State_Total_2018', 'Jan Temp AVG / F', 'Feb Temp AVG / F', 'Mar Temp AVG / F', 'Apr Temp AVG / F', 'May Temp AVG / F', \\\n",
    "                            'Jun Temp AVG / F', 'Jul Temp AVG / F', 'Aug Temp AVG / F', 'Sep Temp AVG / F', 'Oct Temp AVG / F', 'Nov Temp AVG / F', 'Dec Temp AVG / F', 'Total_age65plus',  'Total households!!Average household size',\\\n",
    "                            'SCHOOL ENROLLMENT!!Population 3 years and over enrolled in school!!Nursery school preschool',\\\n",
    "                            'SCHOOL ENROLLMENT!!Population 3 years and over enrolled in school!!Kindergarten',\\\n",
    "                            'SCHOOL ENROLLMENT!!Population 3 years and over enrolled in school!!Elementary school (grades 1-8)',\\\n",
    "                            'SCHOOL ENROLLMENT!!Population 3 years and over enrolled in school!!High school (grades 9-12)',\\\n",
    "                            'SCHOOL ENROLLMENT!!Population 3 years and over enrolled in school!!College or graduate school', 'POP_ESTIMATE_2018', \\\n",
    "                            'H_MALE', 'H_FEMALE', 'BA_MALE', 'BA_FEMALE'])\n",
    "print(counties.shape)\n",
    "# counties = counties.dropna()\n",
    "print(counties.shape)\n",
    "counties = counties.merge(hosp_data, how='left', left_on='FIPS', right_on='FIPS')\n",
    "counties = counties.merge(LT_hosp_data, how='left',  left_on='FIPS', right_on='FIPS')\n",
    "counties = counties.merge(nursing, how='left', left_on='FIPS', right_on='FIPS')\n",
    "print(\"test:\", counties.shape)\n",
    "# counties = counties.fillna(value=0) ### \n",
    "counties[['HospCt', 'Beds', 'NursingCt', 'NursingBeds','Longterm HospCt', 'Longterm Beds']] = counties[['HospCt', 'Beds', 'NursingCt', 'NursingBeds', 'Longterm HospCt', 'Longterm Beds']].fillna(value=0)\n",
    "print(counties.shape)\n",
    "counties= counties.drop(columns=['HospCt'])\n",
    "\n",
    "counties['HospCt'] = counties['Beds']\n",
    "counties['HospCt'][counties['HospCt'] >1000] = 1000\n",
    "print('range hosp beds: ', counties['Beds'].min(axis=0), counties['Beds'].max(axis=0))\n",
    "counties = counties.drop(columns=['Beds'])\n",
    "print('range hosp beds: ', counties['HospCt'].min(axis=0), counties['HospCt'].max(axis=0))\n",
    "\n",
    "\n",
    "print('range Nursing Ct: ', counties['NursingCt'].min(axis=0), np.mean(counties['NursingCt']), np.median(counties['NursingCt']), counties['NursingCt'].max(axis=0))\n",
    "counties['NursingCt'] = counties['NursingCt'] + counties['Longterm HospCt']\n",
    "print('range Nursing Ct: ', counties['NursingCt'].min(axis=0), np.mean(counties['NursingCt']), np.median(counties['NursingCt']), counties['NursingCt'].max(axis=0))\n",
    "\n",
    "counties = counties.drop(columns=['Longterm HospCt'])\n",
    "counties = counties.drop(columns=['Longterm Beds'])\n",
    "counties = counties.drop(columns=['NursingBeds'])\n",
    "\n",
    "counties['Hispanic Population'] = counties['H_MALE'] + counties['H_FEMALE']\n",
    "counties = counties.drop(columns=['H_FEMALE', 'H_MALE'])\n",
    "counties['Black Population'] = counties['BA_MALE'] + counties['BA_FEMALE']\n",
    "counties = counties.drop(columns=['BA_FEMALE', 'BA_MALE'])\n",
    "print(counties.shape)\n",
    "counties.head()"
   ]
  },
  {
   "cell_type": "markdown",
   "metadata": {},
   "source": [
    "## Deaths Data"
   ]
  },
  {
   "cell_type": "code",
   "execution_count": null,
   "metadata": {},
   "outputs": [],
   "source": [
    "deaths_t_series = pd.read_csv('../data/raw/time_series_covid19_deaths_US_06-19.csv')\n",
    "# print(filtered.loc[36061,])\n",
    "# print(deaths.columns.values)\n",
    "# deaths_t_series = deaths_t_series.drop(['UID', 'iso2', 'iso3', 'code3', 'Admin2', 'Population', 'Province_State', 'Country_Region', 'Lat', 'Long_', 'Combined_Key'], axis=1)\n",
    "deaths_t_series = deaths_t_series.drop(['Combined_Key'], axis=1)\n",
    "\n",
    "# deaths = deaths.dropna()\n",
    "# deaths = deaths.set_index('FIPS')\n",
    "\n",
    "deaths_t_series.head()"
   ]
  },
  {
   "cell_type": "code",
   "execution_count": null,
   "metadata": {},
   "outputs": [],
   "source": [
    "# total_deaths = pd.DataFrame(deaths.sum(axis=1), columns=['deaths'])\n",
    "# total_deaths.columns = ['FIPS', 'deaths']\n",
    "death_data = pd.DataFrame(columns=['FIPS', 'Deaths', 'Outbreak_date'])\n",
    "dates = deaths_t_series.columns[1:]\n",
    "death_thresh = 3\n",
    "n_days = 21\n",
    "\n",
    "# Get all existing data n_days from the death_thresh death.\n",
    "for i in range(len(deaths_t_series)):\n",
    "    county = deaths_t_series.iloc[i]\n",
    "    outbreak_date = None\n",
    "\n",
    "    # Iterate through dates to find first date with deaths >= death thresh\n",
    "    for j in range(len(dates)):\n",
    "        if county[dates[j]] >= death_thresh: \n",
    "            outbreak_date = dates[j]\n",
    "\n",
    "            # See if this happened n_days or more before current day\n",
    "            try:\n",
    "                n_days_later = dates[j+n_days]\n",
    "\n",
    "                # Make sure the data is bug-free\n",
    "                bad_data=False\n",
    "                for k in range(n_days):\n",
    "                    if county[n_days_later] < county[dates[j+k]]:\n",
    "                        bad_data=True\n",
    "                if not bad_data:\n",
    "                    outbreak_date = datetime.datetime.strptime(outbreak_date, '%m/%d/%y')\n",
    "                    death_data = death_data.append({'FIPS': county['FIPS'], 'Deaths':county[n_days_later], 'Outbreak_date':outbreak_date}, ignore_index=True)\n",
    "                break\n",
    "\n",
    "            except:\n",
    "                continue\n",
    "#                 break\n",
    "                \n",
    "death_data.head()"
   ]
  },
  {
   "cell_type": "code",
   "execution_count": null,
   "metadata": {},
   "outputs": [],
   "source": [
    "combined_data = counties.merge(death_data, left_on='FIPS', right_on='FIPS')\n",
    "# combined_data = combined_data.dropna()\n",
    "combined_data.set_index('FIPS', inplace=True)\n",
    "print(combined_data.shape)\n",
    "combined_data.head()"
   ]
  },
  {
   "cell_type": "markdown",
   "metadata": {},
   "source": [
    "## Longterm Care Deaths"
   ]
  },
  {
   "cell_type": "code",
   "execution_count": null,
   "metadata": {},
   "outputs": [],
   "source": [
    "# print(longterm_all.loc[0, ])\n",
    "# print(longterm_all.shape)\n",
    "# longterm_all.head()"
   ]
  },
  {
   "cell_type": "code",
   "execution_count": null,
   "metadata": {},
   "outputs": [],
   "source": [
    "# longterm_deaths = pd.read_csv('../data/raw/longtermcare_deaths_07_08.csv')\n",
    "# longterm_deaths['CMS Certification Number (CCN)'] = np.nan\n",
    "# print(longterm_deaths.loc[0, 'federal_provider_number'])\n",
    "# print(int(longterm_deaths.loc[0, 'federal_provider_number']))\n",
    "# for i in longterm_deaths.index:\n",
    "#     try: \n",
    "#         longterm_deaths.loc[i, 'CMS Certification Number (CCN)'] = int(longterm_deaths.loc[i, 'federal_provider_number'])\n",
    "#     except:\n",
    "#         longterm_deaths.drop(index=i, inplace=True)\n",
    "#         continue\n",
    "# # longterm_deaths = longterm_deaths.dropna()        \n",
    "# longterm_deaths['CMS Certification Number (CCN)'] = longterm_deaths['CMS Certification Number (CCN)'].astype('int64')\n",
    "# print(longterm_deaths.shape)\n",
    "# longterm_deaths.head(15)"
   ]
  },
  {
   "cell_type": "code",
   "execution_count": null,
   "metadata": {},
   "outputs": [],
   "source": [
    "# for i in longterm_deaths['CMS Certification Number (CCN)'].values: \n",
    "#     if i in longterm_all['CMS Certification Number (CCN)'].values:\n",
    "#         print(i)\n",
    "# print(longterm_all['CMS Certification Number (CCN)'].values)"
   ]
  },
  {
   "cell_type": "code",
   "execution_count": null,
   "metadata": {},
   "outputs": [],
   "source": [
    "# print(longterm_deaths['CMS Certification Number (CCN)'].values)"
   ]
  },
  {
   "cell_type": "code",
   "execution_count": null,
   "metadata": {},
   "outputs": [],
   "source": [
    "# print(longterm_deaths['provider_name'].values)"
   ]
  },
  {
   "cell_type": "code",
   "execution_count": null,
   "metadata": {},
   "outputs": [],
   "source": [
    "\n",
    "# longterm_all = longterm_all.merge(longterm_deaths, left_on=['CMS Certification Number (CCN)'], right_on=['CMS Certification Number (CCN)'], how='left')\n",
    "# print(longterm_all.shape)\n",
    "# longterm_all = longterm_all.dropna()\n",
    "# print(longterm_all.shape)\n",
    "# longterm_all.head()"
   ]
  },
  {
   "cell_type": "markdown",
   "metadata": {},
   "source": [
    "## Drop Outlier Counties"
   ]
  },
  {
   "cell_type": "raw",
   "metadata": {},
   "source": [
    "# combined_data = combined_data.drop(index=36061)\n",
    "# combined_data = combined_data.drop(index=17031)\n",
    "# combined_data = combined_data.drop(index=26163)\n",
    "# combined_data = combined_data.drop(index=36059)\n",
    "# combined_data = combined_data.drop(index=6037)\n",
    "# combined_data = combined_data.drop(index=34013)\n",
    "#36061(NY) 17031, 26163, 36059, 6037 (LA)\n",
    "# combined_data.rename(columns={'Rural-urban_Continuum Code_2013': 'RUCC'}, inplace=True)\n",
    "print(np.max(combined_data['Rural-urban_Continuum Code_2013']))\n",
    "print(np.min(combined_data['Rural-urban_Continuum Code_2013']))\n",
    "filter_high = combined_data['Rural-urban_Continuum Code_2013'] > 8\n",
    "inidices_high = combined_data.where(filter_high).dropna().index.to_numpy()\n",
    "filter_low = combined_data['Rural-urban_Continuum Code_2013'] < 0\n",
    "inidices_low = combined_data.where(filter_low).dropna().index.to_numpy()\n",
    "# print(filter.index.to_numpy().shape)\n",
    "combined_data = combined_data.drop(index=inidices_low, axis=0)\n",
    "combined_data = combined_data.drop(index=inidices_high, axis=0)\n",
    "# combined_data.set_index('FIPS', inplace=True)\n",
    "combined_data.head()"
   ]
  },
  {
   "cell_type": "code",
   "execution_count": null,
   "metadata": {},
   "outputs": [],
   "source": [
    "combined_data.head()"
   ]
  },
  {
   "cell_type": "markdown",
   "metadata": {},
   "source": [
    "## Mobility Data"
   ]
  },
  {
   "cell_type": "code",
   "execution_count": null,
   "metadata": {},
   "outputs": [],
   "source": [
    "# dl_index = pd.read_csv('../data/raw/DL-us-m50_index_05-22.csv')\n",
    "# dl_abs_movement = pd.read_csv('../data/raw/DL-us-m50_05-22.csv')\n",
    "# dl_index = dl_index.dropna()\n",
    "# dl_abs_movement = dl_abs_movement.dropna()\n",
    "# dl = dl_index.merge(dl_abs_movement, on='fips')\n",
    "# print(dl.head())\n",
    "\n",
    "# baseline1 = pd.DataFrame(dl['2020-03-01_y'] / (.01 * dl['2020-03-01_x']))\n",
    "# baseline2 = pd.DataFrame(dl['2020-03-02_y'] / (.01 * dl['2020-03-02_x']))\n",
    "# baseline3 = pd.DataFrame(dl['2020-03-03_y'] / (.01 * dl['2020-03-03_x']))\n",
    "# baselines = pd.concat((baseline1, baseline2, baseline3), axis=1)\n",
    "\n",
    "# pd.set_option('display.max_rows', None)\n",
    "# dl['baseline m50 mobility'] = baselines.mean(axis=1)\n",
    "# baseline_data = dl[['baseline m50 mobility', 'fips']]\n",
    "# baseline_data['FIPS'] = baseline_data['fips']\n",
    "# baseline_data = baseline_data.drop(['fips'], axis=1)\n",
    "# baseline_data.set_index('FIPS', inplace=True)\n",
    "# baseline_data.head()"
   ]
  },
  {
   "cell_type": "code",
   "execution_count": null,
   "metadata": {},
   "outputs": [],
   "source": [
    "# combined_data = baseline_data.merge(combined_data, left_on='FIPS', right_on='FIPS')\n",
    "# combined_data.head()"
   ]
  },
  {
   "cell_type": "markdown",
   "metadata": {},
   "source": [
    "## Safegraph Mobility data "
   ]
  },
  {
   "cell_type": "code",
   "execution_count": null,
   "metadata": {},
   "outputs": [],
   "source": [
    "combined_data.to_csv('../data/intermediates/pre_acpca.csv')"
   ]
  },
  {
   "cell_type": "code",
   "execution_count": null,
   "metadata": {},
   "outputs": [],
   "source": [
    "sg_mobility = pd.read_csv('../data/processed/safegraph_mobility_avgs.csv')"
   ]
  },
  {
   "cell_type": "code",
   "execution_count": null,
   "metadata": {},
   "outputs": [],
   "source": [
    "# safegraph = pd.read_csv('../data/processed/od_mobility_baseline.csv')\n",
    "# safegraph = safegraph.drop(columns='in_movement')"
   ]
  },
  {
   "cell_type": "code",
   "execution_count": null,
   "metadata": {},
   "outputs": [],
   "source": [
    "# combined_data = safegraph.merge(combined_data, left_on='FIPS', right_on='FIPS')\n",
    "# combined_data = combined_data.set_index('FIPS')"
   ]
  },
  {
   "cell_type": "code",
   "execution_count": null,
   "metadata": {},
   "outputs": [],
   "source": [
    "# safegraph_inter = pd.read_csv('../data/processed/od_inter_mobilities_05-20.csv')\n",
    "# column_change = {}\n",
    "# for col in safegraph_inter.columns[1:]: \n",
    "# #     print(col)\n",
    "#     date = datetime.datetime.strptime(col+ '-20', '%m-%d-%y')\n",
    "#     column_change[col] = date.date()\n",
    "# safegraph_inter = safegraph_inter.rename(columns=column_change)\n",
    "# print(safegraph_inter.columns[2])\n",
    "# # print(combined_data.loc[1003, 'Outbreak_date'])\n",
    "# safegraph_inter = safegraph_inter.set_index('FIPS')\n",
    "# # print(safegraph_inter.loc[1053])\n",
    "# safegraph_inter.head()"
   ]
  },
  {
   "cell_type": "code",
   "execution_count": null,
   "metadata": {},
   "outputs": [],
   "source": [
    "# sg_mobility = pd.DataFrame(index=combined_data.index, columns=['2wk Prior Mobility', '2wk Onset Mobility', '2wk Post Mobility'])\n",
    "# # print(sg_mobility.head())\n",
    "# for i in combined_data.index: \n",
    "#     mob_per_day = np.zeros(27)\n",
    "#     if i not in safegraph_inter.index:\n",
    "#         continue\n",
    "#     row = combined_data.loc[i]\n",
    "# #     outbreak_date = datetime.datetime.strptime(row['Outbreak_date'], '%m/%d/%y')\n",
    "# #     print(outbreak_date)\n",
    "#     outbreak_date = row.loc['Outbreak_date']\n",
    "#     for j in range(-13, 14): \n",
    "#         mob_day = outbreak_date + datetime.timedelta(days=j) #.AddDays(j)\n",
    "#         mob_day = mob_day.date()\n",
    "#         if mob_day in safegraph_inter.columns:\n",
    "#             mob_per_day[13+j] = safegraph_inter.loc[i,mob_day]\n",
    "#     prior_mob_arr = np.array(mob_per_day[:14])\n",
    "#     onset_mob_arr = np.array(mob_per_day[7:-6])\n",
    "#     post_mob_arr = np.array(mob_per_day[-14:])\n",
    "#     prior_mob = np.mean(prior_mob_arr)\n",
    "#     onset_mob = np.mean(onset_mob_arr)\n",
    "#     post_mob = np.mean(post_mob_arr)\n",
    "#     sg_mobility.loc[i,'2wk Prior Mobility'] = prior_mob\n",
    "#     sg_mobility.loc[i, '2wk Onset Mobility'] = onset_mob\n",
    "#     sg_mobility.loc[i, '2wk Post Mobility'] = post_mob\n",
    "# #     if i < combined_data.index[5]:\n",
    "# #         print(mob_per_day)\n",
    "# #         print(prior_mob_arr, prior_mob)\n",
    "# #         print(onset_mob_arr, onset_mob)\n",
    "# #         print(pos_mob_arr, pos_mob)\n",
    "# sg_mobility.head()"
   ]
  },
  {
   "cell_type": "code",
   "execution_count": null,
   "metadata": {},
   "outputs": [],
   "source": [
    "combined_data = sg_mobility.merge(combined_data, left_on='FIPS', right_on='FIPS')\n",
    "print(combined_data.shape)\n",
    "combined_data.head()"
   ]
  },
  {
   "cell_type": "markdown",
   "metadata": {},
   "source": [
    "## Filter/Timeseries Temperature Data"
   ]
  },
  {
   "cell_type": "code",
   "execution_count": null,
   "metadata": {},
   "outputs": [],
   "source": [
    "month_temps = ['Jan Temp AVG / F', 'Feb Temp AVG / F', 'Mar Temp AVG / F', 'Apr Temp AVG / F', 'May Temp AVG / F', \\\n",
    "                            'Jun Temp AVG / F', 'Jul Temp AVG / F', 'Aug Temp AVG / F', 'Sep Temp AVG / F', 'Oct Temp AVG / F', 'Nov Temp AVG / F', 'Dec Temp AVG / F']\n",
    "for i in combined_data.index: \n",
    "    row = combined_data.loc[i]\n",
    "#     outbreak_date = datetime.datetime.strptime(row['Outbreak_date'], '%m/%d/%y')\n",
    "    outbreak_date = row['Outbreak_date']\n",
    "    outbreak_temp = month_temps[outbreak_date.month - 1]\n",
    "#     print(outbreak_date.strftime(\"%b\"), outbreak_temp)\n",
    "    combined_data.loc[i,'Outbreak Month Temp AVG / F'] = row[outbreak_temp]\n",
    "combined_data = combined_data.drop(columns=month_temps)"
   ]
  },
  {
   "cell_type": "code",
   "execution_count": null,
   "metadata": {},
   "outputs": [],
   "source": [
    "# for i in combined_data.index.values[:5]: \n",
    "#     row = combined_data.loc[i]\n",
    "#     print(row, '\\n\\n')\n",
    "print(combined_data.shape)\n",
    "combined_data.head()"
   ]
  },
  {
   "cell_type": "markdown",
   "metadata": {},
   "source": [
    "## Interventions"
   ]
  },
  {
   "cell_type": "code",
   "execution_count": null,
   "metadata": {},
   "outputs": [],
   "source": [
    "# interventions = pd.read_csv('../data/raw/USstatesCov19distancingpolicy_07_01.csv').filter()\n",
    "# interventions.head()"
   ]
  },
  {
   "cell_type": "code",
   "execution_count": null,
   "metadata": {},
   "outputs": [],
   "source": [
    "interventions = pd.read_csv('../data/raw/complete_npis_inherited_policies_keystone_06_26.csv').filter(['fips', 'npi', 'start_date']).dropna()\n",
    "numRows = interventions.shape[0]\n",
    "print(set(interventions['npi'].values))\n",
    "interventions = interventions[interventions['npi'] == 'school closure'] # all counties in dataset have school closure \n",
    "# for i in numRows:\n",
    "interventions.head()"
   ]
  },
  {
   "cell_type": "code",
   "execution_count": 10,
   "metadata": {},
   "outputs": [
    {
     "ename": "NameError",
     "evalue": "name 'interventions' is not defined",
     "output_type": "error",
     "traceback": [
      "\u001b[0;31m---------------------------------------------------------------------------\u001b[0m",
      "\u001b[0;31mNameError\u001b[0m                                 Traceback (most recent call last)",
      "\u001b[0;32m<ipython-input-10-60cb02710ffd>\u001b[0m in \u001b[0;36m<module>\u001b[0;34m\u001b[0m\n\u001b[1;32m      1\u001b[0m \u001b[0;31m# Find earliest intervention for a given county\u001b[0m\u001b[0;34m\u001b[0m\u001b[0;34m\u001b[0m\u001b[0;34m\u001b[0m\u001b[0m\n\u001b[1;32m      2\u001b[0m \u001b[0mintervention_dates\u001b[0m \u001b[0;34m=\u001b[0m \u001b[0mpd\u001b[0m\u001b[0;34m.\u001b[0m\u001b[0mDataFrame\u001b[0m\u001b[0;34m(\u001b[0m\u001b[0mcolumns\u001b[0m\u001b[0;34m=\u001b[0m\u001b[0;34m[\u001b[0m\u001b[0;34m'FIPS'\u001b[0m\u001b[0;34m,\u001b[0m \u001b[0;34m'Intervention Start Date'\u001b[0m\u001b[0;34m]\u001b[0m\u001b[0;34m)\u001b[0m\u001b[0;34m\u001b[0m\u001b[0;34m\u001b[0m\u001b[0m\n\u001b[0;32m----> 3\u001b[0;31m \u001b[0;32mfor\u001b[0m \u001b[0mi\u001b[0m \u001b[0;32min\u001b[0m \u001b[0mset\u001b[0m\u001b[0;34m(\u001b[0m\u001b[0minterventions\u001b[0m\u001b[0;34m[\u001b[0m\u001b[0;34m'fips'\u001b[0m\u001b[0;34m]\u001b[0m\u001b[0;34m)\u001b[0m\u001b[0;34m:\u001b[0m\u001b[0;34m\u001b[0m\u001b[0;34m\u001b[0m\u001b[0m\n\u001b[0m\u001b[1;32m      4\u001b[0m     \u001b[0mcounty_intervention\u001b[0m \u001b[0;34m=\u001b[0m \u001b[0minterventions\u001b[0m\u001b[0;34m.\u001b[0m\u001b[0mloc\u001b[0m\u001b[0;34m[\u001b[0m\u001b[0minterventions\u001b[0m\u001b[0;34m[\u001b[0m\u001b[0;34m'fips'\u001b[0m\u001b[0;34m]\u001b[0m \u001b[0;34m==\u001b[0m \u001b[0mi\u001b[0m\u001b[0;34m]\u001b[0m\u001b[0;34m\u001b[0m\u001b[0;34m\u001b[0m\u001b[0m\n\u001b[1;32m      5\u001b[0m     \u001b[0mearliest\u001b[0m \u001b[0;34m=\u001b[0m \u001b[0mdatetime\u001b[0m\u001b[0;34m.\u001b[0m\u001b[0mdatetime\u001b[0m\u001b[0;34m.\u001b[0m\u001b[0mstrptime\u001b[0m\u001b[0;34m(\u001b[0m\u001b[0mcounty_intervention\u001b[0m\u001b[0;34m.\u001b[0m\u001b[0mloc\u001b[0m\u001b[0;34m[\u001b[0m\u001b[0mcounty_intervention\u001b[0m\u001b[0;34m.\u001b[0m\u001b[0mindex\u001b[0m\u001b[0;34m.\u001b[0m\u001b[0mvalues\u001b[0m\u001b[0;34m[\u001b[0m\u001b[0;36m0\u001b[0m\u001b[0;34m]\u001b[0m\u001b[0;34m,\u001b[0m\u001b[0;34m'start_date'\u001b[0m\u001b[0;34m]\u001b[0m\u001b[0;34m,\u001b[0m \u001b[0;34m'%m/%d/%Y'\u001b[0m\u001b[0;34m)\u001b[0m\u001b[0;34m\u001b[0m\u001b[0;34m\u001b[0m\u001b[0m\n",
      "\u001b[0;31mNameError\u001b[0m: name 'interventions' is not defined"
     ]
    }
   ],
   "source": [
    "# Find earliest intervention for a given county\n",
    "intervention_dates = pd.DataFrame(columns=['FIPS', 'Intervention Start Date'])\n",
    "for i in set(interventions['fips']):\n",
    "    county_intervention = interventions.loc[interventions['fips'] == i]\n",
    "    earliest = datetime.datetime.strptime(county_intervention.loc[county_intervention.index.values[0],'start_date'], '%m/%d/%Y')\n",
    "    eIndex = 0\n",
    "    for j in county_intervention.index.values:\n",
    "        datestr = county_intervention.loc[j,'start_date']\n",
    "#         if type(datestr):\n",
    "#             continue\n",
    "        date = datetime.datetime.strptime(datestr, '%m/%d/%Y')\n",
    "        if date < earliest:\n",
    "            earliest = date\n",
    "            eIndex = j\n",
    "#     row = pd.DataFrame([i, earliest], columns=['FIPS', 'Intervention Start Date'])\n",
    "    row = {'FIPS': i, 'Intervention Start Date': earliest}\n",
    "    intervention_dates = intervention_dates.append(row, ignore_index=True)\n",
    "print(intervention_dates.shape)    \n",
    "intervention_dates.head()"
   ]
  },
  {
   "cell_type": "code",
   "execution_count": 11,
   "metadata": {},
   "outputs": [
    {
     "ename": "NameError",
     "evalue": "name 'combined_data' is not defined",
     "output_type": "error",
     "traceback": [
      "\u001b[0;31m---------------------------------------------------------------------------\u001b[0m",
      "\u001b[0;31mNameError\u001b[0m                                 Traceback (most recent call last)",
      "\u001b[0;32m<ipython-input-11-85eb310eac4c>\u001b[0m in \u001b[0;36m<module>\u001b[0;34m\u001b[0m\n\u001b[0;32m----> 1\u001b[0;31m \u001b[0mcombined_data\u001b[0m \u001b[0;34m=\u001b[0m \u001b[0mcombined_data\u001b[0m\u001b[0;34m.\u001b[0m\u001b[0mmerge\u001b[0m\u001b[0;34m(\u001b[0m\u001b[0mintervention_dates\u001b[0m\u001b[0;34m,\u001b[0m \u001b[0mhow\u001b[0m\u001b[0;34m=\u001b[0m\u001b[0;34m'outer'\u001b[0m\u001b[0;34m,\u001b[0m \u001b[0mleft_on\u001b[0m\u001b[0;34m=\u001b[0m\u001b[0;34m'FIPS'\u001b[0m\u001b[0;34m,\u001b[0m \u001b[0mright_on\u001b[0m\u001b[0;34m=\u001b[0m\u001b[0;34m'FIPS'\u001b[0m\u001b[0;34m)\u001b[0m\u001b[0;34m\u001b[0m\u001b[0;34m\u001b[0m\u001b[0m\n\u001b[0m\u001b[1;32m      2\u001b[0m \u001b[0mprint\u001b[0m\u001b[0;34m(\u001b[0m\u001b[0mcombined_data\u001b[0m\u001b[0;34m.\u001b[0m\u001b[0mshape\u001b[0m\u001b[0;34m)\u001b[0m\u001b[0;34m\u001b[0m\u001b[0;34m\u001b[0m\u001b[0m\n\u001b[1;32m      3\u001b[0m \u001b[0mcombined_data\u001b[0m\u001b[0;34m.\u001b[0m\u001b[0mhead\u001b[0m\u001b[0;34m(\u001b[0m\u001b[0;34m)\u001b[0m\u001b[0;34m\u001b[0m\u001b[0;34m\u001b[0m\u001b[0m\n",
      "\u001b[0;31mNameError\u001b[0m: name 'combined_data' is not defined"
     ]
    }
   ],
   "source": [
    "combined_data = combined_data.merge(intervention_dates, how='outer', left_on='FIPS', right_on='FIPS')\n",
    "print(combined_data.shape)\n",
    "combined_data.head()"
   ]
  },
  {
   "cell_type": "code",
   "execution_count": 12,
   "metadata": {},
   "outputs": [
    {
     "ename": "NameError",
     "evalue": "name 'combined_data' is not defined",
     "output_type": "error",
     "traceback": [
      "\u001b[0;31m---------------------------------------------------------------------------\u001b[0m",
      "\u001b[0;31mNameError\u001b[0m                                 Traceback (most recent call last)",
      "\u001b[0;32m<ipython-input-12-c0756a6486c2>\u001b[0m in \u001b[0;36m<module>\u001b[0;34m\u001b[0m\n\u001b[1;32m      3\u001b[0m \u001b[0;31m# print((datetime.datetime(2020, 3, 19) - datetime.datetime(2020, 3, 20)).days)\u001b[0m\u001b[0;34m\u001b[0m\u001b[0;34m\u001b[0m\u001b[0;34m\u001b[0m\u001b[0m\n\u001b[1;32m      4\u001b[0m \u001b[0;31m# April 9th 2020- 3 weeks after national intervention\u001b[0m\u001b[0;34m\u001b[0m\u001b[0;34m\u001b[0m\u001b[0;34m\u001b[0m\u001b[0m\n\u001b[0;32m----> 5\u001b[0;31m \u001b[0mcombined_data\u001b[0m\u001b[0;34m[\u001b[0m\u001b[0;34m'Time from outbreak to intervention'\u001b[0m\u001b[0;34m]\u001b[0m \u001b[0;34m=\u001b[0m \u001b[0mcombined_data\u001b[0m\u001b[0;34m[\u001b[0m\u001b[0;34m'Intervention Start Date'\u001b[0m\u001b[0;34m]\u001b[0m \u001b[0;34m-\u001b[0m \u001b[0mcombined_data\u001b[0m\u001b[0;34m[\u001b[0m\u001b[0;34m'Outbreak_date'\u001b[0m\u001b[0;34m]\u001b[0m\u001b[0;34m\u001b[0m\u001b[0;34m\u001b[0m\u001b[0m\n\u001b[0m\u001b[1;32m      6\u001b[0m \u001b[0mcombined_data\u001b[0m\u001b[0;34m[\u001b[0m\u001b[0;34m'Time from outbreak to national intervention'\u001b[0m\u001b[0;34m]\u001b[0m \u001b[0;34m=\u001b[0m \u001b[0mdatetime\u001b[0m\u001b[0;34m.\u001b[0m\u001b[0mdatetime\u001b[0m\u001b[0;34m(\u001b[0m\u001b[0;36m2020\u001b[0m\u001b[0;34m,\u001b[0m \u001b[0;36m4\u001b[0m\u001b[0;34m,\u001b[0m \u001b[0;36m9\u001b[0m\u001b[0;34m)\u001b[0m \u001b[0;34m-\u001b[0m \u001b[0mcombined_data\u001b[0m\u001b[0;34m[\u001b[0m\u001b[0;34m'Outbreak_date'\u001b[0m\u001b[0;34m]\u001b[0m\u001b[0;34m\u001b[0m\u001b[0;34m\u001b[0m\u001b[0m\n\u001b[1;32m      7\u001b[0m \u001b[0mcombined_data\u001b[0m\u001b[0;34m[\u001b[0m\u001b[0;34m'Time from national intervention to outbreak'\u001b[0m\u001b[0;34m]\u001b[0m \u001b[0;34m=\u001b[0m \u001b[0mcombined_data\u001b[0m\u001b[0;34m[\u001b[0m\u001b[0;34m'Outbreak_date'\u001b[0m\u001b[0;34m]\u001b[0m \u001b[0;34m-\u001b[0m \u001b[0mdatetime\u001b[0m\u001b[0;34m.\u001b[0m\u001b[0mdatetime\u001b[0m\u001b[0;34m(\u001b[0m\u001b[0;36m2020\u001b[0m\u001b[0;34m,\u001b[0m \u001b[0;36m4\u001b[0m\u001b[0;34m,\u001b[0m \u001b[0;36m9\u001b[0m\u001b[0;34m)\u001b[0m\u001b[0;34m\u001b[0m\u001b[0;34m\u001b[0m\u001b[0m\n",
      "\u001b[0;31mNameError\u001b[0m: name 'combined_data' is not defined"
     ]
    }
   ],
   "source": [
    "# Get number of days from  outbreak date to date of effect of intervention policies \n",
    "\n",
    "# print((datetime.datetime(2020, 3, 19) - datetime.datetime(2020, 3, 20)).days)\n",
    "# April 9th 2020- 3 weeks after national intervention \n",
    "combined_data['Time from outbreak to intervention'] = combined_data['Intervention Start Date'] - combined_data['Outbreak_date']\n",
    "combined_data['Time from outbreak to national intervention'] = datetime.datetime(2020, 4, 9) - combined_data['Outbreak_date']\n",
    "combined_data['Time from national intervention to outbreak'] = combined_data['Outbreak_date'] - datetime.datetime(2020, 4, 9)\n",
    "for i in combined_data.index.values:\n",
    "    combined_data.loc[i, 'Time from outbreak to intervention'] = combined_data.loc[i, 'Time from outbreak to intervention'].days\n",
    "    combined_data.loc[i, 'Time from outbreak to national intervention'] = max(0,combined_data.loc[i, 'Time from outbreak to national intervention'].days)\n",
    "    combined_data.loc[i, 'Time from national intervention to outbreak'] = max(0,combined_data.loc[i, 'Time from national intervention to outbreak'].days)\n",
    "combined_data.head()"
   ]
  },
  {
   "cell_type": "code",
   "execution_count": 13,
   "metadata": {},
   "outputs": [
    {
     "ename": "NameError",
     "evalue": "name 'combined_data' is not defined",
     "output_type": "error",
     "traceback": [
      "\u001b[0;31m---------------------------------------------------------------------------\u001b[0m",
      "\u001b[0;31mNameError\u001b[0m                                 Traceback (most recent call last)",
      "\u001b[0;32m<ipython-input-13-d2585866d0c0>\u001b[0m in \u001b[0;36m<module>\u001b[0;34m\u001b[0m\n\u001b[0;32m----> 1\u001b[0;31m \u001b[0mcombined_data\u001b[0m \u001b[0;34m=\u001b[0m \u001b[0mcombined_data\u001b[0m\u001b[0;34m.\u001b[0m\u001b[0mdrop\u001b[0m\u001b[0;34m(\u001b[0m\u001b[0mcolumns\u001b[0m\u001b[0;34m=\u001b[0m\u001b[0;34m[\u001b[0m\u001b[0;34m'Intervention Start Date'\u001b[0m\u001b[0;34m]\u001b[0m\u001b[0;34m)\u001b[0m\u001b[0;34m\u001b[0m\u001b[0;34m\u001b[0m\u001b[0m\n\u001b[0m\u001b[1;32m      2\u001b[0m \u001b[0;31m# print(combined_data.columns.values)\u001b[0m\u001b[0;34m\u001b[0m\u001b[0;34m\u001b[0m\u001b[0;34m\u001b[0m\u001b[0m\n\u001b[1;32m      3\u001b[0m \u001b[0mcol_order\u001b[0m \u001b[0;34m=\u001b[0m \u001b[0mlist\u001b[0m\u001b[0;34m(\u001b[0m\u001b[0mcombined_data\u001b[0m\u001b[0;34m.\u001b[0m\u001b[0mcolumns\u001b[0m\u001b[0;34m.\u001b[0m\u001b[0mvalues\u001b[0m\u001b[0;34m[\u001b[0m\u001b[0mcombined_data\u001b[0m\u001b[0;34m.\u001b[0m\u001b[0mcolumns\u001b[0m\u001b[0;34m.\u001b[0m\u001b[0mvalues\u001b[0m \u001b[0;34m!=\u001b[0m \u001b[0;34m'Deaths'\u001b[0m\u001b[0;34m]\u001b[0m\u001b[0;34m)\u001b[0m\u001b[0;34m\u001b[0m\u001b[0;34m\u001b[0m\u001b[0m\n\u001b[1;32m      4\u001b[0m \u001b[0;31m# place Deaths last\u001b[0m\u001b[0;34m\u001b[0m\u001b[0;34m\u001b[0m\u001b[0;34m\u001b[0m\u001b[0m\n\u001b[1;32m      5\u001b[0m \u001b[0mcol_order\u001b[0m\u001b[0;34m.\u001b[0m\u001b[0mappend\u001b[0m\u001b[0;34m(\u001b[0m\u001b[0;34m'Deaths'\u001b[0m\u001b[0;34m)\u001b[0m\u001b[0;34m\u001b[0m\u001b[0;34m\u001b[0m\u001b[0m\n",
      "\u001b[0;31mNameError\u001b[0m: name 'combined_data' is not defined"
     ]
    }
   ],
   "source": [
    "combined_data = combined_data.drop(columns=['Intervention Start Date'])\n",
    "# print(combined_data.columns.values)\n",
    "col_order = list(combined_data.columns.values[combined_data.columns.values != 'Deaths'])\n",
    "# place Deaths last \n",
    "col_order.append('Deaths')\n",
    "combined_data = combined_data.reindex(columns=col_order)\n",
    "# combined_data = combined_data.dropna()\n",
    "print(combined_data.shape)\n",
    "combined_data.head()"
   ]
  },
  {
   "cell_type": "code",
   "execution_count": null,
   "metadata": {},
   "outputs": [],
   "source": [
    "print(combined_data.max(axis=0))\n",
    "print(combined_data.min(axis=0))"
   ]
  },
  {
   "cell_type": "markdown",
   "metadata": {},
   "source": [
    "## Normalize by Population"
   ]
  },
  {
   "cell_type": "code",
   "execution_count": null,
   "metadata": {},
   "outputs": [],
   "source": [
    "for col in combined_data.columns.values:\n",
    "    print(col, combined_data[col].shape)"
   ]
  },
  {
   "cell_type": "code",
   "execution_count": 14,
   "metadata": {},
   "outputs": [
    {
     "ename": "NameError",
     "evalue": "name 'combined_data' is not defined",
     "output_type": "error",
     "traceback": [
      "\u001b[0;31m---------------------------------------------------------------------------\u001b[0m",
      "\u001b[0;31mNameError\u001b[0m                                 Traceback (most recent call last)",
      "\u001b[0;32m<ipython-input-14-c8c0369af145>\u001b[0m in \u001b[0;36m<module>\u001b[0;34m\u001b[0m\n\u001b[0;32m----> 1\u001b[0;31m \u001b[0mcombined_data\u001b[0m\u001b[0;34m.\u001b[0m\u001b[0mcolumns\u001b[0m\u001b[0;34m.\u001b[0m\u001b[0mvalues\u001b[0m\u001b[0;34m\u001b[0m\u001b[0;34m\u001b[0m\u001b[0m\n\u001b[0m",
      "\u001b[0;31mNameError\u001b[0m: name 'combined_data' is not defined"
     ]
    }
   ],
   "source": [
    "combined_data.columns.values"
   ]
  },
  {
   "cell_type": "code",
   "execution_count": null,
   "metadata": {},
   "outputs": [],
   "source": [
    "combined_data['normalized_deaths'] = np.true_divide(combined_data['Deaths'],combined_data['POP_ESTIMATE_2018'])\n",
    "combined_data['Total_age65plus'] = np.true_divide(combined_data['Total_age65plus'],combined_data['POP_ESTIMATE_2018'])\n",
    "combined_data['SCHOOL ENROLLMENT!!Population 3 years and over enrolled in school!!Nursery school preschool'] = np.true_divide(combined_data['SCHOOL ENROLLMENT!!Population 3 years and over enrolled in school!!Nursery school preschool'],combined_data['POP_ESTIMATE_2018'])\n",
    "combined_data['SCHOOL ENROLLMENT!!Population 3 years and over enrolled in school!!Kindergarten'] = np.true_divide(combined_data['SCHOOL ENROLLMENT!!Population 3 years and over enrolled in school!!Kindergarten'],combined_data['POP_ESTIMATE_2018'])\n",
    "combined_data['SCHOOL ENROLLMENT!!Population 3 years and over enrolled in school!!Elementary school (grades 1-8)'] = np.true_divide(combined_data['SCHOOL ENROLLMENT!!Population 3 years and over enrolled in school!!Elementary school (grades 1-8)'],combined_data['POP_ESTIMATE_2018'])\n",
    "combined_data['SCHOOL ENROLLMENT!!Population 3 years and over enrolled in school!!High school (grades 9-12)'] = np.true_divide(combined_data['SCHOOL ENROLLMENT!!Population 3 years and over enrolled in school!!High school (grades 9-12)'],combined_data['POP_ESTIMATE_2018'])\n",
    "combined_data['SCHOOL ENROLLMENT!!Population 3 years and over enrolled in school!!College or graduate school'] = np.true_divide(combined_data['SCHOOL ENROLLMENT!!Population 3 years and over enrolled in school!!College or graduate school'],combined_data['POP_ESTIMATE_2018'])\n",
    "combined_data['HospCt'] = np.true_divide(combined_data['HospCt'],combined_data['POP_ESTIMATE_2018'])\n",
    "combined_data['Hispanic Population'] = np.true_divide(combined_data['Hispanic Population'],combined_data['POP_ESTIMATE_2018'])\n",
    "combined_data['Black Population'] = np.true_divide(combined_data['Black Population'],combined_data['POP_ESTIMATE_2018'])\n",
    "# combined_data['out_movement'] = np.true_divide(combined_data['out_movement'],combined_data['POP_ESTIMATE_2018'])\n",
    "# combined_data['inter_movement'] = np.true_divide(combined_data['inter_movement'],combined_data['POP_ESTIMATE_2018'])\n",
    "combined_data['2wk Prior Inter-Mobility'] = np.true_divide(combined_data['2wk Prior Inter-Mobility'],combined_data['POP_ESTIMATE_2018'])\n",
    "combined_data['2wk Onset Inter-Mobility'] = np.true_divide(combined_data['2wk Onset Inter-Mobility'],combined_data['POP_ESTIMATE_2018'])\n",
    "combined_data['2wk Post Inter-Mobility'] = np.true_divide(combined_data['2wk Post Inter-Mobility'],combined_data['POP_ESTIMATE_2018'])\n",
    "combined_data['2wk Prior Intra-Mobility'] = np.true_divide(combined_data['2wk Prior Intra-Mobility'],combined_data['POP_ESTIMATE_2018'])\n",
    "combined_data['2wk Onset Intra-Mobility'] = np.true_divide(combined_data['2wk Onset Intra-Mobility'],combined_data['POP_ESTIMATE_2018'])\n",
    "combined_data['2wk Post Intra-Mobility'] = np.true_divide(combined_data['2wk Post Intra-Mobility'],combined_data['POP_ESTIMATE_2018'])\n",
    "combined_data['1 Month Prior Inter-Mobility'] = np.true_divide(combined_data['1 Month Prior Inter-Mobility'],combined_data['POP_ESTIMATE_2018'])\n",
    "combined_data['1 Month Prior Intra-Mobility'] = np.true_divide(combined_data['1 Month Prior Intra-Mobility'],combined_data['POP_ESTIMATE_2018'])\n",
    "# combined_data['Longterm Beds'] = np.true_divide(combined_data['Longterm Beds'],combined_data['POP_ESTIMATE_2018'])\n",
    "# combined_data['Longterm HospCt'] = np.true_divide(combined_data['Longterm HospCt'],combined_data['POP_ESTIMATE_2018'])\n",
    "combined_data['NursingCt'] = np.true_divide(combined_data['NursingCt'],combined_data['POP_ESTIMATE_2018'])"
   ]
  },
  {
   "cell_type": "code",
   "execution_count": 15,
   "metadata": {},
   "outputs": [
    {
     "ename": "NameError",
     "evalue": "name 'combined_data' is not defined",
     "output_type": "error",
     "traceback": [
      "\u001b[0;31m---------------------------------------------------------------------------\u001b[0m",
      "\u001b[0;31mNameError\u001b[0m                                 Traceback (most recent call last)",
      "\u001b[0;32m<ipython-input-15-5c9ffc49e479>\u001b[0m in \u001b[0;36m<module>\u001b[0;34m\u001b[0m\n\u001b[1;32m      1\u001b[0m \u001b[0;31m# drop population\u001b[0m\u001b[0;34m\u001b[0m\u001b[0;34m\u001b[0m\u001b[0;34m\u001b[0m\u001b[0m\n\u001b[1;32m      2\u001b[0m \u001b[0;31m# combined_data.dropna()\u001b[0m\u001b[0;34m\u001b[0m\u001b[0;34m\u001b[0m\u001b[0;34m\u001b[0m\u001b[0m\n\u001b[0;32m----> 3\u001b[0;31m \u001b[0mprint\u001b[0m\u001b[0;34m(\u001b[0m\u001b[0mcombined_data\u001b[0m\u001b[0;34m.\u001b[0m\u001b[0mshape\u001b[0m\u001b[0;34m)\u001b[0m\u001b[0;34m\u001b[0m\u001b[0;34m\u001b[0m\u001b[0m\n\u001b[0m\u001b[1;32m      4\u001b[0m \u001b[0mcombined_data\u001b[0m\u001b[0;34m.\u001b[0m\u001b[0mhead\u001b[0m\u001b[0;34m(\u001b[0m\u001b[0;34m)\u001b[0m\u001b[0;34m\u001b[0m\u001b[0;34m\u001b[0m\u001b[0m\n",
      "\u001b[0;31mNameError\u001b[0m: name 'combined_data' is not defined"
     ]
    }
   ],
   "source": [
    "# drop population \n",
    "# combined_data.dropna()\n",
    "print(combined_data.shape)\n",
    "combined_data.head()"
   ]
  },
  {
   "cell_type": "code",
   "execution_count": null,
   "metadata": {},
   "outputs": [],
   "source": [
    "# combined_data.to_csv('../data/processed/pre_pairwise_acpca.csv', index=False)"
   ]
  },
  {
   "cell_type": "code",
   "execution_count": null,
   "metadata": {},
   "outputs": [],
   "source": [
    "# combined_data.drop(columns='POP_ESTIMATE_2018', inplace=True)\n",
    "combined_data = combined_data.drop(columns=['Outbreak_date'])"
   ]
  },
  {
   "cell_type": "code",
   "execution_count": null,
   "metadata": {},
   "outputs": [],
   "source": [
    "print(combined_data.max(axis=0))\n",
    "print(combined_data.min(axis=0))"
   ]
  },
  {
   "cell_type": "markdown",
   "metadata": {},
   "source": [
    "## Filter by region"
   ]
  },
  {
   "cell_type": "code",
   "execution_count": 16,
   "metadata": {},
   "outputs": [
    {
     "data": {
      "text/html": [
       "<div>\n",
       "<style scoped>\n",
       "    .dataframe tbody tr th:only-of-type {\n",
       "        vertical-align: middle;\n",
       "    }\n",
       "\n",
       "    .dataframe tbody tr th {\n",
       "        vertical-align: top;\n",
       "    }\n",
       "\n",
       "    .dataframe thead th {\n",
       "        text-align: right;\n",
       "    }\n",
       "</style>\n",
       "<table border=\"1\" class=\"dataframe\">\n",
       "  <thead>\n",
       "    <tr style=\"text-align: right;\">\n",
       "      <th></th>\n",
       "      <th>fips</th>\n",
       "      <th>sname</th>\n",
       "    </tr>\n",
       "  </thead>\n",
       "  <tbody>\n",
       "    <tr>\n",
       "      <th>0</th>\n",
       "      <td>1001</td>\n",
       "      <td>Alabama</td>\n",
       "    </tr>\n",
       "    <tr>\n",
       "      <th>20</th>\n",
       "      <td>1003</td>\n",
       "      <td>Alabama</td>\n",
       "    </tr>\n",
       "    <tr>\n",
       "      <th>40</th>\n",
       "      <td>1005</td>\n",
       "      <td>Alabama</td>\n",
       "    </tr>\n",
       "    <tr>\n",
       "      <th>60</th>\n",
       "      <td>1007</td>\n",
       "      <td>Alabama</td>\n",
       "    </tr>\n",
       "    <tr>\n",
       "      <th>100</th>\n",
       "      <td>1009</td>\n",
       "      <td>Alabama</td>\n",
       "    </tr>\n",
       "  </tbody>\n",
       "</table>\n",
       "</div>"
      ],
      "text/plain": [
       "     fips    sname\n",
       "0    1001  Alabama\n",
       "20   1003  Alabama\n",
       "40   1005  Alabama\n",
       "60   1007  Alabama\n",
       "100  1009  Alabama"
      ]
     },
     "execution_count": 16,
     "metadata": {},
     "output_type": "execute_result"
    }
   ],
   "source": [
    "fipscodes = pd.read_csv('../data/raw/countyfipstool2019.csv').filter(['fips', 'sname']).drop_duplicates()\n",
    "fipscodes.head()"
   ]
  },
  {
   "cell_type": "code",
   "execution_count": 17,
   "metadata": {},
   "outputs": [
    {
     "ename": "NameError",
     "evalue": "name 'combined_data' is not defined",
     "output_type": "error",
     "traceback": [
      "\u001b[0;31m---------------------------------------------------------------------------\u001b[0m",
      "\u001b[0;31mNameError\u001b[0m                                 Traceback (most recent call last)",
      "\u001b[0;32m<ipython-input-17-1b321cef75d8>\u001b[0m in \u001b[0;36m<module>\u001b[0;34m\u001b[0m\n\u001b[0;32m----> 1\u001b[0;31m \u001b[0mprint\u001b[0m\u001b[0;34m(\u001b[0m\u001b[0mcombined_data\u001b[0m\u001b[0;34m.\u001b[0m\u001b[0mshape\u001b[0m\u001b[0;34m)\u001b[0m\u001b[0;34m\u001b[0m\u001b[0;34m\u001b[0m\u001b[0m\n\u001b[0m\u001b[1;32m      2\u001b[0m \u001b[0mcombined_data\u001b[0m \u001b[0;34m=\u001b[0m \u001b[0mcombined_data\u001b[0m\u001b[0;34m.\u001b[0m\u001b[0mmerge\u001b[0m\u001b[0;34m(\u001b[0m\u001b[0mfipscodes\u001b[0m\u001b[0;34m,\u001b[0m \u001b[0mhow\u001b[0m\u001b[0;34m=\u001b[0m\u001b[0;34m'left'\u001b[0m\u001b[0;34m,\u001b[0m \u001b[0mleft_on\u001b[0m\u001b[0;34m=\u001b[0m\u001b[0;34m'FIPS'\u001b[0m\u001b[0;34m,\u001b[0m \u001b[0mright_on\u001b[0m\u001b[0;34m=\u001b[0m\u001b[0;34m'fips'\u001b[0m\u001b[0;34m)\u001b[0m\u001b[0;34m\u001b[0m\u001b[0;34m\u001b[0m\u001b[0m\n\u001b[1;32m      3\u001b[0m \u001b[0mNE_states\u001b[0m \u001b[0;34m=\u001b[0m \u001b[0;34m[\u001b[0m\u001b[0;34m'Connecticut'\u001b[0m\u001b[0;34m,\u001b[0m \u001b[0;34m'Maine'\u001b[0m\u001b[0;34m,\u001b[0m \u001b[0;34m'Massachusetts'\u001b[0m\u001b[0;34m,\u001b[0m \u001b[0;34m'New Hampshire'\u001b[0m\u001b[0;34m,\u001b[0m \u001b[0;34m'Rhode Island'\u001b[0m\u001b[0;34m,\u001b[0m \u001b[0;34m'New York'\u001b[0m\u001b[0;34m,\u001b[0m \u001b[0;34m'New Jersey'\u001b[0m\u001b[0;34m,\u001b[0m \u001b[0;34m'Vermont'\u001b[0m\u001b[0;34m,\u001b[0m \u001b[0;34m'Maryland'\u001b[0m\u001b[0;34m,\u001b[0m \u001b[0;34m'Delaware'\u001b[0m\u001b[0;34m,\u001b[0m \u001b[0;34m'District of Columbia'\u001b[0m\u001b[0;34m,\u001b[0m \u001b[0;34m'Pennsylvania'\u001b[0m\u001b[0;34m]\u001b[0m\u001b[0;34m\u001b[0m\u001b[0;34m\u001b[0m\u001b[0m\n\u001b[1;32m      4\u001b[0m \u001b[0;31m# combined_data['Northeast'] = (combined_data['sname'] in NE_states.any())\u001b[0m\u001b[0;34m\u001b[0m\u001b[0;34m\u001b[0m\u001b[0;34m\u001b[0m\u001b[0m\n\u001b[1;32m      5\u001b[0m \u001b[0mprint\u001b[0m\u001b[0;34m(\u001b[0m\u001b[0mcombined_data\u001b[0m\u001b[0;34m.\u001b[0m\u001b[0mshape\u001b[0m\u001b[0;34m)\u001b[0m\u001b[0;34m\u001b[0m\u001b[0;34m\u001b[0m\u001b[0m\n",
      "\u001b[0;31mNameError\u001b[0m: name 'combined_data' is not defined"
     ]
    }
   ],
   "source": [
    "print(combined_data.shape)\n",
    "combined_data = combined_data.merge(fipscodes, how='left', left_on='FIPS', right_on='fips')\n",
    "NE_states = ['Connecticut', 'Maine', 'Massachusetts', 'New Hampshire', 'Rhode Island', 'New York', 'New Jersey', 'Vermont', 'Maryland', 'Delaware', 'District of Columbia', 'Pennsylvania']\n",
    "# combined_data['Northeast'] = (combined_data['sname'] in NE_states.any())\n",
    "print(combined_data.shape)\n",
    "combined_data.head()"
   ]
  },
  {
   "cell_type": "code",
   "execution_count": 18,
   "metadata": {},
   "outputs": [
    {
     "ename": "NameError",
     "evalue": "name 'combined_data' is not defined",
     "output_type": "error",
     "traceback": [
      "\u001b[0;31m---------------------------------------------------------------------------\u001b[0m",
      "\u001b[0;31mNameError\u001b[0m                                 Traceback (most recent call last)",
      "\u001b[0;32m<ipython-input-18-c27f2be440ed>\u001b[0m in \u001b[0;36m<module>\u001b[0;34m\u001b[0m\n\u001b[0;32m----> 1\u001b[0;31m \u001b[0mcombined_data\u001b[0m\u001b[0;34m[\u001b[0m\u001b[0;34m'Northeast'\u001b[0m\u001b[0;34m]\u001b[0m \u001b[0;34m=\u001b[0m \u001b[0;36m0\u001b[0m\u001b[0;34m\u001b[0m\u001b[0;34m\u001b[0m\u001b[0m\n\u001b[0m\u001b[1;32m      2\u001b[0m \u001b[0;32mfor\u001b[0m \u001b[0mstate\u001b[0m \u001b[0;32min\u001b[0m \u001b[0mNE_states\u001b[0m\u001b[0;34m:\u001b[0m\u001b[0;34m\u001b[0m\u001b[0;34m\u001b[0m\u001b[0m\n\u001b[1;32m      3\u001b[0m     \u001b[0mcombined_data\u001b[0m\u001b[0;34m[\u001b[0m\u001b[0;34m'Northeast'\u001b[0m\u001b[0;34m]\u001b[0m \u001b[0;34m+=\u001b[0m \u001b[0mcombined_data\u001b[0m\u001b[0;34m[\u001b[0m\u001b[0;34m'sname'\u001b[0m\u001b[0;34m]\u001b[0m \u001b[0;34m==\u001b[0m \u001b[0mstate\u001b[0m\u001b[0;34m\u001b[0m\u001b[0;34m\u001b[0m\u001b[0m\n\u001b[1;32m      4\u001b[0m \u001b[0mcombined_data\u001b[0m\u001b[0;34m[\u001b[0m\u001b[0mcombined_data\u001b[0m\u001b[0;34m[\u001b[0m\u001b[0;34m'Northeast'\u001b[0m\u001b[0;34m]\u001b[0m \u001b[0;34m>\u001b[0m \u001b[0;36m0\u001b[0m\u001b[0;34m]\u001b[0m\u001b[0;34m.\u001b[0m\u001b[0mhead\u001b[0m\u001b[0;34m(\u001b[0m\u001b[0;34m)\u001b[0m\u001b[0;34m\u001b[0m\u001b[0;34m\u001b[0m\u001b[0m\n",
      "\u001b[0;31mNameError\u001b[0m: name 'combined_data' is not defined"
     ]
    }
   ],
   "source": [
    "combined_data['Northeast'] = 0\n",
    "for state in NE_states: \n",
    "    combined_data['Northeast'] += combined_data['sname'] == state\n",
    "combined_data[combined_data['Northeast'] > 0].head()"
   ]
  },
  {
   "cell_type": "code",
   "execution_count": 19,
   "metadata": {},
   "outputs": [
    {
     "ename": "NameError",
     "evalue": "name 'combined_data' is not defined",
     "output_type": "error",
     "traceback": [
      "\u001b[0;31m---------------------------------------------------------------------------\u001b[0m",
      "\u001b[0;31mNameError\u001b[0m                                 Traceback (most recent call last)",
      "\u001b[0;32m<ipython-input-19-36da89f5c392>\u001b[0m in \u001b[0;36m<module>\u001b[0;34m\u001b[0m\n\u001b[0;32m----> 1\u001b[0;31m \u001b[0mcombined_data\u001b[0m \u001b[0;34m=\u001b[0m \u001b[0mcombined_data\u001b[0m\u001b[0;34m.\u001b[0m\u001b[0mdrop\u001b[0m\u001b[0;34m(\u001b[0m\u001b[0mcolumns\u001b[0m\u001b[0;34m=\u001b[0m\u001b[0;34m[\u001b[0m\u001b[0;34m'fips'\u001b[0m\u001b[0;34m,\u001b[0m \u001b[0;34m'sname'\u001b[0m\u001b[0;34m]\u001b[0m\u001b[0;34m)\u001b[0m\u001b[0;34m\u001b[0m\u001b[0;34m\u001b[0m\u001b[0m\n\u001b[0m\u001b[1;32m      2\u001b[0m \u001b[0mcombined_data\u001b[0m\u001b[0;34m.\u001b[0m\u001b[0mhead\u001b[0m\u001b[0;34m(\u001b[0m\u001b[0;34m)\u001b[0m\u001b[0;34m\u001b[0m\u001b[0;34m\u001b[0m\u001b[0m\n",
      "\u001b[0;31mNameError\u001b[0m: name 'combined_data' is not defined"
     ]
    }
   ],
   "source": [
    "combined_data = combined_data.drop(columns=['fips', 'sname'])\n",
    "combined_data.head()"
   ]
  },
  {
   "cell_type": "code",
   "execution_count": 20,
   "metadata": {},
   "outputs": [
    {
     "ename": "NameError",
     "evalue": "name 'combined_data' is not defined",
     "output_type": "error",
     "traceback": [
      "\u001b[0;31m---------------------------------------------------------------------------\u001b[0m",
      "\u001b[0;31mNameError\u001b[0m                                 Traceback (most recent call last)",
      "\u001b[0;32m<ipython-input-20-77e76b01f098>\u001b[0m in \u001b[0;36m<module>\u001b[0;34m\u001b[0m\n\u001b[0;32m----> 1\u001b[0;31m \u001b[0mcombined_data_NE\u001b[0m \u001b[0;34m=\u001b[0m \u001b[0mcombined_data\u001b[0m\u001b[0;34m[\u001b[0m\u001b[0mcombined_data\u001b[0m\u001b[0;34m[\u001b[0m\u001b[0;34m'Northeast'\u001b[0m\u001b[0;34m]\u001b[0m \u001b[0;34m>\u001b[0m \u001b[0;36m0\u001b[0m\u001b[0;34m]\u001b[0m\u001b[0;34m.\u001b[0m\u001b[0mdrop\u001b[0m\u001b[0;34m(\u001b[0m\u001b[0mcolumns\u001b[0m\u001b[0;34m=\u001b[0m\u001b[0;34m[\u001b[0m\u001b[0;34m'Northeast'\u001b[0m\u001b[0;34m]\u001b[0m\u001b[0;34m)\u001b[0m\u001b[0;34m\u001b[0m\u001b[0;34m\u001b[0m\u001b[0m\n\u001b[0m\u001b[1;32m      2\u001b[0m \u001b[0mprint\u001b[0m\u001b[0;34m(\u001b[0m\u001b[0mcombined_data_NE\u001b[0m\u001b[0;34m.\u001b[0m\u001b[0mshape\u001b[0m\u001b[0;34m)\u001b[0m\u001b[0;34m\u001b[0m\u001b[0;34m\u001b[0m\u001b[0m\n\u001b[1;32m      3\u001b[0m \u001b[0mcombined_data_NE\u001b[0m\u001b[0;34m.\u001b[0m\u001b[0mhead\u001b[0m\u001b[0;34m(\u001b[0m\u001b[0;34m)\u001b[0m\u001b[0;34m\u001b[0m\u001b[0;34m\u001b[0m\u001b[0m\n",
      "\u001b[0;31mNameError\u001b[0m: name 'combined_data' is not defined"
     ]
    }
   ],
   "source": [
    "combined_data_NE = combined_data[combined_data['Northeast'] > 0].drop(columns=['Northeast'])\n",
    "print(combined_data_NE.shape)\n",
    "combined_data_NE.head()"
   ]
  },
  {
   "cell_type": "code",
   "execution_count": null,
   "metadata": {},
   "outputs": [],
   "source": [
    "combined_data = combined_data.drop(columns=['Northeast'])\n",
    "combined_data.to_csv('../data/processed/multi_var_unscaled.csv', index=False)\n",
    "print(combined_data.shape)"
   ]
  },
  {
   "cell_type": "code",
   "execution_count": 21,
   "metadata": {},
   "outputs": [
    {
     "ename": "NameError",
     "evalue": "name 'combined_data' is not defined",
     "output_type": "error",
     "traceback": [
      "\u001b[0;31m---------------------------------------------------------------------------\u001b[0m",
      "\u001b[0;31mNameError\u001b[0m                                 Traceback (most recent call last)",
      "\u001b[0;32m<ipython-input-21-a2564674e284>\u001b[0m in \u001b[0;36m<module>\u001b[0;34m\u001b[0m\n\u001b[0;32m----> 1\u001b[0;31m \u001b[0mpre_partial_corr\u001b[0m \u001b[0;34m=\u001b[0m \u001b[0mcombined_data\u001b[0m\u001b[0;34m.\u001b[0m\u001b[0mfilter\u001b[0m\u001b[0;34m(\u001b[0m\u001b[0;34m[\u001b[0m\u001b[0;34m\"Rural-urban_Continuum Code_2013\"\u001b[0m\u001b[0;34m,\u001b[0m \u001b[0;34m\"2wk Prior Intra-Mobility\"\u001b[0m\u001b[0;34m,\u001b[0m \u001b[0;34m\"Total_age65plus\"\u001b[0m\u001b[0;34m,\u001b[0m \u001b[0;34m\"HospCt\"\u001b[0m\u001b[0;34m,\u001b[0m \u001b[0;34m\"normalized_deaths\"\u001b[0m\u001b[0;34m]\u001b[0m\u001b[0;34m)\u001b[0m\u001b[0;34m\u001b[0m\u001b[0;34m\u001b[0m\u001b[0m\n\u001b[0m\u001b[1;32m      2\u001b[0m \u001b[0mpre_partial_corr\u001b[0m \u001b[0;34m=\u001b[0m \u001b[0mpre_partial_corr\u001b[0m\u001b[0;34m.\u001b[0m\u001b[0mdropna\u001b[0m\u001b[0;34m(\u001b[0m\u001b[0;34m)\u001b[0m\u001b[0;34m\u001b[0m\u001b[0;34m\u001b[0m\u001b[0m\n\u001b[1;32m      3\u001b[0m \u001b[0mprint\u001b[0m\u001b[0;34m(\u001b[0m\u001b[0mpre_partial_corr\u001b[0m\u001b[0;34m.\u001b[0m\u001b[0mshape\u001b[0m\u001b[0;34m)\u001b[0m\u001b[0;34m\u001b[0m\u001b[0;34m\u001b[0m\u001b[0m\n\u001b[1;32m      4\u001b[0m \u001b[0mpre_partial_corr\u001b[0m\u001b[0;34m.\u001b[0m\u001b[0mto_csv\u001b[0m\u001b[0;34m(\u001b[0m\u001b[0;34m'../data/processed/pre_partial_corr.csv'\u001b[0m\u001b[0;34m,\u001b[0m \u001b[0mindex\u001b[0m\u001b[0;34m=\u001b[0m\u001b[0;32mFalse\u001b[0m\u001b[0;34m)\u001b[0m\u001b[0;34m\u001b[0m\u001b[0;34m\u001b[0m\u001b[0m\n\u001b[1;32m      5\u001b[0m \u001b[0mpre_partial_corr\u001b[0m\u001b[0;34m.\u001b[0m\u001b[0mhead\u001b[0m\u001b[0;34m(\u001b[0m\u001b[0;34m)\u001b[0m\u001b[0;34m\u001b[0m\u001b[0;34m\u001b[0m\u001b[0m\n",
      "\u001b[0;31mNameError\u001b[0m: name 'combined_data' is not defined"
     ]
    }
   ],
   "source": [
    "pre_partial_corr = combined_data.filter([\"Rural-urban_Continuum Code_2013\", \"2wk Prior Intra-Mobility\", \"Total_age65plus\", \"HospCt\", \"normalized_deaths\"])\n",
    "pre_partial_corr = pre_partial_corr.dropna()\n",
    "print(pre_partial_corr.shape)\n",
    "pre_partial_corr.to_csv('../data/processed/pre_partial_corr.csv', index=False)\n",
    "pre_partial_corr.head()"
   ]
  },
  {
   "cell_type": "code",
   "execution_count": null,
   "metadata": {},
   "outputs": [],
   "source": [
    "combined_data_NE.to_csv('../data/processed/NE_multi_var_unscaled.csv', index=False)\n",
    "print(combined_data_NE.shape)"
   ]
  },
  {
   "cell_type": "code",
   "execution_count": 22,
   "metadata": {},
   "outputs": [
    {
     "ename": "NameError",
     "evalue": "name 'combined_data_NE' is not defined",
     "output_type": "error",
     "traceback": [
      "\u001b[0;31m---------------------------------------------------------------------------\u001b[0m",
      "\u001b[0;31mNameError\u001b[0m                                 Traceback (most recent call last)",
      "\u001b[0;32m<ipython-input-22-c2b4982db4fc>\u001b[0m in \u001b[0;36m<module>\u001b[0;34m\u001b[0m\n\u001b[0;32m----> 1\u001b[0;31m \u001b[0mpre_partial_corr_NE\u001b[0m \u001b[0;34m=\u001b[0m \u001b[0mcombined_data_NE\u001b[0m\u001b[0;34m.\u001b[0m\u001b[0mfilter\u001b[0m\u001b[0;34m(\u001b[0m\u001b[0;34m[\u001b[0m\u001b[0;34m\"Rural-urban_Continuum Code_2013\"\u001b[0m\u001b[0;34m,\u001b[0m \u001b[0;34m\"2wk Prior Intra-Mobility\"\u001b[0m\u001b[0;34m,\u001b[0m \u001b[0;34m\"Total_age65plus\"\u001b[0m\u001b[0;34m,\u001b[0m \u001b[0;34m\"HospCt\"\u001b[0m\u001b[0;34m,\u001b[0m \u001b[0;34m\"normalized_deaths\"\u001b[0m\u001b[0;34m]\u001b[0m\u001b[0;34m)\u001b[0m\u001b[0;34m\u001b[0m\u001b[0;34m\u001b[0m\u001b[0m\n\u001b[0m\u001b[1;32m      2\u001b[0m \u001b[0mpre_partial_corr_NE\u001b[0m \u001b[0;34m=\u001b[0m \u001b[0mpre_partial_corr_NE\u001b[0m\u001b[0;34m.\u001b[0m\u001b[0mdropna\u001b[0m\u001b[0;34m(\u001b[0m\u001b[0;34m)\u001b[0m\u001b[0;34m\u001b[0m\u001b[0;34m\u001b[0m\u001b[0m\n\u001b[1;32m      3\u001b[0m \u001b[0mprint\u001b[0m\u001b[0;34m(\u001b[0m\u001b[0mpre_partial_corr_NE\u001b[0m\u001b[0;34m.\u001b[0m\u001b[0mshape\u001b[0m\u001b[0;34m)\u001b[0m\u001b[0;34m\u001b[0m\u001b[0;34m\u001b[0m\u001b[0m\n\u001b[1;32m      4\u001b[0m \u001b[0mpre_partial_corr_NE\u001b[0m\u001b[0;34m.\u001b[0m\u001b[0mto_csv\u001b[0m\u001b[0;34m(\u001b[0m\u001b[0;34m'../data/processed/pre_partial_corr_NE.csv'\u001b[0m\u001b[0;34m,\u001b[0m \u001b[0mindex\u001b[0m\u001b[0;34m=\u001b[0m\u001b[0;32mFalse\u001b[0m\u001b[0;34m)\u001b[0m\u001b[0;34m\u001b[0m\u001b[0;34m\u001b[0m\u001b[0m\n\u001b[1;32m      5\u001b[0m \u001b[0mpre_partial_corr_NE\u001b[0m\u001b[0;34m.\u001b[0m\u001b[0mhead\u001b[0m\u001b[0;34m(\u001b[0m\u001b[0;34m)\u001b[0m\u001b[0;34m\u001b[0m\u001b[0;34m\u001b[0m\u001b[0m\n",
      "\u001b[0;31mNameError\u001b[0m: name 'combined_data_NE' is not defined"
     ]
    }
   ],
   "source": [
    "pre_partial_corr_NE = combined_data_NE.filter([\"Rural-urban_Continuum Code_2013\", \"2wk Prior Intra-Mobility\", \"Total_age65plus\", \"HospCt\", \"normalized_deaths\"])\n",
    "pre_partial_corr_NE = pre_partial_corr_NE.dropna()\n",
    "print(pre_partial_corr_NE.shape)\n",
    "pre_partial_corr_NE.to_csv('../data/processed/pre_partial_corr_NE.csv', index=False)\n",
    "pre_partial_corr_NE.head()"
   ]
  },
  {
   "cell_type": "code",
   "execution_count": null,
   "metadata": {},
   "outputs": [],
   "source": [
    "combined_data = combined_data.dropna()\n",
    "combined_data_NE = combined_data_NE.dropna()\n",
    "print(combined_data.shape)\n",
    "print(combined_data_NE.shape)"
   ]
  },
  {
   "cell_type": "markdown",
   "metadata": {},
   "source": [
    "## Min/Max Scaling / Normalization "
   ]
  },
  {
   "cell_type": "code",
   "execution_count": null,
   "metadata": {},
   "outputs": [],
   "source": [
    "# scaler = MinMaxScaler() \n",
    "# print(combined_data.to_numpy().shape)\n",
    "# scaled_data = scaler.fit_transform(combined_data)\n",
    "# for i in range(1, len(combined_data.columns.values)): \n",
    "#     col = combined_data.columns.values[i]\n",
    "#     combined_data[col] = scaled_data[:, i]"
   ]
  },
  {
   "cell_type": "code",
   "execution_count": null,
   "metadata": {},
   "outputs": [],
   "source": [
    "# print(combined_data.max(axis=0))\n",
    "# print(combined_data.min(axis=0))\n",
    "# combined_data.head()"
   ]
  },
  {
   "cell_type": "code",
   "execution_count": null,
   "metadata": {},
   "outputs": [],
   "source": [
    "# pd.set_option('display.max_columns', 5000)\n",
    "# combined_data[combined_data['FIPS'] == 36061]"
   ]
  },
  {
   "cell_type": "code",
   "execution_count": 23,
   "metadata": {},
   "outputs": [
    {
     "ename": "NameError",
     "evalue": "name 'combined_data' is not defined",
     "output_type": "error",
     "traceback": [
      "\u001b[0;31m---------------------------------------------------------------------------\u001b[0m",
      "\u001b[0;31mNameError\u001b[0m                                 Traceback (most recent call last)",
      "\u001b[0;32m<ipython-input-23-fb7e5974b947>\u001b[0m in \u001b[0;36m<module>\u001b[0;34m\u001b[0m\n\u001b[1;32m      1\u001b[0m \u001b[0;31m#\u001b[0m\u001b[0;34m\u001b[0m\u001b[0;34m\u001b[0m\u001b[0;34m\u001b[0m\u001b[0m\n\u001b[1;32m      2\u001b[0m \u001b[0;31m# combined_data= combined_data.set_index('FIPS')\u001b[0m\u001b[0;34m\u001b[0m\u001b[0;34m\u001b[0m\u001b[0;34m\u001b[0m\u001b[0m\n\u001b[0;32m----> 3\u001b[0;31m \u001b[0mcities\u001b[0m \u001b[0;34m=\u001b[0m \u001b[0mcombined_data\u001b[0m\u001b[0;34m[\u001b[0m\u001b[0mcombined_data\u001b[0m\u001b[0;34m[\u001b[0m\u001b[0;34m'Rural-urban_Continuum Code_2013'\u001b[0m\u001b[0;34m]\u001b[0m \u001b[0;34m==\u001b[0m \u001b[0;36m1\u001b[0m\u001b[0;34m]\u001b[0m\u001b[0;34m\u001b[0m\u001b[0;34m\u001b[0m\u001b[0m\n\u001b[0m\u001b[1;32m      4\u001b[0m \u001b[0;31m# for i in [36061, 17031, 26163, 36059, 6037]:\u001b[0m\u001b[0;34m\u001b[0m\u001b[0;34m\u001b[0m\u001b[0;34m\u001b[0m\u001b[0m\n\u001b[1;32m      5\u001b[0m \u001b[0;31m#     cities = cities.append(combined_data.loc[i])\u001b[0m\u001b[0;34m\u001b[0m\u001b[0;34m\u001b[0m\u001b[0;34m\u001b[0m\u001b[0m\n",
      "\u001b[0;31mNameError\u001b[0m: name 'combined_data' is not defined"
     ]
    }
   ],
   "source": [
    "#  \n",
    "# combined_data= combined_data.set_index('FIPS')\n",
    "cities = combined_data[combined_data['Rural-urban_Continuum Code_2013'] == 1]\n",
    "# for i in [36061, 17031, 26163, 36059, 6037]:\n",
    "#     cities = cities.append(combined_data.loc[i])\n",
    "cities.head()"
   ]
  },
  {
   "cell_type": "code",
   "execution_count": null,
   "metadata": {},
   "outputs": [],
   "source": [
    "# combined_data = combined_data[combined_data['Rural-urban_Continuum Code_2013'] > 1]"
   ]
  },
  {
   "cell_type": "markdown",
   "metadata": {},
   "source": [
    " ## Scaling by Standard Deviation"
   ]
  },
  {
   "cell_type": "code",
   "execution_count": null,
   "metadata": {},
   "outputs": [],
   "source": [
    "def scale_std(data):\n",
    "    scaler = StandardScaler() \n",
    "    print(data.to_numpy().shape)\n",
    "    # scaled_data = scaler.fit_transform(combined_data)\n",
    "    for i in range(1, len(data.columns.values)- 2): # 1 to -2 so that it scales all except FIPs, deaths, and normalized deaths \n",
    "        col = data.columns.values[i]\n",
    "    #     combined_data[col] = scaled_data[:, i]\n",
    "        data[col] = scaler.fit_transform(np.array(data[col]).reshape(-1,1)).reshape(-1)\n",
    "    return data"
   ]
  },
  {
   "cell_type": "code",
   "execution_count": 24,
   "metadata": {},
   "outputs": [
    {
     "ename": "NameError",
     "evalue": "name 'scale_std' is not defined",
     "output_type": "error",
     "traceback": [
      "\u001b[0;31m---------------------------------------------------------------------------\u001b[0m",
      "\u001b[0;31mNameError\u001b[0m                                 Traceback (most recent call last)",
      "\u001b[0;32m<ipython-input-24-0d664269eeee>\u001b[0m in \u001b[0;36m<module>\u001b[0;34m\u001b[0m\n\u001b[0;32m----> 1\u001b[0;31m \u001b[0mcombined_data\u001b[0m \u001b[0;34m=\u001b[0m \u001b[0mscale_std\u001b[0m\u001b[0;34m(\u001b[0m\u001b[0mcombined_data\u001b[0m\u001b[0;34m)\u001b[0m\u001b[0;34m\u001b[0m\u001b[0;34m\u001b[0m\u001b[0m\n\u001b[0m\u001b[1;32m      2\u001b[0m \u001b[0mprint\u001b[0m\u001b[0;34m(\u001b[0m\u001b[0mcombined_data\u001b[0m\u001b[0;34m.\u001b[0m\u001b[0mmax\u001b[0m\u001b[0;34m(\u001b[0m\u001b[0maxis\u001b[0m\u001b[0;34m=\u001b[0m\u001b[0;36m0\u001b[0m\u001b[0;34m)\u001b[0m\u001b[0;34m)\u001b[0m\u001b[0;34m\u001b[0m\u001b[0;34m\u001b[0m\u001b[0m\n\u001b[1;32m      3\u001b[0m \u001b[0mprint\u001b[0m\u001b[0;34m(\u001b[0m\u001b[0mcombined_data\u001b[0m\u001b[0;34m.\u001b[0m\u001b[0mmin\u001b[0m\u001b[0;34m(\u001b[0m\u001b[0maxis\u001b[0m\u001b[0;34m=\u001b[0m\u001b[0;36m0\u001b[0m\u001b[0;34m)\u001b[0m\u001b[0;34m)\u001b[0m\u001b[0;34m\u001b[0m\u001b[0;34m\u001b[0m\u001b[0m\n\u001b[1;32m      4\u001b[0m \u001b[0mcombined_data\u001b[0m\u001b[0;34m.\u001b[0m\u001b[0mhead\u001b[0m\u001b[0;34m(\u001b[0m\u001b[0;34m)\u001b[0m\u001b[0;34m\u001b[0m\u001b[0;34m\u001b[0m\u001b[0m\n",
      "\u001b[0;31mNameError\u001b[0m: name 'scale_std' is not defined"
     ]
    }
   ],
   "source": [
    "combined_data = scale_std(combined_data)\n",
    "print(combined_data.max(axis=0))\n",
    "print(combined_data.min(axis=0))\n",
    "combined_data.head()"
   ]
  },
  {
   "cell_type": "code",
   "execution_count": 25,
   "metadata": {},
   "outputs": [
    {
     "ename": "NameError",
     "evalue": "name 'scale_std' is not defined",
     "output_type": "error",
     "traceback": [
      "\u001b[0;31m---------------------------------------------------------------------------\u001b[0m",
      "\u001b[0;31mNameError\u001b[0m                                 Traceback (most recent call last)",
      "\u001b[0;32m<ipython-input-25-29832905f49c>\u001b[0m in \u001b[0;36m<module>\u001b[0;34m\u001b[0m\n\u001b[0;32m----> 1\u001b[0;31m \u001b[0mcombined_data_NE\u001b[0m \u001b[0;34m=\u001b[0m \u001b[0mscale_std\u001b[0m\u001b[0;34m(\u001b[0m\u001b[0mcombined_data_NE\u001b[0m\u001b[0;34m)\u001b[0m\u001b[0;34m\u001b[0m\u001b[0;34m\u001b[0m\u001b[0m\n\u001b[0m\u001b[1;32m      2\u001b[0m \u001b[0mprint\u001b[0m\u001b[0;34m(\u001b[0m\u001b[0mcombined_data_NE\u001b[0m\u001b[0;34m.\u001b[0m\u001b[0mmax\u001b[0m\u001b[0;34m(\u001b[0m\u001b[0maxis\u001b[0m\u001b[0;34m=\u001b[0m\u001b[0;36m0\u001b[0m\u001b[0;34m)\u001b[0m\u001b[0;34m)\u001b[0m\u001b[0;34m\u001b[0m\u001b[0;34m\u001b[0m\u001b[0m\n\u001b[1;32m      3\u001b[0m \u001b[0mprint\u001b[0m\u001b[0;34m(\u001b[0m\u001b[0mcombined_data_NE\u001b[0m\u001b[0;34m.\u001b[0m\u001b[0mmin\u001b[0m\u001b[0;34m(\u001b[0m\u001b[0maxis\u001b[0m\u001b[0;34m=\u001b[0m\u001b[0;36m0\u001b[0m\u001b[0;34m)\u001b[0m\u001b[0;34m)\u001b[0m\u001b[0;34m\u001b[0m\u001b[0;34m\u001b[0m\u001b[0m\n\u001b[1;32m      4\u001b[0m \u001b[0mcombined_data_NE\u001b[0m\u001b[0;34m.\u001b[0m\u001b[0mhead\u001b[0m\u001b[0;34m(\u001b[0m\u001b[0;34m)\u001b[0m\u001b[0;34m\u001b[0m\u001b[0;34m\u001b[0m\u001b[0m\n",
      "\u001b[0;31mNameError\u001b[0m: name 'scale_std' is not defined"
     ]
    }
   ],
   "source": [
    "combined_data_NE = scale_std(combined_data_NE)\n",
    "print(combined_data_NE.max(axis=0))\n",
    "print(combined_data_NE.min(axis=0))\n",
    "combined_data_NE.head()"
   ]
  },
  {
   "cell_type": "code",
   "execution_count": null,
   "metadata": {},
   "outputs": [],
   "source": [
    "# combined_data=combined_data.set_index('FIPS')\n",
    "combined_data.to_csv('../data/processed/pre_pca.csv', index=False)\n",
    "combined_data.shape"
   ]
  },
  {
   "cell_type": "code",
   "execution_count": null,
   "metadata": {},
   "outputs": [],
   "source": [
    "# combined_data=combined_data.set_index('FIPS')\n",
    "combined_data_NE.to_csv('../data/processed/NE_pre_pca.csv', index=False)\n",
    "combined_data_NE.shape"
   ]
  },
  {
   "cell_type": "code",
   "execution_count": 26,
   "metadata": {},
   "outputs": [
    {
     "ename": "NameError",
     "evalue": "name 'combined_data' is not defined",
     "output_type": "error",
     "traceback": [
      "\u001b[0;31m---------------------------------------------------------------------------\u001b[0m",
      "\u001b[0;31mNameError\u001b[0m                                 Traceback (most recent call last)",
      "\u001b[0;32m<ipython-input-26-94656f2cf6fa>\u001b[0m in \u001b[0;36m<module>\u001b[0;34m\u001b[0m\n\u001b[0;32m----> 1\u001b[0;31m \u001b[0mplt\u001b[0m\u001b[0;34m.\u001b[0m\u001b[0mplot\u001b[0m\u001b[0;34m(\u001b[0m\u001b[0mlist\u001b[0m\u001b[0;34m(\u001b[0m\u001b[0mcombined_data\u001b[0m\u001b[0;34m[\u001b[0m\u001b[0;34m'HospCt'\u001b[0m\u001b[0;34m]\u001b[0m\u001b[0;34m)\u001b[0m\u001b[0;34m,\u001b[0m \u001b[0mlist\u001b[0m\u001b[0;34m(\u001b[0m\u001b[0mcombined_data\u001b[0m\u001b[0;34m[\u001b[0m\u001b[0;34m'normalized_deaths'\u001b[0m\u001b[0;34m]\u001b[0m\u001b[0;34m)\u001b[0m\u001b[0;34m,\u001b[0m \u001b[0;34m'bo'\u001b[0m\u001b[0;34m)\u001b[0m\u001b[0;34m\u001b[0m\u001b[0;34m\u001b[0m\u001b[0m\n\u001b[0m\u001b[1;32m      2\u001b[0m \u001b[0mplt\u001b[0m\u001b[0;34m.\u001b[0m\u001b[0mxlabel\u001b[0m\u001b[0;34m(\u001b[0m\u001b[0;34m'# hospitals'\u001b[0m\u001b[0;34m)\u001b[0m\u001b[0;34m\u001b[0m\u001b[0;34m\u001b[0m\u001b[0m\n\u001b[1;32m      3\u001b[0m \u001b[0mplt\u001b[0m\u001b[0;34m.\u001b[0m\u001b[0mylabel\u001b[0m\u001b[0;34m(\u001b[0m\u001b[0;34m'total deaths'\u001b[0m\u001b[0;34m)\u001b[0m\u001b[0;34m\u001b[0m\u001b[0;34m\u001b[0m\u001b[0m\n",
      "\u001b[0;31mNameError\u001b[0m: name 'combined_data' is not defined"
     ]
    }
   ],
   "source": [
    "plt.plot(list(combined_data['HospCt']), list(combined_data['normalized_deaths']), 'bo')\n",
    "plt.xlabel('# hospitals')\n",
    "plt.ylabel('total deaths')"
   ]
  },
  {
   "cell_type": "code",
   "execution_count": 27,
   "metadata": {},
   "outputs": [
    {
     "ename": "NameError",
     "evalue": "name 'combined_data' is not defined",
     "output_type": "error",
     "traceback": [
      "\u001b[0;31m---------------------------------------------------------------------------\u001b[0m",
      "\u001b[0;31mNameError\u001b[0m                                 Traceback (most recent call last)",
      "\u001b[0;32m<ipython-input-27-50e72065a1f3>\u001b[0m in \u001b[0;36m<module>\u001b[0;34m\u001b[0m\n\u001b[0;32m----> 1\u001b[0;31m \u001b[0mfilter1\u001b[0m \u001b[0;34m=\u001b[0m \u001b[0mcombined_data\u001b[0m\u001b[0;34m[\u001b[0m\u001b[0;34m'Deaths'\u001b[0m\u001b[0;34m]\u001b[0m \u001b[0;34m>\u001b[0m \u001b[0;36m140\u001b[0m\u001b[0;34m\u001b[0m\u001b[0;34m\u001b[0m\u001b[0m\n\u001b[0m\u001b[1;32m      2\u001b[0m \u001b[0;31m# filter2 = combined_data['deaths'] > 300000\u001b[0m\u001b[0;34m\u001b[0m\u001b[0;34m\u001b[0m\u001b[0;34m\u001b[0m\u001b[0m\n\u001b[1;32m      3\u001b[0m \u001b[0mfiltered\u001b[0m \u001b[0;34m=\u001b[0m \u001b[0mcombined_data\u001b[0m\u001b[0;34m.\u001b[0m\u001b[0mwhere\u001b[0m\u001b[0;34m(\u001b[0m\u001b[0mfilter1\u001b[0m\u001b[0;34m)\u001b[0m\u001b[0;34m\u001b[0m\u001b[0;34m\u001b[0m\u001b[0m\n\u001b[1;32m      4\u001b[0m \u001b[0;31m# filtered.where(filter2, inplace=True)\u001b[0m\u001b[0;34m\u001b[0m\u001b[0;34m\u001b[0m\u001b[0;34m\u001b[0m\u001b[0m\n\u001b[1;32m      5\u001b[0m \u001b[0mfiltered\u001b[0m \u001b[0;34m=\u001b[0m \u001b[0mfiltered\u001b[0m\u001b[0;34m.\u001b[0m\u001b[0mdropna\u001b[0m\u001b[0;34m(\u001b[0m\u001b[0;34m)\u001b[0m\u001b[0;34m\u001b[0m\u001b[0;34m\u001b[0m\u001b[0m\n",
      "\u001b[0;31mNameError\u001b[0m: name 'combined_data' is not defined"
     ]
    }
   ],
   "source": [
    "filter1 = combined_data['Deaths'] > 140\n",
    "# filter2 = combined_data['deaths'] > 300000\n",
    "filtered = combined_data.where(filter1)\n",
    "# filtered.where(filter2, inplace=True)\n",
    "filtered = filtered.dropna()\n",
    "filtered.head()"
   ]
  },
  {
   "cell_type": "code",
   "execution_count": null,
   "metadata": {},
   "outputs": [],
   "source": [
    "data_arr = combined_data.to_numpy()\n",
    "X = data_arr[:,2].reshape(1, -1).T\n",
    "Y = data_arr[:,3].reshape(1, -1).T\n",
    "reg = lm.LinearRegression().fit(X,Y)\n",
    "reg.score(X,Y)"
   ]
  },
  {
   "cell_type": "code",
   "execution_count": null,
   "metadata": {},
   "outputs": [],
   "source": [
    "data_arr = combined_data.to_numpy()\n",
    "X = data_arr[:,2:10].reshape(8, -1).T\n",
    "Y = data_arr[:,10].reshape(1, -1).T\n",
    "reg = lm.LinearRegression().fit(X,Y)\n",
    "reg.score(X,Y)"
   ]
  },
  {
   "cell_type": "code",
   "execution_count": 28,
   "metadata": {},
   "outputs": [
    {
     "ename": "NameError",
     "evalue": "name 'combined_data' is not defined",
     "output_type": "error",
     "traceback": [
      "\u001b[0;31m---------------------------------------------------------------------------\u001b[0m",
      "\u001b[0;31mNameError\u001b[0m                                 Traceback (most recent call last)",
      "\u001b[0;32m<ipython-input-28-01bbfbfb56c8>\u001b[0m in \u001b[0;36m<module>\u001b[0;34m\u001b[0m\n\u001b[0;32m----> 1\u001b[0;31m \u001b[0mlen\u001b[0m\u001b[0;34m(\u001b[0m\u001b[0mcombined_data\u001b[0m\u001b[0;34m.\u001b[0m\u001b[0mcolumns\u001b[0m\u001b[0;34m)\u001b[0m\u001b[0;34m\u001b[0m\u001b[0;34m\u001b[0m\u001b[0m\n\u001b[0m",
      "\u001b[0;31mNameError\u001b[0m: name 'combined_data' is not defined"
     ]
    }
   ],
   "source": [
    "len(combined_data.columns)"
   ]
  },
  {
   "cell_type": "code",
   "execution_count": null,
   "metadata": {},
   "outputs": [],
   "source": [
    "print(combined_data.columns[0:20])"
   ]
  },
  {
   "cell_type": "code",
   "execution_count": 29,
   "metadata": {},
   "outputs": [
    {
     "ename": "NameError",
     "evalue": "name 'combined_data' is not defined",
     "output_type": "error",
     "traceback": [
      "\u001b[0;31m---------------------------------------------------------------------------\u001b[0m",
      "\u001b[0;31mNameError\u001b[0m                                 Traceback (most recent call last)",
      "\u001b[0;32m<ipython-input-29-c9af16ad3e2a>\u001b[0m in \u001b[0;36m<module>\u001b[0;34m\u001b[0m\n\u001b[0;32m----> 1\u001b[0;31m \u001b[0mcombined_data\u001b[0m\u001b[0;34m.\u001b[0m\u001b[0mhead\u001b[0m\u001b[0;34m(\u001b[0m\u001b[0;34m)\u001b[0m\u001b[0;34m\u001b[0m\u001b[0;34m\u001b[0m\u001b[0m\n\u001b[0m",
      "\u001b[0;31mNameError\u001b[0m: name 'combined_data' is not defined"
     ]
    }
   ],
   "source": [
    "combined_data.head()"
   ]
  },
  {
   "cell_type": "code",
   "execution_count": null,
   "metadata": {},
   "outputs": [],
   "source": []
  }
 ],
 "metadata": {
  "kernelspec": {
   "display_name": "Python 3",
   "language": "python",
   "name": "python3"
  },
  "language_info": {
   "codemirror_mode": {
    "name": "ipython",
    "version": 3
   },
   "file_extension": ".py",
   "mimetype": "text/x-python",
   "name": "python",
   "nbconvert_exporter": "python",
   "pygments_lexer": "ipython3",
   "version": "3.7.6"
  }
 },
 "nbformat": 4,
 "nbformat_minor": 4
}
