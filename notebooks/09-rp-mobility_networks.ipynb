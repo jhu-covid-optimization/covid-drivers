{
 "nbformat": 4,
 "nbformat_minor": 2,
 "metadata": {
  "language_info": {
   "name": "python",
   "codemirror_mode": {
    "name": "ipython",
    "version": 3
   },
   "version": "3.7.3-final"
  },
  "orig_nbformat": 2,
  "file_extension": ".py",
  "mimetype": "text/x-python",
  "name": "python",
  "npconvert_exporter": "python",
  "pygments_lexer": "ipython3",
  "version": 3,
  "kernelspec": {
   "name": "morf-dev",
   "display_name": "morf-dev"
  }
 },
 "cells": [
  {
   "cell_type": "markdown",
   "metadata": {},
   "source": [
    "# Examining mobility networks\n",
    "Daily OD matrices are the data source"
   ]
  },
  {
   "cell_type": "code",
   "execution_count": 1,
   "metadata": {},
   "outputs": [],
   "source": [
    "import numpy as np\n",
    "import pandas as pd\n",
    "from pathlib import Path\n",
    "from datetime import datetime\n",
    "from tqdm import tqdm\n",
    "from matplotlib import dates\n",
    "import matplotlib.pyplot as plt\n",
    "import seaborn as sns\n",
    "import sys; sys.path.append('../')\n",
    "from src.data_loader.data_loader import *\n",
    "from src.utils.dates import get_today, lag_date, date2str, str2date, get_format\n",
    "from src.utils.df_utils import get_date_columns\n",
    "from src.pandas.align import align_lagged_dates\n",
    "\n",
    "from scipy.stats import spearmanr\n",
    "\n",
    "%matplotlib inline\n",
    "%load_ext autoreload\n",
    "%autoreload 2"
   ]
  },
  {
   "cell_type": "code",
   "execution_count": 3,
   "metadata": {},
   "outputs": [],
   "source": [
    "home_dir = Path('/mnt/c/Users/Ronan Perry/Documents/JHU/kimia-lab/')\n",
    "OD_dir = home_dir / 'Raw_OD'"
   ]
  },
  {
   "cell_type": "code",
   "execution_count": 40,
   "metadata": {},
   "outputs": [],
   "source": [
    "ODs = []\n",
    "for f in os.listdir(OD_dir)[:2]:\n",
    "    ODs.append(pd.read_csv(OD_dir / f))"
   ]
  },
  {
   "cell_type": "code",
   "execution_count": 44,
   "metadata": {},
   "outputs": [],
   "source": [
    "cols = ODs[0].columns\n",
    "rows = ODs[0]['origin']"
   ]
  },
  {
   "cell_type": "code",
   "execution_count": 45,
   "metadata": {},
   "outputs": [
    {
     "data": {
      "text/plain": "{48301}"
     },
     "execution_count": 45,
     "metadata": {},
     "output_type": "execute_result"
    }
   ],
   "source": [
    "set([int(i) for i in cols[1:]]).difference(set(rows))"
   ]
  },
  {
   "cell_type": "code",
   "execution_count": 55,
   "metadata": {},
   "outputs": [
    {
     "data": {
      "text/html": "<div>\n<style scoped>\n    .dataframe tbody tr th:only-of-type {\n        vertical-align: middle;\n    }\n\n    .dataframe tbody tr th {\n        vertical-align: top;\n    }\n\n    .dataframe thead th {\n        text-align: right;\n    }\n</style>\n<table border=\"1\" class=\"dataframe\">\n  <thead>\n    <tr style=\"text-align: right;\">\n      <th></th>\n      <th>origin</th>\n      <th>1001</th>\n      <th>1003</th>\n      <th>1005</th>\n      <th>1007</th>\n      <th>1009</th>\n      <th>1011</th>\n      <th>1013</th>\n      <th>1015</th>\n      <th>1017</th>\n      <th>...</th>\n      <th>56027</th>\n      <th>56029</th>\n      <th>56031</th>\n      <th>56033</th>\n      <th>56035</th>\n      <th>56037</th>\n      <th>56039</th>\n      <th>56041</th>\n      <th>56043</th>\n      <th>56045</th>\n    </tr>\n  </thead>\n  <tbody>\n    <tr>\n      <th>0</th>\n      <td>1001</td>\n      <td>87984.268733</td>\n      <td>139.487701</td>\n      <td>9.728395</td>\n      <td>117.404061</td>\n      <td>10.731132</td>\n      <td>101.042965</td>\n      <td>313.451299</td>\n      <td>211.008547</td>\n      <td>110.260982</td>\n      <td>...</td>\n      <td>0.000000</td>\n      <td>0.000000</td>\n      <td>0.000000</td>\n      <td>0.000000</td>\n      <td>0.000000</td>\n      <td>0.000000</td>\n      <td>0.000000</td>\n      <td>0.000000</td>\n      <td>0.000000</td>\n      <td>0.000000</td>\n    </tr>\n    <tr>\n      <th>1</th>\n      <td>1003</td>\n      <td>230.985081</td>\n      <td>374059.074396</td>\n      <td>135.352798</td>\n      <td>30.789255</td>\n      <td>36.082346</td>\n      <td>50.206910</td>\n      <td>684.890770</td>\n      <td>85.667101</td>\n      <td>30.142453</td>\n      <td>...</td>\n      <td>0.000000</td>\n      <td>0.000000</td>\n      <td>0.000000</td>\n      <td>0.000000</td>\n      <td>0.000000</td>\n      <td>0.000000</td>\n      <td>0.000000</td>\n      <td>0.000000</td>\n      <td>0.000000</td>\n      <td>0.000000</td>\n    </tr>\n    <tr>\n      <th>2</th>\n      <td>1005</td>\n      <td>50.966850</td>\n      <td>36.431336</td>\n      <td>40927.823380</td>\n      <td>0.000000</td>\n      <td>0.000000</td>\n      <td>394.441013</td>\n      <td>169.615385</td>\n      <td>48.846154</td>\n      <td>9.769231</td>\n      <td>...</td>\n      <td>0.000000</td>\n      <td>0.000000</td>\n      <td>84.807692</td>\n      <td>0.000000</td>\n      <td>0.000000</td>\n      <td>0.000000</td>\n      <td>0.000000</td>\n      <td>0.000000</td>\n      <td>0.000000</td>\n      <td>0.000000</td>\n    </tr>\n    <tr>\n      <th>3</th>\n      <td>1007</td>\n      <td>133.746306</td>\n      <td>237.362409</td>\n      <td>50.311571</td>\n      <td>30710.847712</td>\n      <td>49.232692</td>\n      <td>7.013699</td>\n      <td>0.000000</td>\n      <td>70.908668</td>\n      <td>0.000000</td>\n      <td>...</td>\n      <td>0.000000</td>\n      <td>0.000000</td>\n      <td>0.000000</td>\n      <td>0.000000</td>\n      <td>0.000000</td>\n      <td>0.000000</td>\n      <td>0.000000</td>\n      <td>0.000000</td>\n      <td>0.000000</td>\n      <td>0.000000</td>\n    </tr>\n    <tr>\n      <th>4</th>\n      <td>1009</td>\n      <td>130.675286</td>\n      <td>208.458089</td>\n      <td>0.000000</td>\n      <td>130.476532</td>\n      <td>85206.034599</td>\n      <td>0.000000</td>\n      <td>0.000000</td>\n      <td>278.223768</td>\n      <td>0.000000</td>\n      <td>...</td>\n      <td>0.000000</td>\n      <td>0.000000</td>\n      <td>7.064846</td>\n      <td>0.000000</td>\n      <td>0.000000</td>\n      <td>0.000000</td>\n      <td>0.000000</td>\n      <td>0.000000</td>\n      <td>0.000000</td>\n      <td>0.000000</td>\n    </tr>\n    <tr>\n      <th>...</th>\n      <td>...</td>\n      <td>...</td>\n      <td>...</td>\n      <td>...</td>\n      <td>...</td>\n      <td>...</td>\n      <td>...</td>\n      <td>...</td>\n      <td>...</td>\n      <td>...</td>\n      <td>...</td>\n      <td>...</td>\n      <td>...</td>\n      <td>...</td>\n      <td>...</td>\n      <td>...</td>\n      <td>...</td>\n      <td>...</td>\n      <td>...</td>\n      <td>...</td>\n      <td>...</td>\n    </tr>\n    <tr>\n      <th>3135</th>\n      <td>56037</td>\n      <td>0.000000</td>\n      <td>0.000000</td>\n      <td>0.000000</td>\n      <td>0.000000</td>\n      <td>0.000000</td>\n      <td>0.000000</td>\n      <td>0.000000</td>\n      <td>0.000000</td>\n      <td>0.000000</td>\n      <td>...</td>\n      <td>0.000000</td>\n      <td>0.000000</td>\n      <td>0.000000</td>\n      <td>91.585913</td>\n      <td>610.012847</td>\n      <td>74318.608673</td>\n      <td>203.287147</td>\n      <td>648.401839</td>\n      <td>0.000000</td>\n      <td>22.264685</td>\n    </tr>\n    <tr>\n      <th>3136</th>\n      <td>56039</td>\n      <td>0.000000</td>\n      <td>0.000000</td>\n      <td>0.000000</td>\n      <td>0.000000</td>\n      <td>0.000000</td>\n      <td>0.000000</td>\n      <td>0.000000</td>\n      <td>0.000000</td>\n      <td>0.000000</td>\n      <td>...</td>\n      <td>0.000000</td>\n      <td>0.000000</td>\n      <td>8.301075</td>\n      <td>0.000000</td>\n      <td>162.890509</td>\n      <td>0.000000</td>\n      <td>32979.821849</td>\n      <td>0.000000</td>\n      <td>0.000000</td>\n      <td>0.000000</td>\n    </tr>\n    <tr>\n      <th>3137</th>\n      <td>56041</td>\n      <td>0.000000</td>\n      <td>0.000000</td>\n      <td>0.000000</td>\n      <td>0.000000</td>\n      <td>0.000000</td>\n      <td>0.000000</td>\n      <td>0.000000</td>\n      <td>0.000000</td>\n      <td>0.000000</td>\n      <td>...</td>\n      <td>0.000000</td>\n      <td>22.862745</td>\n      <td>10.715517</td>\n      <td>0.000000</td>\n      <td>580.039840</td>\n      <td>609.878871</td>\n      <td>412.389491</td>\n      <td>29469.931269</td>\n      <td>0.000000</td>\n      <td>0.000000</td>\n    </tr>\n    <tr>\n      <th>3138</th>\n      <td>56043</td>\n      <td>0.000000</td>\n      <td>0.000000</td>\n      <td>0.000000</td>\n      <td>0.000000</td>\n      <td>0.000000</td>\n      <td>0.000000</td>\n      <td>0.000000</td>\n      <td>0.000000</td>\n      <td>0.000000</td>\n      <td>...</td>\n      <td>0.000000</td>\n      <td>198.594449</td>\n      <td>0.000000</td>\n      <td>0.000000</td>\n      <td>0.000000</td>\n      <td>100.982476</td>\n      <td>0.000000</td>\n      <td>0.000000</td>\n      <td>11728.675082</td>\n      <td>21.103448</td>\n    </tr>\n    <tr>\n      <th>3139</th>\n      <td>56045</td>\n      <td>0.000000</td>\n      <td>0.000000</td>\n      <td>0.000000</td>\n      <td>0.000000</td>\n      <td>0.000000</td>\n      <td>0.000000</td>\n      <td>0.000000</td>\n      <td>0.000000</td>\n      <td>0.000000</td>\n      <td>...</td>\n      <td>130.040276</td>\n      <td>0.000000</td>\n      <td>219.847769</td>\n      <td>19.183333</td>\n      <td>0.000000</td>\n      <td>0.000000</td>\n      <td>0.000000</td>\n      <td>0.000000</td>\n      <td>0.000000</td>\n      <td>8801.463588</td>\n    </tr>\n  </tbody>\n</table>\n<p>3140 rows × 3142 columns</p>\n</div>",
      "text/plain": "      origin          1001           1003          1005          1007  \\\n0       1001  87984.268733     139.487701      9.728395    117.404061   \n1       1003    230.985081  374059.074396    135.352798     30.789255   \n2       1005     50.966850      36.431336  40927.823380      0.000000   \n3       1007    133.746306     237.362409     50.311571  30710.847712   \n4       1009    130.675286     208.458089      0.000000    130.476532   \n...      ...           ...            ...           ...           ...   \n3135   56037      0.000000       0.000000      0.000000      0.000000   \n3136   56039      0.000000       0.000000      0.000000      0.000000   \n3137   56041      0.000000       0.000000      0.000000      0.000000   \n3138   56043      0.000000       0.000000      0.000000      0.000000   \n3139   56045      0.000000       0.000000      0.000000      0.000000   \n\n              1009        1011        1013        1015        1017  ...  \\\n0        10.731132  101.042965  313.451299  211.008547  110.260982  ...   \n1        36.082346   50.206910  684.890770   85.667101   30.142453  ...   \n2         0.000000  394.441013  169.615385   48.846154    9.769231  ...   \n3        49.232692    7.013699    0.000000   70.908668    0.000000  ...   \n4     85206.034599    0.000000    0.000000  278.223768    0.000000  ...   \n...            ...         ...         ...         ...         ...  ...   \n3135      0.000000    0.000000    0.000000    0.000000    0.000000  ...   \n3136      0.000000    0.000000    0.000000    0.000000    0.000000  ...   \n3137      0.000000    0.000000    0.000000    0.000000    0.000000  ...   \n3138      0.000000    0.000000    0.000000    0.000000    0.000000  ...   \n3139      0.000000    0.000000    0.000000    0.000000    0.000000  ...   \n\n           56027       56029       56031      56033       56035         56037  \\\n0       0.000000    0.000000    0.000000   0.000000    0.000000      0.000000   \n1       0.000000    0.000000    0.000000   0.000000    0.000000      0.000000   \n2       0.000000    0.000000   84.807692   0.000000    0.000000      0.000000   \n3       0.000000    0.000000    0.000000   0.000000    0.000000      0.000000   \n4       0.000000    0.000000    7.064846   0.000000    0.000000      0.000000   \n...          ...         ...         ...        ...         ...           ...   \n3135    0.000000    0.000000    0.000000  91.585913  610.012847  74318.608673   \n3136    0.000000    0.000000    8.301075   0.000000  162.890509      0.000000   \n3137    0.000000   22.862745   10.715517   0.000000  580.039840    609.878871   \n3138    0.000000  198.594449    0.000000   0.000000    0.000000    100.982476   \n3139  130.040276    0.000000  219.847769  19.183333    0.000000      0.000000   \n\n             56039         56041         56043        56045  \n0         0.000000      0.000000      0.000000     0.000000  \n1         0.000000      0.000000      0.000000     0.000000  \n2         0.000000      0.000000      0.000000     0.000000  \n3         0.000000      0.000000      0.000000     0.000000  \n4         0.000000      0.000000      0.000000     0.000000  \n...            ...           ...           ...          ...  \n3135    203.287147    648.401839      0.000000    22.264685  \n3136  32979.821849      0.000000      0.000000     0.000000  \n3137    412.389491  29469.931269      0.000000     0.000000  \n3138      0.000000      0.000000  11728.675082    21.103448  \n3139      0.000000      0.000000      0.000000  8801.463588  \n\n[3140 rows x 3142 columns]"
     },
     "execution_count": 55,
     "metadata": {},
     "output_type": "execute_result"
    }
   ],
   "source": [
    "df = ODs[0]\n",
    "col_fips = df.drop(labels=['origin'], axis=1).columns\n",
    "df.rename(columns = {c:int(c) for c in col_fips}, inplace=True)\n",
    "for col in set(df.columns[1:]).difference(set(rows))\n",
    "OD#OD.drop(labels=['origin'], axis=1)"
   ]
  },
  {
   "cell_type": "code",
   "execution_count": null,
   "metadata": {},
   "outputs": [],
   "source": []
  }
 ]
}