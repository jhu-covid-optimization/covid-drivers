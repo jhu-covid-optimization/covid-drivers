{
 "cells": [
  {
   "cell_type": "code",
   "execution_count": 1,
   "metadata": {},
   "outputs": [],
   "source": [
    "import numpy as np\n",
    "import pandas as pd\n",
    "import matplotlib.pyplot as plt"
   ]
  },
  {
   "cell_type": "markdown",
   "metadata": {},
   "source": [
    "# Process Datasets\n",
    "\n",
    "Static features dataset from Matthias, death time series from CSSE, Hospital Data"
   ]
  },
  {
   "cell_type": "code",
   "execution_count": 2,
   "metadata": {},
   "outputs": [],
   "source": [
    "deaths_t_series = pd.read_csv('../COVID-19/csse_covid_19_data/csse_covid_19_time_series/time_series_covid19_deaths_US.csv')\n",
    "deaths_t_series = deaths_t_series.loc[~(deaths_t_series['Lat'] == 0)]\n",
    "deaths_t_series = deaths_t_series.drop(labels=['UID', 'iso2', 'iso3', 'code3', 'Admin2', 'Province_State', 'Country_Region', 'Lat', 'Long_', \"Combined_Key\", \"Population\"], axis=1)"
   ]
  },
  {
   "cell_type": "code",
   "execution_count": 35,
   "metadata": {},
   "outputs": [],
   "source": [
    "hospitals = pd.read_csv('../Hospitals.csv')[['TYPE', 'STATUS', 'COUNTYFIPS', 'BEDS']]\n",
    "static_features = pd.read_csv('../COVID-19_US_County-level_Summaries/data/counties_only.csv')[['FIPS', 'Rural-urban_Continuum Code_2013', 'Area in square miles - Total area', 'Percent of adults with less than a high school diploma 2014-18', 'PCTPOV017_2018', 'Unemployment_rate_2018', 'Total_age65plus', 'POP_ESTIMATE_2018']]\n",
    "static_features = static_features.dropna()\n",
    "static_features['area'] = static_features['Area in square miles - Total area']\n",
    "static_features['no_dip'] = static_features['Percent of adults with less than a high school diploma 2014-18']\n",
    "static_features['elderly_ratio'] = static_features['Total_age65plus']/static_features['POP_ESTIMATE_2018']\n",
    "static_features['RUCC'] = static_features['Rural-urban_Continuum Code_2013']"
   ]
  },
  {
   "cell_type": "code",
   "execution_count": 36,
   "metadata": {},
   "outputs": [
    {
     "name": "stdout",
     "output_type": "stream",
     "text": [
      "6037\n"
     ]
    },
    {
     "data": {
      "text/html": [
       "<div>\n",
       "<style scoped>\n",
       "    .dataframe tbody tr th:only-of-type {\n",
       "        vertical-align: middle;\n",
       "    }\n",
       "\n",
       "    .dataframe tbody tr th {\n",
       "        vertical-align: top;\n",
       "    }\n",
       "\n",
       "    .dataframe thead th {\n",
       "        text-align: right;\n",
       "    }\n",
       "</style>\n",
       "<table border=\"1\" class=\"dataframe\">\n",
       "  <thead>\n",
       "    <tr style=\"text-align: right;\">\n",
       "      <th></th>\n",
       "      <th>FIPS</th>\n",
       "      <th>HospCt</th>\n",
       "      <th>Beds</th>\n",
       "    </tr>\n",
       "  </thead>\n",
       "  <tbody>\n",
       "    <tr>\n",
       "      <th>0</th>\n",
       "      <td>1001</td>\n",
       "      <td>1</td>\n",
       "      <td>85</td>\n",
       "    </tr>\n",
       "    <tr>\n",
       "      <th>1</th>\n",
       "      <td>1003</td>\n",
       "      <td>3</td>\n",
       "      <td>332</td>\n",
       "    </tr>\n",
       "    <tr>\n",
       "      <th>2</th>\n",
       "      <td>1005</td>\n",
       "      <td>1</td>\n",
       "      <td>74</td>\n",
       "    </tr>\n",
       "    <tr>\n",
       "      <th>3</th>\n",
       "      <td>1007</td>\n",
       "      <td>1</td>\n",
       "      <td>35</td>\n",
       "    </tr>\n",
       "    <tr>\n",
       "      <th>4</th>\n",
       "      <td>1011</td>\n",
       "      <td>1</td>\n",
       "      <td>61</td>\n",
       "    </tr>\n",
       "  </tbody>\n",
       "</table>\n",
       "</div>"
      ],
      "text/plain": [
       "   FIPS HospCt Beds\n",
       "0  1001      1   85\n",
       "1  1003      3  332\n",
       "2  1005      1   74\n",
       "3  1007      1   35\n",
       "4  1011      1   61"
      ]
     },
     "execution_count": 36,
     "metadata": {},
     "output_type": "execute_result"
    }
   ],
   "source": [
    "hospitals = hospitals[hospitals[\"STATUS\"] == 'OPEN']\n",
    "hospitals = hospitals[hospitals[\"TYPE\"] == 'GENERAL ACUTE CARE']\n",
    "hospitals = hospitals[hospitals[\"BEDS\"].astype(str).astype(int) > 0]\n",
    "hospitals[\"FIPS\"] = hospitals[\"COUNTYFIPS\"]\n",
    "hospitals = hospitals[hospitals[\"FIPS\"] != 'NOT AVAILABLE']\n",
    "hospitals = hospitals.drop([\"COUNTYFIPS\", \"STATUS\"], axis=1)\n",
    "hospitals[\"FIPS\"] = hospitals[\"FIPS\"].astype(str).astype(int)\n",
    "fips_groups = hospitals.groupby(\"FIPS\")\n",
    "\n",
    "hosp_data = pd.DataFrame(columns=['FIPS', 'HospCt', 'Beds'])\n",
    "for fips_code, grp in fips_groups:\n",
    "    hosp_data = hosp_data.append({'FIPS': fips_code, 'HospCt': len(grp), 'Beds': sum(grp[\"BEDS\"])}, ignore_index=True)   \n",
    "    if len(grp) > 100:\n",
    "        print(fips_code)\n",
    "hosp_data.head()"
   ]
  },
  {
   "cell_type": "code",
   "execution_count": 31,
   "metadata": {},
   "outputs": [],
   "source": [
    "adjacent_counties = pd.read_excel('../adjacent_counties.xlsx', header=None)\n",
    "adjacent_counties = adjacent_counties[[1, 3]]\n",
    "adjacent_counties = adjacent_counties[adjacent_counties[1] != adjacent_counties[3]]\n",
    "pairs = []\n",
    "for index, row in adjacent_counties.iterrows():\n",
    "    pair = set([row[1], row[3]])\n",
    "    if pair not in pairs:\n",
    "        pairs.append(pair)\n",
    "np.random.seed(9)\n",
    "np.random.shuffle(pairs)"
   ]
  },
  {
   "cell_type": "code",
   "execution_count": 6,
   "metadata": {},
   "outputs": [
    {
     "name": "stdout",
     "output_type": "stream",
     "text": [
      "9483\n"
     ]
    }
   ],
   "source": [
    "print(len(pairs))"
   ]
  },
  {
   "cell_type": "code",
   "execution_count": 7,
   "metadata": {},
   "outputs": [
    {
     "name": "stderr",
     "output_type": "stream",
     "text": [
      "/anaconda3/lib/python3.6/site-packages/ipykernel_launcher.py:15: SettingWithCopyWarning: \n",
      "A value is trying to be set on a copy of a slice from a DataFrame.\n",
      "Try using .loc[row_indexer,col_indexer] = value instead\n",
      "\n",
      "See the caveats in the documentation: http://pandas.pydata.org/pandas-docs/stable/indexing.html#indexing-view-versus-copy\n",
      "  from ipykernel import kernelapp as app\n"
     ]
    }
   ],
   "source": [
    "dl_index = pd.read_csv('../DL-us-m50_index.csv')\n",
    "dl_abs_movement = pd.read_csv('../DL-us-m50.csv')\n",
    "dl_index = dl_index.dropna()\n",
    "dl_abs_movement = dl_abs_movement.dropna()\n",
    "dl = dl_index.merge(dl_abs_movement, on='fips')\n",
    "\n",
    "baseline1 = pd.DataFrame(dl['2020-03-01_y'] / (.01 * dl['2020-03-01_x']))\n",
    "baseline2 = pd.DataFrame(dl['2020-03-02_y'] / (.01 * dl['2020-03-02_x']))\n",
    "baseline3 = pd.DataFrame(dl['2020-03-03_y'] / (.01 * dl['2020-03-03_x']))\n",
    "baselines = pd.concat((baseline1, baseline2, baseline3), axis=1)\n",
    "\n",
    "pd.set_option('display.max_rows', None)\n",
    "dl['baseline'] = baselines.mean(axis=1)\n",
    "baseline_data = dl[['baseline', 'fips']]\n",
    "baseline_data['FIPS'] = baseline_data['fips']\n",
    "baseline_data = baseline_data.drop(['fips'], axis=1)"
   ]
  },
  {
   "cell_type": "markdown",
   "metadata": {},
   "source": [
    "## Define helper function for testing features"
   ]
  },
  {
   "cell_type": "code",
   "execution_count": 8,
   "metadata": {},
   "outputs": [],
   "source": [
    "from sklearn.utils import shuffle\n",
    "from sklearn.linear_model import LogisticRegression as logreg\n",
    "\n",
    "def test_features(features):\n",
    "    train_x = training_set[features].to_numpy()\n",
    "    train_y = training_set['More_Deaths'].to_numpy()\n",
    "    test_x = test_set[features].to_numpy()\n",
    "    test_y = test_set['More_Deaths'].to_numpy()\n",
    "\n",
    "    train_x, train_y = shuffle(train_x, train_y, random_state=0)\n",
    "    test_x, test_y = shuffle(test_x, test_y, random_state=0)\n",
    "    train_y = np.ravel(train_y)\n",
    "    test_y = np.ravel(test_y)\n",
    "    \n",
    "    print(f'Features: {features}')\n",
    "    print(f'Test Ratio: {sum(test_y)/len(test_y)}')\n",
    "\n",
    "    lr = logreg().fit(train_x, train_y)\n",
    "    print(f'Score: {lr.score(test_x, test_y)}')\n",
    "    print(f'Coefficients: {lr.coef_}\\n')"
   ]
  },
  {
   "cell_type": "markdown",
   "metadata": {},
   "source": [
    "# 3 Death Thresh, 20 Days Out"
   ]
  },
  {
   "cell_type": "code",
   "execution_count": 9,
   "metadata": {},
   "outputs": [],
   "source": [
    "death_data = pd.DataFrame(columns=['FIPS', 'Deaths'])\n",
    "dates = deaths_t_series.columns[1:]\n",
    "death_thresh = 3\n",
    "n_days = 20\n",
    "\n",
    "# Get all existing data n_days from the death_thresh death.\n",
    "for i in range(len(deaths_t_series)):\n",
    "    county = deaths_t_series.iloc[i]\n",
    "\n",
    "    # Iterate through dates to find first date with deaths >= death thresh\n",
    "    for j in range(len(dates)):\n",
    "        if county[dates[j]] >= death_thresh:\n",
    "\n",
    "            # See if this happened n_days or more before current day\n",
    "            try:\n",
    "                n_days_later = dates[j+n_days]\n",
    "\n",
    "                # Make sure the data is bug-free\n",
    "                bad_data=False\n",
    "                for k in range(n_days):\n",
    "                    if county[n_days_later] < county[dates[j+k]]:\n",
    "                        bad_data=True\n",
    "                if not bad_data:\n",
    "                    death_data = death_data.append({'FIPS': county['FIPS'], 'Deaths':county[n_days_later]}, ignore_index=True)\n",
    "                break\n",
    "\n",
    "            except:\n",
    "                break "
   ]
  },
  {
   "cell_type": "code",
   "execution_count": 10,
   "metadata": {},
   "outputs": [
    {
     "data": {
      "text/plain": [
       "4399.0"
      ]
     },
     "execution_count": 10,
     "metadata": {},
     "output_type": "execute_result"
    }
   ],
   "source": [
    "death_data['Deaths'].max()"
   ]
  },
  {
   "cell_type": "markdown",
   "metadata": {},
   "source": [
    "Merge Datasets"
   ]
  },
  {
   "cell_type": "code",
   "execution_count": 11,
   "metadata": {},
   "outputs": [
    {
     "data": {
      "text/html": [
       "<div>\n",
       "<style scoped>\n",
       "    .dataframe tbody tr th:only-of-type {\n",
       "        vertical-align: middle;\n",
       "    }\n",
       "\n",
       "    .dataframe tbody tr th {\n",
       "        vertical-align: top;\n",
       "    }\n",
       "\n",
       "    .dataframe thead th {\n",
       "        text-align: right;\n",
       "    }\n",
       "</style>\n",
       "<table border=\"1\" class=\"dataframe\">\n",
       "  <thead>\n",
       "    <tr style=\"text-align: right;\">\n",
       "      <th></th>\n",
       "      <th>FIPS</th>\n",
       "      <th>HospCt</th>\n",
       "      <th>Beds</th>\n",
       "      <th>Deaths</th>\n",
       "      <th>RUCC</th>\n",
       "      <th>area</th>\n",
       "      <th>no_dip</th>\n",
       "      <th>elderly_ratio</th>\n",
       "      <th>Unemployment_rate_2018</th>\n",
       "      <th>PCTPOV017_2018</th>\n",
       "      <th>POP_ESTIMATE_2018</th>\n",
       "      <th>baseline</th>\n",
       "    </tr>\n",
       "  </thead>\n",
       "  <tbody>\n",
       "    <tr>\n",
       "      <th>454</th>\n",
       "      <td>34029</td>\n",
       "      <td>4</td>\n",
       "      <td>1270</td>\n",
       "      <td>201.0</td>\n",
       "      <td>1</td>\n",
       "      <td>915.40</td>\n",
       "      <td>8.2</td>\n",
       "      <td>0.225466</td>\n",
       "      <td>4.3</td>\n",
       "      <td>16.1</td>\n",
       "      <td>601651</td>\n",
       "      <td>9.046544</td>\n",
       "    </tr>\n",
       "    <tr>\n",
       "      <th>260</th>\n",
       "      <td>21015</td>\n",
       "      <td>1</td>\n",
       "      <td>161</td>\n",
       "      <td>11.0</td>\n",
       "      <td>1</td>\n",
       "      <td>256.46</td>\n",
       "      <td>7.2</td>\n",
       "      <td>0.135358</td>\n",
       "      <td>3.4</td>\n",
       "      <td>8.7</td>\n",
       "      <td>131533</td>\n",
       "      <td>10.643580</td>\n",
       "    </tr>\n",
       "    <tr>\n",
       "      <th>649</th>\n",
       "      <td>45091</td>\n",
       "      <td>1</td>\n",
       "      <td>288</td>\n",
       "      <td>3.0</td>\n",
       "      <td>1</td>\n",
       "      <td>695.81</td>\n",
       "      <td>10.4</td>\n",
       "      <td>0.143135</td>\n",
       "      <td>3.3</td>\n",
       "      <td>13.0</td>\n",
       "      <td>274118</td>\n",
       "      <td>10.664462</td>\n",
       "    </tr>\n",
       "    <tr>\n",
       "      <th>143</th>\n",
       "      <td>13057</td>\n",
       "      <td>1</td>\n",
       "      <td>79</td>\n",
       "      <td>10.0</td>\n",
       "      <td>1</td>\n",
       "      <td>434.41</td>\n",
       "      <td>8.6</td>\n",
       "      <td>0.139210</td>\n",
       "      <td>3.1</td>\n",
       "      <td>9.4</td>\n",
       "      <td>254149</td>\n",
       "      <td>10.695116</td>\n",
       "    </tr>\n",
       "    <tr>\n",
       "      <th>654</th>\n",
       "      <td>47065</td>\n",
       "      <td>8</td>\n",
       "      <td>1577</td>\n",
       "      <td>12.0</td>\n",
       "      <td>2</td>\n",
       "      <td>575.88</td>\n",
       "      <td>10.8</td>\n",
       "      <td>0.175768</td>\n",
       "      <td>3.4</td>\n",
       "      <td>18.1</td>\n",
       "      <td>364286</td>\n",
       "      <td>9.952645</td>\n",
       "    </tr>\n",
       "  </tbody>\n",
       "</table>\n",
       "</div>"
      ],
      "text/plain": [
       "      FIPS HospCt  Beds  Deaths  RUCC    area  no_dip  elderly_ratio  \\\n",
       "454  34029      4  1270   201.0     1  915.40     8.2       0.225466   \n",
       "260  21015      1   161    11.0     1  256.46     7.2       0.135358   \n",
       "649  45091      1   288     3.0     1  695.81    10.4       0.143135   \n",
       "143  13057      1    79    10.0     1  434.41     8.6       0.139210   \n",
       "654  47065      8  1577    12.0     2  575.88    10.8       0.175768   \n",
       "\n",
       "     Unemployment_rate_2018  PCTPOV017_2018  POP_ESTIMATE_2018   baseline  \n",
       "454                     4.3            16.1             601651   9.046544  \n",
       "260                     3.4             8.7             131533  10.643580  \n",
       "649                     3.3            13.0             274118  10.664462  \n",
       "143                     3.1             9.4             254149  10.695116  \n",
       "654                     3.4            18.1             364286   9.952645  "
      ]
     },
     "execution_count": 11,
     "metadata": {},
     "output_type": "execute_result"
    }
   ],
   "source": [
    "dataset = hosp_data.merge(death_data, on='FIPS')\n",
    "dataset = dataset.merge(baseline_data, on='FIPS')\n",
    "dataset = dataset.merge(static_features, on=\"FIPS\")\n",
    "dataset = dataset.sample(frac=1.0, random_state=9)[['FIPS', 'HospCt', 'Beds', 'Deaths', 'RUCC', 'area', 'no_dip', 'elderly_ratio', 'Unemployment_rate_2018', 'PCTPOV017_2018', 'POP_ESTIMATE_2018', 'baseline']]\n",
    "dataset.head()"
   ]
  },
  {
   "cell_type": "code",
   "execution_count": 12,
   "metadata": {},
   "outputs": [
    {
     "data": {
      "text/plain": [
       "array([[1.       , 0.9598644],\n",
       "       [0.9598644, 1.       ]])"
      ]
     },
     "execution_count": 12,
     "metadata": {},
     "output_type": "execute_result"
    },
    {
     "data": {
      "image/png": "[encoded data removed]",
      "text/plain": [
       "<Figure size 432x288 with 1 Axes>"
      ]
     },
     "metadata": {
      "needs_background": "light"
     },
     "output_type": "display_data"
    }
   ],
   "source": [
    "plt.scatter(dataset['POP_ESTIMATE_2018'].astype(float), dataset['HospCt'].astype(float))\n",
    "np.corrcoef(dataset['POP_ESTIMATE_2018'].astype(float), dataset['HospCt'].astype(float))"
   ]
  },
  {
   "cell_type": "code",
   "execution_count": 13,
   "metadata": {},
   "outputs": [
    {
     "data": {
      "text/plain": [
       "array([[1.        , 0.93297445],\n",
       "       [0.93297445, 1.        ]])"
      ]
     },
     "execution_count": 13,
     "metadata": {},
     "output_type": "execute_result"
    },
    {
     "data": {
      "image/png": "[encoded data removed]",
      "text/plain": [
       "<Figure size 432x288 with 1 Axes>"
      ]
     },
     "metadata": {
      "needs_background": "light"
     },
     "output_type": "display_data"
    }
   ],
   "source": [
    "plt.scatter(dataset['POP_ESTIMATE_2018'].astype(float), dataset['Beds'].astype(float))\n",
    "np.corrcoef(dataset['POP_ESTIMATE_2018'].astype(float), dataset['Beds'].astype(float))"
   ]
  },
  {
   "cell_type": "code",
   "execution_count": 14,
   "metadata": {},
   "outputs": [
    {
     "data": {
      "text/plain": [
       "array([[1.        , 0.95104851],\n",
       "       [0.95104851, 1.        ]])"
      ]
     },
     "execution_count": 14,
     "metadata": {},
     "output_type": "execute_result"
    },
    {
     "data": {
      "image/png": "[encoded data removed]",
      "text/plain": [
       "<Figure size 432x288 with 1 Axes>"
      ]
     },
     "metadata": {
      "needs_background": "light"
     },
     "output_type": "display_data"
    }
   ],
   "source": [
    "plt.scatter(dataset['HospCt'].astype(float), dataset['Beds'].astype(float))\n",
    "np.corrcoef(dataset['HospCt'].astype(float), dataset['Beds'].astype(float))"
   ]
  },
  {
   "cell_type": "markdown",
   "metadata": {},
   "source": [
    "## Normalize Variables By Population"
   ]
  },
  {
   "cell_type": "code",
   "execution_count": 15,
   "metadata": {},
   "outputs": [
    {
     "data": {
      "text/html": [
       "<div>\n",
       "<style scoped>\n",
       "    .dataframe tbody tr th:only-of-type {\n",
       "        vertical-align: middle;\n",
       "    }\n",
       "\n",
       "    .dataframe tbody tr th {\n",
       "        vertical-align: top;\n",
       "    }\n",
       "\n",
       "    .dataframe thead th {\n",
       "        text-align: right;\n",
       "    }\n",
       "</style>\n",
       "<table border=\"1\" class=\"dataframe\">\n",
       "  <thead>\n",
       "    <tr style=\"text-align: right;\">\n",
       "      <th></th>\n",
       "      <th>FIPS</th>\n",
       "      <th>HospCt</th>\n",
       "      <th>Beds</th>\n",
       "      <th>Deaths</th>\n",
       "      <th>RUCC</th>\n",
       "      <th>area</th>\n",
       "      <th>no_dip</th>\n",
       "      <th>elderly_ratio</th>\n",
       "      <th>Unemployment_rate_2018</th>\n",
       "      <th>PCTPOV017_2018</th>\n",
       "      <th>POP_ESTIMATE_2018</th>\n",
       "      <th>baseline</th>\n",
       "    </tr>\n",
       "  </thead>\n",
       "  <tbody>\n",
       "    <tr>\n",
       "      <th>454</th>\n",
       "      <td>34029</td>\n",
       "      <td>6.64837e-06</td>\n",
       "      <td>0.00211086</td>\n",
       "      <td>0.000334</td>\n",
       "      <td>1</td>\n",
       "      <td>915.40</td>\n",
       "      <td>8.2</td>\n",
       "      <td>0.225466</td>\n",
       "      <td>4.3</td>\n",
       "      <td>16.1</td>\n",
       "      <td>601651</td>\n",
       "      <td>9.046544</td>\n",
       "    </tr>\n",
       "    <tr>\n",
       "      <th>260</th>\n",
       "      <td>21015</td>\n",
       "      <td>7.60265e-06</td>\n",
       "      <td>0.00122403</td>\n",
       "      <td>0.000084</td>\n",
       "      <td>1</td>\n",
       "      <td>256.46</td>\n",
       "      <td>7.2</td>\n",
       "      <td>0.135358</td>\n",
       "      <td>3.4</td>\n",
       "      <td>8.7</td>\n",
       "      <td>131533</td>\n",
       "      <td>10.643580</td>\n",
       "    </tr>\n",
       "    <tr>\n",
       "      <th>649</th>\n",
       "      <td>45091</td>\n",
       "      <td>3.64806e-06</td>\n",
       "      <td>0.00105064</td>\n",
       "      <td>0.000011</td>\n",
       "      <td>1</td>\n",
       "      <td>695.81</td>\n",
       "      <td>10.4</td>\n",
       "      <td>0.143135</td>\n",
       "      <td>3.3</td>\n",
       "      <td>13.0</td>\n",
       "      <td>274118</td>\n",
       "      <td>10.664462</td>\n",
       "    </tr>\n",
       "    <tr>\n",
       "      <th>143</th>\n",
       "      <td>13057</td>\n",
       "      <td>3.9347e-06</td>\n",
       "      <td>0.000310841</td>\n",
       "      <td>0.000039</td>\n",
       "      <td>1</td>\n",
       "      <td>434.41</td>\n",
       "      <td>8.6</td>\n",
       "      <td>0.139210</td>\n",
       "      <td>3.1</td>\n",
       "      <td>9.4</td>\n",
       "      <td>254149</td>\n",
       "      <td>10.695116</td>\n",
       "    </tr>\n",
       "    <tr>\n",
       "      <th>654</th>\n",
       "      <td>47065</td>\n",
       "      <td>2.19608e-05</td>\n",
       "      <td>0.00432902</td>\n",
       "      <td>0.000033</td>\n",
       "      <td>2</td>\n",
       "      <td>575.88</td>\n",
       "      <td>10.8</td>\n",
       "      <td>0.175768</td>\n",
       "      <td>3.4</td>\n",
       "      <td>18.1</td>\n",
       "      <td>364286</td>\n",
       "      <td>9.952645</td>\n",
       "    </tr>\n",
       "  </tbody>\n",
       "</table>\n",
       "</div>"
      ],
      "text/plain": [
       "      FIPS       HospCt         Beds    Deaths  RUCC    area  no_dip  \\\n",
       "454  34029  6.64837e-06   0.00211086  0.000334     1  915.40     8.2   \n",
       "260  21015  7.60265e-06   0.00122403  0.000084     1  256.46     7.2   \n",
       "649  45091  3.64806e-06   0.00105064  0.000011     1  695.81    10.4   \n",
       "143  13057   3.9347e-06  0.000310841  0.000039     1  434.41     8.6   \n",
       "654  47065  2.19608e-05   0.00432902  0.000033     2  575.88    10.8   \n",
       "\n",
       "     elderly_ratio  Unemployment_rate_2018  PCTPOV017_2018  POP_ESTIMATE_2018  \\\n",
       "454       0.225466                     4.3            16.1             601651   \n",
       "260       0.135358                     3.4             8.7             131533   \n",
       "649       0.143135                     3.3            13.0             274118   \n",
       "143       0.139210                     3.1             9.4             254149   \n",
       "654       0.175768                     3.4            18.1             364286   \n",
       "\n",
       "      baseline  \n",
       "454   9.046544  \n",
       "260  10.643580  \n",
       "649  10.664462  \n",
       "143  10.695116  \n",
       "654   9.952645  "
      ]
     },
     "execution_count": 15,
     "metadata": {},
     "output_type": "execute_result"
    }
   ],
   "source": [
    "dataset['Deaths'] = dataset['Deaths']/dataset['POP_ESTIMATE_2018']\n",
    "dataset['Beds'] = dataset['Beds']/dataset['POP_ESTIMATE_2018']\n",
    "dataset['HospCt'] = dataset['HospCt']/dataset['POP_ESTIMATE_2018']\n",
    "dataset.head()"
   ]
  },
  {
   "cell_type": "code",
   "execution_count": 16,
   "metadata": {},
   "outputs": [
    {
     "data": {
      "text/plain": [
       "array([[1.        , 0.32643499],\n",
       "       [0.32643499, 1.        ]])"
      ]
     },
     "execution_count": 16,
     "metadata": {},
     "output_type": "execute_result"
    },
    {
     "data": {
      "image/png": "[encoded data removed]",
      "text/plain": [
       "<Figure size 432x288 with 1 Axes>"
      ]
     },
     "metadata": {
      "needs_background": "light"
     },
     "output_type": "display_data"
    }
   ],
   "source": [
    "plt.scatter(dataset['HospCt'].astype(float), dataset['Beds'].astype(float))\n",
    "np.corrcoef(dataset['HospCt'].astype(float), dataset['Beds'].astype(float))"
   ]
  },
  {
   "cell_type": "markdown",
   "metadata": {},
   "source": [
    "Exclude some outliers"
   ]
  },
  {
   "cell_type": "code",
   "execution_count": 17,
   "metadata": {},
   "outputs": [
    {
     "name": "stdout",
     "output_type": "stream",
     "text": [
      "480    36061\n",
      "720    51131\n",
      "Name: FIPS, dtype: object\n",
      "299    22081\n",
      "2       1013\n",
      "251    20031\n",
      "628    45005\n",
      "727    51595\n",
      "416    28133\n",
      "Name: FIPS, dtype: object\n"
     ]
    },
    {
     "data": {
      "text/plain": [
       "array([[1.        , 0.45379876],\n",
       "       [0.45379876, 1.        ]])"
      ]
     },
     "execution_count": 17,
     "metadata": {},
     "output_type": "execute_result"
    },
    {
     "data": {
      "image/png": "[encoded data removed]",
      "text/plain": [
       "<Figure size 432x288 with 1 Axes>"
      ]
     },
     "metadata": {
      "needs_background": "light"
     },
     "output_type": "display_data"
    }
   ],
   "source": [
    "plot_data = dataset.copy()\n",
    "plot_data['HospCt'] = (dataset['HospCt'] - np.min(dataset['HospCt']))/(np.max(dataset['HospCt']) - np.min(dataset['HospCt']))\n",
    "plot_data['Deaths'] = (dataset['Deaths'] - np.min(dataset['Deaths']))/(np.max(dataset['Deaths']) - np.min(dataset['Deaths']))\n",
    "fips_to_exclude1 = plot_data[plot_data['Deaths'] > .5][\"FIPS\"]\n",
    "fips_to_exclude2 = plot_data[plot_data['HospCt'] > .5][\"FIPS\"]\n",
    "print('Exclude these counties:')\n",
    "print(fips_to_exclude1)\n",
    "print(fips_to_exclude2)\n",
    "\n",
    "\n",
    "plt.scatter(plot_data['Deaths'].astype(float), plot_data['HospCt'].astype(float))\n",
    "np.corrcoef(plot_data['Deaths'].astype(float), plot_data['HospCt'].astype(float))"
   ]
  },
  {
   "cell_type": "code",
   "execution_count": null,
   "metadata": {},
   "outputs": [],
   "source": [
    "#plot_data = plot_data[plot_data['FIPS'] != 36061]\n",
    "#plot_data = plot_data[plot_data['FIPS'] != 6038]\n",
    "#plot_data = plot_data[plot_data['FIPS'] != 17031]\n",
    "#plot_data = plot_data[plot_data['FIPS'] != 48201]\n",
    "\n",
    "dataset = dataset[dataset['FIPS'] != 36061]\n",
    "dataset = dataset[dataset['FIPS'] != 51131]\n",
    "dataset = dataset[dataset['FIPS'] != 22081]\n",
    "dataset = dataset[dataset['FIPS'] != 1013]\n",
    "dataset = dataset[dataset['FIPS'] != 20031]\n",
    "dataset = dataset[dataset['FIPS'] != 45005]\n",
    "dataset = dataset[dataset['FIPS'] != 20031]\n",
    "dataset = dataset[dataset['FIPS'] != 51595]\n",
    "dataset = dataset[dataset['FIPS'] != 28133]"
   ]
  },
  {
   "cell_type": "code",
   "execution_count": 18,
   "metadata": {},
   "outputs": [
    {
     "data": {
      "text/plain": [
       "array([[1.        , 0.01727248],\n",
       "       [0.01727248, 1.        ]])"
      ]
     },
     "execution_count": 18,
     "metadata": {},
     "output_type": "execute_result"
    },
    {
     "data": {
      "image/png": "[encoded data removed]",
      "text/plain": [
       "<Figure size 432x288 with 1 Axes>"
      ]
     },
     "metadata": {
      "needs_background": "light"
     },
     "output_type": "display_data"
    }
   ],
   "source": [
    "plt.scatter(dataset['Deaths'].astype(float), dataset['Beds'].astype(float))\n",
    "np.corrcoef(dataset['Deaths'].astype(float), dataset['Beds'].astype(float))"
   ]
  },
  {
   "cell_type": "code",
   "execution_count": null,
   "metadata": {},
   "outputs": [],
   "source": [
    "plt.scatter(dataset['Deaths'].astype(float), dataset['HospCt'].astype(float))\n",
    "np.corrcoef(dataset['Deaths'].astype(float), dataset['HospCt'].astype(float))"
   ]
  },
  {
   "cell_type": "markdown",
   "metadata": {},
   "source": [
    "Create the dataset that is to be fed into the classifier: For each pair of counties, take the difference in their features, and also provide an indicator variable identifying which county has more deaths"
   ]
  },
  {
   "cell_type": "code",
   "execution_count": 19,
   "metadata": {},
   "outputs": [],
   "source": [
    "model_data = pd.DataFrame(columns=['Hosp_diff', 'Beds_diff', 'RUCC_diff', 'dense_diff', 'no_dip_diff', 'elderly_diff', 'unemp_diff', 'pct_pov_diff', 'pop_diff', 'death_diff', 'mob_diff', 'More_Deaths'])\n",
    "model_data = model_data.apply(pd.to_numeric) \n",
    "dataset.reset_index(drop=True, inplace=True)\n",
    "\n",
    "for fips1, fips2 in pairs:\n",
    "    \n",
    "    row1_df = dataset.loc[dataset[\"FIPS\"] == fips1].reset_index(drop=True)\n",
    "    row2_df = dataset.loc[dataset[\"FIPS\"] == fips2].reset_index(drop=True)\n",
    "\n",
    "    if row1_df.empty or row2_df.empty:\n",
    "        continue\n",
    "        \n",
    "    for _, row1 in row1_df.iterrows():\n",
    "        for _, row2 in row2_df.iterrows():\n",
    "            if row1['Deaths'] != row2[\"Deaths\"]:\n",
    "\n",
    "                if row1['Deaths']  > row2[\"Deaths\"]:\n",
    "                    model_data = model_data.append({'Hosp_diff': float(row1['HospCt']) - float(row2['HospCt']),\\\n",
    "                                                        'Beds_diff': float(row1['Beds']) - float(row2['Beds']),\\\n",
    "                                                        'RUCC_diff': int(row1['RUCC']) - int(row2['RUCC']),\\\n",
    "                                                        'area_diff':float(row1['area']) - float(row2['area']),\\\n",
    "                                                        'no_dip_diff':float(row1['no_dip']) - float(row2['no_dip']),\\\n",
    "                                                        'elderly_diff': float(row1['elderly_ratio']) - float(row2['elderly_ratio']),\\\n",
    "                                                        'unemp_diff': float(row1['Unemployment_rate_2018']) - float(row2['Unemployment_rate_2018']),\\\n",
    "                                                        'pct_pov_diff': float(row1['PCTPOV017_2018']) - float(row2['PCTPOV017_2018']),\\\n",
    "                                                        'pop_diff' : float(row1['POP_ESTIMATE_2018']) - float(row2['POP_ESTIMATE_2018']),\\\n",
    "                                                        'death_diff' : float(row1['Deaths']) - float(row2['Deaths']),\\\n",
    "                                                        'mob_diff' : float(row1['baseline']) - float(row2['baseline']),\\\n",
    "                                                        'More_Deaths':0}, ignore_index=True)   \n",
    "                elif row1['Deaths']  < row2[\"Deaths\"]:  \n",
    "                    model_data = model_data.append({'Hosp_diff': float(row1['HospCt']) - float(row2['HospCt']),\\\n",
    "                                                        'Beds_diff': float(row1['Beds']) - float(row2['Beds']),\\\n",
    "                                                        'RUCC_diff': int(row1['RUCC']) - int(row2['RUCC']),\\\n",
    "                                                        'area_diff':float(row1['area']) - float(row2['area']),\\\n",
    "                                                        'no_dip_diff':float(row1['no_dip']) - float(row2['no_dip']),\\\n",
    "                                                        'elderly_diff': float(row1['elderly_ratio']) - float(row2['elderly_ratio']),\\\n",
    "                                                        'unemp_diff': float(row1['Unemployment_rate_2018']) - float(row2['Unemployment_rate_2018']),\\\n",
    "                                                        'pct_pov_diff': float(row1['PCTPOV017_2018']) - float(row2['PCTPOV017_2018']),\\\n",
    "                                                        'pop_diff' : float(row1['POP_ESTIMATE_2018']) - float(row2['POP_ESTIMATE_2018']),\\\n",
    "                                                        'death_diff' : float(row1['Deaths']) - float(row2['Deaths']),\\\n",
    "                                                        'mob_diff' : float(row1['baseline']) - float(row2['baseline']),\\\n",
    "                                                        'More_Deaths':1}, ignore_index=True)  "
   ]
  },
  {
   "cell_type": "markdown",
   "metadata": {},
   "source": [
    "Normalize"
   ]
  },
  {
   "cell_type": "code",
   "execution_count": 20,
   "metadata": {},
   "outputs": [],
   "source": [
    "model_data = model_data.apply(pd.to_numeric) \n",
    "\n",
    "model_data['Hosp_diff'] = (model_data['Hosp_diff'] - np.min(model_data['Hosp_diff']))/(np.max(model_data['Hosp_diff']) - np.min(model_data['Hosp_diff']))\n",
    "\n",
    "model_data['Beds_diff'] = (model_data['Beds_diff'] - np.min(model_data['Beds_diff']))/(np.max(model_data['Beds_diff']) - np.min(model_data['Beds_diff']))\n",
    "\n",
    "model_data['area_diff'] = (model_data['area_diff'] - np.min(model_data['area_diff']))/(np.max(model_data['area_diff']) - np.min(model_data['area_diff']))\n",
    "\n",
    "model_data['RUCC_diff'] = (model_data['RUCC_diff'] - np.min(model_data['RUCC_diff']))/(np.max(model_data['RUCC_diff']) - np.min(model_data['RUCC_diff']))\n",
    "\n",
    "model_data['no_dip_diff'] = (model_data['no_dip_diff'] - np.min(model_data['no_dip_diff']))/(np.max(model_data['no_dip_diff']) - np.min(model_data['no_dip_diff']))\n",
    "\n",
    "model_data['elderly_diff'] = (model_data['elderly_diff'] - np.min(model_data['elderly_diff']))/(np.max(model_data['elderly_diff']) - np.min(model_data['elderly_diff']))\n",
    "\n",
    "model_data['unemp_diff'] = (model_data['unemp_diff'] - np.min(model_data['unemp_diff']))/(np.max(model_data['unemp_diff']) - np.min(model_data['unemp_diff']))\n",
    "\n",
    "model_data['pct_pov_diff'] = (model_data['pct_pov_diff'] - np.min(model_data['pct_pov_diff']))/(np.max(model_data['pct_pov_diff']) - np.min(model_data['pct_pov_diff']))\n",
    "\n",
    "model_data['death_diff'] = (model_data['death_diff'] - np.min(model_data['death_diff']))/(np.max(model_data['death_diff']) - np.min(model_data['death_diff']))\n",
    "\n",
    "model_data['mob_diff'] = (model_data['mob_diff'] - np.min(model_data['mob_diff']))/(np.max(model_data['mob_diff']) - np.min(model_data['mob_diff']))"
   ]
  },
  {
   "cell_type": "code",
   "execution_count": 21,
   "metadata": {},
   "outputs": [
    {
     "name": "stdout",
     "output_type": "stream",
     "text": [
      "1128\n"
     ]
    },
    {
     "data": {
      "text/html": [
       "<div>\n",
       "<style scoped>\n",
       "    .dataframe tbody tr th:only-of-type {\n",
       "        vertical-align: middle;\n",
       "    }\n",
       "\n",
       "    .dataframe tbody tr th {\n",
       "        vertical-align: top;\n",
       "    }\n",
       "\n",
       "    .dataframe thead th {\n",
       "        text-align: right;\n",
       "    }\n",
       "</style>\n",
       "<table border=\"1\" class=\"dataframe\">\n",
       "  <thead>\n",
       "    <tr style=\"text-align: right;\">\n",
       "      <th></th>\n",
       "      <th>Hosp_diff</th>\n",
       "      <th>Beds_diff</th>\n",
       "      <th>RUCC_diff</th>\n",
       "      <th>dense_diff</th>\n",
       "      <th>no_dip_diff</th>\n",
       "      <th>elderly_diff</th>\n",
       "      <th>unemp_diff</th>\n",
       "      <th>pct_pov_diff</th>\n",
       "      <th>pop_diff</th>\n",
       "      <th>death_diff</th>\n",
       "      <th>mob_diff</th>\n",
       "      <th>More_Deaths</th>\n",
       "      <th>area_diff</th>\n",
       "    </tr>\n",
       "  </thead>\n",
       "  <tbody>\n",
       "    <tr>\n",
       "      <th>0</th>\n",
       "      <td>0.408894</td>\n",
       "      <td>0.536854</td>\n",
       "      <td>0.545455</td>\n",
       "      <td>NaN</td>\n",
       "      <td>0.295983</td>\n",
       "      <td>0.568374</td>\n",
       "      <td>0.465201</td>\n",
       "      <td>0.435337</td>\n",
       "      <td>98101.0</td>\n",
       "      <td>0.403012</td>\n",
       "      <td>0.549937</td>\n",
       "      <td>1.0</td>\n",
       "      <td>0.737576</td>\n",
       "    </tr>\n",
       "    <tr>\n",
       "      <th>1</th>\n",
       "      <td>0.543015</td>\n",
       "      <td>0.625314</td>\n",
       "      <td>0.454545</td>\n",
       "      <td>NaN</td>\n",
       "      <td>0.486258</td>\n",
       "      <td>0.565164</td>\n",
       "      <td>0.432234</td>\n",
       "      <td>0.530055</td>\n",
       "      <td>-76139.0</td>\n",
       "      <td>0.474788</td>\n",
       "      <td>0.491568</td>\n",
       "      <td>0.0</td>\n",
       "      <td>0.707263</td>\n",
       "    </tr>\n",
       "    <tr>\n",
       "      <th>2</th>\n",
       "      <td>0.356465</td>\n",
       "      <td>0.260645</td>\n",
       "      <td>0.545455</td>\n",
       "      <td>NaN</td>\n",
       "      <td>0.323467</td>\n",
       "      <td>0.673811</td>\n",
       "      <td>0.369963</td>\n",
       "      <td>0.222222</td>\n",
       "      <td>-26464.0</td>\n",
       "      <td>0.435050</td>\n",
       "      <td>0.734451</td>\n",
       "      <td>1.0</td>\n",
       "      <td>0.760738</td>\n",
       "    </tr>\n",
       "    <tr>\n",
       "      <th>3</th>\n",
       "      <td>0.482173</td>\n",
       "      <td>0.927145</td>\n",
       "      <td>0.545455</td>\n",
       "      <td>NaN</td>\n",
       "      <td>0.528541</td>\n",
       "      <td>0.640092</td>\n",
       "      <td>0.501832</td>\n",
       "      <td>0.857923</td>\n",
       "      <td>83183.0</td>\n",
       "      <td>0.442186</td>\n",
       "      <td>0.481473</td>\n",
       "      <td>1.0</td>\n",
       "      <td>0.744304</td>\n",
       "    </tr>\n",
       "    <tr>\n",
       "      <th>4</th>\n",
       "      <td>0.636178</td>\n",
       "      <td>0.531078</td>\n",
       "      <td>0.727273</td>\n",
       "      <td>NaN</td>\n",
       "      <td>0.520085</td>\n",
       "      <td>0.613202</td>\n",
       "      <td>0.498168</td>\n",
       "      <td>0.497268</td>\n",
       "      <td>-300274.0</td>\n",
       "      <td>0.301940</td>\n",
       "      <td>0.669324</td>\n",
       "      <td>1.0</td>\n",
       "      <td>0.747658</td>\n",
       "    </tr>\n",
       "  </tbody>\n",
       "</table>\n",
       "</div>"
      ],
      "text/plain": [
       "   Hosp_diff  Beds_diff  RUCC_diff  dense_diff  no_dip_diff  elderly_diff  \\\n",
       "0   0.408894   0.536854   0.545455         NaN     0.295983      0.568374   \n",
       "1   0.543015   0.625314   0.454545         NaN     0.486258      0.565164   \n",
       "2   0.356465   0.260645   0.545455         NaN     0.323467      0.673811   \n",
       "3   0.482173   0.927145   0.545455         NaN     0.528541      0.640092   \n",
       "4   0.636178   0.531078   0.727273         NaN     0.520085      0.613202   \n",
       "\n",
       "   unemp_diff  pct_pov_diff  pop_diff  death_diff  mob_diff  More_Deaths  \\\n",
       "0    0.465201      0.435337   98101.0    0.403012  0.549937          1.0   \n",
       "1    0.432234      0.530055  -76139.0    0.474788  0.491568          0.0   \n",
       "2    0.369963      0.222222  -26464.0    0.435050  0.734451          1.0   \n",
       "3    0.501832      0.857923   83183.0    0.442186  0.481473          1.0   \n",
       "4    0.498168      0.497268 -300274.0    0.301940  0.669324          1.0   \n",
       "\n",
       "   area_diff  \n",
       "0   0.737576  \n",
       "1   0.707263  \n",
       "2   0.760738  \n",
       "3   0.744304  \n",
       "4   0.747658  "
      ]
     },
     "execution_count": 21,
     "metadata": {},
     "output_type": "execute_result"
    }
   ],
   "source": [
    "print(len(model_data))\n",
    "model_data.head()"
   ]
  },
  {
   "cell_type": "code",
   "execution_count": 22,
   "metadata": {},
   "outputs": [],
   "source": [
    "model_data = model_data.sample(frac=1, random_state=9)\n",
    "training_set = model_data.head(900)\n",
    "test_set = model_data.tail(228)"
   ]
  },
  {
   "cell_type": "code",
   "execution_count": 23,
   "metadata": {},
   "outputs": [
    {
     "data": {
      "text/plain": [
       "array([[1.       , 0.4275236],\n",
       "       [0.4275236, 1.       ]])"
      ]
     },
     "execution_count": 23,
     "metadata": {},
     "output_type": "execute_result"
    },
    {
     "data": {
      "image/png": "[encoded data removed]",
      "text/plain": [
       "<Figure size 432x288 with 1 Axes>"
      ]
     },
     "metadata": {
      "needs_background": "light"
     },
     "output_type": "display_data"
    }
   ],
   "source": [
    "import matplotlib.pyplot as plt\n",
    "\n",
    "plot_data = pd.concat([training_set, test_set])\n",
    "plt.scatter(plot_data['death_diff'], plot_data['Hosp_diff'])\n",
    "np.corrcoef(plot_data['death_diff'], plot_data['Hosp_diff'])"
   ]
  },
  {
   "cell_type": "code",
   "execution_count": 24,
   "metadata": {},
   "outputs": [
    {
     "data": {
      "text/plain": [
       "array([[ 1.        , -0.11212205],\n",
       "       [-0.11212205,  1.        ]])"
      ]
     },
     "execution_count": 24,
     "metadata": {},
     "output_type": "execute_result"
    },
    {
     "data": {
      "image/png": "[encoded data removed]",
      "text/plain": [
       "<Figure size 432x288 with 1 Axes>"
      ]
     },
     "metadata": {
      "needs_background": "light"
     },
     "output_type": "display_data"
    }
   ],
   "source": [
    "plt.scatter(plot_data['death_diff'], plot_data['Beds_diff'])\n",
    "np.corrcoef(plot_data['death_diff'], plot_data['Beds_diff'])"
   ]
  },
  {
   "cell_type": "code",
   "execution_count": 25,
   "metadata": {},
   "outputs": [
    {
     "name": "stdout",
     "output_type": "stream",
     "text": [
      "[[1.         0.05565374]\n",
      " [0.05565374 1.        ]]\n"
     ]
    },
    {
     "data": {
      "text/plain": [
       "<matplotlib.collections.PathCollection at 0x1a188132e8>"
      ]
     },
     "execution_count": 25,
     "metadata": {},
     "output_type": "execute_result"
    },
    {
     "data": {
      "image/png": "[encoded data removed]",
      "text/plain": [
       "<Figure size 432x288 with 1 Axes>"
      ]
     },
     "metadata": {
      "needs_background": "light"
     },
     "output_type": "display_data"
    }
   ],
   "source": [
    "print(np.corrcoef(plot_data['Beds_diff'], plot_data['Hosp_diff']))\n",
    "plt.scatter(plot_data['Beds_diff'], plot_data['Hosp_diff'])"
   ]
  },
  {
   "cell_type": "markdown",
   "metadata": {},
   "source": [
    "Write out dataset for R processing"
   ]
  },
  {
   "cell_type": "code",
   "execution_count": 26,
   "metadata": {},
   "outputs": [],
   "source": [
    "model_data.to_csv('./3_deaths_20_days.tsv', sep='\\t')"
   ]
  },
  {
   "cell_type": "code",
   "execution_count": 27,
   "metadata": {},
   "outputs": [
    {
     "name": "stdout",
     "output_type": "stream",
     "text": [
      "900\n",
      "228\n",
      "0.5144444444444445\n",
      "0.5131578947368421\n"
     ]
    }
   ],
   "source": [
    "print(len(training_set))\n",
    "print(len(test_set))\n",
    "print(sum(training_set['More_Deaths'])/len(training_set))\n",
    "print(sum(test_set['More_Deaths'])/len(test_set))"
   ]
  },
  {
   "cell_type": "code",
   "execution_count": 28,
   "metadata": {},
   "outputs": [
    {
     "name": "stdout",
     "output_type": "stream",
     "text": [
      "Features: ['Hosp_diff']\n",
      "Test Ratio: 0.5131578947368421\n",
      "Score: 0.6228070175438597\n",
      "Coefficients: [[-3.14686405]]\n",
      "\n",
      "Features: ['Beds_diff']\n",
      "Test Ratio: 0.5131578947368421\n",
      "Score: 0.543859649122807\n",
      "Coefficients: [[0.89544674]]\n",
      "\n",
      "Features: ['area_diff']\n",
      "Test Ratio: 0.5131578947368421\n",
      "Score: 0.5043859649122807\n",
      "Coefficients: [[0.21468367]]\n",
      "\n",
      "Features: ['RUCC_diff']\n",
      "Test Ratio: 0.5131578947368421\n",
      "Score: 0.5394736842105263\n",
      "Coefficients: [[-2.6867828]]\n",
      "\n",
      "Features: ['mob_diff']\n",
      "Test Ratio: 0.5131578947368421\n",
      "Score: 0.5833333333333334\n",
      "Coefficients: [[-2.20883517]]\n",
      "\n",
      "Features: ['mob_diff', 'Hosp_diff']\n",
      "Test Ratio: 0.5131578947368421\n",
      "Score: 0.6271929824561403\n",
      "Coefficients: [[-1.57635661 -2.70890528]]\n",
      "\n",
      "Features: ['RUCC_diff', 'area_diff', 'mob_diff', 'Hosp_diff']\n",
      "Test Ratio: 0.5131578947368421\n",
      "Score: 0.6271929824561403\n",
      "Coefficients: [[-2.14358706  1.22149446 -1.62014022 -1.64826452]]\n",
      "\n"
     ]
    },
    {
     "name": "stderr",
     "output_type": "stream",
     "text": [
      "/anaconda3/lib/python3.6/site-packages/sklearn/linear_model/logistic.py:433: FutureWarning: Default solver will be changed to 'lbfgs' in 0.22. Specify a solver to silence this warning.\n",
      "  FutureWarning)\n",
      "/anaconda3/lib/python3.6/site-packages/sklearn/linear_model/logistic.py:433: FutureWarning: Default solver will be changed to 'lbfgs' in 0.22. Specify a solver to silence this warning.\n",
      "  FutureWarning)\n",
      "/anaconda3/lib/python3.6/site-packages/sklearn/linear_model/logistic.py:433: FutureWarning: Default solver will be changed to 'lbfgs' in 0.22. Specify a solver to silence this warning.\n",
      "  FutureWarning)\n",
      "/anaconda3/lib/python3.6/site-packages/sklearn/linear_model/logistic.py:433: FutureWarning: Default solver will be changed to 'lbfgs' in 0.22. Specify a solver to silence this warning.\n",
      "  FutureWarning)\n",
      "/anaconda3/lib/python3.6/site-packages/sklearn/linear_model/logistic.py:433: FutureWarning: Default solver will be changed to 'lbfgs' in 0.22. Specify a solver to silence this warning.\n",
      "  FutureWarning)\n",
      "/anaconda3/lib/python3.6/site-packages/sklearn/linear_model/logistic.py:433: FutureWarning: Default solver will be changed to 'lbfgs' in 0.22. Specify a solver to silence this warning.\n",
      "  FutureWarning)\n",
      "/anaconda3/lib/python3.6/site-packages/sklearn/linear_model/logistic.py:433: FutureWarning: Default solver will be changed to 'lbfgs' in 0.22. Specify a solver to silence this warning.\n",
      "  FutureWarning)\n"
     ]
    }
   ],
   "source": [
    "test_features(['Hosp_diff'])\n",
    "test_features(['Beds_diff'])\n",
    "test_features(['area_diff'])\n",
    "test_features(['RUCC_diff'])\n",
    "test_features(['mob_diff'])\n",
    "test_features(['mob_diff', 'Hosp_diff'])\n",
    "test_features(['RUCC_diff', 'area_diff', 'mob_diff', 'Hosp_diff'])"
   ]
  },
  {
   "cell_type": "code",
   "execution_count": 29,
   "metadata": {},
   "outputs": [
    {
     "name": "stdout",
     "output_type": "stream",
     "text": [
      "[[ 1.         -0.10488637]\n",
      " [-0.10488637  1.        ]]\n",
      "[[1.         0.42168209]\n",
      " [0.42168209 1.        ]]\n",
      "[[1.         0.07850555]\n",
      " [0.07850555 1.        ]]\n"
     ]
    },
    {
     "data": {
      "image/png": "[encoded data removed]",
      "text/plain": [
       "<Figure size 432x288 with 1 Axes>"
      ]
     },
     "metadata": {
      "needs_background": "light"
     },
     "output_type": "display_data"
    }
   ],
   "source": [
    "import matplotlib.pyplot as plt\n",
    "\n",
    "plot_data = training_set.copy()\n",
    "plt.scatter(plot_data['death_diff'], plot_data['Beds_diff'])\n",
    "print(np.corrcoef(plot_data['death_diff'], plot_data['Beds_diff']))\n",
    "\n",
    "plot_data = training_set.copy()\n",
    "plt.scatter(plot_data['death_diff'], plot_data['Hosp_diff'])\n",
    "print(np.corrcoef(plot_data['death_diff'], plot_data['Hosp_diff']))\n",
    "\n",
    "plot_data = training_set.copy()\n",
    "plt.scatter(plot_data['Beds_diff'], plot_data['Hosp_diff'])\n",
    "print(np.corrcoef(plot_data['Beds_diff'], plot_data['Hosp_diff']))"
   ]
  }
 ],
 "metadata": {
  "kernelspec": {
   "display_name": "Python 3",
   "language": "python",
   "name": "python3"
  },
  "language_info": {
   "codemirror_mode": {
    "name": "ipython",
    "version": 3
   },
   "file_extension": ".py",
   "mimetype": "text/x-python",
   "name": "python",
   "nbconvert_exporter": "python",
   "pygments_lexer": "ipython3",
   "version": "3.6.5"
  }
 },
 "nbformat": 4,
 "nbformat_minor": 2
}
