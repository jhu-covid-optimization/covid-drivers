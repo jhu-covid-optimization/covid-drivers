{
 "nbformat": 4,
 "nbformat_minor": 2,
 "metadata": {
  "language_info": {
   "name": "python",
   "codemirror_mode": {
    "name": "ipython",
    "version": 3
   },
   "version": "3.7.3-final"
  },
  "orig_nbformat": 2,
  "file_extension": ".py",
  "mimetype": "text/x-python",
  "name": "python",
  "npconvert_exporter": "python",
  "pygments_lexer": "ipython3",
  "version": 3,
  "kernelspec": {
   "name": "morf-dev",
   "display_name": "morf-dev"
  }
 },
 "cells": [
  {
   "cell_type": "markdown",
   "metadata": {},
   "source": [
    "# Pull Raw Data from online sources"
   ]
  },
  {
   "cell_type": "code",
   "execution_count": 1,
   "metadata": {},
   "outputs": [],
   "source": [
    "import sys; sys.path.append('../')\n",
    "from pathlib import Path\n",
    "from datetime import datetime\n",
    "from src.utils.dates import get_today"
   ]
  },
  {
   "cell_type": "code",
   "execution_count": 2,
   "metadata": {},
   "outputs": [],
   "source": [
    "data_dir = Path('../data')\n",
    "raw_dir = data_dir / 'raw'"
   ]
  },
  {
   "cell_type": "code",
   "execution_count": 3,
   "metadata": {},
   "outputs": [
    {
     "name": "stdout",
     "output_type": "stream",
     "text": "% Total    % Received % Xferd  Average Speed   Time    Time     Time  Current\n                                 Dload  Upload   Total   Spent    Left  Speed\n100 1116k  100 1116k    0     0  4690k      0 --:--:-- --:--:-- --:--:-- 4710k\n"
    }
   ],
   "source": [
    "month_day = get_today()\n",
    "out_file = raw_dir / f'time_series_covid19_deaths_US_{month_day}.csv'\n",
    "!curl https://raw.githubusercontent.com/CSSEGISandData/COVID-19/master/csse_covid_19_data/csse_covid_19_time_series/time_series_covid19_deaths_US.csv -o {out_file}"
   ]
  },
  {
   "cell_type": "code",
   "execution_count": 4,
   "metadata": {},
   "outputs": [
    {
     "name": "stdout",
     "output_type": "stream",
     "text": "% Total    % Received % Xferd  Average Speed   Time    Time     Time  Current\n                                 Dload  Upload   Total   Spent    Left  Speed\n100 6308k  100 6308k    0     0  10.6M      0 --:--:-- --:--:-- --:--:-- 10.6M\n"
    }
   ],
   "source": [
    "month_day = get_today()\n",
    "out_file = raw_dir / f'counties_{month_day}.csv'\n",
    "!curl https://raw.githubusercontent.com/JieYingWu/COVID-19_US_County-level_Summaries/master/data/counties.csv -o {out_file}"
   ]
  },
  {
   "cell_type": "code",
   "execution_count": 5,
   "metadata": {},
   "outputs": [
    {
     "name": "stdout",
     "output_type": "stream",
     "text": "% Total    % Received % Xferd  Average Speed   Time    Time     Time  Current\n                                 Dload  Upload   Total   Spent    Left  Speed\n100  256k  100  256k    0     0  1313k      0 --:--:-- --:--:-- --:--:-- 1307k\n"
    }
   ],
   "source": [
    "month_day = get_today()\n",
    "out_file = raw_dir / f'interventions_{month_day}.csv'\n",
    "!curl https://raw.githubusercontent.com/JieYingWu/COVID-19_US_County-level_Summaries/master/data/interventions.csv -o {out_file}"
   ]
  },
  {
   "cell_type": "code",
   "execution_count": 6,
   "metadata": {},
   "outputs": [
    {
     "name": "stdout",
     "output_type": "stream",
     "text": "% Total    % Received % Xferd  Average Speed   Time    Time     Time  Current\n                                 Dload  Upload   Total   Spent    Left  Speed\n100 21.8M  100 21.8M    0     0  18.5M      0  0:00:01  0:00:01 --:--:-- 18.5M\n"
    }
   ],
   "source": [
    "month_day = get_today()\n",
    "out_file = raw_dir / f'google_mobility_report_{month_day}.csv'\n",
    "!curl https://www.gstatic.com/covid19/mobility/Global_Mobility_Report.csv?cachebust=911a386b6c9c230f -o {out_file}\n",
    "\n"
   ]
  },
  {
   "cell_type": "code",
   "execution_count": 7,
   "metadata": {},
   "outputs": [
    {
     "name": "stdout",
     "output_type": "stream",
     "text": "% Total    % Received % Xferd  Average Speed   Time    Time     Time  Current\n                                 Dload  Upload   Total   Spent    Left  Speed\n100  941k  100  941k    0     0  2942k      0 --:--:-- --:--:-- --:--:-- 2942k\n"
    }
   ],
   "source": [
    "month_day = get_today()\n",
    "out_file = raw_dir / f'infection_time_series_{month_day}.csv'\n",
    "!curl https://raw.githubusercontent.com/JieYingWu/COVID-19_US_County-level_Summaries/master/data/infections_timeseries.csv -o {out_file}"
   ]
  },
  {
   "cell_type": "code",
   "execution_count": 8,
   "metadata": {},
   "outputs": [
    {
     "name": "stdout",
     "output_type": "stream",
     "text": "% Total    % Received % Xferd  Average Speed   Time    Time     Time  Current\n                                 Dload  Upload   Total   Spent    Left  Speed\n100 1369k  100 1369k    0     0  4390k      0 --:--:-- --:--:-- --:--:-- 4376k\n"
    }
   ],
   "source": [
    "month_day = get_today()\n",
    "out_file = raw_dir / f'descartes_m_50_{month_day}.csv'\n",
    "!curl https://raw.githubusercontent.com/descarteslabs/DL-COVID-19/master/DL-us-m50.csv -o {out_file}"
   ]
  },
  {
   "cell_type": "code",
   "execution_count": null,
   "metadata": {},
   "outputs": [],
   "source": []
  }
 ]
}